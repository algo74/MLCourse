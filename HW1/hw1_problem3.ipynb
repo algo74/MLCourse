{
  "nbformat": 4,
  "nbformat_minor": 0,
  "metadata": {
    "colab": {
      "name": "hw1.problem3.ipynb",
      "version": "0.3.2",
      "provenance": [],
      "collapsed_sections": [],
      "include_colab_link": true
    },
    "kernelspec": {
      "name": "python3",
      "display_name": "Python 3"
    },
    "accelerator": "GPU"
  },
  "cells": [
    {
      "cell_type": "markdown",
      "metadata": {
        "id": "view-in-github",
        "colab_type": "text"
      },
      "source": [
        "<a href=\"https://colab.research.google.com/github/algo74/MLCourse/blob/master/HW1/hw1_problem3.ipynb\" target=\"_parent\"><img src=\"https://colab.research.google.com/assets/colab-badge.svg\" alt=\"Open In Colab\"/></a>"
      ]
    },
    {
      "metadata": {
        "id": "rt44vyY1xW9b",
        "colab_type": "text"
      },
      "cell_type": "markdown",
      "source": [
        "# HW1. Problem 3. "
      ]
    },
    {
      "metadata": {
        "id": "jhNXqqXQbHfe",
        "colab_type": "text"
      },
      "cell_type": "markdown",
      "source": [
        "\n",
        "   - Load the training and test data using Keras, no validation set needed.\n",
        "   - Create network with an input layer consisting of 28 x 28 input neurons and an output layer consisting of 10 output neurons.\n",
        "   - Use softmax and categorical cross entropy loss.\n",
        "   - Implement mini-batch stochastic gradient descent using only numpy, that is, you are not allowed to use TensorFlow/Keras for SGD.\n",
        "\n",
        "\n"
      ]
    },
    {
      "metadata": {
        "id": "dk5d_kOfhRWu",
        "colab_type": "text"
      },
      "cell_type": "markdown",
      "source": [
        "##Comments\n",
        "* The majority of the code is reusued from problems 2 and 4.\n",
        "* Code for loading and preparing of the data is reused from `mnist_digits_classification_dense_layers.ipynb`\n",
        "* Some other code is reused from `linear_regression_gradient_descent.ipynb`"
      ]
    },
    {
      "metadata": {
        "id": "yH1EOQd6R2uQ",
        "colab_type": "text"
      },
      "cell_type": "markdown",
      "source": [
        "## Loading the image data"
      ]
    },
    {
      "metadata": {
        "id": "FSJyddqGexl5",
        "colab_type": "code",
        "colab": {}
      },
      "cell_type": "code",
      "source": [
        "import numpy as np\n",
        "from keras.datasets import mnist\n",
        "\n",
        "(train_images_original, train_labels_original), (test_images_original, test_labels_original) = mnist.load_data()\n",
        "\n",
        "# shape parameters\n",
        "m = 60000\n",
        "m_test = 10000"
      ],
      "execution_count": 0,
      "outputs": []
    },
    {
      "metadata": {
        "id": "91gu7qVhR6eX",
        "colab_type": "text"
      },
      "cell_type": "markdown",
      "source": [
        "## Preparing the image data"
      ]
    },
    {
      "metadata": {
        "id": "UB7_xf0hzsPx",
        "colab_type": "code",
        "colab": {}
      },
      "cell_type": "code",
      "source": [
        "train_images = train_images_original.reshape((m, 28 * 28))\n",
        "train_images = train_images.astype('float32') / 255\n",
        "\n",
        "test_images = test_images_original.reshape((m_test, 28 * 28))\n",
        "test_images = test_images.astype('float32') / 255"
      ],
      "execution_count": 0,
      "outputs": []
    },
    {
      "metadata": {
        "id": "HwRvZSOvSzXx",
        "colab_type": "text"
      },
      "cell_type": "markdown",
      "source": [
        "## Preparing the labels\n",
        "\n",
        "We need to categorically encode the labels."
      ]
    },
    {
      "metadata": {
        "id": "C1ulkKRPSgJP",
        "colab_type": "code",
        "colab": {}
      },
      "cell_type": "code",
      "source": [
        "from keras.utils import to_categorical\n",
        "\n",
        "train_labels = to_categorical(train_labels_original)\n",
        "test_labels = to_categorical(test_labels_original)"
      ],
      "execution_count": 0,
      "outputs": []
    },
    {
      "metadata": {
        "id": "yYyJQJXo1kMP",
        "colab_type": "text"
      },
      "cell_type": "markdown",
      "source": [
        "## Adding biases\n"
      ]
    },
    {
      "metadata": {
        "id": "bUPPoqhY1xtT",
        "colab_type": "code",
        "colab": {}
      },
      "cell_type": "code",
      "source": [
        "X_b = np.c_[np.ones((m,1)), train_images]\n",
        "tstX_b = np.c_[np.ones((m_test,1)), test_images]"
      ],
      "execution_count": 0,
      "outputs": []
    },
    {
      "metadata": {
        "id": "yjz0C8sU3hUf",
        "colab_type": "text"
      },
      "cell_type": "markdown",
      "source": [
        "## Display prepared data"
      ]
    },
    {
      "metadata": {
        "id": "QC46Z6Ng3RJC",
        "colab_type": "code",
        "outputId": "3107ff53-9814-411f-b05f-ad2093f72e92",
        "colab": {
          "base_uri": "https://localhost:8080/",
          "height": 90
        }
      },
      "cell_type": "code",
      "source": [
        "print(X_b[0:2])\n",
        "# print(X_b[3])\n",
        "print(X_b.shape)\n",
        "print(X_b.shape[1])"
      ],
      "execution_count": 23,
      "outputs": [
        {
          "output_type": "stream",
          "text": [
            "[[1. 0. 0. ... 0. 0. 0.]\n",
            " [1. 0. 0. ... 0. 0. 0.]]\n",
            "(60000, 785)\n",
            "785\n"
          ],
          "name": "stdout"
        }
      ]
    },
    {
      "metadata": {
        "id": "8F4QAZAV4p7l",
        "colab_type": "code",
        "colab": {}
      },
      "cell_type": "code",
      "source": [
        "# help(np.random.standard_normal)"
      ],
      "execution_count": 0,
      "outputs": []
    },
    {
      "metadata": {
        "id": "ZwO_BG4Hr_ay",
        "colab_type": "text"
      },
      "cell_type": "markdown",
      "source": [
        "## Defining different helper functions unrelated to ML"
      ]
    },
    {
      "metadata": {
        "id": "A6cXGmo1sN1K",
        "colab_type": "code",
        "colab": {}
      },
      "cell_type": "code",
      "source": [
        "from IPython.display import HTML, display\n",
        "import time\n",
        "\n",
        "# https://stackoverflow.com/questions/46939393/how-do-i-use-updatable-displays-on-colab\n",
        "def progress(value, max=100):\n",
        "    return HTML(\"\"\"\n",
        "        <progress\n",
        "            value='{value}'\n",
        "            max='{max}',\n",
        "            style='width: 80%'\n",
        "        >\n",
        "            {value}\n",
        "        </progress>\n",
        "        <p>{value} of {max} complete</p>\n",
        "    \"\"\".format(value=value, max=max))"
      ],
      "execution_count": 0,
      "outputs": []
    },
    {
      "metadata": {
        "id": "36YichvkWfgL",
        "colab_type": "text"
      },
      "cell_type": "markdown",
      "source": [
        "## Defining model"
      ]
    },
    {
      "metadata": {
        "id": "c1RYdTtii1Hh",
        "colab_type": "code",
        "colab": {}
      },
      "cell_type": "code",
      "source": [
        "initial_weights = np.random.randn(X_b.shape[1],10)\n",
        "weights=initial_weights\n",
        "learning_rate = 0.1\n",
        "batch_size = 128"
      ],
      "execution_count": 0,
      "outputs": []
    },
    {
      "metadata": {
        "id": "oYlNcwUoIW1o",
        "colab_type": "code",
        "colab": {}
      },
      "cell_type": "code",
      "source": [
        "def softmax(z):\n",
        "  exps = np.exp(z)\n",
        "  return exps / exps.sum(1, keepdims=True)"
      ],
      "execution_count": 0,
      "outputs": []
    },
    {
      "metadata": {
        "id": "rO0LwZsFIc9B",
        "colab_type": "code",
        "colab": {}
      },
      "cell_type": "code",
      "source": [
        "def crossentropy(a,y):\n",
        "  return -(np.log(a)*y).sum() / y.shape[0]\n",
        "\n",
        "def Loss(X, y, W):\n",
        "  return crossentropy(softmax(X.dot(W)), y)"
      ],
      "execution_count": 0,
      "outputs": []
    },
    {
      "metadata": {
        "id": "bj0qM5T1IzKE",
        "colab_type": "text"
      },
      "cell_type": "markdown",
      "source": [
        "Because ${\\frac {\\partial \\mathcal L} {\\partial z_j}} = \\sum_{k=1}^my_k(a_j-\\delta_{jk}) = (a_j\\sum_{k=1}^my_k) - y_j$ ..."
      ]
    },
    {
      "metadata": {
        "id": "XKjvPWB-IiaO",
        "colab_type": "code",
        "colab": {}
      },
      "cell_type": "code",
      "source": [
        "def gradLoss(X, y, W):\n",
        "  a = softmax(X.dot(W))\n",
        "  return X.T.dot(a*y.sum(1, keepdims=True) - y) / y.shape[0]\n",
        "  "
      ],
      "execution_count": 0,
      "outputs": []
    },
    {
      "metadata": {
        "id": "qREatvMRBKGG",
        "colab_type": "code",
        "colab": {}
      },
      "cell_type": "code",
      "source": [
        "def calcAccuracy(real, predicted):\n",
        "  r = real.argmax(1)\n",
        "  p = predicted.argmax(1)\n",
        "  return (r == p).sum()/r.shape\n",
        "   \n",
        "def Acc(X, y, W): return calcAccuracy(y, X.dot(W))"
      ],
      "execution_count": 0,
      "outputs": []
    },
    {
      "metadata": {
        "id": "J1ggKa17T2s5",
        "colab_type": "code",
        "colab": {}
      },
      "cell_type": "code",
      "source": [
        "# returns new weights\n",
        "def one_epoch(X, W, y, batch_size):\n",
        "  m=X.shape[0]\n",
        "  shuffled_indices = np.random.permutation(m)\n",
        "  Xs = X[shuffled_indices]\n",
        "  ys = y[shuffled_indices]\n",
        "  Wi=W\n",
        "  for i in range(0, m, batch_size):\n",
        "    Xi = Xs[i:i+batch_size]\n",
        "    yi = ys[i:i+batch_size]\n",
        "    gradient = gradLoss(Xi, yi, Wi)\n",
        "    Wi = Wi - learning_rate * gradient\n",
        "  return Wi\n",
        "\n",
        "\n",
        "def init_model():\n",
        "  global weights\n",
        "  global loss_values\n",
        "  global tst_loss_values\n",
        "  global tr_acc\n",
        "  global tst_acc\n",
        "  weights = initial_weights\n",
        "  loss_values=[]\n",
        "  tst_loss_values=[]\n",
        "  tr_acc=[]\n",
        "  tst_acc=[]\n",
        "\n",
        "def train(epoches):\n",
        "  global weights\n",
        "  pr_bar = display(progress(0, epoches), display_id=True)\n",
        "  for epoch in range(epoches):\n",
        "    weights = one_epoch(X_b, weights, train_labels, batch_size)\n",
        "    loss_values.append(Loss(X_b, train_labels, weights))\n",
        "    tst_loss_values.append(Loss(tstX_b, test_labels, weights))\n",
        "    tr_acc.append(Acc(X_b, train_labels, weights))\n",
        "    tst_acc.append(Acc(tstX_b, test_labels, weights))\n",
        "    pr_bar.update(progress(epoch+1, epoches))\n",
        "  "
      ],
      "execution_count": 0,
      "outputs": []
    },
    {
      "metadata": {
        "id": "3SnwsJAtZtYx",
        "colab_type": "text"
      },
      "cell_type": "markdown",
      "source": [
        "## The training step"
      ]
    },
    {
      "metadata": {
        "id": "2YuVq3JIZksS",
        "colab_type": "code",
        "outputId": "3fed898b-2698-4108-9449-717d14fb9d83",
        "colab": {
          "base_uri": "https://localhost:8080/",
          "height": 64
        }
      },
      "cell_type": "code",
      "source": [
        "epochs = 50\n",
        "init_model()\n",
        "train(epochs)\n",
        "# print(loss_values)"
      ],
      "execution_count": 63,
      "outputs": [
        {
          "output_type": "display_data",
          "data": {
            "text/html": [
              "\n",
              "        <progress\n",
              "            value='50'\n",
              "            max='50',\n",
              "            style='width: 80%'\n",
              "        >\n",
              "            50\n",
              "        </progress>\n",
              "        <p>50 of 50 complete</p>\n",
              "    "
            ],
            "text/plain": [
              "<IPython.core.display.HTML object>"
            ]
          },
          "metadata": {
            "tags": []
          }
        }
      ]
    },
    {
      "metadata": {
        "id": "vTtzYNe-a-Ro",
        "colab_type": "text"
      },
      "cell_type": "markdown",
      "source": [
        "## Display the training/test loss/accuracy"
      ]
    },
    {
      "metadata": {
        "id": "kZ70napGZ-cK",
        "colab_type": "code",
        "colab": {}
      },
      "cell_type": "code",
      "source": [
        "epochs_range = range(1, epochs + 1)"
      ],
      "execution_count": 0,
      "outputs": []
    },
    {
      "metadata": {
        "id": "9aM-5qqCfnck",
        "colab_type": "code",
        "outputId": "e03342ad-2816-4174-fa6b-c906cfd5a947",
        "colab": {
          "base_uri": "https://localhost:8080/",
          "height": 376
        }
      },
      "cell_type": "code",
      "source": [
        "import matplotlib.pyplot as plt\n",
        "\n",
        "plt.plot(epochs_range, loss_values, 'o')\n",
        "\n",
        "plt.plot(epochs_range, loss_values, 'bo', label='Training loss')\n",
        "plt.plot(epochs_range, tst_loss_values, 'ro', label='Test loss')\n",
        "plt.title('Training and test loss')\n",
        "plt.xlabel('Epochs')\n",
        "plt.ylabel('Loss')\n",
        "plt.legend()\n",
        "\n",
        "plt.show()"
      ],
      "execution_count": 65,
      "outputs": [
        {
          "output_type": "display_data",
          "data": {
            "image/png": "[encoded data removed]",
            "text/plain": [
              "<Figure size 576x396 with 1 Axes>"
            ]
          },
          "metadata": {
            "tags": []
          }
        }
      ]
    },
    {
      "metadata": {
        "id": "P50X7MWyHCkI",
        "colab_type": "code",
        "outputId": "3f2b2791-03fa-49d5-dc5c-d95235807e30",
        "colab": {
          "base_uri": "https://localhost:8080/",
          "height": 376
        }
      },
      "cell_type": "code",
      "source": [
        "plt.plot(epochs_range, tr_acc, 'bo', label=\"train accuracy\")\n",
        "plt.plot(epochs_range, tst_acc, 'ro', label=\"test accuracy\")\n",
        "\n",
        "\n",
        "plt.title('Training and test accuracies')\n",
        "plt.xlabel('Epochs')\n",
        "plt.ylabel('Accuracy')\n",
        "plt.legend()\n",
        "\n",
        "plt.show()\n",
        "\n",
        "# print(tr_acc)\n",
        "# print(tst_acc)"
      ],
      "execution_count": 70,
      "outputs": [
        {
          "output_type": "display_data",
          "data": {
            "image/png": "[encoded data removed]",
            "text/plain": [
              "<Figure size 576x396 with 1 Axes>"
            ]
          },
          "metadata": {
            "tags": []
          }
        }
      ]
    },
    {
      "metadata": {
        "id": "yWLl_-wh0eVo",
        "colab_type": "text"
      },
      "cell_type": "markdown",
      "source": [
        "## Exploring results"
      ]
    },
    {
      "metadata": {
        "id": "3TXjg4ofyREs",
        "colab_type": "code",
        "outputId": "965b0fc7-47bc-4fa1-a74d-814d93e8c20e",
        "colab": {
          "base_uri": "https://localhost:8080/",
          "height": 35
        }
      },
      "cell_type": "code",
      "source": [
        "predicted_labels = np.argmax(tstX_b.dot(weights), axis=1) \n",
        "predicted_labels = predicted_labels.astype('uint8')\n",
        "wrong_indices = [i for i in range(10000) if predicted_labels[i] != test_labels_original[i]]\n",
        "good_indices = [i for i in range(10000) if predicted_labels[i] == test_labels_original[i]]\n",
        "1.0 - len(wrong_indices) / 10000.0"
      ],
      "execution_count": 67,
      "outputs": [
        {
          "output_type": "execute_result",
          "data": {
            "text/plain": [
              "0.9077999999999999"
            ]
          },
          "metadata": {
            "tags": []
          },
          "execution_count": 67
        }
      ]
    },
    {
      "metadata": {
        "id": "H3c5wPpSzZMA",
        "colab_type": "code",
        "outputId": "dd64eb73-75be-4f97-fa57-ed4c9ff8d289",
        "colab": {
          "base_uri": "https://localhost:8080/",
          "height": 365
        }
      },
      "cell_type": "code",
      "source": [
        "# This show the ith misclassified digit. \n",
        "i = 9\n",
        "wrong_index = wrong_indices[i]  \n",
        "print(test_labels_original[wrong_index], 'is classified as', predicted_labels[wrong_index])\n",
        "plt.imshow(test_images_original[wrong_index])\n",
        "plt.grid(None)\n",
        "plt.show()"
      ],
      "execution_count": 68,
      "outputs": [
        {
          "output_type": "stream",
          "text": [
            "7 is classified as 1\n"
          ],
          "name": "stdout"
        },
        {
          "output_type": "display_data",
          "data": {
            "image/png": "[encoded data removed]",
            "text/plain": [
              "<Figure size 576x396 with 1 Axes>"
            ]
          },
          "metadata": {
            "tags": []
          }
        }
      ]
    },
    {
      "metadata": {
        "id": "eIF6ksl80LT9",
        "colab_type": "code",
        "outputId": "213c935a-9ddd-4222-c329-b5816257f3ea",
        "colab": {
          "base_uri": "https://localhost:8080/",
          "height": 365
        }
      },
      "cell_type": "code",
      "source": [
        "# This show the ith correctly classified digit. \n",
        "i = 999\n",
        "index = good_indices[i]  \n",
        "print(test_labels_original[index], 'is classified as', predicted_labels[index])\n",
        "plt.imshow(test_images_original[index])\n",
        "plt.grid(None)\n",
        "plt.show()"
      ],
      "execution_count": 69,
      "outputs": [
        {
          "output_type": "stream",
          "text": [
            "9 is classified as 9\n"
          ],
          "name": "stdout"
        },
        {
          "output_type": "display_data",
          "data": {
            "image/png": "[encoded data removed]",
            "text/plain": [
              "<Figure size 576x396 with 1 Axes>"
            ]
          },
          "metadata": {
            "tags": []
          }
        }
      ]
    }
  ]
}