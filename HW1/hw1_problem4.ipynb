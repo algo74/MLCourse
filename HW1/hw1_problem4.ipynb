{
  "nbformat": 4,
  "nbformat_minor": 0,
  "metadata": {
    "colab": {
      "name": "hw1.problem4.ipynb",
      "version": "0.3.2",
      "provenance": [],
      "include_colab_link": true
    },
    "kernelspec": {
      "name": "python3",
      "display_name": "Python 3"
    },
    "accelerator": "GPU"
  },
  "cells": [
    {
      "cell_type": "markdown",
      "metadata": {
        "id": "view-in-github",
        "colab_type": "text"
      },
      "source": [
        "<a href=\"https://colab.research.google.com/github/algo74/MLCourse/blob/master/HW1/hw1_problem4.ipynb\" target=\"_parent\"><img src=\"https://colab.research.google.com/assets/colab-badge.svg\" alt=\"Open In Colab\"/></a>"
      ]
    },
    {
      "metadata": {
        "id": "rt44vyY1xW9b",
        "colab_type": "text"
      },
      "cell_type": "markdown",
      "source": [
        "# HW1. Problem 4. "
      ]
    },
    {
      "metadata": {
        "id": "jhNXqqXQbHfe",
        "colab_type": "text"
      },
      "cell_type": "markdown",
      "source": [
        "\n",
        "* Load the training and test data using Keras, no validation set needed.\n",
        "* Create network with an input layer consisting of 28 x 28 input neurons and an output layer consisting of 10 output neurons.\n",
        "* Use softmax and categorical cross entropy loss.\n",
        "* Implement mini-batch stochastic gradient descent using Keras.\n",
        "\n",
        "\n"
      ]
    },
    {
      "metadata": {
        "id": "dk5d_kOfhRWu",
        "colab_type": "text"
      },
      "cell_type": "markdown",
      "source": [
        "##Comments\n",
        "* Code for loading and preparing of the data and some other code is reused from `mnist_digits_classification_dense_layers.ipynb`"
      ]
    },
    {
      "metadata": {
        "id": "yH1EOQd6R2uQ",
        "colab_type": "text"
      },
      "cell_type": "markdown",
      "source": [
        "## Loading the image data"
      ]
    },
    {
      "metadata": {
        "id": "FSJyddqGexl5",
        "colab_type": "code",
        "outputId": "7fdb7e0a-1562-494c-88e2-23866f3d7c02",
        "colab": {
          "base_uri": "https://localhost:8080/",
          "height": 34
        }
      },
      "cell_type": "code",
      "source": [
        "from keras.datasets import mnist\n",
        "\n",
        "(train_images_original, train_labels_original), (test_images_original, test_labels_original) = mnist.load_data()"
      ],
      "execution_count": 1,
      "outputs": [
        {
          "output_type": "stream",
          "text": [
            "Using TensorFlow backend.\n"
          ],
          "name": "stderr"
        }
      ]
    },
    {
      "metadata": {
        "id": "91gu7qVhR6eX",
        "colab_type": "text"
      },
      "cell_type": "markdown",
      "source": [
        "## Preparing the image data"
      ]
    },
    {
      "metadata": {
        "id": "UB7_xf0hzsPx",
        "colab_type": "code",
        "colab": {}
      },
      "cell_type": "code",
      "source": [
        "train_images = train_images_original.reshape((60000, 28 * 28))\n",
        "train_images = train_images.astype('float32') / 255\n",
        "\n",
        "test_images = test_images_original.reshape((10000, 28 * 28))\n",
        "test_images = test_images.astype('float32') / 255"
      ],
      "execution_count": 0,
      "outputs": []
    },
    {
      "metadata": {
        "id": "HwRvZSOvSzXx",
        "colab_type": "text"
      },
      "cell_type": "markdown",
      "source": [
        "## Preparing the labels\n",
        "\n",
        "We need to categorically encode the labels."
      ]
    },
    {
      "metadata": {
        "id": "C1ulkKRPSgJP",
        "colab_type": "code",
        "colab": {}
      },
      "cell_type": "code",
      "source": [
        "from keras.utils import to_categorical\n",
        "\n",
        "train_labels = to_categorical(train_labels_original)\n",
        "test_labels = to_categorical(test_labels_original)"
      ],
      "execution_count": 0,
      "outputs": []
    },
    {
      "metadata": {
        "id": "36YichvkWfgL",
        "colab_type": "text"
      },
      "cell_type": "markdown",
      "source": [
        "## The network architecture"
      ]
    },
    {
      "metadata": {
        "id": "J1ggKa17T2s5",
        "colab_type": "code",
        "outputId": "be2e2685-1880-4d9b-b846-1f1bfa3591c8",
        "colab": {
          "base_uri": "https://localhost:8080/",
          "height": 281
        }
      },
      "cell_type": "code",
      "source": [
        "from keras import models\n",
        "from keras import layers\n",
        "\n",
        "network = models.Sequential()\n",
        "network.add(layers.Dense(10, activation='softmax', input_shape=(28 * 28,)))\n",
        "network.summary()\n",
        "\n",
        "from IPython.display import SVG\n",
        "from keras.utils.vis_utils import model_to_dot\n",
        "\n",
        "SVG(model_to_dot(network, show_shapes=True, rankdir='LR').create(prog='dot', format='svg'))\n"
      ],
      "execution_count": 24,
      "outputs": [
        {
          "output_type": "stream",
          "text": [
            "_________________________________________________________________\n",
            "Layer (type)                 Output Shape              Param #   \n",
            "=================================================================\n",
            "dense_10 (Dense)             (None, 10)                7850      \n",
            "=================================================================\n",
            "Total params: 7,850\n",
            "Trainable params: 7,850\n",
            "Non-trainable params: 0\n",
            "_________________________________________________________________\n"
          ],
          "name": "stdout"
        },
        {
          "output_type": "execute_result",
          "data": {
            "text/plain": [
              "<IPython.core.display.SVG object>"
            ],
            "image/svg+xml": "<svg height=\"78pt\" viewBox=\"0.00 0.00 340.00 78.00\" width=\"340pt\" xmlns=\"http://www.w3.org/2000/svg\" xmlns:xlink=\"http://www.w3.org/1999/xlink\">\n<g class=\"graph\" id=\"graph0\" transform=\"scale(1 1) rotate(0) translate(4 74)\">\n<title>G</title>\n<polygon fill=\"#ffffff\" points=\"-4,4 -4,-74 336,-74 336,4 -4,4\" stroke=\"transparent\"/>\n<!-- 140013670702608 -->\n<g class=\"node\" id=\"node1\">\n<title>140013670702608</title>\n<polygon fill=\"none\" points=\"165,-.5 165,-69.5 332,-69.5 332,-.5 165,-.5\" stroke=\"#000000\"/>\n<text fill=\"#000000\" font-family=\"Times,serif\" font-size=\"14.00\" text-anchor=\"middle\" x=\"248.5\" y=\"-54.3\">dense_10: Dense</text>\n<polyline fill=\"none\" points=\"165,-46.5 332,-46.5 \" stroke=\"#000000\"/>\n<text fill=\"#000000\" font-family=\"Times,serif\" font-size=\"14.00\" text-anchor=\"middle\" x=\"204.5\" y=\"-31.3\">input:</text>\n<polyline fill=\"none\" points=\"244,-23.5 244,-46.5 \" stroke=\"#000000\"/>\n<text fill=\"#000000\" font-family=\"Times,serif\" font-size=\"14.00\" text-anchor=\"middle\" x=\"288\" y=\"-31.3\">output:</text>\n<polyline fill=\"none\" points=\"165,-23.5 332,-23.5 \" stroke=\"#000000\"/>\n<text fill=\"#000000\" font-family=\"Times,serif\" font-size=\"14.00\" text-anchor=\"middle\" x=\"208.5\" y=\"-8.3\">(None, 784)</text>\n<polyline fill=\"none\" points=\"252,-.5 252,-23.5 \" stroke=\"#000000\"/>\n<text fill=\"#000000\" font-family=\"Times,serif\" font-size=\"14.00\" text-anchor=\"middle\" x=\"292\" y=\"-8.3\">(None, 10)</text>\n</g>\n<!-- 140013670777968 -->\n<g class=\"node\" id=\"node2\">\n<title>140013670777968</title>\n<polygon fill=\"none\" points=\"0,-17 0,-53 129,-53 129,-17 0,-17\" stroke=\"#000000\"/>\n<text fill=\"#000000\" font-family=\"Times,serif\" font-size=\"14.00\" text-anchor=\"middle\" x=\"64.5\" y=\"-31.3\">140013670777968</text>\n</g>\n<!-- 140013670777968&#45;&gt;140013670702608 -->\n<g class=\"edge\" id=\"edge1\">\n<title>140013670777968-&gt;140013670702608</title>\n<path d=\"M129.1128,-35C137.4486,-35 146.1144,-35 154.8005,-35\" fill=\"none\" stroke=\"#000000\"/>\n<polygon fill=\"#000000\" points=\"154.9879,-38.5001 164.9879,-35 154.9879,-31.5001 154.9879,-38.5001\" stroke=\"#000000\"/>\n</g>\n</g>\n</svg>"
          },
          "metadata": {
            "tags": []
          },
          "execution_count": 24
        }
      ]
    },
    {
      "metadata": {
        "id": "8H6VF7ZIY6Oy",
        "colab_type": "text"
      },
      "cell_type": "markdown",
      "source": [
        "## The compilation step"
      ]
    },
    {
      "metadata": {
        "id": "mHp0sz7cYPsK",
        "colab_type": "code",
        "colab": {}
      },
      "cell_type": "code",
      "source": [
        "network.compile(optimizer='sgd',\n",
        "                loss='categorical_crossentropy',\n",
        "                metrics=['accuracy'])\n",
        "\n"
      ],
      "execution_count": 0,
      "outputs": []
    },
    {
      "metadata": {
        "id": "3SnwsJAtZtYx",
        "colab_type": "text"
      },
      "cell_type": "markdown",
      "source": [
        "## The training step"
      ]
    },
    {
      "metadata": {
        "id": "2YuVq3JIZksS",
        "colab_type": "code",
        "outputId": "107c5cd9-7596-41f9-9433-e2c43d60435e",
        "colab": {
          "base_uri": "https://localhost:8080/",
          "height": 1823
        }
      },
      "cell_type": "code",
      "source": [
        "epochs = 50\n",
        "history = network.fit(train_images, \n",
        "                      train_labels, \n",
        "                      epochs=epochs, \n",
        "                      batch_size=128, \n",
        "                      validation_data=(test_images, test_labels))"
      ],
      "execution_count": 6,
      "outputs": [
        {
          "output_type": "stream",
          "text": [
            "WARNING:tensorflow:From /usr/local/lib/python3.6/dist-packages/tensorflow/python/ops/math_ops.py:3066: to_int32 (from tensorflow.python.ops.math_ops) is deprecated and will be removed in a future version.\n",
            "Instructions for updating:\n",
            "Use tf.cast instead.\n",
            "Train on 60000 samples, validate on 10000 samples\n",
            "Epoch 1/50\n",
            "60000/60000 [==============================] - 2s 40us/step - loss: 1.2744 - acc: 0.7031 - val_loss: 0.8053 - val_acc: 0.8328\n",
            "Epoch 2/50\n",
            "60000/60000 [==============================] - 2s 27us/step - loss: 0.7112 - acc: 0.8422 - val_loss: 0.6046 - val_acc: 0.8613\n",
            "Epoch 3/50\n",
            "60000/60000 [==============================] - 2s 27us/step - loss: 0.5840 - acc: 0.8605 - val_loss: 0.5242 - val_acc: 0.8730\n",
            "Epoch 4/50\n",
            "60000/60000 [==============================] - 2s 27us/step - loss: 0.5230 - acc: 0.8692 - val_loss: 0.4790 - val_acc: 0.8804\n",
            "Epoch 5/50\n",
            "60000/60000 [==============================] - 2s 27us/step - loss: 0.4858 - acc: 0.8763 - val_loss: 0.4494 - val_acc: 0.8847\n",
            "Epoch 6/50\n",
            "60000/60000 [==============================] - 2s 27us/step - loss: 0.4602 - acc: 0.8801 - val_loss: 0.4282 - val_acc: 0.8891\n",
            "Epoch 7/50\n",
            "60000/60000 [==============================] - 2s 27us/step - loss: 0.4412 - acc: 0.8837 - val_loss: 0.4119 - val_acc: 0.8911\n",
            "Epoch 8/50\n",
            "60000/60000 [==============================] - 2s 27us/step - loss: 0.4264 - acc: 0.8864 - val_loss: 0.3994 - val_acc: 0.8937\n",
            "Epoch 9/50\n",
            "60000/60000 [==============================] - 2s 27us/step - loss: 0.4145 - acc: 0.8889 - val_loss: 0.3888 - val_acc: 0.8958\n",
            "Epoch 10/50\n",
            "60000/60000 [==============================] - 2s 27us/step - loss: 0.4046 - acc: 0.8911 - val_loss: 0.3806 - val_acc: 0.8984\n",
            "Epoch 11/50\n",
            "60000/60000 [==============================] - 2s 27us/step - loss: 0.3963 - acc: 0.8931 - val_loss: 0.3730 - val_acc: 0.9000\n",
            "Epoch 12/50\n",
            "60000/60000 [==============================] - 2s 27us/step - loss: 0.3890 - acc: 0.8946 - val_loss: 0.3668 - val_acc: 0.9005\n",
            "Epoch 13/50\n",
            "60000/60000 [==============================] - 2s 27us/step - loss: 0.3827 - acc: 0.8957 - val_loss: 0.3611 - val_acc: 0.9029\n",
            "Epoch 14/50\n",
            "60000/60000 [==============================] - 2s 27us/step - loss: 0.3772 - acc: 0.8969 - val_loss: 0.3562 - val_acc: 0.9044\n",
            "Epoch 15/50\n",
            "60000/60000 [==============================] - 2s 27us/step - loss: 0.3721 - acc: 0.8974 - val_loss: 0.3518 - val_acc: 0.9052\n",
            "Epoch 16/50\n",
            "60000/60000 [==============================] - 2s 27us/step - loss: 0.3677 - acc: 0.8987 - val_loss: 0.3479 - val_acc: 0.9051\n",
            "Epoch 17/50\n",
            "60000/60000 [==============================] - 2s 27us/step - loss: 0.3637 - acc: 0.8996 - val_loss: 0.3445 - val_acc: 0.9056\n",
            "Epoch 18/50\n",
            "60000/60000 [==============================] - 2s 27us/step - loss: 0.3600 - acc: 0.9004 - val_loss: 0.3411 - val_acc: 0.9065\n",
            "Epoch 19/50\n",
            "60000/60000 [==============================] - 2s 27us/step - loss: 0.3566 - acc: 0.9014 - val_loss: 0.3382 - val_acc: 0.9075\n",
            "Epoch 20/50\n",
            "60000/60000 [==============================] - 2s 27us/step - loss: 0.3535 - acc: 0.9019 - val_loss: 0.3356 - val_acc: 0.9085\n",
            "Epoch 21/50\n",
            "60000/60000 [==============================] - 2s 27us/step - loss: 0.3506 - acc: 0.9027 - val_loss: 0.3329 - val_acc: 0.9090\n",
            "Epoch 22/50\n",
            "60000/60000 [==============================] - 2s 27us/step - loss: 0.3479 - acc: 0.9033 - val_loss: 0.3309 - val_acc: 0.9085\n",
            "Epoch 23/50\n",
            "60000/60000 [==============================] - 2s 27us/step - loss: 0.3454 - acc: 0.9038 - val_loss: 0.3284 - val_acc: 0.9089\n",
            "Epoch 24/50\n",
            "60000/60000 [==============================] - 2s 28us/step - loss: 0.3430 - acc: 0.9045 - val_loss: 0.3263 - val_acc: 0.9097\n",
            "Epoch 25/50\n",
            "60000/60000 [==============================] - 2s 27us/step - loss: 0.3408 - acc: 0.9051 - val_loss: 0.3247 - val_acc: 0.9098\n",
            "Epoch 26/50\n",
            "60000/60000 [==============================] - 2s 27us/step - loss: 0.3388 - acc: 0.9057 - val_loss: 0.3229 - val_acc: 0.9106\n",
            "Epoch 27/50\n",
            "60000/60000 [==============================] - 2s 27us/step - loss: 0.3368 - acc: 0.9063 - val_loss: 0.3211 - val_acc: 0.9106\n",
            "Epoch 28/50\n",
            "60000/60000 [==============================] - 2s 27us/step - loss: 0.3350 - acc: 0.9066 - val_loss: 0.3197 - val_acc: 0.9107\n",
            "Epoch 29/50\n",
            "60000/60000 [==============================] - 2s 27us/step - loss: 0.3332 - acc: 0.9071 - val_loss: 0.3183 - val_acc: 0.9114\n",
            "Epoch 30/50\n",
            "60000/60000 [==============================] - 2s 27us/step - loss: 0.3316 - acc: 0.9078 - val_loss: 0.3164 - val_acc: 0.9118\n",
            "Epoch 31/50\n",
            "60000/60000 [==============================] - 2s 27us/step - loss: 0.3300 - acc: 0.9080 - val_loss: 0.3153 - val_acc: 0.9123\n",
            "Epoch 32/50\n",
            "60000/60000 [==============================] - 2s 27us/step - loss: 0.3285 - acc: 0.9084 - val_loss: 0.3142 - val_acc: 0.9123\n",
            "Epoch 33/50\n",
            "60000/60000 [==============================] - 2s 27us/step - loss: 0.3271 - acc: 0.9091 - val_loss: 0.3129 - val_acc: 0.9128\n",
            "Epoch 34/50\n",
            "60000/60000 [==============================] - 2s 27us/step - loss: 0.3257 - acc: 0.9094 - val_loss: 0.3119 - val_acc: 0.9137\n",
            "Epoch 35/50\n",
            "60000/60000 [==============================] - 2s 27us/step - loss: 0.3244 - acc: 0.9093 - val_loss: 0.3107 - val_acc: 0.9137\n",
            "Epoch 36/50\n",
            "60000/60000 [==============================] - 2s 27us/step - loss: 0.3231 - acc: 0.9099 - val_loss: 0.3096 - val_acc: 0.9137\n",
            "Epoch 37/50\n",
            "60000/60000 [==============================] - 2s 27us/step - loss: 0.3219 - acc: 0.9103 - val_loss: 0.3087 - val_acc: 0.9143\n",
            "Epoch 38/50\n",
            "60000/60000 [==============================] - 2s 27us/step - loss: 0.3207 - acc: 0.9106 - val_loss: 0.3080 - val_acc: 0.9142\n",
            "Epoch 39/50\n",
            "60000/60000 [==============================] - 2s 27us/step - loss: 0.3196 - acc: 0.9109 - val_loss: 0.3069 - val_acc: 0.9140\n",
            "Epoch 40/50\n",
            "60000/60000 [==============================] - 2s 27us/step - loss: 0.3185 - acc: 0.9112 - val_loss: 0.3061 - val_acc: 0.9149\n",
            "Epoch 41/50\n",
            "60000/60000 [==============================] - 2s 27us/step - loss: 0.3175 - acc: 0.9113 - val_loss: 0.3051 - val_acc: 0.9143\n",
            "Epoch 42/50\n",
            "60000/60000 [==============================] - 2s 28us/step - loss: 0.3165 - acc: 0.9115 - val_loss: 0.3044 - val_acc: 0.9149\n",
            "Epoch 43/50\n",
            "60000/60000 [==============================] - 2s 27us/step - loss: 0.3155 - acc: 0.9120 - val_loss: 0.3036 - val_acc: 0.9146\n",
            "Epoch 44/50\n",
            "60000/60000 [==============================] - 2s 27us/step - loss: 0.3146 - acc: 0.9121 - val_loss: 0.3030 - val_acc: 0.9152\n",
            "Epoch 45/50\n",
            "60000/60000 [==============================] - 2s 27us/step - loss: 0.3137 - acc: 0.9123 - val_loss: 0.3022 - val_acc: 0.9153\n",
            "Epoch 46/50\n",
            "60000/60000 [==============================] - 2s 27us/step - loss: 0.3128 - acc: 0.9128 - val_loss: 0.3014 - val_acc: 0.9155\n",
            "Epoch 47/50\n",
            "60000/60000 [==============================] - 2s 27us/step - loss: 0.3120 - acc: 0.9130 - val_loss: 0.3006 - val_acc: 0.9159\n",
            "Epoch 48/50\n",
            "60000/60000 [==============================] - 2s 27us/step - loss: 0.3112 - acc: 0.9130 - val_loss: 0.3003 - val_acc: 0.9154\n",
            "Epoch 49/50\n",
            "60000/60000 [==============================] - 2s 28us/step - loss: 0.3104 - acc: 0.9132 - val_loss: 0.2997 - val_acc: 0.9157\n",
            "Epoch 50/50\n",
            "60000/60000 [==============================] - 2s 27us/step - loss: 0.3096 - acc: 0.9137 - val_loss: 0.2989 - val_acc: 0.9162\n"
          ],
          "name": "stdout"
        }
      ]
    },
    {
      "metadata": {
        "id": "vTtzYNe-a-Ro",
        "colab_type": "text"
      },
      "cell_type": "markdown",
      "source": [
        "## Display the training/test loss/accuracy"
      ]
    },
    {
      "metadata": {
        "id": "kZ70napGZ-cK",
        "colab_type": "code",
        "colab": {}
      },
      "cell_type": "code",
      "source": [
        "history_dict = history.history\n",
        "loss_values = history_dict['loss']\n",
        "test_loss_values = history_dict['val_loss']\n",
        "epochs_range = range(1, epochs + 1)"
      ],
      "execution_count": 0,
      "outputs": []
    },
    {
      "metadata": {
        "id": "9aM-5qqCfnck",
        "colab_type": "code",
        "outputId": "0cd96aef-8f11-4341-c903-fa44cff3beec",
        "colab": {
          "base_uri": "https://localhost:8080/",
          "height": 376
        }
      },
      "cell_type": "code",
      "source": [
        "import matplotlib.pyplot as plt\n",
        "\n",
        "plt.plot(epochs_range, loss_values, 'bo', label='Training loss')\n",
        "plt.plot(epochs_range, test_loss_values, 'ro', label='Test loss')\n",
        "plt.title('Training and test loss')\n",
        "plt.xlabel('Epochs')\n",
        "plt.ylabel('Loss')\n",
        "plt.legend()\n",
        "plt.show()"
      ],
      "execution_count": 10,
      "outputs": [
        {
          "output_type": "display_data",
          "data": {
            "image/png": "[encoded data removed]",
            "text/plain": [
              "<Figure size 576x396 with 1 Axes>"
            ]
          },
          "metadata": {
            "tags": []
          }
        }
      ]
    },
    {
      "metadata": {
        "id": "-IB2uFCzez-e",
        "colab_type": "code",
        "colab": {}
      },
      "cell_type": "code",
      "source": [
        "acc_values = history_dict['acc']\n",
        "test_acc_values = history_dict['val_acc']"
      ],
      "execution_count": 0,
      "outputs": []
    },
    {
      "metadata": {
        "id": "AdyXVyeLf-SV",
        "colab_type": "code",
        "outputId": "b2788428-d80a-4544-dcdc-7f2d692cbe47",
        "colab": {
          "base_uri": "https://localhost:8080/",
          "height": 376
        }
      },
      "cell_type": "code",
      "source": [
        "plt.plot(epochs_range, acc_values, 'bo', label='Training accuracy')\n",
        "plt.plot(epochs_range, test_acc_values, 'ro', label='Test accuracy')\n",
        "plt.title('Training and test accuracy')\n",
        "plt.xlabel('Epochs')\n",
        "plt.ylabel('Accuracy')\n",
        "plt.legend()\n",
        "plt.show()"
      ],
      "execution_count": 13,
      "outputs": [
        {
          "output_type": "display_data",
          "data": {
            "image/png": "[encoded data removed]",
            "text/plain": [
              "<Figure size 576x396 with 1 Axes>"
            ]
          },
          "metadata": {
            "tags": []
          }
        }
      ]
    }
  ]
}