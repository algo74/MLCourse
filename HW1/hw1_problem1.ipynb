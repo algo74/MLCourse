{
  "nbformat": 4,
  "nbformat_minor": 0,
  "metadata": {
    "colab": {
      "name": "hw1.problem1.ipynb",
      "version": "0.3.2",
      "provenance": [],
      "collapsed_sections": [],
      "include_colab_link": true
    },
    "kernelspec": {
      "name": "python3",
      "display_name": "Python 3"
    },
    "accelerator": "GPU"
  },
  "cells": [
    {
      "cell_type": "markdown",
      "metadata": {
        "id": "view-in-github",
        "colab_type": "text"
      },
      "source": [
        "<a href=\"https://colab.research.google.com/github/algo74/MLCourse/blob/master/HW1/hw1_problem1.ipynb\" target=\"_parent\"><img src=\"https://colab.research.google.com/assets/colab-badge.svg\" alt=\"Open In Colab\"/></a>"
      ]
    },
    {
      "metadata": {
        "id": "rt44vyY1xW9b",
        "colab_type": "text"
      },
      "cell_type": "markdown",
      "source": [
        "# HW1. Problem 1. "
      ]
    },
    {
      "metadata": {
        "id": "jhNXqqXQbHfe",
        "colab_type": "text"
      },
      "cell_type": "markdown",
      "source": [
        "- Load the training and test data using Keras, no validation set needed.\n",
        "- Train 10 classifiers that perform binary classification: *Is the input image the digit i or is it a digit different from i?* Each of the ten classifiers has an input layer consisting of 28 x 28 input neurons and an output layer consisting of a single output neuron.\n",
        "- Implement mini-batch stochastic gradient descent using only numpy, that is, you are not allowed to use TensorFlow/Keras for SGD.\n",
        "- Use *`argmax`* to determine the classifier with the strongest output and declare the corresponding digit as output.\n",
        "- Use logistic regression with **mean squared error loss.**\n",
        "\n"
      ]
    },
    {
      "metadata": {
        "id": "dk5d_kOfhRWu",
        "colab_type": "text"
      },
      "cell_type": "markdown",
      "source": [
        "##Comments\n",
        "* Code for loading and preparing of the data is reused from `mnist_digits_classification_dense_layers.ipynb`\n",
        "* Some other code is reused from `linear_regression_gradient_descent.ipynb`"
      ]
    },
    {
      "metadata": {
        "id": "yH1EOQd6R2uQ",
        "colab_type": "text"
      },
      "cell_type": "markdown",
      "source": [
        "## Loading the image data"
      ]
    },
    {
      "metadata": {
        "id": "FSJyddqGexl5",
        "colab_type": "code",
        "outputId": "f8fce912-54f5-4342-e4b4-98c61e02331f",
        "colab": {
          "base_uri": "https://localhost:8080/",
          "height": 72
        }
      },
      "cell_type": "code",
      "source": [
        "import numpy as np\n",
        "from keras.datasets import mnist\n",
        "\n",
        "(train_images_original, train_labels_original), (test_images_original, test_labels_original) = mnist.load_data()\n",
        "\n",
        "# shape parameters\n",
        "m = 60000\n",
        "m_test = 10000"
      ],
      "execution_count": 1,
      "outputs": [
        {
          "output_type": "stream",
          "text": [
            "Using TensorFlow backend.\n"
          ],
          "name": "stderr"
        },
        {
          "output_type": "stream",
          "text": [
            "Downloading data from https://s3.amazonaws.com/img-datasets/mnist.npz\n",
            "11493376/11490434 [==============================] - 0s 0us/step\n"
          ],
          "name": "stdout"
        }
      ]
    },
    {
      "metadata": {
        "id": "91gu7qVhR6eX",
        "colab_type": "text"
      },
      "cell_type": "markdown",
      "source": [
        "## Preparing the image data"
      ]
    },
    {
      "metadata": {
        "id": "UB7_xf0hzsPx",
        "colab_type": "code",
        "colab": {}
      },
      "cell_type": "code",
      "source": [
        "train_images = train_images_original.reshape((m, 28 * 28))\n",
        "train_images = train_images.astype('float32') / 255\n",
        "\n",
        "test_images = test_images_original.reshape((m_test, 28 * 28))\n",
        "test_images = test_images.astype('float32') / 255"
      ],
      "execution_count": 0,
      "outputs": []
    },
    {
      "metadata": {
        "id": "HwRvZSOvSzXx",
        "colab_type": "text"
      },
      "cell_type": "markdown",
      "source": [
        "## Preparing the labels\n",
        "\n",
        "We need to categorically encode the labels."
      ]
    },
    {
      "metadata": {
        "id": "C1ulkKRPSgJP",
        "colab_type": "code",
        "colab": {}
      },
      "cell_type": "code",
      "source": [
        "from keras.utils import to_categorical\n",
        "\n",
        "train_labels = to_categorical(train_labels_original)\n",
        "test_labels = to_categorical(test_labels_original)"
      ],
      "execution_count": 0,
      "outputs": []
    },
    {
      "metadata": {
        "id": "yYyJQJXo1kMP",
        "colab_type": "text"
      },
      "cell_type": "markdown",
      "source": [
        "## Adding biases\n"
      ]
    },
    {
      "metadata": {
        "id": "bUPPoqhY1xtT",
        "colab_type": "code",
        "colab": {}
      },
      "cell_type": "code",
      "source": [
        "X_b = np.c_[np.ones((m,1)), train_images]\n",
        "tstX_b = np.c_[np.ones((m_test,1)), test_images]"
      ],
      "execution_count": 0,
      "outputs": []
    },
    {
      "metadata": {
        "id": "yjz0C8sU3hUf",
        "colab_type": "text"
      },
      "cell_type": "markdown",
      "source": [
        "## Display prepared data"
      ]
    },
    {
      "metadata": {
        "id": "QC46Z6Ng3RJC",
        "colab_type": "code",
        "outputId": "63e98ac7-caa4-43d8-a433-abab61f3aae4",
        "colab": {
          "base_uri": "https://localhost:8080/",
          "height": 90
        }
      },
      "cell_type": "code",
      "source": [
        "print(X_b[0:2])\n",
        "# print(X_b[3])\n",
        "print(X_b.shape)\n",
        "print(X_b.shape[1])"
      ],
      "execution_count": 6,
      "outputs": [
        {
          "output_type": "stream",
          "text": [
            "[[1. 0. 0. ... 0. 0. 0.]\n",
            " [1. 0. 0. ... 0. 0. 0.]]\n",
            "(60000, 785)\n",
            "785\n"
          ],
          "name": "stdout"
        }
      ]
    },
    {
      "metadata": {
        "id": "8F4QAZAV4p7l",
        "colab_type": "code",
        "colab": {}
      },
      "cell_type": "code",
      "source": [
        "# help(np.random.standard_normal)"
      ],
      "execution_count": 0,
      "outputs": []
    },
    {
      "metadata": {
        "id": "ZwO_BG4Hr_ay",
        "colab_type": "text"
      },
      "cell_type": "markdown",
      "source": [
        "## Defining different helper functions unrelated to ML"
      ]
    },
    {
      "metadata": {
        "id": "A6cXGmo1sN1K",
        "colab_type": "code",
        "colab": {}
      },
      "cell_type": "code",
      "source": [
        "from IPython.display import HTML, display\n",
        "import time\n",
        "\n",
        "# https://stackoverflow.com/questions/46939393/how-do-i-use-updatable-displays-on-colab\n",
        "def progress(value, max=100):\n",
        "    return HTML(\"\"\"\n",
        "        <progress\n",
        "            value='{value}'\n",
        "            max='{max}',\n",
        "            style='width: 80%'\n",
        "        >\n",
        "            {value}\n",
        "        </progress>\n",
        "        <p>{value} of {max} complete</p>\n",
        "    \"\"\".format(value=value, max=max))"
      ],
      "execution_count": 0,
      "outputs": []
    },
    {
      "metadata": {
        "id": "36YichvkWfgL",
        "colab_type": "text"
      },
      "cell_type": "markdown",
      "source": [
        "## Defining model"
      ]
    },
    {
      "metadata": {
        "id": "J1ggKa17T2s5",
        "colab_type": "code",
        "colab": {}
      },
      "cell_type": "code",
      "source": [
        "initial_weights = np.random.randn(X_b.shape[1],10)\n",
        "weights=initial_weights\n",
        "learning_rate = 0.3\n",
        "batch_size = 30\n",
        "\n",
        "# https://gist.github.com/jovianlin/805189d4b19332f8b8a79bbd07e3f598#gistcomment-2756475\n",
        "def sigmoid(x, derivative=False):\n",
        "  sigm = 1. / (1. + np.exp(-x))\n",
        "  if derivative:\n",
        "      return sigm * (1. - sigm)\n",
        "  return sigm\n",
        "  \n",
        "def calcAccuracy(real, predicted):\n",
        "  r = real.argmax(1)\n",
        "  p = predicted.argmax(1)\n",
        "  return (r == p).sum()/r.shape\n",
        "   \n",
        "def Acc(X, y, W): return calcAccuracy(y, X.dot(W))\n",
        "  \n",
        "def Loss(X, y, W):\n",
        "  m = X.shape[0]\n",
        "  z = X.dot(W)\n",
        "  d = (sigmoid(z) - y)\n",
        "  return (d*d).sum(0) / m\n",
        "\n",
        "def gradLoss(m, X, y, W):\n",
        "  z = X.dot(W)\n",
        "  return 2/m * X.T.dot((sigmoid(z) - y) * sigmoid(z, True))\n",
        "\n",
        "# returns new weights\n",
        "def one_epoch(X, W, y, batch_size):\n",
        "  m=X.shape[0]\n",
        "  shuffled_indices = np.random.permutation(m)\n",
        "  Xs = X[shuffled_indices]\n",
        "  ys = y[shuffled_indices]\n",
        "  Wi=W\n",
        "  for i in range(0, m, batch_size):\n",
        "    Xi = Xs[i:i+batch_size]\n",
        "    yi = ys[i:i+batch_size]\n",
        "    gradient = gradLoss(batch_size, Xi, yi, Wi)\n",
        "    Wi = Wi - learning_rate * gradient\n",
        "  return Wi\n",
        "\n",
        "\n",
        "def init_model():\n",
        "  global weights\n",
        "  global loss_values\n",
        "  global tst_loss_values\n",
        "  global tr_acc\n",
        "  global tst_acc\n",
        "  weights = initial_weights\n",
        "  loss_values=[]\n",
        "  tst_loss_values=[]\n",
        "  tr_acc=[]\n",
        "  tst_acc=[]\n",
        "\n",
        "def train(epoches):\n",
        "  global weights\n",
        "  pr_bar = display(progress(0, epoches), display_id=True)\n",
        "  for epoch in range(epoches):\n",
        "    weights = one_epoch(X_b, weights, train_labels, batch_size)\n",
        "    loss_values.append(Loss(X_b, train_labels, weights))\n",
        "    tst_loss_values.append(Loss(tstX_b, test_labels, weights))\n",
        "    tr_acc.append(Acc(X_b, train_labels, weights))\n",
        "    tst_acc.append(Acc(tstX_b, test_labels, weights))\n",
        "    pr_bar.update(progress(epoch+1, epoches))\n",
        "  "
      ],
      "execution_count": 0,
      "outputs": []
    },
    {
      "metadata": {
        "id": "3SnwsJAtZtYx",
        "colab_type": "text"
      },
      "cell_type": "markdown",
      "source": [
        "## The training step"
      ]
    },
    {
      "metadata": {
        "id": "2YuVq3JIZksS",
        "colab_type": "code",
        "colab": {
          "base_uri": "https://localhost:8080/",
          "height": 64
        },
        "outputId": "b70f21c9-d324-4922-bdb7-d2863f5c0df5"
      },
      "cell_type": "code",
      "source": [
        "epochs = 50\n",
        "init_model()\n",
        "train(epochs)\n",
        "# print(loss_values)"
      ],
      "execution_count": 30,
      "outputs": [
        {
          "output_type": "display_data",
          "data": {
            "text/html": [
              "\n",
              "        <progress\n",
              "            value='50'\n",
              "            max='50',\n",
              "            style='width: 80%'\n",
              "        >\n",
              "            50\n",
              "        </progress>\n",
              "        <p>50 of 50 complete</p>\n",
              "    "
            ],
            "text/plain": [
              "<IPython.core.display.HTML object>"
            ]
          },
          "metadata": {
            "tags": []
          }
        }
      ]
    },
    {
      "metadata": {
        "id": "vTtzYNe-a-Ro",
        "colab_type": "text"
      },
      "cell_type": "markdown",
      "source": [
        "## Display the training/test loss/accuracy"
      ]
    },
    {
      "metadata": {
        "id": "kZ70napGZ-cK",
        "colab_type": "code",
        "colab": {}
      },
      "cell_type": "code",
      "source": [
        "epochs_range = range(1, epochs + 1)"
      ],
      "execution_count": 0,
      "outputs": []
    },
    {
      "metadata": {
        "id": "9aM-5qqCfnck",
        "colab_type": "code",
        "outputId": "df28a5cf-eca4-406b-ecbb-c9ee37af70de",
        "colab": {
          "base_uri": "https://localhost:8080/",
          "height": 376
        }
      },
      "cell_type": "code",
      "source": [
        "import matplotlib.pyplot as plt\n",
        "from cycler import cycler\n",
        "\n",
        "plt.rc('axes', prop_cycle=(cycler('color', ['r','g','b','y','m','c','k','w',(.5, .8, 1),(1, .5, .7)])))\n",
        "\n",
        "[p0, p1, p2, p3, p4, p5, p6, p7, p8, p9]=plt.plot(epochs_range, loss_values, 'o')\n",
        "\n",
        "plt.title('Training loss')\n",
        "plt.xlabel('Epochs')\n",
        "plt.ylabel('Training loss')\n",
        "plt.legend([p0, p1, p2, p3, p4, p5, p6, p7, p8, p9], [0,1,2,3,4,5,6,7,8,9])\n",
        "\n",
        "plt.show()"
      ],
      "execution_count": 31,
      "outputs": [
        {
          "output_type": "display_data",
          "data": {
            "image/png": "[encoded data removed]",
            "text/plain": [
              "<Figure size 576x396 with 1 Axes>"
            ]
          },
          "metadata": {
            "tags": []
          }
        }
      ]
    },
    {
      "metadata": {
        "id": "AdyXVyeLf-SV",
        "colab_type": "code",
        "outputId": "2f38e753-622c-469f-fb4c-8c9defcec533",
        "colab": {
          "base_uri": "https://localhost:8080/",
          "height": 376
        }
      },
      "cell_type": "code",
      "source": [
        "[p0, p1, p2, p3, p4, p5, p6, p7, p8, p9]=plt.plot(epochs_range, tst_loss_values, 'o')\n",
        "\n",
        "plt.title('Test loss')\n",
        "plt.xlabel('Epochs')\n",
        "plt.ylabel('Test loss')\n",
        "plt.legend([p0, p1, p2, p3, p4, p5, p6, p7, p8, p9], [0,1,2,3,4,5,6,7,8,9])\n",
        "\n",
        "plt.show()"
      ],
      "execution_count": 32,
      "outputs": [
        {
          "output_type": "display_data",
          "data": {
            "image/png": "[encoded data removed]",
            "text/plain": [
              "<Figure size 576x396 with 1 Axes>"
            ]
          },
          "metadata": {
            "tags": []
          }
        }
      ]
    },
    {
      "metadata": {
        "id": "P50X7MWyHCkI",
        "colab_type": "code",
        "outputId": "d2105203-a433-4a57-cce7-2cc0e79c1c98",
        "colab": {
          "base_uri": "https://localhost:8080/",
          "height": 376
        }
      },
      "cell_type": "code",
      "source": [
        "plt.plot(epochs_range, tr_acc, 'ro', label=\"train accuracy\")\n",
        "plt.plot(epochs_range, tst_acc, 'go', label=\"test accuracy\")\n",
        "\n",
        "\n",
        "plt.title('Training and test accuracies')\n",
        "plt.xlabel('Epochs')\n",
        "plt.ylabel('Accuracy')\n",
        "plt.legend()\n",
        "\n",
        "plt.show()\n",
        "\n",
        "# print(tr_acc)\n",
        "# print(tst_acc)"
      ],
      "execution_count": 33,
      "outputs": [
        {
          "output_type": "display_data",
          "data": {
            "image/png": "[encoded data removed]",
            "text/plain": [
              "<Figure size 576x396 with 1 Axes>"
            ]
          },
          "metadata": {
            "tags": []
          }
        }
      ]
    },
    {
      "metadata": {
        "id": "yWLl_-wh0eVo",
        "colab_type": "text"
      },
      "cell_type": "markdown",
      "source": [
        "## Exploring results"
      ]
    },
    {
      "metadata": {
        "id": "3TXjg4ofyREs",
        "colab_type": "code",
        "colab": {
          "base_uri": "https://localhost:8080/",
          "height": 35
        },
        "outputId": "a1ece618-73bd-4f9f-d4fa-cad8874164e5"
      },
      "cell_type": "code",
      "source": [
        "predicted_labels = np.argmax(tstX_b.dot(weights), axis=1) \n",
        "predicted_labels = predicted_labels.astype('uint8')\n",
        "wrong_indices = [i for i in range(10000) if predicted_labels[i] != test_labels_original[i]]\n",
        "good_indices = [i for i in range(10000) if predicted_labels[i] == test_labels_original[i]]\n",
        "1.0 - len(wrong_indices) / 10000.0"
      ],
      "execution_count": 51,
      "outputs": [
        {
          "output_type": "execute_result",
          "data": {
            "text/plain": [
              "0.914"
            ]
          },
          "metadata": {
            "tags": []
          },
          "execution_count": 51
        }
      ]
    },
    {
      "metadata": {
        "id": "H3c5wPpSzZMA",
        "colab_type": "code",
        "colab": {
          "base_uri": "https://localhost:8080/",
          "height": 365
        },
        "outputId": "6c8a1439-0333-4027-ff3a-325d66a10526"
      },
      "cell_type": "code",
      "source": [
        "# This show the ith misclassified digit. \n",
        "i = 9\n",
        "wrong_index = wrong_indices[i]  \n",
        "print(test_labels_original[wrong_index], 'is classified as', predicted_labels[wrong_index])\n",
        "plt.imshow(test_images_original[wrong_index])\n",
        "plt.grid(None)\n",
        "plt.show()"
      ],
      "execution_count": 50,
      "outputs": [
        {
          "output_type": "stream",
          "text": [
            "9 is classified as 4\n"
          ],
          "name": "stdout"
        },
        {
          "output_type": "display_data",
          "data": {
            "image/png": "[encoded data removed]",
            "text/plain": [
              "<Figure size 576x396 with 1 Axes>"
            ]
          },
          "metadata": {
            "tags": []
          }
        }
      ]
    },
    {
      "metadata": {
        "id": "eIF6ksl80LT9",
        "colab_type": "code",
        "colab": {
          "base_uri": "https://localhost:8080/",
          "height": 365
        },
        "outputId": "4322ea1a-7a4d-422d-ccfb-cf8111b46856"
      },
      "cell_type": "code",
      "source": [
        "# This show the ith correctly classified digit. \n",
        "i = 99\n",
        "index = good_indices[i]  \n",
        "print(test_labels_original[index], 'is classified as', predicted_labels[index])\n",
        "plt.imshow(test_images_original[index])\n",
        "plt.grid(None)\n",
        "plt.show()"
      ],
      "execution_count": 57,
      "outputs": [
        {
          "output_type": "stream",
          "text": [
            "4 is classified as 4\n"
          ],
          "name": "stdout"
        },
        {
          "output_type": "display_data",
          "data": {
            "image/png": "[encoded data removed]",
            "text/plain": [
              "<Figure size 576x396 with 1 Axes>"
            ]
          },
          "metadata": {
            "tags": []
          }
        }
      ]
    }
  ]
}