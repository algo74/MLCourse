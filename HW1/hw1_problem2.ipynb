{
  "nbformat": 4,
  "nbformat_minor": 0,
  "metadata": {
    "colab": {
      "name": "hw1.problem2.ipynb",
      "version": "0.3.2",
      "provenance": [],
      "collapsed_sections": [],
      "include_colab_link": true
    },
    "kernelspec": {
      "name": "python3",
      "display_name": "Python 3"
    },
    "accelerator": "GPU"
  },
  "cells": [
    {
      "cell_type": "markdown",
      "metadata": {
        "id": "view-in-github",
        "colab_type": "text"
      },
      "source": [
        "<a href=\"https://colab.research.google.com/github/algo74/MLCourse/blob/master/HW1/hw1_problem2.ipynb\" target=\"_parent\"><img src=\"https://colab.research.google.com/assets/colab-badge.svg\" alt=\"Open In Colab\"/></a>"
      ]
    },
    {
      "metadata": {
        "id": "rt44vyY1xW9b",
        "colab_type": "text"
      },
      "cell_type": "markdown",
      "source": [
        "# HW1. Problem 2. "
      ]
    },
    {
      "metadata": {
        "id": "jhNXqqXQbHfe",
        "colab_type": "text"
      },
      "cell_type": "markdown",
      "source": [
        "- Load the training and test data using Keras, no validation set needed.\n",
        "- Train 10 classifiers that perform binary classification: *Is the input image the digit i or is it a digit different from i?* Each of the ten classifiers has an input layer consisting of 28 x 28 input neurons and an output layer consisting of a single output neuron.\n",
        "- Implement mini-batch stochastic gradient descent using only numpy, that is, you are not allowed to use TensorFlow/Keras for SGD.\n",
        "- Use *`argmax`* to determine the classifier with the strongest output and declare the corresponding digit as output.\n",
        "- Use logistic regression with **binary cross entropy loss.**\n",
        "\n"
      ]
    },
    {
      "metadata": {
        "id": "dk5d_kOfhRWu",
        "colab_type": "text"
      },
      "cell_type": "markdown",
      "source": [
        "##Comments\n",
        "* The majority of the code is the same as for problem 1. Only functions ``Loss`` and `gradLoss` changed.\n",
        "* Code for loading and preparing of the data is reused from `mnist_digits_classification_dense_layers.ipynb`\n",
        "* Some other code is reused from `linear_regression_gradient_descent.ipynb`"
      ]
    },
    {
      "metadata": {
        "id": "yH1EOQd6R2uQ",
        "colab_type": "text"
      },
      "cell_type": "markdown",
      "source": [
        "## Loading the image data"
      ]
    },
    {
      "metadata": {
        "id": "FSJyddqGexl5",
        "colab_type": "code",
        "colab": {
          "base_uri": "https://localhost:8080/",
          "height": 72
        },
        "outputId": "2e54e375-a799-4fdb-fe0c-c117ee7da7d5"
      },
      "cell_type": "code",
      "source": [
        "import numpy as np\n",
        "from keras.datasets import mnist\n",
        "\n",
        "(train_images_original, train_labels_original), (test_images_original, test_labels_original) = mnist.load_data()\n",
        "\n",
        "# shape parameters\n",
        "m = 60000\n",
        "m_test = 10000"
      ],
      "execution_count": 2,
      "outputs": [
        {
          "output_type": "stream",
          "text": [
            "Using TensorFlow backend.\n"
          ],
          "name": "stderr"
        },
        {
          "output_type": "stream",
          "text": [
            "Downloading data from https://s3.amazonaws.com/img-datasets/mnist.npz\n",
            "11493376/11490434 [==============================] - 12s 1us/step\n"
          ],
          "name": "stdout"
        }
      ]
    },
    {
      "metadata": {
        "id": "91gu7qVhR6eX",
        "colab_type": "text"
      },
      "cell_type": "markdown",
      "source": [
        "## Preparing the image data"
      ]
    },
    {
      "metadata": {
        "id": "UB7_xf0hzsPx",
        "colab_type": "code",
        "colab": {}
      },
      "cell_type": "code",
      "source": [
        "train_images = train_images_original.reshape((m, 28 * 28))\n",
        "train_images = train_images.astype('float32') / 255\n",
        "\n",
        "test_images = test_images_original.reshape((m_test, 28 * 28))\n",
        "test_images = test_images.astype('float32') / 255"
      ],
      "execution_count": 0,
      "outputs": []
    },
    {
      "metadata": {
        "id": "HwRvZSOvSzXx",
        "colab_type": "text"
      },
      "cell_type": "markdown",
      "source": [
        "## Preparing the labels\n",
        "\n",
        "We need to categorically encode the labels."
      ]
    },
    {
      "metadata": {
        "id": "C1ulkKRPSgJP",
        "colab_type": "code",
        "colab": {}
      },
      "cell_type": "code",
      "source": [
        "from keras.utils import to_categorical\n",
        "\n",
        "train_labels = to_categorical(train_labels_original)\n",
        "test_labels = to_categorical(test_labels_original)"
      ],
      "execution_count": 0,
      "outputs": []
    },
    {
      "metadata": {
        "id": "yYyJQJXo1kMP",
        "colab_type": "text"
      },
      "cell_type": "markdown",
      "source": [
        "## Adding biases\n"
      ]
    },
    {
      "metadata": {
        "id": "bUPPoqhY1xtT",
        "colab_type": "code",
        "colab": {}
      },
      "cell_type": "code",
      "source": [
        "X_b = np.c_[np.ones((m,1)), train_images]\n",
        "tstX_b = np.c_[np.ones((m_test,1)), test_images]"
      ],
      "execution_count": 0,
      "outputs": []
    },
    {
      "metadata": {
        "id": "yjz0C8sU3hUf",
        "colab_type": "text"
      },
      "cell_type": "markdown",
      "source": [
        "## Display prepared data"
      ]
    },
    {
      "metadata": {
        "id": "QC46Z6Ng3RJC",
        "colab_type": "code",
        "outputId": "90680af4-4242-47b1-da34-8d44932f8c50",
        "colab": {
          "base_uri": "https://localhost:8080/",
          "height": 90
        }
      },
      "cell_type": "code",
      "source": [
        "print(X_b[0:2])\n",
        "# print(X_b[3])\n",
        "print(X_b.shape)\n",
        "print(X_b.shape[1])"
      ],
      "execution_count": 6,
      "outputs": [
        {
          "output_type": "stream",
          "text": [
            "[[1. 0. 0. ... 0. 0. 0.]\n",
            " [1. 0. 0. ... 0. 0. 0.]]\n",
            "(60000, 785)\n",
            "785\n"
          ],
          "name": "stdout"
        }
      ]
    },
    {
      "metadata": {
        "id": "8F4QAZAV4p7l",
        "colab_type": "code",
        "colab": {}
      },
      "cell_type": "code",
      "source": [
        "# help(np.random.standard_normal)"
      ],
      "execution_count": 0,
      "outputs": []
    },
    {
      "metadata": {
        "id": "ZwO_BG4Hr_ay",
        "colab_type": "text"
      },
      "cell_type": "markdown",
      "source": [
        "## Defining different helper functions unrelated to ML"
      ]
    },
    {
      "metadata": {
        "id": "A6cXGmo1sN1K",
        "colab_type": "code",
        "colab": {}
      },
      "cell_type": "code",
      "source": [
        "from IPython.display import HTML, display\n",
        "import time\n",
        "\n",
        "# https://stackoverflow.com/questions/46939393/how-do-i-use-updatable-displays-on-colab\n",
        "def progress(value, max=100):\n",
        "    return HTML(\"\"\"\n",
        "        <progress\n",
        "            value='{value}'\n",
        "            max='{max}',\n",
        "            style='width: 80%'\n",
        "        >\n",
        "            {value}\n",
        "        </progress>\n",
        "        <p>{value} of {max} complete</p>\n",
        "    \"\"\".format(value=value, max=max))"
      ],
      "execution_count": 0,
      "outputs": []
    },
    {
      "metadata": {
        "id": "36YichvkWfgL",
        "colab_type": "text"
      },
      "cell_type": "markdown",
      "source": [
        "## Defining model"
      ]
    },
    {
      "metadata": {
        "id": "t89OvT_jki4J",
        "colab_type": "text"
      },
      "cell_type": "markdown",
      "source": [
        "The model contains 10 independent binary classifiers. Yet, the weights of all classifiers are agglomerated as rows in one matrix `weights`.\n",
        "\n",
        "Similarly, the loss function accepts one `weights` matrix and returns a vector of 10 values, one for each classifier.\n",
        "\n",
        "The gradient of the loss function returns a matrix, consisting of 10 gradient vectors, one for each classifier. \n",
        "\n",
        "However, the accuracy is calculated after `argmax` is applied, so it returns a scalar.\n",
        "\n"
      ]
    },
    {
      "metadata": {
        "id": "c1RYdTtii1Hh",
        "colab_type": "code",
        "colab": {}
      },
      "cell_type": "code",
      "source": [
        "initial_weights = np.random.randn(X_b.shape[1],10)\n",
        "weights=initial_weights\n",
        "learning_rate = 0.1\n",
        "batch_size = 30"
      ],
      "execution_count": 0,
      "outputs": []
    },
    {
      "metadata": {
        "id": "J1ggKa17T2s5",
        "colab_type": "code",
        "colab": {}
      },
      "cell_type": "code",
      "source": [
        "\n",
        "# https://gist.github.com/jovianlin/805189d4b19332f8b8a79bbd07e3f598#gistcomment-2756475\n",
        "def sigmoid(x, derivative=False):\n",
        "  sigm = 1. / (1. + np.exp(-x))\n",
        "  if derivative:\n",
        "      return sigm * (1. - sigm)\n",
        "  return sigm\n",
        "  \n",
        "def calcAccuracy(real, predicted):\n",
        "  r = real.argmax(1)\n",
        "  p = predicted.argmax(1)\n",
        "  return (r == p).sum()/r.shape\n",
        "   \n",
        "def Acc(X, y, W): return calcAccuracy(y, X.dot(W))\n",
        "\n",
        "# only for debug purposes to figure out which activations are outside (0,1) \n",
        "def debugA(X, y, W, a, z):\n",
        "  m = X.shape[0]\n",
        "  problem_indexes = [i for i in range(m) if (a[i] >= 1).any() or (a[i] <= 0).any()]\n",
        "  print(len(problem_indexes))\n",
        "  for k in problem_indexes:\n",
        "    print('a: ', a[k])\n",
        "    print('z: ', z[k])\n",
        "    print('y: ', y[k])\n",
        "    #print('X: ', X[k])"
      ],
      "execution_count": 0,
      "outputs": []
    },
    {
      "metadata": {
        "id": "G3fZneuyr9NX",
        "colab_type": "text"
      },
      "cell_type": "markdown",
      "source": [
        "### Binary cross entropy loss"
      ]
    },
    {
      "metadata": {
        "id": "ACFMA3UAsJBg",
        "colab_type": "text"
      },
      "cell_type": "markdown",
      "source": [
        "Original function $- y \\log a - (1-y)\\log(1-a)$ sometimes blows out, _eg._ when $y=0$ and $a=0$. A more stable alternative is perhaps $-\\log\\bigl(a^y(1-a)^{(1-y)}\\bigr)$\n",
        "\n"
      ]
    },
    {
      "metadata": {
        "id": "jU59_NaJtqaO",
        "colab_type": "code",
        "colab": {
          "base_uri": "https://localhost:8080/",
          "height": 35
        },
        "outputId": "b6a2725b-badf-4033-f5e1-6ce9bd8037a4"
      },
      "cell_type": "code",
      "source": [
        "print(0**0)"
      ],
      "execution_count": 11,
      "outputs": [
        {
          "output_type": "stream",
          "text": [
            "1\n"
          ],
          "name": "stdout"
        }
      ]
    },
    {
      "metadata": {
        "id": "u2nEde_wtzq5",
        "colab_type": "text"
      },
      "cell_type": "markdown",
      "source": [
        "But I implemented instead $-\\log\\bigl(ya +(1-y)(1-a)\\bigr)$ which produces the same result if y can only be either 1 or 0 but could be faster"
      ]
    },
    {
      "metadata": {
        "id": "fENQgFG3r0Y1",
        "colab_type": "code",
        "colab": {}
      },
      "cell_type": "code",
      "source": [
        "# Binary Cross-Entropy loss\n",
        "# only correct if y contains only zeros and ones\n",
        "def Loss(X, y, W): \n",
        "  m = X.shape[0]\n",
        "  z = X.dot(W)  # matrix(m x 10)\n",
        "  a = sigmoid(z)\n",
        "  \n",
        "  # trouble checking\n",
        "  too_low = (a[y==1] <= 0).sum()\n",
        "  too_big = (a[y==0] >= 1).sum()\n",
        "  if too_low != 0 : \n",
        "    print(too_low, 'a\\'s is too low')\n",
        "    debugA(X, y, W, a, z)\n",
        "  if too_big != 0: \n",
        "    print(too_big, 'a\\'s is too high')\n",
        "    debugA(X, y, W, a, z)\n",
        "  #check that all y's are either zeros or ones\n",
        "  #and warn if not because our equation would be incorrect\n",
        "  not_hot_nor_cold = (y[y!=1] != 0).sum()\n",
        "  if not_hot_nor_cold != 0:\n",
        "    print(not_hot_nor_cold, 'values are neither ones nor zeros')\n",
        "    \n",
        "  # The following is only correct if y is either 0 or 1\n",
        "  # We have to do this so that we never calculate log(0)\n",
        "  # but keep calculations in matrix forms\n",
        "  pre_log = a*y + (1-a)*(1-y)\n",
        "  return -(np.log(pre_log)).sum(0)/m # vector(10)"
      ],
      "execution_count": 0,
      "outputs": []
    },
    {
      "metadata": {
        "id": "GsBcCnnbvc98",
        "colab_type": "text"
      },
      "cell_type": "markdown",
      "source": [
        "### Gradient of loss"
      ]
    },
    {
      "metadata": {
        "id": "v3VrK_jTvm_W",
        "colab_type": "text"
      },
      "cell_type": "markdown",
      "source": [
        "According to the discussion in class, it is just $a-y$."
      ]
    },
    {
      "metadata": {
        "id": "w4qDV0YQrwtb",
        "colab_type": "code",
        "colab": {}
      },
      "cell_type": "code",
      "source": [
        "def gradLoss(m, X, y, W):\n",
        "  z = X.dot(W)\n",
        "  a = sigmoid(z) # matrix(m x 10)\n",
        "  return 1/m * X.T.dot(a-y)"
      ],
      "execution_count": 0,
      "outputs": []
    },
    {
      "metadata": {
        "id": "NLRCpLUQwAi-",
        "colab_type": "text"
      },
      "cell_type": "markdown",
      "source": [
        "### Traning routines"
      ]
    },
    {
      "metadata": {
        "id": "yV4GGLjnrwF3",
        "colab_type": "code",
        "colab": {}
      },
      "cell_type": "code",
      "source": [
        "# returns new weights\n",
        "def one_epoch(X, W, y, batch_size):\n",
        "  m=X.shape[0]\n",
        "  shuffled_indices = np.random.permutation(m)\n",
        "  Xs = X[shuffled_indices]\n",
        "  ys = y[shuffled_indices]\n",
        "  Wi=W\n",
        "  for i in range(0, m, batch_size):\n",
        "    Xi = Xs[i:i+batch_size]\n",
        "    yi = ys[i:i+batch_size]\n",
        "    gradient = gradLoss(batch_size, Xi, yi, Wi)\n",
        "    Wi = Wi - learning_rate * gradient\n",
        "  return Wi\n",
        "\n",
        "\n",
        "def init_model():\n",
        "  global weights\n",
        "  global loss_values\n",
        "  global tst_loss_values\n",
        "  global tr_acc\n",
        "  global tst_acc\n",
        "  weights = initial_weights\n",
        "  loss_values=[]\n",
        "  tst_loss_values=[]\n",
        "  tr_acc=[]\n",
        "  tst_acc=[]\n",
        "\n",
        "def train(epoches):\n",
        "  global weights\n",
        "  pr_bar = display(progress(0, epoches), display_id=True)\n",
        "  for epoch in range(epoches):\n",
        "    weights = one_epoch(X_b, weights, train_labels, batch_size)\n",
        "    loss_values.append(Loss(X_b, train_labels, weights))\n",
        "    tst_loss_values.append(Loss(tstX_b, test_labels, weights))\n",
        "    tr_acc.append(Acc(X_b, train_labels, weights))\n",
        "    tst_acc.append(Acc(tstX_b, test_labels, weights))\n",
        "    pr_bar.update(progress(epoch+1, epoches))\n",
        "  "
      ],
      "execution_count": 0,
      "outputs": []
    },
    {
      "metadata": {
        "id": "3SnwsJAtZtYx",
        "colab_type": "text"
      },
      "cell_type": "markdown",
      "source": [
        "## The training step"
      ]
    },
    {
      "metadata": {
        "id": "2YuVq3JIZksS",
        "colab_type": "code",
        "outputId": "10f9b2f0-3ac5-44b9-a97e-aada28913809",
        "colab": {
          "base_uri": "https://localhost:8080/",
          "height": 64
        }
      },
      "cell_type": "code",
      "source": [
        "epochs = 50\n",
        "init_model()\n",
        "train(epochs)\n",
        "# print(loss_values)"
      ],
      "execution_count": 15,
      "outputs": [
        {
          "output_type": "display_data",
          "data": {
            "text/html": [
              "\n",
              "        <progress\n",
              "            value='50'\n",
              "            max='50',\n",
              "            style='width: 80%'\n",
              "        >\n",
              "            50\n",
              "        </progress>\n",
              "        <p>50 of 50 complete</p>\n",
              "    "
            ],
            "text/plain": [
              "<IPython.core.display.HTML object>"
            ]
          },
          "metadata": {
            "tags": []
          }
        }
      ]
    },
    {
      "metadata": {
        "id": "vTtzYNe-a-Ro",
        "colab_type": "text"
      },
      "cell_type": "markdown",
      "source": [
        "## Display the training/test loss/accuracy"
      ]
    },
    {
      "metadata": {
        "id": "kZ70napGZ-cK",
        "colab_type": "code",
        "colab": {}
      },
      "cell_type": "code",
      "source": [
        "epochs_range = range(1, epochs + 1)"
      ],
      "execution_count": 0,
      "outputs": []
    },
    {
      "metadata": {
        "id": "9aM-5qqCfnck",
        "colab_type": "code",
        "outputId": "30e91915-7b23-4806-c81c-90279f21fc7b",
        "colab": {
          "base_uri": "https://localhost:8080/",
          "height": 376
        }
      },
      "cell_type": "code",
      "source": [
        "import matplotlib.pyplot as plt\n",
        "from cycler import cycler\n",
        "\n",
        "plt.rc('axes', prop_cycle=(cycler('color', ['r','g','b','y','m','c','k','w',(.5, .8, 1),(1, .5, .7)])))\n",
        "\n",
        "[p0, p1, p2, p3, p4, p5, p6, p7, p8, p9]=plt.plot(epochs_range, loss_values, 'o')\n",
        "\n",
        "plt.title('Training loss')\n",
        "plt.xlabel('Epochs')\n",
        "plt.ylabel('Training loss')\n",
        "plt.legend([p0, p1, p2, p3, p4, p5, p6, p7, p8, p9], [0,1,2,3,4,5,6,7,8,9])\n",
        "\n",
        "plt.show()"
      ],
      "execution_count": 17,
      "outputs": [
        {
          "output_type": "display_data",
          "data": {
            "image/png": "[encoded data removed]",
            "text/plain": [
              "<Figure size 576x396 with 1 Axes>"
            ]
          },
          "metadata": {
            "tags": []
          }
        }
      ]
    },
    {
      "metadata": {
        "id": "AdyXVyeLf-SV",
        "colab_type": "code",
        "outputId": "bc94a460-144b-4313-ddac-fe915a124848",
        "colab": {
          "base_uri": "https://localhost:8080/",
          "height": 376
        }
      },
      "cell_type": "code",
      "source": [
        "[p0, p1, p2, p3, p4, p5, p6, p7, p8, p9]=plt.plot(epochs_range, tst_loss_values, 'o')\n",
        "\n",
        "plt.title('Test loss')\n",
        "plt.xlabel('Epochs')\n",
        "plt.ylabel('Test loss')\n",
        "plt.legend([p0, p1, p2, p3, p4, p5, p6, p7, p8, p9], [0,1,2,3,4,5,6,7,8,9])\n",
        "\n",
        "plt.show()"
      ],
      "execution_count": 18,
      "outputs": [
        {
          "output_type": "display_data",
          "data": {
            "image/png": "[encoded data removed]",
            "text/plain": [
              "<Figure size 576x396 with 1 Axes>"
            ]
          },
          "metadata": {
            "tags": []
          }
        }
      ]
    },
    {
      "metadata": {
        "id": "P50X7MWyHCkI",
        "colab_type": "code",
        "outputId": "dc110186-3ca7-4592-e57b-4f5972525a11",
        "colab": {
          "base_uri": "https://localhost:8080/",
          "height": 376
        }
      },
      "cell_type": "code",
      "source": [
        "plt.plot(epochs_range, tr_acc, 'ro', label=\"train accuracy\")\n",
        "plt.plot(epochs_range, tst_acc, 'go', label=\"test accuracy\")\n",
        "\n",
        "\n",
        "plt.title('Training and test accuracies')\n",
        "plt.xlabel('Epochs')\n",
        "plt.ylabel('Accuracy')\n",
        "plt.legend()\n",
        "\n",
        "plt.show()\n",
        "\n",
        "# print(tr_acc)\n",
        "# print(tst_acc)"
      ],
      "execution_count": 19,
      "outputs": [
        {
          "output_type": "display_data",
          "data": {
            "image/png": "[encoded data removed]",
            "text/plain": [
              "<Figure size 576x396 with 1 Axes>"
            ]
          },
          "metadata": {
            "tags": []
          }
        }
      ]
    },
    {
      "metadata": {
        "id": "yWLl_-wh0eVo",
        "colab_type": "text"
      },
      "cell_type": "markdown",
      "source": [
        "## Exploring results"
      ]
    },
    {
      "metadata": {
        "id": "3TXjg4ofyREs",
        "colab_type": "code",
        "outputId": "6b661145-54ef-49a0-f8b6-67d8f4975590",
        "colab": {
          "base_uri": "https://localhost:8080/",
          "height": 35
        }
      },
      "cell_type": "code",
      "source": [
        "predicted_labels = np.argmax(tstX_b.dot(weights), axis=1) \n",
        "predicted_labels = predicted_labels.astype('uint8')\n",
        "wrong_indices = [i for i in range(10000) if predicted_labels[i] != test_labels_original[i]]\n",
        "good_indices = [i for i in range(10000) if predicted_labels[i] == test_labels_original[i]]\n",
        "1.0 - len(wrong_indices) / 10000.0"
      ],
      "execution_count": 20,
      "outputs": [
        {
          "output_type": "execute_result",
          "data": {
            "text/plain": [
              "0.9175"
            ]
          },
          "metadata": {
            "tags": []
          },
          "execution_count": 20
        }
      ]
    },
    {
      "metadata": {
        "id": "H3c5wPpSzZMA",
        "colab_type": "code",
        "outputId": "51275d65-c6c5-4622-9f57-471f81c877b5",
        "colab": {
          "base_uri": "https://localhost:8080/",
          "height": 365
        }
      },
      "cell_type": "code",
      "source": [
        "# This show the ith misclassified digit. \n",
        "i = 9\n",
        "wrong_index = wrong_indices[i]  \n",
        "print(test_labels_original[wrong_index], 'is classified as', predicted_labels[wrong_index])\n",
        "plt.imshow(test_images_original[wrong_index])\n",
        "plt.grid(None)\n",
        "plt.show()"
      ],
      "execution_count": 21,
      "outputs": [
        {
          "output_type": "stream",
          "text": [
            "6 is classified as 5\n"
          ],
          "name": "stdout"
        },
        {
          "output_type": "display_data",
          "data": {
            "image/png": "[encoded data removed]",
            "text/plain": [
              "<Figure size 576x396 with 1 Axes>"
            ]
          },
          "metadata": {
            "tags": []
          }
        }
      ]
    },
    {
      "metadata": {
        "id": "eIF6ksl80LT9",
        "colab_type": "code",
        "outputId": "ecc39a21-c100-4e40-d2f1-275d76fec349",
        "colab": {
          "base_uri": "https://localhost:8080/",
          "height": 365
        }
      },
      "cell_type": "code",
      "source": [
        "# This show the ith correctly classified digit. \n",
        "i = 0\n",
        "index = good_indices[i]  \n",
        "print(test_labels_original[index], 'is classified as', predicted_labels[index])\n",
        "plt.imshow(test_images_original[index])\n",
        "plt.grid(None)\n",
        "plt.show()"
      ],
      "execution_count": 22,
      "outputs": [
        {
          "output_type": "stream",
          "text": [
            "7 is classified as 7\n"
          ],
          "name": "stdout"
        },
        {
          "output_type": "display_data",
          "data": {
            "image/png": "[encoded data removed]",
            "text/plain": [
              "<Figure size 576x396 with 1 Axes>"
            ]
          },
          "metadata": {
            "tags": []
          }
        }
      ]
    }
  ]
}