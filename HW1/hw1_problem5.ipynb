{
  "nbformat": 4,
  "nbformat_minor": 0,
  "metadata": {
    "colab": {
      "name": "hw1.problem5.ipynb",
      "version": "0.3.2",
      "provenance": [],
      "collapsed_sections": [],
      "include_colab_link": true
    },
    "kernelspec": {
      "name": "python3",
      "display_name": "Python 3"
    },
    "accelerator": "GPU"
  },
  "cells": [
    {
      "cell_type": "markdown",
      "metadata": {
        "id": "view-in-github",
        "colab_type": "text"
      },
      "source": [
        "<a href=\"https://colab.research.google.com/github/algo74/MLCourse/blob/master/HW1/hw1_problem5.ipynb\" target=\"_parent\"><img src=\"https://colab.research.google.com/assets/colab-badge.svg\" alt=\"Open In Colab\"/></a>"
      ]
    },
    {
      "metadata": {
        "id": "rt44vyY1xW9b",
        "colab_type": "text"
      },
      "cell_type": "markdown",
      "source": [
        "# HW1. Problem 5. "
      ]
    },
    {
      "metadata": {
        "id": "jhNXqqXQbHfe",
        "colab_type": "text"
      },
      "cell_type": "markdown",
      "source": [
        "Extend the network from Problem 4 by adding new features.\n",
        "\n",
        "*   Round the grey values of the images to 1 and 0 so you obtain black and white images. Add as an additional feature the number of white regions. For instance, a typical 0 has 2 white regions and 8 has 3. Use the following neighborhoods for pixels:\n",
        "\n",
        "  pixel x,y (indicated by .) is connected to its neighbors (indicated by o):\n",
        "  \n",
        "```\n",
        "   o\n",
        "  o.o  \n",
        "   o\n",
        "\n",
        "  ooo\n",
        "  o.o\n",
        "  ooo\n",
        "```\n",
        "*   Consider the width.\n",
        "*   Consider the height.\n",
        "*   Come up with other features.\n",
        "\n",
        "\n"
      ]
    },
    {
      "metadata": {
        "id": "yH1EOQd6R2uQ",
        "colab_type": "text"
      },
      "cell_type": "markdown",
      "source": [
        "## Loading the image data"
      ]
    },
    {
      "metadata": {
        "id": "FSJyddqGexl5",
        "colab_type": "code",
        "outputId": "2ceee085-d88a-423a-8cb2-7c705eddb342",
        "colab": {
          "base_uri": "https://localhost:8080/",
          "height": 35
        }
      },
      "cell_type": "code",
      "source": [
        "from keras.datasets import mnist\n",
        "import numpy as np\n",
        "\n",
        "(train_images_original, train_labels_original), (test_images_original, test_labels_original) = mnist.load_data()"
      ],
      "execution_count": 1,
      "outputs": [
        {
          "output_type": "stream",
          "text": [
            "Using TensorFlow backend.\n"
          ],
          "name": "stderr"
        }
      ]
    },
    {
      "metadata": {
        "id": "91gu7qVhR6eX",
        "colab_type": "text"
      },
      "cell_type": "markdown",
      "source": [
        "## Preparing the image data"
      ]
    },
    {
      "metadata": {
        "id": "UB7_xf0hzsPx",
        "colab_type": "code",
        "colab": {}
      },
      "cell_type": "code",
      "source": [
        "train_images = train_images_original.reshape((60000, 28 * 28))\n",
        "train_images = train_images.astype('float32') / 255\n",
        "\n",
        "test_images = test_images_original.reshape((10000, 28 * 28))\n",
        "test_images = test_images.astype('float32') / 255"
      ],
      "execution_count": 0,
      "outputs": []
    },
    {
      "metadata": {
        "id": "mz405N4WZrXx",
        "colab_type": "text"
      },
      "cell_type": "markdown",
      "source": [
        "## Adding extra features"
      ]
    },
    {
      "metadata": {
        "id": "7xnlFfYKdhcQ",
        "colab_type": "code",
        "colab": {}
      },
      "cell_type": "code",
      "source": [
        "# returns new input set with added (and normalized) feature described by 'func'\n",
        "def addFeature(func, X):\n",
        "  \n",
        "  def arr_f(arg):\n",
        "    return [func(arg)]\n",
        "  \n",
        "  new = np.apply_along_axis(arr_f, 1, X)\n",
        "  new = new / max(np.max(new), 1)\n",
        "  return np.c_[new, X]"
      ],
      "execution_count": 0,
      "outputs": []
    },
    {
      "metadata": {
        "id": "AO-WwF_6a8dU",
        "colab_type": "text"
      },
      "cell_type": "markdown",
      "source": [
        "### White region - common functions"
      ]
    },
    {
      "metadata": {
        "id": "bDmgXfBHa6iW",
        "colab_type": "code",
        "colab": {}
      },
      "cell_type": "code",
      "source": [
        "threshold = 0.6\n",
        "\n",
        "def paint (i, n, img, nbs):\n",
        "  # do nothing if out of bound or already painted\n",
        "  if not 0 <= i < n: return\n",
        "  if img[i] : return\n",
        "  # do paint\n",
        "  img[i] = True\n",
        "  for j in nbs:\n",
        "    paint(i+j, n, img, nbs)\n",
        "  \n",
        "def countRegions(img, nbs):\n",
        "  # do BW\n",
        "  img = (img > threshold)\n",
        "  n = len(img)\n",
        "  regions = 0\n",
        "  for i in range(n):\n",
        "    if not img[i] :\n",
        "      # found new region\n",
        "      regions += 1\n",
        "      # paint it\n",
        "      paint(i, n, img, nbs)\n",
        "  return regions"
      ],
      "execution_count": 0,
      "outputs": []
    },
    {
      "metadata": {
        "id": "qVHGQgPDZvTG",
        "colab_type": "text"
      },
      "cell_type": "markdown",
      "source": [
        "### White region A\n",
        "```\n",
        "   o\n",
        "  o.o  \n",
        "   o\n",
        "```"
      ]
    },
    {
      "metadata": {
        "id": "mPzpKrb0ajxG",
        "colab_type": "code",
        "colab": {
          "base_uri": "https://localhost:8080/",
          "height": 127
        },
        "outputId": "d65dc1a4-b657-480d-f466-1e16f8b06f08"
      },
      "cell_type": "code",
      "source": [
        "def addWhiteRegionsA(X):\n",
        "  nbs = [-1, -28, 1, 28]\n",
        "  def countWhiteRegionsA(img):\n",
        "    return countRegions(img, nbs)\n",
        "  \n",
        "  return addFeature(countWhiteRegionsA, X)\n",
        "  \n",
        "\n",
        "print(addWhiteRegionsA(train_images[0:50])[:,0])\n",
        "print (train_labels_original[0:50])"
      ],
      "execution_count": 5,
      "outputs": [
        {
          "output_type": "stream",
          "text": [
            "[0.25 0.5  0.25 0.25 0.5  0.5  0.25 0.25 0.25 0.25 0.25 0.25 0.25 0.5\n",
            " 0.25 0.25 0.5  0.75 0.25 0.5  0.25 0.5  0.5  0.25 0.25 0.25 0.25 0.25\n",
            " 0.25 0.25 0.5  0.75 0.25 0.5  0.5  0.25 0.5  0.5  0.25 0.5  0.25 0.75\n",
            " 0.25 0.5  0.25 0.5  1.   0.25 0.5  0.5 ]\n",
            "[5 0 4 1 9 2 1 3 1 4 3 5 3 6 1 7 2 8 6 9 4 0 9 1 1 2 4 3 2 7 3 8 6 9 0 5 6\n",
            " 0 7 6 1 8 7 9 3 9 8 5 9 3]\n"
          ],
          "name": "stdout"
        }
      ]
    },
    {
      "metadata": {
        "id": "FsLJsE6Uakdg",
        "colab_type": "text"
      },
      "cell_type": "markdown",
      "source": [
        "### White region B\n",
        "```\n",
        "  ooo\n",
        "  o.o\n",
        "  ooo\n",
        "```"
      ]
    },
    {
      "metadata": {
        "id": "L5XipIBCa2eO",
        "colab_type": "code",
        "colab": {
          "base_uri": "https://localhost:8080/",
          "height": 219
        },
        "outputId": "ad812e23-071a-47d1-a61d-a12bf0e244bf"
      },
      "cell_type": "code",
      "source": [
        "def addWhiteRegionsB(X):\n",
        "  nbs = [-29, -1, -28, -27, 1, 29, 28, 27]\n",
        "  def countWhiteRegionsB(img):\n",
        "    return countRegions(img, nbs)\n",
        "  \n",
        "  return addFeature(countWhiteRegionsB, X)\n",
        "  \n",
        "\n",
        "print(addWhiteRegionsB(train_images[0:50])[:,0])\n",
        "print (train_labels_original[0:50])"
      ],
      "execution_count": 7,
      "outputs": [
        {
          "output_type": "stream",
          "text": [
            "[0.33333333 0.66666667 0.33333333 0.33333333 0.66666667 0.66666667\n",
            " 0.33333333 0.33333333 0.33333333 0.33333333 0.33333333 0.33333333\n",
            " 0.33333333 0.66666667 0.33333333 0.33333333 0.66666667 1.\n",
            " 0.33333333 0.33333333 0.33333333 0.66666667 0.33333333 0.33333333\n",
            " 0.33333333 0.33333333 0.33333333 0.33333333 0.33333333 0.33333333\n",
            " 0.33333333 1.         0.33333333 0.66666667 0.66666667 0.33333333\n",
            " 0.66666667 0.66666667 0.33333333 0.66666667 0.33333333 0.66666667\n",
            " 0.33333333 0.66666667 0.33333333 0.66666667 0.66666667 0.33333333\n",
            " 0.33333333 0.66666667]\n",
            "[5 0 4 1 9 2 1 3 1 4 3 5 3 6 1 7 2 8 6 9 4 0 9 1 1 2 4 3 2 7 3 8 6 9 0 5 6\n",
            " 0 7 6 1 8 7 9 3 9 8 5 9 3]\n"
          ],
          "name": "stdout"
        }
      ]
    },
    {
      "metadata": {
        "id": "reBl3jSxarm0",
        "colab_type": "text"
      },
      "cell_type": "markdown",
      "source": [
        "### Width and height"
      ]
    },
    {
      "metadata": {
        "id": "65IToa2La3CA",
        "colab_type": "code",
        "colab": {
          "base_uri": "https://localhost:8080/",
          "height": 219
        },
        "outputId": "dd93d23f-266a-48fb-b188-43f1fa03b367"
      },
      "cell_type": "code",
      "source": [
        "def addW_n_H(X):\n",
        "  def W_n_H(img):\n",
        "    img = (img > threshold)\n",
        "    img = img.reshape((28,28))\n",
        "    # https://stackoverflow.com/questions/52931022/finding-height-and-width-of-an-image-using-numpy-and-pixel-locations\n",
        "    col_ind=np.where(np.any(img, axis=0))[0]\n",
        "    row_ind=np.where(np.any(img, axis=1))[0]\n",
        "    try:\n",
        "      w = col_ind[-1] - col_ind[0]\n",
        "      h = row_ind[-1] - row_ind[0]\n",
        "    except:\n",
        "      w, h = 0, 0\n",
        "    return [w, h]\n",
        "    \n",
        "  new = np.apply_along_axis(W_n_H, 1, X)\n",
        "  new = new / max(np.max(new), 1)\n",
        "  return np.c_[new, X]\n",
        "\n",
        "print(addW_n_H(train_images[0:10])[:,0:2])\n",
        "print (train_labels_original[0:10])"
      ],
      "execution_count": 8,
      "outputs": [
        {
          "output_type": "stream",
          "text": [
            "[[0.89473684 1.        ]\n",
            " [0.78947368 1.        ]\n",
            " [0.94736842 1.        ]\n",
            " [0.57894737 1.        ]\n",
            " [0.68421053 1.        ]\n",
            " [1.         0.78947368]\n",
            " [0.26315789 1.        ]\n",
            " [0.84210526 1.        ]\n",
            " [0.10526316 1.        ]\n",
            " [0.89473684 1.        ]]\n",
            "[5 0 4 1 9 2 1 3 1 4]\n"
          ],
          "name": "stdout"
        }
      ]
    },
    {
      "metadata": {
        "id": "CxfQli-Hmk7e",
        "colab_type": "text"
      },
      "cell_type": "markdown",
      "source": [
        "### Adding all 4 new features"
      ]
    },
    {
      "metadata": {
        "id": "S3mWFbUamo3Q",
        "colab_type": "code",
        "colab": {}
      },
      "cell_type": "code",
      "source": [
        "test_images = addW_n_H(test_images)"
      ],
      "execution_count": 0,
      "outputs": []
    },
    {
      "metadata": {
        "id": "PpzG8_UZm3qL",
        "colab_type": "code",
        "colab": {}
      },
      "cell_type": "code",
      "source": [
        "test_images = addWhiteRegionsA(test_images)"
      ],
      "execution_count": 0,
      "outputs": []
    },
    {
      "metadata": {
        "id": "f2uyw1E6nIQb",
        "colab_type": "code",
        "colab": {}
      },
      "cell_type": "code",
      "source": [
        "test_images = addWhiteRegionsB(test_images)"
      ],
      "execution_count": 0,
      "outputs": []
    },
    {
      "metadata": {
        "id": "0e5s8JRqnUBl",
        "colab_type": "code",
        "colab": {}
      },
      "cell_type": "code",
      "source": [
        "train_images = addW_n_H(train_images)"
      ],
      "execution_count": 0,
      "outputs": []
    },
    {
      "metadata": {
        "id": "3ZY6q8j8nZFY",
        "colab_type": "code",
        "colab": {}
      },
      "cell_type": "code",
      "source": [
        "train_images = addWhiteRegionsA(train_images)"
      ],
      "execution_count": 0,
      "outputs": []
    },
    {
      "metadata": {
        "id": "niF78xFwnfOk",
        "colab_type": "code",
        "colab": {}
      },
      "cell_type": "code",
      "source": [
        "train_images = addWhiteRegionsB(train_images)"
      ],
      "execution_count": 0,
      "outputs": []
    },
    {
      "metadata": {
        "id": "D5W3rQa1nrFZ",
        "colab_type": "code",
        "colab": {
          "base_uri": "https://localhost:8080/",
          "height": 54
        },
        "outputId": "50411e26-74af-4e04-ca35-9cf01fd726a9"
      },
      "cell_type": "code",
      "source": [
        "print(train_images.shape)\n",
        "print(test_images.shape)"
      ],
      "execution_count": 15,
      "outputs": [
        {
          "output_type": "stream",
          "text": [
            "(60000, 788)\n",
            "(10000, 788)\n"
          ],
          "name": "stdout"
        }
      ]
    },
    {
      "metadata": {
        "id": "HwRvZSOvSzXx",
        "colab_type": "text"
      },
      "cell_type": "markdown",
      "source": [
        "## Preparing the labels\n",
        "\n",
        "We need to categorically encode the labels."
      ]
    },
    {
      "metadata": {
        "id": "C1ulkKRPSgJP",
        "colab_type": "code",
        "colab": {}
      },
      "cell_type": "code",
      "source": [
        "from keras.utils import to_categorical\n",
        "\n",
        "train_labels = to_categorical(train_labels_original)\n",
        "test_labels = to_categorical(test_labels_original)"
      ],
      "execution_count": 0,
      "outputs": []
    },
    {
      "metadata": {
        "id": "36YichvkWfgL",
        "colab_type": "text"
      },
      "cell_type": "markdown",
      "source": [
        "## The network architecture"
      ]
    },
    {
      "metadata": {
        "id": "J1ggKa17T2s5",
        "colab_type": "code",
        "outputId": "dbfb16b3-5455-4a35-9b99-ee6872694d16",
        "colab": {
          "base_uri": "https://localhost:8080/",
          "height": 345
        }
      },
      "cell_type": "code",
      "source": [
        "from keras import models\n",
        "from keras import layers\n",
        "\n",
        "network = models.Sequential()\n",
        "network.add(layers.Dense(10, activation='softmax', input_shape=(train_images.shape[1],)))\n",
        "network.summary()\n",
        "\n",
        "from IPython.display import SVG\n",
        "from keras.utils.vis_utils import model_to_dot\n",
        "\n",
        "SVG(model_to_dot(network, show_shapes=True, rankdir='LR').create(prog='dot', format='svg'))\n"
      ],
      "execution_count": 17,
      "outputs": [
        {
          "output_type": "stream",
          "text": [
            "WARNING:tensorflow:From /usr/local/lib/python3.6/dist-packages/tensorflow/python/framework/op_def_library.py:263: colocate_with (from tensorflow.python.framework.ops) is deprecated and will be removed in a future version.\n",
            "Instructions for updating:\n",
            "Colocations handled automatically by placer.\n",
            "_________________________________________________________________\n",
            "Layer (type)                 Output Shape              Param #   \n",
            "=================================================================\n",
            "dense_1 (Dense)              (None, 10)                7890      \n",
            "=================================================================\n",
            "Total params: 7,890\n",
            "Trainable params: 7,890\n",
            "Non-trainable params: 0\n",
            "_________________________________________________________________\n"
          ],
          "name": "stdout"
        },
        {
          "output_type": "execute_result",
          "data": {
            "text/plain": [
              "<IPython.core.display.SVG object>"
            ],
            "image/svg+xml": "<svg height=\"78pt\" viewBox=\"0.00 0.00 340.00 78.00\" width=\"340pt\" xmlns=\"http://www.w3.org/2000/svg\" xmlns:xlink=\"http://www.w3.org/1999/xlink\">\n<g class=\"graph\" id=\"graph0\" transform=\"scale(1 1) rotate(0) translate(4 74)\">\n<title>G</title>\n<polygon fill=\"#ffffff\" points=\"-4,4 -4,-74 336,-74 336,4 -4,4\" stroke=\"transparent\"/>\n<!-- 140194436577040 -->\n<g class=\"node\" id=\"node1\">\n<title>140194436577040</title>\n<polygon fill=\"none\" points=\"165,-.5 165,-69.5 332,-69.5 332,-.5 165,-.5\" stroke=\"#000000\"/>\n<text fill=\"#000000\" font-family=\"Times,serif\" font-size=\"14.00\" text-anchor=\"middle\" x=\"248.5\" y=\"-54.3\">dense_1: Dense</text>\n<polyline fill=\"none\" points=\"165,-46.5 332,-46.5 \" stroke=\"#000000\"/>\n<text fill=\"#000000\" font-family=\"Times,serif\" font-size=\"14.00\" text-anchor=\"middle\" x=\"204.5\" y=\"-31.3\">input:</text>\n<polyline fill=\"none\" points=\"244,-23.5 244,-46.5 \" stroke=\"#000000\"/>\n<text fill=\"#000000\" font-family=\"Times,serif\" font-size=\"14.00\" text-anchor=\"middle\" x=\"288\" y=\"-31.3\">output:</text>\n<polyline fill=\"none\" points=\"165,-23.5 332,-23.5 \" stroke=\"#000000\"/>\n<text fill=\"#000000\" font-family=\"Times,serif\" font-size=\"14.00\" text-anchor=\"middle\" x=\"208.5\" y=\"-8.3\">(None, 788)</text>\n<polyline fill=\"none\" points=\"252,-.5 252,-23.5 \" stroke=\"#000000\"/>\n<text fill=\"#000000\" font-family=\"Times,serif\" font-size=\"14.00\" text-anchor=\"middle\" x=\"292\" y=\"-8.3\">(None, 10)</text>\n</g>\n<!-- 140194436730384 -->\n<g class=\"node\" id=\"node2\">\n<title>140194436730384</title>\n<polygon fill=\"none\" points=\"0,-17 0,-53 129,-53 129,-17 0,-17\" stroke=\"#000000\"/>\n<text fill=\"#000000\" font-family=\"Times,serif\" font-size=\"14.00\" text-anchor=\"middle\" x=\"64.5\" y=\"-31.3\">140194436730384</text>\n</g>\n<!-- 140194436730384&#45;&gt;140194436577040 -->\n<g class=\"edge\" id=\"edge1\">\n<title>140194436730384-&gt;140194436577040</title>\n<path d=\"M129.1128,-35C137.4486,-35 146.1144,-35 154.8005,-35\" fill=\"none\" stroke=\"#000000\"/>\n<polygon fill=\"#000000\" points=\"154.9879,-38.5001 164.9879,-35 154.9879,-31.5001 154.9879,-38.5001\" stroke=\"#000000\"/>\n</g>\n</g>\n</svg>"
          },
          "metadata": {
            "tags": []
          },
          "execution_count": 17
        }
      ]
    },
    {
      "metadata": {
        "id": "8H6VF7ZIY6Oy",
        "colab_type": "text"
      },
      "cell_type": "markdown",
      "source": [
        "## The compilation step"
      ]
    },
    {
      "metadata": {
        "id": "mHp0sz7cYPsK",
        "colab_type": "code",
        "colab": {}
      },
      "cell_type": "code",
      "source": [
        "network.compile(optimizer='sgd',\n",
        "                loss='categorical_crossentropy',\n",
        "                metrics=['accuracy'])\n",
        "\n"
      ],
      "execution_count": 0,
      "outputs": []
    },
    {
      "metadata": {
        "id": "3SnwsJAtZtYx",
        "colab_type": "text"
      },
      "cell_type": "markdown",
      "source": [
        "## The training step"
      ]
    },
    {
      "metadata": {
        "id": "2YuVq3JIZksS",
        "colab_type": "code",
        "outputId": "da301ae5-2492-4c60-8abd-2b7168e5542f",
        "colab": {
          "base_uri": "https://localhost:8080/",
          "height": 1927
        }
      },
      "cell_type": "code",
      "source": [
        "epochs = 50\n",
        "history = network.fit(train_images, \n",
        "                      train_labels, \n",
        "                      epochs=epochs, \n",
        "                      batch_size=128, \n",
        "                      validation_data=(test_images, test_labels))"
      ],
      "execution_count": 19,
      "outputs": [
        {
          "output_type": "stream",
          "text": [
            "WARNING:tensorflow:From /usr/local/lib/python3.6/dist-packages/tensorflow/python/ops/math_ops.py:3066: to_int32 (from tensorflow.python.ops.math_ops) is deprecated and will be removed in a future version.\n",
            "Instructions for updating:\n",
            "Use tf.cast instead.\n",
            "Train on 60000 samples, validate on 10000 samples\n",
            "Epoch 1/50\n",
            "60000/60000 [==============================] - 3s 46us/step - loss: 1.2496 - acc: 0.7240 - val_loss: 0.7956 - val_acc: 0.8436\n",
            "Epoch 2/50\n",
            "60000/60000 [==============================] - 2s 35us/step - loss: 0.7055 - acc: 0.8454 - val_loss: 0.5966 - val_acc: 0.8665\n",
            "Epoch 3/50\n",
            "60000/60000 [==============================] - 2s 34us/step - loss: 0.5786 - acc: 0.8634 - val_loss: 0.5158 - val_acc: 0.8789\n",
            "Epoch 4/50\n",
            "60000/60000 [==============================] - 2s 33us/step - loss: 0.5172 - acc: 0.8728 - val_loss: 0.4705 - val_acc: 0.8853\n",
            "Epoch 5/50\n",
            "60000/60000 [==============================] - 2s 34us/step - loss: 0.4795 - acc: 0.8792 - val_loss: 0.4403 - val_acc: 0.8897\n",
            "Epoch 6/50\n",
            "60000/60000 [==============================] - 2s 33us/step - loss: 0.4534 - acc: 0.8836 - val_loss: 0.4187 - val_acc: 0.8924\n",
            "Epoch 7/50\n",
            "60000/60000 [==============================] - 2s 33us/step - loss: 0.4339 - acc: 0.8871 - val_loss: 0.4025 - val_acc: 0.8953\n",
            "Epoch 8/50\n",
            "60000/60000 [==============================] - 2s 33us/step - loss: 0.4187 - acc: 0.8901 - val_loss: 0.3896 - val_acc: 0.8978\n",
            "Epoch 9/50\n",
            "60000/60000 [==============================] - 2s 33us/step - loss: 0.4064 - acc: 0.8929 - val_loss: 0.3786 - val_acc: 0.9009\n",
            "Epoch 10/50\n",
            "60000/60000 [==============================] - 2s 33us/step - loss: 0.3962 - acc: 0.8947 - val_loss: 0.3698 - val_acc: 0.9027\n",
            "Epoch 11/50\n",
            "60000/60000 [==============================] - 2s 33us/step - loss: 0.3874 - acc: 0.8965 - val_loss: 0.3622 - val_acc: 0.9035\n",
            "Epoch 12/50\n",
            "60000/60000 [==============================] - 2s 34us/step - loss: 0.3798 - acc: 0.8981 - val_loss: 0.3557 - val_acc: 0.9056\n",
            "Epoch 13/50\n",
            "60000/60000 [==============================] - 2s 33us/step - loss: 0.3732 - acc: 0.8995 - val_loss: 0.3496 - val_acc: 0.9062\n",
            "Epoch 14/50\n",
            "60000/60000 [==============================] - 2s 33us/step - loss: 0.3673 - acc: 0.9009 - val_loss: 0.3444 - val_acc: 0.9080\n",
            "Epoch 15/50\n",
            "60000/60000 [==============================] - 2s 33us/step - loss: 0.3620 - acc: 0.9022 - val_loss: 0.3402 - val_acc: 0.9088\n",
            "Epoch 16/50\n",
            "60000/60000 [==============================] - 2s 33us/step - loss: 0.3572 - acc: 0.9027 - val_loss: 0.3357 - val_acc: 0.9106\n",
            "Epoch 17/50\n",
            "60000/60000 [==============================] - 2s 33us/step - loss: 0.3529 - acc: 0.9042 - val_loss: 0.3316 - val_acc: 0.9109\n",
            "Epoch 18/50\n",
            "60000/60000 [==============================] - 2s 33us/step - loss: 0.3490 - acc: 0.9050 - val_loss: 0.3285 - val_acc: 0.9121\n",
            "Epoch 19/50\n",
            "60000/60000 [==============================] - 2s 33us/step - loss: 0.3453 - acc: 0.9056 - val_loss: 0.3254 - val_acc: 0.9129\n",
            "Epoch 20/50\n",
            "60000/60000 [==============================] - 2s 33us/step - loss: 0.3419 - acc: 0.9062 - val_loss: 0.3225 - val_acc: 0.9134\n",
            "Epoch 21/50\n",
            "60000/60000 [==============================] - 2s 33us/step - loss: 0.3388 - acc: 0.9068 - val_loss: 0.3196 - val_acc: 0.9141\n",
            "Epoch 22/50\n",
            "60000/60000 [==============================] - 2s 34us/step - loss: 0.3359 - acc: 0.9074 - val_loss: 0.3170 - val_acc: 0.9153\n",
            "Epoch 23/50\n",
            "60000/60000 [==============================] - 2s 33us/step - loss: 0.3331 - acc: 0.9085 - val_loss: 0.3145 - val_acc: 0.9158\n",
            "Epoch 24/50\n",
            "60000/60000 [==============================] - 2s 33us/step - loss: 0.3305 - acc: 0.9089 - val_loss: 0.3123 - val_acc: 0.9156\n",
            "Epoch 25/50\n",
            "60000/60000 [==============================] - 2s 34us/step - loss: 0.3281 - acc: 0.9098 - val_loss: 0.3103 - val_acc: 0.9168\n",
            "Epoch 26/50\n",
            "60000/60000 [==============================] - 2s 33us/step - loss: 0.3258 - acc: 0.9105 - val_loss: 0.3083 - val_acc: 0.9177\n",
            "Epoch 27/50\n",
            "60000/60000 [==============================] - 2s 33us/step - loss: 0.3237 - acc: 0.9108 - val_loss: 0.3065 - val_acc: 0.9176\n",
            "Epoch 28/50\n",
            "60000/60000 [==============================] - 2s 33us/step - loss: 0.3216 - acc: 0.9114 - val_loss: 0.3048 - val_acc: 0.9175\n",
            "Epoch 29/50\n",
            "60000/60000 [==============================] - 2s 33us/step - loss: 0.3196 - acc: 0.9120 - val_loss: 0.3036 - val_acc: 0.9194\n",
            "Epoch 30/50\n",
            "60000/60000 [==============================] - 2s 33us/step - loss: 0.3178 - acc: 0.9126 - val_loss: 0.3014 - val_acc: 0.9192\n",
            "Epoch 31/50\n",
            "60000/60000 [==============================] - 2s 33us/step - loss: 0.3160 - acc: 0.9128 - val_loss: 0.3004 - val_acc: 0.9194\n",
            "Epoch 32/50\n",
            "60000/60000 [==============================] - 2s 33us/step - loss: 0.3144 - acc: 0.9132 - val_loss: 0.2987 - val_acc: 0.9202\n",
            "Epoch 33/50\n",
            "60000/60000 [==============================] - 2s 33us/step - loss: 0.3127 - acc: 0.9136 - val_loss: 0.2976 - val_acc: 0.9203\n",
            "Epoch 34/50\n",
            "60000/60000 [==============================] - 2s 34us/step - loss: 0.3112 - acc: 0.9141 - val_loss: 0.2956 - val_acc: 0.9205\n",
            "Epoch 35/50\n",
            "60000/60000 [==============================] - 2s 34us/step - loss: 0.3097 - acc: 0.9144 - val_loss: 0.2944 - val_acc: 0.9205\n",
            "Epoch 36/50\n",
            "60000/60000 [==============================] - 2s 33us/step - loss: 0.3083 - acc: 0.9144 - val_loss: 0.2934 - val_acc: 0.9211\n",
            "Epoch 37/50\n",
            "60000/60000 [==============================] - 2s 34us/step - loss: 0.3068 - acc: 0.9153 - val_loss: 0.2928 - val_acc: 0.9208\n",
            "Epoch 38/50\n",
            "60000/60000 [==============================] - 2s 33us/step - loss: 0.3055 - acc: 0.9156 - val_loss: 0.2910 - val_acc: 0.9218\n",
            "Epoch 39/50\n",
            "60000/60000 [==============================] - 2s 33us/step - loss: 0.3042 - acc: 0.9160 - val_loss: 0.2900 - val_acc: 0.9215\n",
            "Epoch 40/50\n",
            "60000/60000 [==============================] - 2s 33us/step - loss: 0.3030 - acc: 0.9161 - val_loss: 0.2889 - val_acc: 0.9217\n",
            "Epoch 41/50\n",
            "60000/60000 [==============================] - 2s 33us/step - loss: 0.3018 - acc: 0.9166 - val_loss: 0.2880 - val_acc: 0.9219\n",
            "Epoch 42/50\n",
            "60000/60000 [==============================] - 2s 33us/step - loss: 0.3006 - acc: 0.9167 - val_loss: 0.2873 - val_acc: 0.9220\n",
            "Epoch 43/50\n",
            "60000/60000 [==============================] - 2s 33us/step - loss: 0.2995 - acc: 0.9171 - val_loss: 0.2866 - val_acc: 0.9229\n",
            "Epoch 44/50\n",
            "60000/60000 [==============================] - 2s 33us/step - loss: 0.2984 - acc: 0.9173 - val_loss: 0.2853 - val_acc: 0.9218\n",
            "Epoch 45/50\n",
            "60000/60000 [==============================] - 2s 33us/step - loss: 0.2974 - acc: 0.9174 - val_loss: 0.2842 - val_acc: 0.9228\n",
            "Epoch 46/50\n",
            "60000/60000 [==============================] - 2s 33us/step - loss: 0.2963 - acc: 0.9178 - val_loss: 0.2834 - val_acc: 0.9229\n",
            "Epoch 47/50\n",
            "60000/60000 [==============================] - 2s 33us/step - loss: 0.2953 - acc: 0.9180 - val_loss: 0.2826 - val_acc: 0.9235\n",
            "Epoch 48/50\n",
            "60000/60000 [==============================] - 2s 33us/step - loss: 0.2944 - acc: 0.9184 - val_loss: 0.2818 - val_acc: 0.9226\n",
            "Epoch 49/50\n",
            "60000/60000 [==============================] - 2s 33us/step - loss: 0.2934 - acc: 0.9188 - val_loss: 0.2810 - val_acc: 0.9232\n",
            "Epoch 50/50\n",
            "60000/60000 [==============================] - 2s 33us/step - loss: 0.2925 - acc: 0.9186 - val_loss: 0.2807 - val_acc: 0.9232\n"
          ],
          "name": "stdout"
        }
      ]
    },
    {
      "metadata": {
        "id": "vTtzYNe-a-Ro",
        "colab_type": "text"
      },
      "cell_type": "markdown",
      "source": [
        "## Display the training/test loss/accuracy"
      ]
    },
    {
      "metadata": {
        "id": "kZ70napGZ-cK",
        "colab_type": "code",
        "colab": {}
      },
      "cell_type": "code",
      "source": [
        "history_dict = history.history\n",
        "loss_values = history_dict['loss']\n",
        "test_loss_values = history_dict['val_loss']\n",
        "epochs_range = range(1, epochs + 1)"
      ],
      "execution_count": 0,
      "outputs": []
    },
    {
      "metadata": {
        "id": "9aM-5qqCfnck",
        "colab_type": "code",
        "outputId": "e63926a4-ffbb-4951-ab26-a16340b87572",
        "colab": {
          "base_uri": "https://localhost:8080/",
          "height": 376
        }
      },
      "cell_type": "code",
      "source": [
        "import matplotlib.pyplot as plt\n",
        "\n",
        "plt.plot(epochs_range, loss_values, 'bo', label='Training loss')\n",
        "plt.plot(epochs_range, test_loss_values, 'ro', label='Test loss')\n",
        "plt.title('Training and test loss')\n",
        "plt.xlabel('Epochs')\n",
        "plt.ylabel('Loss')\n",
        "plt.legend()\n",
        "plt.show()"
      ],
      "execution_count": 21,
      "outputs": [
        {
          "output_type": "display_data",
          "data": {
            "image/png": "[encoded data removed]",
            "text/plain": [
              "<Figure size 576x396 with 1 Axes>"
            ]
          },
          "metadata": {
            "tags": []
          }
        }
      ]
    },
    {
      "metadata": {
        "id": "-IB2uFCzez-e",
        "colab_type": "code",
        "colab": {}
      },
      "cell_type": "code",
      "source": [
        "acc_values = history_dict['acc']\n",
        "test_acc_values = history_dict['val_acc']"
      ],
      "execution_count": 0,
      "outputs": []
    },
    {
      "metadata": {
        "id": "AdyXVyeLf-SV",
        "colab_type": "code",
        "outputId": "de4ec8f5-6ad9-4ab3-dc9b-57cddbc0fdb3",
        "colab": {
          "base_uri": "https://localhost:8080/",
          "height": 376
        }
      },
      "cell_type": "code",
      "source": [
        "plt.plot(epochs_range, acc_values, 'bo', label='Training accuracy')\n",
        "plt.plot(epochs_range, test_acc_values, 'ro', label='Test accuracy')\n",
        "plt.title('Training and test accuracy')\n",
        "plt.xlabel('Epochs')\n",
        "plt.ylabel('Accuracy')\n",
        "plt.legend()\n",
        "plt.show()"
      ],
      "execution_count": 23,
      "outputs": [
        {
          "output_type": "display_data",
          "data": {
            "image/png": "[encoded data removed]",
            "text/plain": [
              "<Figure size 576x396 with 1 Axes>"
            ]
          },
          "metadata": {
            "tags": []
          }
        }
      ]
    }
  ]
}