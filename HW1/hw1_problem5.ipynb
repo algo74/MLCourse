{
  "nbformat": 4,
  "nbformat_minor": 0,
  "metadata": {
    "colab": {
      "name": "hw1.problem5.ipynb",
      "version": "0.3.2",
      "provenance": [],
      "collapsed_sections": [],
      "include_colab_link": true
    },
    "kernelspec": {
      "name": "python3",
      "display_name": "Python 3"
    },
    "accelerator": "GPU"
  },
  "cells": [
    {
      "cell_type": "markdown",
      "metadata": {
        "id": "view-in-github",
        "colab_type": "text"
      },
      "source": [
        "<a href=\"https://colab.research.google.com/github/algo74/MLCourse/blob/master/HW1/hw1_problem5.ipynb\" target=\"_parent\"><img src=\"https://colab.research.google.com/assets/colab-badge.svg\" alt=\"Open In Colab\"/></a>"
      ]
    },
    {
      "metadata": {
        "id": "rt44vyY1xW9b",
        "colab_type": "text"
      },
      "cell_type": "markdown",
      "source": [
        "# HW1. Problem 5. "
      ]
    },
    {
      "metadata": {
        "id": "jhNXqqXQbHfe",
        "colab_type": "text"
      },
      "cell_type": "markdown",
      "source": [
        "Extend the network from Problem 4 by adding new features.\n",
        "\n",
        "*   Round the grey values of the images to 1 and 0 so you obtain black and white images. Add as an additional feature the number of white regions. For instance, a typical 0 has 2 white regions and 8 has 3. Use the following neighborhoods for pixels:\n",
        "\n",
        "  pixel x,y (indicated by .) is connected to its neighbors (indicated by o):\n",
        "  \n",
        "```\n",
        "   o\n",
        "  o.o  \n",
        "   o\n",
        "\n",
        "  ooo\n",
        "  o.o\n",
        "  ooo\n",
        "```\n",
        "*   Consider the width.\n",
        "*   Consider the height.\n",
        "*   Come up with other features.\n",
        "\n",
        "\n"
      ]
    },
    {
      "metadata": {
        "id": "yH1EOQd6R2uQ",
        "colab_type": "text"
      },
      "cell_type": "markdown",
      "source": [
        "## Loading the image data"
      ]
    },
    {
      "metadata": {
        "id": "FSJyddqGexl5",
        "colab_type": "code",
        "outputId": "19320c8d-41e5-47ea-e9f7-6e0b52a7e584",
        "colab": {
          "base_uri": "https://localhost:8080/",
          "height": 35
        }
      },
      "cell_type": "code",
      "source": [
        "from keras.datasets import mnist\n",
        "import numpy as np\n",
        "\n",
        "(train_images_original, train_labels_original), (test_images_original, test_labels_original) = mnist.load_data()"
      ],
      "execution_count": 1,
      "outputs": [
        {
          "output_type": "stream",
          "text": [
            "Using TensorFlow backend.\n"
          ],
          "name": "stderr"
        }
      ]
    },
    {
      "metadata": {
        "id": "91gu7qVhR6eX",
        "colab_type": "text"
      },
      "cell_type": "markdown",
      "source": [
        "## Preparing the image data"
      ]
    },
    {
      "metadata": {
        "id": "UB7_xf0hzsPx",
        "colab_type": "code",
        "colab": {}
      },
      "cell_type": "code",
      "source": [
        "train_images = train_images_original.reshape((60000, 28 * 28))\n",
        "train_images = train_images.astype('float32') / 255\n",
        "\n",
        "test_images = test_images_original.reshape((10000, 28 * 28))\n",
        "test_images = test_images.astype('float32') / 255\n",
        "\n",
        "orig_tr_im = train_images\n",
        "orig_tst_im = test_images"
      ],
      "execution_count": 0,
      "outputs": []
    },
    {
      "metadata": {
        "id": "mz405N4WZrXx",
        "colab_type": "text"
      },
      "cell_type": "markdown",
      "source": [
        "## Adding extra features"
      ]
    },
    {
      "metadata": {
        "id": "7xnlFfYKdhcQ",
        "colab_type": "code",
        "colab": {}
      },
      "cell_type": "code",
      "source": [
        "# returns new input set with added (and normalized) feature described by 'func'\n",
        "def makeFeature(func, X):\n",
        "  \n",
        "  def arr_f(arg):\n",
        "    return [func(arg)]\n",
        "  \n",
        "  new = np.apply_along_axis(arr_f, 1, X)\n",
        "  new = new / max(np.max(new), 1)\n",
        "  return new"
      ],
      "execution_count": 0,
      "outputs": []
    },
    {
      "metadata": {
        "id": "AO-WwF_6a8dU",
        "colab_type": "text"
      },
      "cell_type": "markdown",
      "source": [
        "### White region - common functions"
      ]
    },
    {
      "metadata": {
        "id": "bDmgXfBHa6iW",
        "colab_type": "code",
        "colab": {}
      },
      "cell_type": "code",
      "source": [
        "threshold = 0.6\n",
        "\n",
        "def paint (i, n, img, nbs):\n",
        "  # do nothing if out of bound or already painted\n",
        "  if not 0 <= i < n: return\n",
        "  if img[i] : return\n",
        "  # do paint\n",
        "  img[i] = True\n",
        "  for j in nbs:\n",
        "    paint(i+j, n, img, nbs)\n",
        "  \n",
        "def countRegions(img, nbs):\n",
        "  # do BW\n",
        "  img = (img > threshold)\n",
        "  n = len(img)\n",
        "  regions = 0\n",
        "  for i in range(n):\n",
        "    if not img[i] :\n",
        "      # found new region\n",
        "      regions += 1\n",
        "      # paint it\n",
        "      paint(i, n, img, nbs)\n",
        "  return regions"
      ],
      "execution_count": 0,
      "outputs": []
    },
    {
      "metadata": {
        "id": "qVHGQgPDZvTG",
        "colab_type": "text"
      },
      "cell_type": "markdown",
      "source": [
        "### White region A\n",
        "```\n",
        "   o\n",
        "  o.o  \n",
        "   o\n",
        "```"
      ]
    },
    {
      "metadata": {
        "id": "mPzpKrb0ajxG",
        "colab_type": "code",
        "outputId": "b89114f1-3d8d-4c0d-feb0-447e47269a53",
        "colab": {
          "base_uri": "https://localhost:8080/",
          "height": 127
        }
      },
      "cell_type": "code",
      "source": [
        "def makeWhiteRegionsA(X):\n",
        "  nbs = [-1, -28, 1, 28]\n",
        "  def countWhiteRegionsA(img):\n",
        "    return countRegions(img, nbs)\n",
        "  \n",
        "  return makeFeature(countWhiteRegionsA, X)\n",
        "  \n",
        "\n",
        "print(makeWhiteRegionsA(train_images[0:50])[:,0])\n",
        "print (train_labels_original[0:50])"
      ],
      "execution_count": 5,
      "outputs": [
        {
          "output_type": "stream",
          "text": [
            "[0.25 0.5  0.25 0.25 0.5  0.5  0.25 0.25 0.25 0.25 0.25 0.25 0.25 0.5\n",
            " 0.25 0.25 0.5  0.75 0.25 0.5  0.25 0.5  0.5  0.25 0.25 0.25 0.25 0.25\n",
            " 0.25 0.25 0.5  0.75 0.25 0.5  0.5  0.25 0.5  0.5  0.25 0.5  0.25 0.75\n",
            " 0.25 0.5  0.25 0.5  1.   0.25 0.5  0.5 ]\n",
            "[5 0 4 1 9 2 1 3 1 4 3 5 3 6 1 7 2 8 6 9 4 0 9 1 1 2 4 3 2 7 3 8 6 9 0 5 6\n",
            " 0 7 6 1 8 7 9 3 9 8 5 9 3]\n"
          ],
          "name": "stdout"
        }
      ]
    },
    {
      "metadata": {
        "id": "FsLJsE6Uakdg",
        "colab_type": "text"
      },
      "cell_type": "markdown",
      "source": [
        "### White region B\n",
        "```\n",
        "  ooo\n",
        "  o.o\n",
        "  ooo\n",
        "```"
      ]
    },
    {
      "metadata": {
        "id": "L5XipIBCa2eO",
        "colab_type": "code",
        "outputId": "6f1c6fd4-3a70-4cd5-949f-1ec3e0f910b3",
        "colab": {
          "base_uri": "https://localhost:8080/",
          "height": 219
        }
      },
      "cell_type": "code",
      "source": [
        "def makeWhiteRegionsB(X):\n",
        "  nbs = [-29, -1, -28, -27, 1, 29, 28, 27]\n",
        "  def countWhiteRegionsB(img):\n",
        "    return countRegions(img, nbs)\n",
        "  \n",
        "  return makeFeature(countWhiteRegionsB, X)\n",
        "  \n",
        "\n",
        "print(makeWhiteRegionsB(train_images[0:50])[:,0])\n",
        "print (train_labels_original[0:50])"
      ],
      "execution_count": 6,
      "outputs": [
        {
          "output_type": "stream",
          "text": [
            "[0.33333333 0.66666667 0.33333333 0.33333333 0.66666667 0.66666667\n",
            " 0.33333333 0.33333333 0.33333333 0.33333333 0.33333333 0.33333333\n",
            " 0.33333333 0.66666667 0.33333333 0.33333333 0.66666667 1.\n",
            " 0.33333333 0.33333333 0.33333333 0.66666667 0.33333333 0.33333333\n",
            " 0.33333333 0.33333333 0.33333333 0.33333333 0.33333333 0.33333333\n",
            " 0.33333333 1.         0.33333333 0.66666667 0.66666667 0.33333333\n",
            " 0.66666667 0.66666667 0.33333333 0.66666667 0.33333333 0.66666667\n",
            " 0.33333333 0.66666667 0.33333333 0.66666667 0.66666667 0.33333333\n",
            " 0.33333333 0.66666667]\n",
            "[5 0 4 1 9 2 1 3 1 4 3 5 3 6 1 7 2 8 6 9 4 0 9 1 1 2 4 3 2 7 3 8 6 9 0 5 6\n",
            " 0 7 6 1 8 7 9 3 9 8 5 9 3]\n"
          ],
          "name": "stdout"
        }
      ]
    },
    {
      "metadata": {
        "id": "reBl3jSxarm0",
        "colab_type": "text"
      },
      "cell_type": "markdown",
      "source": [
        "### Width and height"
      ]
    },
    {
      "metadata": {
        "id": "65IToa2La3CA",
        "colab_type": "code",
        "outputId": "acf6f595-677e-4420-9958-02cc3b593e88",
        "colab": {
          "base_uri": "https://localhost:8080/",
          "height": 219
        }
      },
      "cell_type": "code",
      "source": [
        "def addW_n_H(X):\n",
        "  def W_n_H(img):\n",
        "    img = (img > threshold)\n",
        "    img = img.reshape((28,28))\n",
        "    # https://stackoverflow.com/questions/52931022/finding-height-and-width-of-an-image-using-numpy-and-pixel-locations\n",
        "    col_ind=np.where(np.any(img, axis=0))[0]\n",
        "    row_ind=np.where(np.any(img, axis=1))[0]\n",
        "    try:\n",
        "      w = col_ind[-1] - col_ind[0]\n",
        "      h = row_ind[-1] - row_ind[0]\n",
        "    except:\n",
        "      w, h = 0, 0\n",
        "    return [w, h]\n",
        "    \n",
        "  new = np.apply_along_axis(W_n_H, 1, X)\n",
        "  new = new / max(np.max(new), 1)\n",
        "  return np.c_[new, X]\n",
        "\n",
        "print(addW_n_H(train_images[0:10])[:,0:2])\n",
        "print (train_labels_original[0:10])"
      ],
      "execution_count": 7,
      "outputs": [
        {
          "output_type": "stream",
          "text": [
            "[[0.89473684 1.        ]\n",
            " [0.78947368 1.        ]\n",
            " [0.94736842 1.        ]\n",
            " [0.57894737 1.        ]\n",
            " [0.68421053 1.        ]\n",
            " [1.         0.78947368]\n",
            " [0.26315789 1.        ]\n",
            " [0.84210526 1.        ]\n",
            " [0.10526316 1.        ]\n",
            " [0.89473684 1.        ]]\n",
            "[5 0 4 1 9 2 1 3 1 4]\n"
          ],
          "name": "stdout"
        }
      ]
    },
    {
      "metadata": {
        "id": "CxfQli-Hmk7e",
        "colab_type": "text"
      },
      "cell_type": "markdown",
      "source": [
        "### Adding all 4 new features"
      ]
    },
    {
      "metadata": {
        "id": "S3mWFbUamo3Q",
        "colab_type": "code",
        "colab": {}
      },
      "cell_type": "code",
      "source": [
        "new_test_images = addW_n_H(test_images)"
      ],
      "execution_count": 0,
      "outputs": []
    },
    {
      "metadata": {
        "id": "PpzG8_UZm3qL",
        "colab_type": "code",
        "colab": {}
      },
      "cell_type": "code",
      "source": [
        "wra = makeWhiteRegionsA(test_images)"
      ],
      "execution_count": 0,
      "outputs": []
    },
    {
      "metadata": {
        "id": "f2uyw1E6nIQb",
        "colab_type": "code",
        "colab": {}
      },
      "cell_type": "code",
      "source": [
        "wrb = makeWhiteRegionsB(test_images)"
      ],
      "execution_count": 0,
      "outputs": []
    },
    {
      "metadata": {
        "id": "UiDRw-jC1pnr",
        "colab_type": "code",
        "colab": {}
      },
      "cell_type": "code",
      "source": [
        "test_images=np.c_[wra, wrb, new_test_images]"
      ],
      "execution_count": 0,
      "outputs": []
    },
    {
      "metadata": {
        "id": "0e5s8JRqnUBl",
        "colab_type": "code",
        "colab": {}
      },
      "cell_type": "code",
      "source": [
        "new_train_images = addW_n_H(train_images)"
      ],
      "execution_count": 0,
      "outputs": []
    },
    {
      "metadata": {
        "id": "3ZY6q8j8nZFY",
        "colab_type": "code",
        "colab": {}
      },
      "cell_type": "code",
      "source": [
        "wra = makeWhiteRegionsA(train_images)"
      ],
      "execution_count": 0,
      "outputs": []
    },
    {
      "metadata": {
        "id": "niF78xFwnfOk",
        "colab_type": "code",
        "colab": {}
      },
      "cell_type": "code",
      "source": [
        "wrb = makeWhiteRegionsB(train_images)"
      ],
      "execution_count": 0,
      "outputs": []
    },
    {
      "metadata": {
        "colab_type": "code",
        "id": "YqYWsY9L18Xr",
        "colab": {}
      },
      "cell_type": "code",
      "source": [
        "train_images=np.c_[wra, wrb, new_train_images]"
      ],
      "execution_count": 0,
      "outputs": []
    },
    {
      "metadata": {
        "id": "D5W3rQa1nrFZ",
        "colab_type": "code",
        "outputId": "60c373dc-587c-4258-9287-49fd2eb3e7b4",
        "colab": {
          "base_uri": "https://localhost:8080/",
          "height": 54
        }
      },
      "cell_type": "code",
      "source": [
        "print(train_images.shape)\n",
        "print(test_images.shape)"
      ],
      "execution_count": 16,
      "outputs": [
        {
          "output_type": "stream",
          "text": [
            "(60000, 788)\n",
            "(10000, 788)\n"
          ],
          "name": "stdout"
        }
      ]
    },
    {
      "metadata": {
        "id": "HwRvZSOvSzXx",
        "colab_type": "text"
      },
      "cell_type": "markdown",
      "source": [
        "## Preparing the labels\n",
        "\n",
        "We need to categorically encode the labels."
      ]
    },
    {
      "metadata": {
        "id": "C1ulkKRPSgJP",
        "colab_type": "code",
        "colab": {}
      },
      "cell_type": "code",
      "source": [
        "from keras.utils import to_categorical\n",
        "\n",
        "train_labels = to_categorical(train_labels_original)\n",
        "test_labels = to_categorical(test_labels_original)"
      ],
      "execution_count": 0,
      "outputs": []
    },
    {
      "metadata": {
        "id": "36YichvkWfgL",
        "colab_type": "text"
      },
      "cell_type": "markdown",
      "source": [
        "## The network architecture"
      ]
    },
    {
      "metadata": {
        "id": "J1ggKa17T2s5",
        "colab_type": "code",
        "outputId": "b3503493-27f3-4583-9234-e22935897415",
        "colab": {
          "base_uri": "https://localhost:8080/",
          "height": 345
        }
      },
      "cell_type": "code",
      "source": [
        "from keras import models\n",
        "from keras import layers\n",
        "\n",
        "network = models.Sequential()\n",
        "network.add(layers.Dense(10, activation='softmax', input_shape=(train_images.shape[1],)))\n",
        "network.summary()\n",
        "\n",
        "from IPython.display import SVG\n",
        "from keras.utils.vis_utils import model_to_dot\n",
        "\n",
        "SVG(model_to_dot(network, show_shapes=True, rankdir='LR').create(prog='dot', format='svg'))\n"
      ],
      "execution_count": 18,
      "outputs": [
        {
          "output_type": "stream",
          "text": [
            "WARNING:tensorflow:From /usr/local/lib/python3.6/dist-packages/tensorflow/python/framework/op_def_library.py:263: colocate_with (from tensorflow.python.framework.ops) is deprecated and will be removed in a future version.\n",
            "Instructions for updating:\n",
            "Colocations handled automatically by placer.\n",
            "_________________________________________________________________\n",
            "Layer (type)                 Output Shape              Param #   \n",
            "=================================================================\n",
            "dense_1 (Dense)              (None, 10)                7890      \n",
            "=================================================================\n",
            "Total params: 7,890\n",
            "Trainable params: 7,890\n",
            "Non-trainable params: 0\n",
            "_________________________________________________________________\n"
          ],
          "name": "stdout"
        },
        {
          "output_type": "execute_result",
          "data": {
            "text/plain": [
              "<IPython.core.display.SVG object>"
            ],
            "image/svg+xml": "<svg height=\"78pt\" viewBox=\"0.00 0.00 340.00 78.00\" width=\"340pt\" xmlns=\"http://www.w3.org/2000/svg\" xmlns:xlink=\"http://www.w3.org/1999/xlink\">\n<g class=\"graph\" id=\"graph0\" transform=\"scale(1 1) rotate(0) translate(4 74)\">\n<title>G</title>\n<polygon fill=\"#ffffff\" points=\"-4,4 -4,-74 336,-74 336,4 -4,4\" stroke=\"transparent\"/>\n<!-- 140592273779624 -->\n<g class=\"node\" id=\"node1\">\n<title>140592273779624</title>\n<polygon fill=\"none\" points=\"165,-.5 165,-69.5 332,-69.5 332,-.5 165,-.5\" stroke=\"#000000\"/>\n<text fill=\"#000000\" font-family=\"Times,serif\" font-size=\"14.00\" text-anchor=\"middle\" x=\"248.5\" y=\"-54.3\">dense_1: Dense</text>\n<polyline fill=\"none\" points=\"165,-46.5 332,-46.5 \" stroke=\"#000000\"/>\n<text fill=\"#000000\" font-family=\"Times,serif\" font-size=\"14.00\" text-anchor=\"middle\" x=\"204.5\" y=\"-31.3\">input:</text>\n<polyline fill=\"none\" points=\"244,-23.5 244,-46.5 \" stroke=\"#000000\"/>\n<text fill=\"#000000\" font-family=\"Times,serif\" font-size=\"14.00\" text-anchor=\"middle\" x=\"288\" y=\"-31.3\">output:</text>\n<polyline fill=\"none\" points=\"165,-23.5 332,-23.5 \" stroke=\"#000000\"/>\n<text fill=\"#000000\" font-family=\"Times,serif\" font-size=\"14.00\" text-anchor=\"middle\" x=\"208.5\" y=\"-8.3\">(None, 788)</text>\n<polyline fill=\"none\" points=\"252,-.5 252,-23.5 \" stroke=\"#000000\"/>\n<text fill=\"#000000\" font-family=\"Times,serif\" font-size=\"14.00\" text-anchor=\"middle\" x=\"292\" y=\"-8.3\">(None, 10)</text>\n</g>\n<!-- 140590865865304 -->\n<g class=\"node\" id=\"node2\">\n<title>140590865865304</title>\n<polygon fill=\"none\" points=\"0,-17 0,-53 129,-53 129,-17 0,-17\" stroke=\"#000000\"/>\n<text fill=\"#000000\" font-family=\"Times,serif\" font-size=\"14.00\" text-anchor=\"middle\" x=\"64.5\" y=\"-31.3\">140590865865304</text>\n</g>\n<!-- 140590865865304&#45;&gt;140592273779624 -->\n<g class=\"edge\" id=\"edge1\">\n<title>140590865865304-&gt;140592273779624</title>\n<path d=\"M129.1128,-35C137.4486,-35 146.1144,-35 154.8005,-35\" fill=\"none\" stroke=\"#000000\"/>\n<polygon fill=\"#000000\" points=\"154.9879,-38.5001 164.9879,-35 154.9879,-31.5001 154.9879,-38.5001\" stroke=\"#000000\"/>\n</g>\n</g>\n</svg>"
          },
          "metadata": {
            "tags": []
          },
          "execution_count": 18
        }
      ]
    },
    {
      "metadata": {
        "id": "8H6VF7ZIY6Oy",
        "colab_type": "text"
      },
      "cell_type": "markdown",
      "source": [
        "## The compilation step"
      ]
    },
    {
      "metadata": {
        "id": "mHp0sz7cYPsK",
        "colab_type": "code",
        "colab": {}
      },
      "cell_type": "code",
      "source": [
        "network.compile(optimizer='sgd',\n",
        "                loss='categorical_crossentropy',\n",
        "                metrics=['accuracy'])\n",
        "\n"
      ],
      "execution_count": 0,
      "outputs": []
    },
    {
      "metadata": {
        "id": "3SnwsJAtZtYx",
        "colab_type": "text"
      },
      "cell_type": "markdown",
      "source": [
        "## The training step"
      ]
    },
    {
      "metadata": {
        "id": "2YuVq3JIZksS",
        "colab_type": "code",
        "outputId": "93601876-78ad-4d7d-f807-7945a816efd9",
        "colab": {
          "base_uri": "https://localhost:8080/",
          "height": 1927
        }
      },
      "cell_type": "code",
      "source": [
        "epochs = 50\n",
        "history = network.fit(train_images, \n",
        "                      train_labels, \n",
        "                      epochs=epochs, \n",
        "                      batch_size=128, \n",
        "                      validation_data=(test_images, test_labels))"
      ],
      "execution_count": 20,
      "outputs": [
        {
          "output_type": "stream",
          "text": [
            "WARNING:tensorflow:From /usr/local/lib/python3.6/dist-packages/tensorflow/python/ops/math_ops.py:3066: to_int32 (from tensorflow.python.ops.math_ops) is deprecated and will be removed in a future version.\n",
            "Instructions for updating:\n",
            "Use tf.cast instead.\n",
            "Train on 60000 samples, validate on 10000 samples\n",
            "Epoch 1/50\n",
            "60000/60000 [==============================] - 3s 43us/step - loss: 1.2737 - acc: 0.6988 - val_loss: 0.8014 - val_acc: 0.8337\n",
            "Epoch 2/50\n",
            "60000/60000 [==============================] - 2s 29us/step - loss: 0.7049 - acc: 0.8431 - val_loss: 0.5976 - val_acc: 0.8650\n",
            "Epoch 3/50\n",
            "60000/60000 [==============================] - 2s 29us/step - loss: 0.5765 - acc: 0.8620 - val_loss: 0.5161 - val_acc: 0.8782\n",
            "Epoch 4/50\n",
            "60000/60000 [==============================] - 2s 29us/step - loss: 0.5147 - acc: 0.8723 - val_loss: 0.4704 - val_acc: 0.8859\n",
            "Epoch 5/50\n",
            "60000/60000 [==============================] - 2s 29us/step - loss: 0.4770 - acc: 0.8789 - val_loss: 0.4401 - val_acc: 0.8907\n",
            "Epoch 6/50\n",
            "60000/60000 [==============================] - 2s 29us/step - loss: 0.4510 - acc: 0.8834 - val_loss: 0.4186 - val_acc: 0.8936\n",
            "Epoch 7/50\n",
            "60000/60000 [==============================] - 2s 29us/step - loss: 0.4317 - acc: 0.8865 - val_loss: 0.4025 - val_acc: 0.8970\n",
            "Epoch 8/50\n",
            "60000/60000 [==============================] - 2s 29us/step - loss: 0.4166 - acc: 0.8901 - val_loss: 0.3890 - val_acc: 0.8999\n",
            "Epoch 9/50\n",
            "60000/60000 [==============================] - 2s 29us/step - loss: 0.4044 - acc: 0.8924 - val_loss: 0.3785 - val_acc: 0.9029\n",
            "Epoch 10/50\n",
            "60000/60000 [==============================] - 2s 29us/step - loss: 0.3942 - acc: 0.8947 - val_loss: 0.3697 - val_acc: 0.9048\n",
            "Epoch 11/50\n",
            "60000/60000 [==============================] - 2s 29us/step - loss: 0.3856 - acc: 0.8967 - val_loss: 0.3619 - val_acc: 0.9070\n",
            "Epoch 12/50\n",
            "60000/60000 [==============================] - 2s 29us/step - loss: 0.3782 - acc: 0.8981 - val_loss: 0.3554 - val_acc: 0.9082\n",
            "Epoch 13/50\n",
            "60000/60000 [==============================] - 2s 29us/step - loss: 0.3716 - acc: 0.8996 - val_loss: 0.3495 - val_acc: 0.9092\n",
            "Epoch 14/50\n",
            "60000/60000 [==============================] - 2s 29us/step - loss: 0.3658 - acc: 0.9006 - val_loss: 0.3445 - val_acc: 0.9109\n",
            "Epoch 15/50\n",
            "60000/60000 [==============================] - 2s 29us/step - loss: 0.3606 - acc: 0.9019 - val_loss: 0.3398 - val_acc: 0.9115\n",
            "Epoch 16/50\n",
            "60000/60000 [==============================] - 2s 29us/step - loss: 0.3559 - acc: 0.9027 - val_loss: 0.3358 - val_acc: 0.9120\n",
            "Epoch 17/50\n",
            "60000/60000 [==============================] - 2s 29us/step - loss: 0.3517 - acc: 0.9036 - val_loss: 0.3320 - val_acc: 0.9128\n",
            "Epoch 18/50\n",
            "60000/60000 [==============================] - 2s 29us/step - loss: 0.3477 - acc: 0.9047 - val_loss: 0.3286 - val_acc: 0.9134\n",
            "Epoch 19/50\n",
            "60000/60000 [==============================] - 2s 29us/step - loss: 0.3441 - acc: 0.9053 - val_loss: 0.3255 - val_acc: 0.9145\n",
            "Epoch 20/50\n",
            "60000/60000 [==============================] - 2s 29us/step - loss: 0.3408 - acc: 0.9060 - val_loss: 0.3224 - val_acc: 0.9149\n",
            "Epoch 21/50\n",
            "60000/60000 [==============================] - 2s 29us/step - loss: 0.3377 - acc: 0.9066 - val_loss: 0.3197 - val_acc: 0.9153\n",
            "Epoch 22/50\n",
            "60000/60000 [==============================] - 2s 29us/step - loss: 0.3349 - acc: 0.9074 - val_loss: 0.3174 - val_acc: 0.9154\n",
            "Epoch 23/50\n",
            "60000/60000 [==============================] - 2s 29us/step - loss: 0.3322 - acc: 0.9082 - val_loss: 0.3148 - val_acc: 0.9160\n",
            "Epoch 24/50\n",
            "60000/60000 [==============================] - 2s 29us/step - loss: 0.3297 - acc: 0.9090 - val_loss: 0.3126 - val_acc: 0.9162\n",
            "Epoch 25/50\n",
            "60000/60000 [==============================] - 2s 29us/step - loss: 0.3273 - acc: 0.9094 - val_loss: 0.3106 - val_acc: 0.9172\n",
            "Epoch 26/50\n",
            "60000/60000 [==============================] - 2s 29us/step - loss: 0.3250 - acc: 0.9099 - val_loss: 0.3088 - val_acc: 0.9188\n",
            "Epoch 27/50\n",
            "60000/60000 [==============================] - 2s 29us/step - loss: 0.3229 - acc: 0.9105 - val_loss: 0.3069 - val_acc: 0.9187\n",
            "Epoch 28/50\n",
            "60000/60000 [==============================] - 2s 29us/step - loss: 0.3208 - acc: 0.9110 - val_loss: 0.3052 - val_acc: 0.9186\n",
            "Epoch 29/50\n",
            "60000/60000 [==============================] - 2s 29us/step - loss: 0.3189 - acc: 0.9116 - val_loss: 0.3033 - val_acc: 0.9185\n",
            "Epoch 30/50\n",
            "60000/60000 [==============================] - 2s 29us/step - loss: 0.3171 - acc: 0.9121 - val_loss: 0.3017 - val_acc: 0.9196\n",
            "Epoch 31/50\n",
            "60000/60000 [==============================] - 2s 29us/step - loss: 0.3153 - acc: 0.9125 - val_loss: 0.3002 - val_acc: 0.9195\n",
            "Epoch 32/50\n",
            "60000/60000 [==============================] - 2s 29us/step - loss: 0.3137 - acc: 0.9126 - val_loss: 0.2989 - val_acc: 0.9199\n",
            "Epoch 33/50\n",
            "60000/60000 [==============================] - 2s 29us/step - loss: 0.3121 - acc: 0.9133 - val_loss: 0.2974 - val_acc: 0.9199\n",
            "Epoch 34/50\n",
            "60000/60000 [==============================] - 2s 29us/step - loss: 0.3106 - acc: 0.9134 - val_loss: 0.2959 - val_acc: 0.9196\n",
            "Epoch 35/50\n",
            "60000/60000 [==============================] - 2s 29us/step - loss: 0.3091 - acc: 0.9140 - val_loss: 0.2949 - val_acc: 0.9202\n",
            "Epoch 36/50\n",
            "60000/60000 [==============================] - 2s 29us/step - loss: 0.3077 - acc: 0.9145 - val_loss: 0.2937 - val_acc: 0.9208\n",
            "Epoch 37/50\n",
            "60000/60000 [==============================] - 2s 29us/step - loss: 0.3063 - acc: 0.9150 - val_loss: 0.2926 - val_acc: 0.9208\n",
            "Epoch 38/50\n",
            "60000/60000 [==============================] - 2s 29us/step - loss: 0.3050 - acc: 0.9152 - val_loss: 0.2913 - val_acc: 0.9207\n",
            "Epoch 39/50\n",
            "60000/60000 [==============================] - 2s 29us/step - loss: 0.3037 - acc: 0.9158 - val_loss: 0.2900 - val_acc: 0.9212\n",
            "Epoch 40/50\n",
            "60000/60000 [==============================] - 2s 29us/step - loss: 0.3025 - acc: 0.9159 - val_loss: 0.2890 - val_acc: 0.9217\n",
            "Epoch 41/50\n",
            "60000/60000 [==============================] - 2s 29us/step - loss: 0.3013 - acc: 0.9159 - val_loss: 0.2881 - val_acc: 0.9209\n",
            "Epoch 42/50\n",
            "60000/60000 [==============================] - 2s 29us/step - loss: 0.3002 - acc: 0.9166 - val_loss: 0.2875 - val_acc: 0.9214\n",
            "Epoch 43/50\n",
            "60000/60000 [==============================] - 2s 29us/step - loss: 0.2990 - acc: 0.9167 - val_loss: 0.2864 - val_acc: 0.9223\n",
            "Epoch 44/50\n",
            "60000/60000 [==============================] - 2s 29us/step - loss: 0.2980 - acc: 0.9172 - val_loss: 0.2857 - val_acc: 0.9219\n",
            "Epoch 45/50\n",
            "60000/60000 [==============================] - 2s 29us/step - loss: 0.2969 - acc: 0.9174 - val_loss: 0.2847 - val_acc: 0.9221\n",
            "Epoch 46/50\n",
            "60000/60000 [==============================] - 2s 29us/step - loss: 0.2959 - acc: 0.9178 - val_loss: 0.2838 - val_acc: 0.9228\n",
            "Epoch 47/50\n",
            "60000/60000 [==============================] - 2s 29us/step - loss: 0.2949 - acc: 0.9180 - val_loss: 0.2828 - val_acc: 0.9232\n",
            "Epoch 48/50\n",
            "60000/60000 [==============================] - 2s 29us/step - loss: 0.2940 - acc: 0.9184 - val_loss: 0.2819 - val_acc: 0.9236\n",
            "Epoch 49/50\n",
            "60000/60000 [==============================] - 2s 29us/step - loss: 0.2930 - acc: 0.9186 - val_loss: 0.2816 - val_acc: 0.9230\n",
            "Epoch 50/50\n",
            "60000/60000 [==============================] - 2s 29us/step - loss: 0.2921 - acc: 0.9190 - val_loss: 0.2806 - val_acc: 0.9232\n"
          ],
          "name": "stdout"
        }
      ]
    },
    {
      "metadata": {
        "id": "vTtzYNe-a-Ro",
        "colab_type": "text"
      },
      "cell_type": "markdown",
      "source": [
        "## Display the training/test loss/accuracy"
      ]
    },
    {
      "metadata": {
        "id": "kZ70napGZ-cK",
        "colab_type": "code",
        "colab": {}
      },
      "cell_type": "code",
      "source": [
        "history_dict = history.history\n",
        "loss_values = history_dict['loss']\n",
        "test_loss_values = history_dict['val_loss']\n",
        "epochs_range = range(1, epochs + 1)"
      ],
      "execution_count": 0,
      "outputs": []
    },
    {
      "metadata": {
        "id": "9aM-5qqCfnck",
        "colab_type": "code",
        "outputId": "619b3c10-41ef-4067-dc52-365add9640fd",
        "colab": {
          "base_uri": "https://localhost:8080/",
          "height": 376
        }
      },
      "cell_type": "code",
      "source": [
        "import matplotlib.pyplot as plt\n",
        "\n",
        "plt.plot(epochs_range, loss_values, 'bo', label='Training loss')\n",
        "plt.plot(epochs_range, test_loss_values, 'ro', label='Test loss')\n",
        "plt.title('Training and test loss')\n",
        "plt.xlabel('Epochs')\n",
        "plt.ylabel('Loss')\n",
        "plt.legend()\n",
        "plt.show()"
      ],
      "execution_count": 22,
      "outputs": [
        {
          "output_type": "display_data",
          "data": {
            "image/png": "[encoded data removed]",
            "text/plain": [
              "<Figure size 576x396 with 1 Axes>"
            ]
          },
          "metadata": {
            "tags": []
          }
        }
      ]
    },
    {
      "metadata": {
        "id": "-IB2uFCzez-e",
        "colab_type": "code",
        "colab": {}
      },
      "cell_type": "code",
      "source": [
        "acc_values = history_dict['acc']\n",
        "test_acc_values = history_dict['val_acc']"
      ],
      "execution_count": 0,
      "outputs": []
    },
    {
      "metadata": {
        "id": "AdyXVyeLf-SV",
        "colab_type": "code",
        "outputId": "c4dda068-1409-4659-ac5a-a2cfcb92d0f3",
        "colab": {
          "base_uri": "https://localhost:8080/",
          "height": 376
        }
      },
      "cell_type": "code",
      "source": [
        "plt.plot(epochs_range, acc_values, 'bo', label='Training accuracy')\n",
        "plt.plot(epochs_range, test_acc_values, 'ro', label='Test accuracy')\n",
        "plt.title('Training and test accuracy')\n",
        "plt.xlabel('Epochs')\n",
        "plt.ylabel('Accuracy')\n",
        "plt.legend()\n",
        "plt.show()"
      ],
      "execution_count": 24,
      "outputs": [
        {
          "output_type": "display_data",
          "data": {
            "image/png": "[encoded data removed]",
            "text/plain": [
              "<Figure size 576x396 with 1 Axes>"
            ]
          },
          "metadata": {
            "tags": []
          }
        }
      ]
    },
    {
      "metadata": {
        "id": "6gUPEpHkSNkI",
        "colab_type": "text"
      },
      "cell_type": "markdown",
      "source": [
        "## Result of adding 4 extra features"
      ]
    },
    {
      "metadata": {
        "id": "Y9qTpDH-SVOW",
        "colab_type": "text"
      },
      "cell_type": "markdown",
      "source": [
        "Model with 4 extra features performed a little better than the original"
      ]
    },
    {
      "metadata": {
        "id": "KeW39-fWxux2",
        "colab_type": "text"
      },
      "cell_type": "markdown",
      "source": [
        "## Analysis of misclassifications"
      ]
    },
    {
      "metadata": {
        "id": "AJaEdLmMyAbG",
        "colab_type": "text"
      },
      "cell_type": "markdown",
      "source": [
        "We will use the training data as this is the correct approach"
      ]
    },
    {
      "metadata": {
        "id": "TMYTQHy1xsa0",
        "colab_type": "code",
        "colab": {}
      },
      "cell_type": "code",
      "source": [
        "predicted_labels = np.argmax(network.predict(train_images), axis=1) \n",
        "predicted_labels = predicted_labels.astype('uint8')\n",
        "wrong_indices = [i for i in range(60000) if predicted_labels[i] != train_labels_original[i]]"
      ],
      "execution_count": 0,
      "outputs": []
    },
    {
      "metadata": {
        "id": "zdGxgY3SzvL7",
        "colab_type": "text"
      },
      "cell_type": "markdown",
      "source": [
        "Generating a table of mismatch ('10' is the sum (times 0.3) of all mismatches in the row/column)"
      ]
    },
    {
      "metadata": {
        "id": "ROLgeI2mzt-G",
        "colab_type": "code",
        "colab": {
          "base_uri": "https://localhost:8080/",
          "height": 361
        },
        "outputId": "94aaf774-a9b1-4cdd-b0b5-4b5c739f9011"
      },
      "cell_type": "code",
      "source": [
        "mm=np.zeros((11,11))\n",
        "\n",
        "for i in wrong_indices:\n",
        "  mm[predicted_labels[i], train_labels_original[i]]+=1\n",
        "  mm[predicted_labels[i], 10]+=.3\n",
        "  mm[10, train_labels_original[i]]+=.3\n",
        "plt.imshow(mm)\n",
        "plt.grid(None)\n",
        "plt.xlabel('true label')\n",
        "plt.ylabel('predicted label')\n",
        "plt.show()\n"
      ],
      "execution_count": 26,
      "outputs": [
        {
          "output_type": "display_data",
          "data": {
            "image/png": "[encoded data removed]",
            "text/plain": [
              "<Figure size 576x396 with 1 Axes>"
            ]
          },
          "metadata": {
            "tags": []
          }
        }
      ]
    },
    {
      "metadata": {
        "id": "t15R2rf1C99Z",
        "colab_type": "code",
        "colab": {
          "base_uri": "https://localhost:8080/",
          "height": 219
        },
        "outputId": "a69ebc62-7256-4196-d46a-5c8f2f733ff7"
      },
      "cell_type": "code",
      "source": [
        "print(mm)"
      ],
      "execution_count": 27,
      "outputs": [
        {
          "output_type": "stream",
          "text": [
            "[[  0.    1.   37.   20.    9.   69.   37.   28.   31.   32.   79.2]\n",
            " [  0.    0.   62.   33.   32.   38.   17.   45.  114.   34.  112.5]\n",
            " [ 22.   34.    0.  140.   39.   51.   45.   87.   67.   31.  154.8]\n",
            " [ 13.   27.   86.    0.    7.  179.    3.   21.  116.   84.  160.8]\n",
            " [ 11.    6.   99.    6.    0.   58.   48.   69.   26.  188.  153.3]\n",
            " [ 40.   32.   32.  250.    5.    0.   71.   12.  136.   34.  183.6]\n",
            " [ 45.    8.   83.   30.   62.   96.    0.    3.   50.    5.  114.6]\n",
            " [  9.   20.   96.   69.   15.   27.    7.    0.   18.  190.  135.3]\n",
            " [ 59.   63.  132.   95.   33.  111.   44.   12.    0.   48.  179.1]\n",
            " [  5.    7.   28.   57.  211.   50.    1.  175.   73.    0.  182.1]\n",
            " [ 61.2  59.4 196.5 210.  123.9 203.7  81.9 135.6 189.3 193.8   0. ]]\n"
          ],
          "name": "stdout"
        }
      ]
    },
    {
      "metadata": {
        "id": "x5VMKvnNFjjP",
        "colab_type": "text"
      },
      "cell_type": "markdown",
      "source": [
        "9 is often misclassified as 4 or 7 and vice versa\n",
        "\n",
        "3 is othen misclassified as 5 and vice versa\n",
        "\n",
        "2 is often miclassified as 3 and vice versa"
      ]
    },
    {
      "metadata": {
        "id": "5NQB7TV9GPPp",
        "colab_type": "text"
      },
      "cell_type": "markdown",
      "source": [
        "## New features"
      ]
    },
    {
      "metadata": {
        "id": "mqtRhj_nGX8w",
        "colab_type": "text"
      },
      "cell_type": "markdown",
      "source": [
        "### Inner pixels"
      ]
    },
    {
      "metadata": {
        "id": "rRBelQ5cGeWq",
        "colab_type": "text"
      },
      "cell_type": "markdown",
      "source": [
        "Pixels that are not connected to corners"
      ]
    },
    {
      "metadata": {
        "id": "eBxn3c1XGqqm",
        "colab_type": "code",
        "colab": {
          "base_uri": "https://localhost:8080/",
          "height": 677
        },
        "outputId": "502a77cd-f7b5-4644-ecce-212c0b0642e3"
      },
      "cell_type": "code",
      "source": [
        "def makeInnerPixels(X):\n",
        "  nbs = [-29, -1, -28, -27, 1, 29, 28, 27]\n",
        "  def paintCorners(img):\n",
        "    # do BW\n",
        "    img = (img > threshold)\n",
        "    n = len(img)\n",
        "    #assum 28 x 28\n",
        "    paint(0, n, img, nbs)\n",
        "    paint(n-1, n, img, nbs)\n",
        "    paint(27, n, img, nbs)\n",
        "    paint (n-28, n, img, nbs)\n",
        "    #convert bool to float\n",
        "    img = img.astype('float32')\n",
        "    return img\n",
        "  \n",
        "  new = np.apply_along_axis(paintCorners, 1, X)\n",
        "  \n",
        "  return new\n",
        "  \n",
        "plt.imshow(makeInnerPixels(orig_tr_im[0:2])[1].reshape((28,28)))\n",
        "plt.grid(None)\n",
        "plt.show()\n",
        "plt.imshow(train_images_original[1])\n",
        "plt.grid(None)\n",
        "plt.show()"
      ],
      "execution_count": 40,
      "outputs": [
        {
          "output_type": "display_data",
          "data": {
            "image/png": "[encoded data removed]",
            "text/plain": [
              "<Figure size 576x396 with 1 Axes>"
            ]
          },
          "metadata": {
            "tags": []
          }
        },
        {
          "output_type": "display_data",
          "data": {
            "image/png": "[encoded data removed]",
            "text/plain": [
              "<Figure size 576x396 with 1 Axes>"
            ]
          },
          "metadata": {
            "tags": []
          }
        }
      ]
    },
    {
      "metadata": {
        "id": "PizI1kgXMll4",
        "colab_type": "code",
        "colab": {}
      },
      "cell_type": "code",
      "source": [
        "extra_features = makeInnerPixels(orig_tst_im)"
      ],
      "execution_count": 0,
      "outputs": []
    },
    {
      "metadata": {
        "id": "gjibCnJVMxgX",
        "colab_type": "code",
        "colab": {}
      },
      "cell_type": "code",
      "source": [
        "test_images=np.c_[extra_features, test_images]"
      ],
      "execution_count": 0,
      "outputs": []
    },
    {
      "metadata": {
        "id": "etVZwOUqMYBQ",
        "colab_type": "code",
        "colab": {}
      },
      "cell_type": "code",
      "source": [
        "extra_features = makeInnerPixels(orig_tr_im)"
      ],
      "execution_count": 0,
      "outputs": []
    },
    {
      "metadata": {
        "id": "MrUZHc70M4Z9",
        "colab_type": "code",
        "colab": {}
      },
      "cell_type": "code",
      "source": [
        "train_images=np.c_[extra_features, train_images]"
      ],
      "execution_count": 0,
      "outputs": []
    },
    {
      "metadata": {
        "id": "mxlWDZ1pNUOx",
        "colab_type": "code",
        "colab": {
          "base_uri": "https://localhost:8080/",
          "height": 182
        },
        "outputId": "62fec84a-33e2-446f-f2c1-190ee239f603"
      },
      "cell_type": "code",
      "source": [
        "network = models.Sequential()\n",
        "network.add(layers.Dense(10, activation='softmax', input_shape=(train_images.shape[1],)))\n",
        "network.summary()\n",
        "network.compile(optimizer='sgd',\n",
        "                loss='categorical_crossentropy',\n",
        "                metrics=['accuracy'])"
      ],
      "execution_count": 56,
      "outputs": [
        {
          "output_type": "stream",
          "text": [
            "_________________________________________________________________\n",
            "Layer (type)                 Output Shape              Param #   \n",
            "=================================================================\n",
            "dense_4 (Dense)              (None, 10)                15730     \n",
            "=================================================================\n",
            "Total params: 15,730\n",
            "Trainable params: 15,730\n",
            "Non-trainable params: 0\n",
            "_________________________________________________________________\n"
          ],
          "name": "stdout"
        }
      ]
    },
    {
      "metadata": {
        "id": "119fiFsVNaJN",
        "colab_type": "code",
        "colab": {
          "base_uri": "https://localhost:8080/",
          "height": 1872
        },
        "outputId": "b7d013a3-9371-4650-a3b3-165498229003"
      },
      "cell_type": "code",
      "source": [
        "epochs = 50\n",
        "history = network.fit(train_images, \n",
        "                      train_labels, \n",
        "                      epochs=epochs, \n",
        "                      batch_size=128, \n",
        "                      validation_data=(test_images, test_labels))"
      ],
      "execution_count": 57,
      "outputs": [
        {
          "output_type": "stream",
          "text": [
            "Train on 60000 samples, validate on 10000 samples\n",
            "Epoch 1/50\n",
            "60000/60000 [==============================] - 2s 38us/step - loss: 1.1429 - acc: 0.7364 - val_loss: 0.6872 - val_acc: 0.8544\n",
            "Epoch 2/50\n",
            "60000/60000 [==============================] - 2s 36us/step - loss: 0.6065 - acc: 0.8574 - val_loss: 0.5263 - val_acc: 0.8763\n",
            "Epoch 3/50\n",
            "60000/60000 [==============================] - 2s 35us/step - loss: 0.4972 - acc: 0.8748 - val_loss: 0.4512 - val_acc: 0.8806\n",
            "Epoch 4/50\n",
            "60000/60000 [==============================] - 2s 36us/step - loss: 0.4444 - acc: 0.8838 - val_loss: 0.4136 - val_acc: 0.8910\n",
            "Epoch 5/50\n",
            "60000/60000 [==============================] - 2s 35us/step - loss: 0.4121 - acc: 0.8906 - val_loss: 0.3806 - val_acc: 0.9007\n",
            "Epoch 6/50\n",
            "60000/60000 [==============================] - 2s 36us/step - loss: 0.3893 - acc: 0.8943 - val_loss: 0.3657 - val_acc: 0.9032\n",
            "Epoch 7/50\n",
            "60000/60000 [==============================] - 2s 36us/step - loss: 0.3728 - acc: 0.8983 - val_loss: 0.3490 - val_acc: 0.9079\n",
            "Epoch 8/50\n",
            "60000/60000 [==============================] - 2s 36us/step - loss: 0.3594 - acc: 0.9013 - val_loss: 0.3376 - val_acc: 0.9100\n",
            "Epoch 9/50\n",
            "60000/60000 [==============================] - 2s 36us/step - loss: 0.3485 - acc: 0.9037 - val_loss: 0.3291 - val_acc: 0.9117\n",
            "Epoch 10/50\n",
            "60000/60000 [==============================] - 2s 35us/step - loss: 0.3399 - acc: 0.9053 - val_loss: 0.3224 - val_acc: 0.9115\n",
            "Epoch 11/50\n",
            "60000/60000 [==============================] - 2s 35us/step - loss: 0.3319 - acc: 0.9068 - val_loss: 0.3132 - val_acc: 0.9146\n",
            "Epoch 12/50\n",
            "60000/60000 [==============================] - 2s 35us/step - loss: 0.3254 - acc: 0.9085 - val_loss: 0.3058 - val_acc: 0.9156\n",
            "Epoch 13/50\n",
            "60000/60000 [==============================] - 2s 36us/step - loss: 0.3196 - acc: 0.9100 - val_loss: 0.3020 - val_acc: 0.9184\n",
            "Epoch 14/50\n",
            "60000/60000 [==============================] - 2s 36us/step - loss: 0.3143 - acc: 0.9115 - val_loss: 0.2971 - val_acc: 0.9163\n",
            "Epoch 15/50\n",
            "60000/60000 [==============================] - 2s 36us/step - loss: 0.3100 - acc: 0.9119 - val_loss: 0.2946 - val_acc: 0.9184\n",
            "Epoch 16/50\n",
            "60000/60000 [==============================] - 2s 36us/step - loss: 0.3058 - acc: 0.9132 - val_loss: 0.2902 - val_acc: 0.9185\n",
            "Epoch 17/50\n",
            "60000/60000 [==============================] - 2s 35us/step - loss: 0.3019 - acc: 0.9141 - val_loss: 0.2859 - val_acc: 0.9185\n",
            "Epoch 18/50\n",
            "60000/60000 [==============================] - 2s 35us/step - loss: 0.2985 - acc: 0.9156 - val_loss: 0.2842 - val_acc: 0.9195\n",
            "Epoch 19/50\n",
            "60000/60000 [==============================] - 2s 35us/step - loss: 0.2953 - acc: 0.9164 - val_loss: 0.2813 - val_acc: 0.9203\n",
            "Epoch 20/50\n",
            "60000/60000 [==============================] - 2s 36us/step - loss: 0.2922 - acc: 0.9173 - val_loss: 0.2781 - val_acc: 0.9218\n",
            "Epoch 21/50\n",
            "60000/60000 [==============================] - 2s 35us/step - loss: 0.2898 - acc: 0.9176 - val_loss: 0.2754 - val_acc: 0.9234\n",
            "Epoch 22/50\n",
            "60000/60000 [==============================] - 2s 36us/step - loss: 0.2870 - acc: 0.9175 - val_loss: 0.2761 - val_acc: 0.9235\n",
            "Epoch 23/50\n",
            "60000/60000 [==============================] - 2s 35us/step - loss: 0.2846 - acc: 0.9189 - val_loss: 0.2719 - val_acc: 0.9226\n",
            "Epoch 24/50\n",
            "60000/60000 [==============================] - 2s 35us/step - loss: 0.2826 - acc: 0.9191 - val_loss: 0.2720 - val_acc: 0.9226\n",
            "Epoch 25/50\n",
            "60000/60000 [==============================] - 2s 35us/step - loss: 0.2806 - acc: 0.9207 - val_loss: 0.2673 - val_acc: 0.9254\n",
            "Epoch 26/50\n",
            "60000/60000 [==============================] - 2s 35us/step - loss: 0.2787 - acc: 0.9205 - val_loss: 0.2649 - val_acc: 0.9245\n",
            "Epoch 27/50\n",
            "60000/60000 [==============================] - 2s 35us/step - loss: 0.2768 - acc: 0.9210 - val_loss: 0.2645 - val_acc: 0.9237\n",
            "Epoch 28/50\n",
            "60000/60000 [==============================] - 2s 35us/step - loss: 0.2751 - acc: 0.9211 - val_loss: 0.2650 - val_acc: 0.9265\n",
            "Epoch 29/50\n",
            "60000/60000 [==============================] - 2s 35us/step - loss: 0.2733 - acc: 0.9220 - val_loss: 0.2611 - val_acc: 0.9270\n",
            "Epoch 30/50\n",
            "60000/60000 [==============================] - 2s 36us/step - loss: 0.2716 - acc: 0.9231 - val_loss: 0.2597 - val_acc: 0.9270\n",
            "Epoch 31/50\n",
            "60000/60000 [==============================] - 2s 35us/step - loss: 0.2703 - acc: 0.9229 - val_loss: 0.2594 - val_acc: 0.9244\n",
            "Epoch 32/50\n",
            "60000/60000 [==============================] - 2s 36us/step - loss: 0.2687 - acc: 0.9228 - val_loss: 0.2560 - val_acc: 0.9282\n",
            "Epoch 33/50\n",
            "60000/60000 [==============================] - 2s 35us/step - loss: 0.2675 - acc: 0.9237 - val_loss: 0.2558 - val_acc: 0.9283\n",
            "Epoch 34/50\n",
            "60000/60000 [==============================] - 2s 35us/step - loss: 0.2660 - acc: 0.9243 - val_loss: 0.2539 - val_acc: 0.9295\n",
            "Epoch 35/50\n",
            "60000/60000 [==============================] - 2s 36us/step - loss: 0.2648 - acc: 0.9241 - val_loss: 0.2534 - val_acc: 0.9293\n",
            "Epoch 36/50\n",
            "60000/60000 [==============================] - 2s 36us/step - loss: 0.2635 - acc: 0.9247 - val_loss: 0.2519 - val_acc: 0.9295\n",
            "Epoch 37/50\n",
            "60000/60000 [==============================] - 2s 36us/step - loss: 0.2625 - acc: 0.9245 - val_loss: 0.2520 - val_acc: 0.9293\n",
            "Epoch 38/50\n",
            "60000/60000 [==============================] - 2s 35us/step - loss: 0.2615 - acc: 0.9258 - val_loss: 0.2529 - val_acc: 0.9277\n",
            "Epoch 39/50\n",
            "60000/60000 [==============================] - 2s 35us/step - loss: 0.2602 - acc: 0.9260 - val_loss: 0.2535 - val_acc: 0.9292\n",
            "Epoch 40/50\n",
            "60000/60000 [==============================] - 2s 35us/step - loss: 0.2587 - acc: 0.9261 - val_loss: 0.2499 - val_acc: 0.9295\n",
            "Epoch 41/50\n",
            "60000/60000 [==============================] - 2s 35us/step - loss: 0.2582 - acc: 0.9262 - val_loss: 0.2466 - val_acc: 0.9299\n",
            "Epoch 42/50\n",
            "60000/60000 [==============================] - 2s 35us/step - loss: 0.2570 - acc: 0.9266 - val_loss: 0.2480 - val_acc: 0.9282\n",
            "Epoch 43/50\n",
            "60000/60000 [==============================] - 2s 36us/step - loss: 0.2563 - acc: 0.9269 - val_loss: 0.2458 - val_acc: 0.9303\n",
            "Epoch 44/50\n",
            "60000/60000 [==============================] - 2s 36us/step - loss: 0.2553 - acc: 0.9270 - val_loss: 0.2459 - val_acc: 0.9315\n",
            "Epoch 45/50\n",
            "60000/60000 [==============================] - 2s 35us/step - loss: 0.2544 - acc: 0.9273 - val_loss: 0.2497 - val_acc: 0.9298\n",
            "Epoch 46/50\n",
            "60000/60000 [==============================] - 2s 35us/step - loss: 0.2535 - acc: 0.9269 - val_loss: 0.2454 - val_acc: 0.9306\n",
            "Epoch 47/50\n",
            "60000/60000 [==============================] - 2s 35us/step - loss: 0.2526 - acc: 0.9278 - val_loss: 0.2450 - val_acc: 0.9296\n",
            "Epoch 48/50\n",
            "60000/60000 [==============================] - 2s 35us/step - loss: 0.2520 - acc: 0.9281 - val_loss: 0.2444 - val_acc: 0.9305\n",
            "Epoch 49/50\n",
            "60000/60000 [==============================] - 2s 35us/step - loss: 0.2512 - acc: 0.9278 - val_loss: 0.2441 - val_acc: 0.9323\n",
            "Epoch 50/50\n",
            "60000/60000 [==============================] - 2s 36us/step - loss: 0.2505 - acc: 0.9282 - val_loss: 0.2437 - val_acc: 0.9302\n"
          ],
          "name": "stdout"
        }
      ]
    },
    {
      "metadata": {
        "colab_type": "text",
        "id": "ctgikq2CNlde"
      },
      "cell_type": "markdown",
      "source": [
        "## Display the training/test loss/accuracy"
      ]
    },
    {
      "metadata": {
        "colab_type": "code",
        "id": "my3Xcs-NNldl",
        "colab": {}
      },
      "cell_type": "code",
      "source": [
        "history_dict = history.history\n",
        "loss_values = history_dict['loss']\n",
        "test_loss_values = history_dict['val_loss']\n",
        "epochs_range = range(1, epochs + 1)"
      ],
      "execution_count": 0,
      "outputs": []
    },
    {
      "metadata": {
        "colab_type": "code",
        "outputId": "81a40997-6b1a-45f5-aa07-2d8d846cf92d",
        "id": "T-pUVSGgNldy",
        "colab": {
          "base_uri": "https://localhost:8080/",
          "height": 376
        }
      },
      "cell_type": "code",
      "source": [
        "import matplotlib.pyplot as plt\n",
        "\n",
        "plt.plot(epochs_range, loss_values, 'bo', label='Training loss')\n",
        "plt.plot(epochs_range, test_loss_values, 'ro', label='Test loss')\n",
        "plt.title('Training and test loss')\n",
        "plt.xlabel('Epochs')\n",
        "plt.ylabel('Loss')\n",
        "plt.legend()\n",
        "plt.show()"
      ],
      "execution_count": 59,
      "outputs": [
        {
          "output_type": "display_data",
          "data": {
            "image/png": "[encoded data removed]",
            "text/plain": [
              "<Figure size 576x396 with 1 Axes>"
            ]
          },
          "metadata": {
            "tags": []
          }
        }
      ]
    },
    {
      "metadata": {
        "colab_type": "code",
        "id": "ubtY-Nf6Nld8",
        "colab": {}
      },
      "cell_type": "code",
      "source": [
        "acc_values = history_dict['acc']\n",
        "test_acc_values = history_dict['val_acc']"
      ],
      "execution_count": 0,
      "outputs": []
    },
    {
      "metadata": {
        "colab_type": "code",
        "outputId": "a562d208-1b17-4477-c0a4-04362b7b8195",
        "id": "KaU-tsbyNleD",
        "colab": {
          "base_uri": "https://localhost:8080/",
          "height": 376
        }
      },
      "cell_type": "code",
      "source": [
        "plt.plot(epochs_range, acc_values, 'bo', label='Training accuracy')\n",
        "plt.plot(epochs_range, test_acc_values, 'ro', label='Test accuracy')\n",
        "plt.title('Training and test accuracy')\n",
        "plt.xlabel('Epochs')\n",
        "plt.ylabel('Accuracy')\n",
        "plt.legend()\n",
        "plt.show()"
      ],
      "execution_count": 61,
      "outputs": [
        {
          "output_type": "display_data",
          "data": {
            "image/png": "[encoded data removed]",
            "text/plain": [
              "<Figure size 576x396 with 1 Axes>"
            ]
          },
          "metadata": {
            "tags": []
          }
        }
      ]
    },
    {
      "metadata": {
        "id": "55m14V0MS5FW",
        "colab_type": "text"
      },
      "cell_type": "markdown",
      "source": [
        "## Results of adding \"inner pixels\" features"
      ]
    },
    {
      "metadata": {
        "id": "LpoQ3FbZTFU-",
        "colab_type": "text"
      },
      "cell_type": "markdown",
      "source": [
        "Additional improvement was attained, although not much.\n",
        "However, the number of features nearly doubled."
      ]
    }
  ]
}