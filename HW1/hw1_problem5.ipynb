{
  "nbformat": 4,
  "nbformat_minor": 0,
  "metadata": {
    "colab": {
      "name": "hw1.problem5.ipynb",
      "version": "0.3.2",
      "provenance": [],
      "collapsed_sections": [],
      "include_colab_link": true
    },
    "kernelspec": {
      "name": "python3",
      "display_name": "Python 3"
    },
    "accelerator": "GPU"
  },
  "cells": [
    {
      "cell_type": "markdown",
      "metadata": {
        "id": "view-in-github",
        "colab_type": "text"
      },
      "source": [
        "<a href=\"https://colab.research.google.com/github/algo74/MLCourse/blob/master/HW1/hw1_problem5.ipynb\" target=\"_parent\"><img src=\"https://colab.research.google.com/assets/colab-badge.svg\" alt=\"Open In Colab\"/></a>"
      ]
    },
    {
      "metadata": {
        "id": "rt44vyY1xW9b",
        "colab_type": "text"
      },
      "cell_type": "markdown",
      "source": [
        "# HW1. Problem 5. "
      ]
    },
    {
      "metadata": {
        "id": "jhNXqqXQbHfe",
        "colab_type": "text"
      },
      "cell_type": "markdown",
      "source": [
        "Extend the network from Problem 4 by adding new features.\n",
        "\n",
        "*   Round the grey values of the images to 1 and 0 so you obtain black and white images. Add as an additional feature the number of white regions. For instance, a typical 0 has 2 white regions and 8 has 3. Use the following neighborhoods for pixels:\n",
        "\n",
        "  pixel x,y (indicated by .) is connected to its neighbors (indicated by o):\n",
        "  \n",
        "```\n",
        "   o\n",
        "  o.o  \n",
        "   o\n",
        "\n",
        "  ooo\n",
        "  o.o\n",
        "  ooo\n",
        "```\n",
        "*   Consider the width.\n",
        "*   Consider the height.\n",
        "*   Come up with other features.\n",
        "\n",
        "\n"
      ]
    },
    {
      "metadata": {
        "id": "yH1EOQd6R2uQ",
        "colab_type": "text"
      },
      "cell_type": "markdown",
      "source": [
        "## Loading the image data"
      ]
    },
    {
      "metadata": {
        "id": "FSJyddqGexl5",
        "colab_type": "code",
        "outputId": "8513397e-0675-4661-fac8-f6a134bebbe4",
        "colab": {
          "base_uri": "https://localhost:8080/",
          "height": 35
        }
      },
      "cell_type": "code",
      "source": [
        "from keras.datasets import mnist\n",
        "import numpy as np\n",
        "\n",
        "(train_images_original, train_labels_original), (test_images_original, test_labels_original) = mnist.load_data()"
      ],
      "execution_count": 0,
      "outputs": [
        {
          "output_type": "stream",
          "text": [
            "Using TensorFlow backend.\n"
          ],
          "name": "stderr"
        }
      ]
    },
    {
      "metadata": {
        "id": "91gu7qVhR6eX",
        "colab_type": "text"
      },
      "cell_type": "markdown",
      "source": [
        "## Preparing the image data"
      ]
    },
    {
      "metadata": {
        "id": "UB7_xf0hzsPx",
        "colab_type": "code",
        "colab": {}
      },
      "cell_type": "code",
      "source": [
        "train_images = train_images_original.reshape((60000, 28 * 28))\n",
        "train_images = train_images.astype('float32') / 255\n",
        "\n",
        "test_images = test_images_original.reshape((10000, 28 * 28))\n",
        "test_images = test_images.astype('float32') / 255\n",
        "\n",
        "orig_tr_im = train_images.copy()\n",
        "orig_tst_im = test_images.copy()"
      ],
      "execution_count": 0,
      "outputs": []
    },
    {
      "metadata": {
        "id": "mz405N4WZrXx",
        "colab_type": "text"
      },
      "cell_type": "markdown",
      "source": [
        "## Adding extra features"
      ]
    },
    {
      "metadata": {
        "id": "7xnlFfYKdhcQ",
        "colab_type": "code",
        "colab": {}
      },
      "cell_type": "code",
      "source": [
        "# returns new input set with added (and normalized) feature described by 'func'\n",
        "def makeFeature(func, X):\n",
        "  \n",
        "  def arr_f(arg):\n",
        "    return [func(arg)]\n",
        "  \n",
        "  new = np.apply_along_axis(arr_f, 1, X)\n",
        "  new = new / max(np.max(new), 1)\n",
        "  return new"
      ],
      "execution_count": 0,
      "outputs": []
    },
    {
      "metadata": {
        "id": "AO-WwF_6a8dU",
        "colab_type": "text"
      },
      "cell_type": "markdown",
      "source": [
        "### White region - common functions"
      ]
    },
    {
      "metadata": {
        "id": "bDmgXfBHa6iW",
        "colab_type": "code",
        "colab": {}
      },
      "cell_type": "code",
      "source": [
        "threshold = 0.6\n",
        "\n",
        "def paint (i, n, img, nbs):\n",
        "  # do nothing if out of bound or already painted\n",
        "  if not 0 <= i < n: return\n",
        "  if img[i] : return\n",
        "  # do paint\n",
        "  img[i] = True\n",
        "  for j in nbs:\n",
        "    paint(i+j, n, img, nbs)\n",
        "  \n",
        "def countRegions(img, nbs):\n",
        "  # do BW\n",
        "  img = (img > threshold)\n",
        "  n = len(img)\n",
        "  regions = 0\n",
        "  for i in range(n):\n",
        "    if not img[i] :\n",
        "      # found new region\n",
        "      regions += 1\n",
        "      # paint it\n",
        "      paint(i, n, img, nbs)\n",
        "  return regions"
      ],
      "execution_count": 0,
      "outputs": []
    },
    {
      "metadata": {
        "id": "qVHGQgPDZvTG",
        "colab_type": "text"
      },
      "cell_type": "markdown",
      "source": [
        "### White region A\n",
        "```\n",
        "   o\n",
        "  o.o  \n",
        "   o\n",
        "```"
      ]
    },
    {
      "metadata": {
        "id": "mPzpKrb0ajxG",
        "colab_type": "code",
        "outputId": "5069c6dd-be47-4020-9b2c-e5aa12b7acf4",
        "colab": {
          "base_uri": "https://localhost:8080/",
          "height": 127
        }
      },
      "cell_type": "code",
      "source": [
        "def makeWhiteRegionsA(X):\n",
        "  nbs = [-1, -28, 1, 28]\n",
        "  def countWhiteRegionsA(img):\n",
        "    return countRegions(img, nbs)\n",
        "  \n",
        "  return makeFeature(countWhiteRegionsA, X)\n",
        "  \n",
        "\n",
        "print(makeWhiteRegionsA(train_images[0:50])[:,0])\n",
        "print (train_labels_original[0:50])"
      ],
      "execution_count": 0,
      "outputs": [
        {
          "output_type": "stream",
          "text": [
            "[0.25 0.5  0.25 0.25 0.5  0.5  0.25 0.25 0.25 0.25 0.25 0.25 0.25 0.5\n",
            " 0.25 0.25 0.5  0.75 0.25 0.5  0.25 0.5  0.5  0.25 0.25 0.25 0.25 0.25\n",
            " 0.25 0.25 0.5  0.75 0.25 0.5  0.5  0.25 0.5  0.5  0.25 0.5  0.25 0.75\n",
            " 0.25 0.5  0.25 0.5  1.   0.25 0.5  0.5 ]\n",
            "[5 0 4 1 9 2 1 3 1 4 3 5 3 6 1 7 2 8 6 9 4 0 9 1 1 2 4 3 2 7 3 8 6 9 0 5 6\n",
            " 0 7 6 1 8 7 9 3 9 8 5 9 3]\n"
          ],
          "name": "stdout"
        }
      ]
    },
    {
      "metadata": {
        "id": "FsLJsE6Uakdg",
        "colab_type": "text"
      },
      "cell_type": "markdown",
      "source": [
        "### White region B\n",
        "```\n",
        "  ooo\n",
        "  o.o\n",
        "  ooo\n",
        "```"
      ]
    },
    {
      "metadata": {
        "id": "L5XipIBCa2eO",
        "colab_type": "code",
        "outputId": "e498e2b3-4290-4f84-9422-3a59b7643934",
        "colab": {
          "base_uri": "https://localhost:8080/",
          "height": 219
        }
      },
      "cell_type": "code",
      "source": [
        "def makeWhiteRegionsB(X):\n",
        "  nbs = [-29, -1, -28, -27, 1, 29, 28, 27]\n",
        "  def countWhiteRegionsB(img):\n",
        "    return countRegions(img, nbs)\n",
        "  \n",
        "  return makeFeature(countWhiteRegionsB, X)\n",
        "  \n",
        "\n",
        "print(makeWhiteRegionsB(train_images[0:50])[:,0])\n",
        "print (train_labels_original[0:50])"
      ],
      "execution_count": 0,
      "outputs": [
        {
          "output_type": "stream",
          "text": [
            "[0.33333333 0.66666667 0.33333333 0.33333333 0.66666667 0.66666667\n",
            " 0.33333333 0.33333333 0.33333333 0.33333333 0.33333333 0.33333333\n",
            " 0.33333333 0.66666667 0.33333333 0.33333333 0.66666667 1.\n",
            " 0.33333333 0.33333333 0.33333333 0.66666667 0.33333333 0.33333333\n",
            " 0.33333333 0.33333333 0.33333333 0.33333333 0.33333333 0.33333333\n",
            " 0.33333333 1.         0.33333333 0.66666667 0.66666667 0.33333333\n",
            " 0.66666667 0.66666667 0.33333333 0.66666667 0.33333333 0.66666667\n",
            " 0.33333333 0.66666667 0.33333333 0.66666667 0.66666667 0.33333333\n",
            " 0.33333333 0.66666667]\n",
            "[5 0 4 1 9 2 1 3 1 4 3 5 3 6 1 7 2 8 6 9 4 0 9 1 1 2 4 3 2 7 3 8 6 9 0 5 6\n",
            " 0 7 6 1 8 7 9 3 9 8 5 9 3]\n"
          ],
          "name": "stdout"
        }
      ]
    },
    {
      "metadata": {
        "id": "reBl3jSxarm0",
        "colab_type": "text"
      },
      "cell_type": "markdown",
      "source": [
        "### Width and height"
      ]
    },
    {
      "metadata": {
        "id": "65IToa2La3CA",
        "colab_type": "code",
        "outputId": "a928bc7c-c561-44bf-afc8-5e18e9e3ceed",
        "colab": {
          "base_uri": "https://localhost:8080/",
          "height": 219
        }
      },
      "cell_type": "code",
      "source": [
        "def addW_n_H(X):\n",
        "  def W_n_H(img):\n",
        "    img = (img > threshold)\n",
        "    img = img.reshape((28,28))\n",
        "    # https://stackoverflow.com/questions/52931022/finding-height-and-width-of-an-image-using-numpy-and-pixel-locations\n",
        "    col_ind=np.any(img, axis=0).nonzero()[0]\n",
        "    row_ind=np.any(img, axis=1).nonzero()[0]\n",
        "    try:\n",
        "      w = col_ind[-1] - col_ind[0]\n",
        "      h = row_ind[-1] - row_ind[0]\n",
        "    except:\n",
        "      w, h = 0, 0\n",
        "    return [w, h]\n",
        "    \n",
        "  new = np.apply_along_axis(W_n_H, 1, X)\n",
        "  new = new / max(np.max(new), 1)\n",
        "  return np.c_[new, X]\n",
        "\n",
        "print(addW_n_H(orig_tr_im[0:10])[:,0:2])\n",
        "print (train_labels_original[0:10])"
      ],
      "execution_count": 0,
      "outputs": [
        {
          "output_type": "stream",
          "text": [
            "[[0.89473684 1.        ]\n",
            " [0.78947368 1.        ]\n",
            " [0.94736842 1.        ]\n",
            " [0.57894737 1.        ]\n",
            " [0.68421053 1.        ]\n",
            " [1.         0.78947368]\n",
            " [0.26315789 1.        ]\n",
            " [0.84210526 1.        ]\n",
            " [0.10526316 1.        ]\n",
            " [0.89473684 1.        ]]\n",
            "[5 0 4 1 9 2 1 3 1 4]\n"
          ],
          "name": "stdout"
        }
      ]
    },
    {
      "metadata": {
        "id": "CxfQli-Hmk7e",
        "colab_type": "text"
      },
      "cell_type": "markdown",
      "source": [
        "### Adding all 4 new features"
      ]
    },
    {
      "metadata": {
        "id": "S3mWFbUamo3Q",
        "colab_type": "code",
        "colab": {}
      },
      "cell_type": "code",
      "source": [
        "new_test_images = addW_n_H(test_images)"
      ],
      "execution_count": 0,
      "outputs": []
    },
    {
      "metadata": {
        "id": "PpzG8_UZm3qL",
        "colab_type": "code",
        "colab": {}
      },
      "cell_type": "code",
      "source": [
        "wra = makeWhiteRegionsA(test_images)"
      ],
      "execution_count": 0,
      "outputs": []
    },
    {
      "metadata": {
        "id": "f2uyw1E6nIQb",
        "colab_type": "code",
        "colab": {}
      },
      "cell_type": "code",
      "source": [
        "wrb = makeWhiteRegionsB(test_images)"
      ],
      "execution_count": 0,
      "outputs": []
    },
    {
      "metadata": {
        "id": "UiDRw-jC1pnr",
        "colab_type": "code",
        "colab": {}
      },
      "cell_type": "code",
      "source": [
        "test_images=np.c_[wra, wrb, new_test_images]"
      ],
      "execution_count": 0,
      "outputs": []
    },
    {
      "metadata": {
        "id": "0e5s8JRqnUBl",
        "colab_type": "code",
        "colab": {}
      },
      "cell_type": "code",
      "source": [
        "new_train_images = addW_n_H(train_images)"
      ],
      "execution_count": 0,
      "outputs": []
    },
    {
      "metadata": {
        "id": "3ZY6q8j8nZFY",
        "colab_type": "code",
        "colab": {}
      },
      "cell_type": "code",
      "source": [
        "wra = makeWhiteRegionsA(train_images)"
      ],
      "execution_count": 0,
      "outputs": []
    },
    {
      "metadata": {
        "id": "niF78xFwnfOk",
        "colab_type": "code",
        "colab": {}
      },
      "cell_type": "code",
      "source": [
        "wrb = makeWhiteRegionsB(train_images)"
      ],
      "execution_count": 0,
      "outputs": []
    },
    {
      "metadata": {
        "colab_type": "code",
        "id": "YqYWsY9L18Xr",
        "colab": {}
      },
      "cell_type": "code",
      "source": [
        "train_images=np.c_[wra, wrb, new_train_images]"
      ],
      "execution_count": 0,
      "outputs": []
    },
    {
      "metadata": {
        "id": "D5W3rQa1nrFZ",
        "colab_type": "code",
        "outputId": "2a666bb4-52c7-4186-c635-b7fc5d2a717c",
        "colab": {
          "base_uri": "https://localhost:8080/",
          "height": 54
        }
      },
      "cell_type": "code",
      "source": [
        "print(train_images.shape)\n",
        "print(test_images.shape)"
      ],
      "execution_count": 0,
      "outputs": [
        {
          "output_type": "stream",
          "text": [
            "(60000, 788)\n",
            "(10000, 788)\n"
          ],
          "name": "stdout"
        }
      ]
    },
    {
      "metadata": {
        "id": "HwRvZSOvSzXx",
        "colab_type": "text"
      },
      "cell_type": "markdown",
      "source": [
        "## Preparing the labels\n",
        "\n",
        "We need to categorically encode the labels."
      ]
    },
    {
      "metadata": {
        "id": "C1ulkKRPSgJP",
        "colab_type": "code",
        "colab": {}
      },
      "cell_type": "code",
      "source": [
        "from keras.utils import to_categorical\n",
        "\n",
        "train_labels = to_categorical(train_labels_original)\n",
        "test_labels = to_categorical(test_labels_original)"
      ],
      "execution_count": 0,
      "outputs": []
    },
    {
      "metadata": {
        "id": "36YichvkWfgL",
        "colab_type": "text"
      },
      "cell_type": "markdown",
      "source": [
        "## The network architecture"
      ]
    },
    {
      "metadata": {
        "id": "J1ggKa17T2s5",
        "colab_type": "code",
        "outputId": "70ae663e-6f06-4513-f76d-1648e05fd58a",
        "colab": {
          "base_uri": "https://localhost:8080/",
          "height": 345
        }
      },
      "cell_type": "code",
      "source": [
        "from keras import models\n",
        "from keras import layers\n",
        "\n",
        "network = models.Sequential()\n",
        "network.add(layers.Dense(10, activation='softmax', input_shape=(train_images.shape[1],)))\n",
        "network.summary()\n",
        "\n",
        "from IPython.display import SVG\n",
        "from keras.utils.vis_utils import model_to_dot\n",
        "\n",
        "SVG(model_to_dot(network, show_shapes=True, rankdir='LR').create(prog='dot', format='svg'))\n"
      ],
      "execution_count": 0,
      "outputs": [
        {
          "output_type": "stream",
          "text": [
            "WARNING:tensorflow:From /usr/local/lib/python3.6/dist-packages/tensorflow/python/framework/op_def_library.py:263: colocate_with (from tensorflow.python.framework.ops) is deprecated and will be removed in a future version.\n",
            "Instructions for updating:\n",
            "Colocations handled automatically by placer.\n",
            "_________________________________________________________________\n",
            "Layer (type)                 Output Shape              Param #   \n",
            "=================================================================\n",
            "dense_1 (Dense)              (None, 10)                7890      \n",
            "=================================================================\n",
            "Total params: 7,890\n",
            "Trainable params: 7,890\n",
            "Non-trainable params: 0\n",
            "_________________________________________________________________\n"
          ],
          "name": "stdout"
        },
        {
          "output_type": "execute_result",
          "data": {
            "text/plain": [
              "<IPython.core.display.SVG object>"
            ],
            "image/svg+xml": "<svg height=\"78pt\" viewBox=\"0.00 0.00 340.00 78.00\" width=\"340pt\" xmlns=\"http://www.w3.org/2000/svg\" xmlns:xlink=\"http://www.w3.org/1999/xlink\">\n<g class=\"graph\" id=\"graph0\" transform=\"scale(1 1) rotate(0) translate(4 74)\">\n<title>G</title>\n<polygon fill=\"#ffffff\" points=\"-4,4 -4,-74 336,-74 336,4 -4,4\" stroke=\"transparent\"/>\n<!-- 140469897244064 -->\n<g class=\"node\" id=\"node1\">\n<title>140469897244064</title>\n<polygon fill=\"none\" points=\"165,-.5 165,-69.5 332,-69.5 332,-.5 165,-.5\" stroke=\"#000000\"/>\n<text fill=\"#000000\" font-family=\"Times,serif\" font-size=\"14.00\" text-anchor=\"middle\" x=\"248.5\" y=\"-54.3\">dense_1: Dense</text>\n<polyline fill=\"none\" points=\"165,-46.5 332,-46.5 \" stroke=\"#000000\"/>\n<text fill=\"#000000\" font-family=\"Times,serif\" font-size=\"14.00\" text-anchor=\"middle\" x=\"204.5\" y=\"-31.3\">input:</text>\n<polyline fill=\"none\" points=\"244,-23.5 244,-46.5 \" stroke=\"#000000\"/>\n<text fill=\"#000000\" font-family=\"Times,serif\" font-size=\"14.00\" text-anchor=\"middle\" x=\"288\" y=\"-31.3\">output:</text>\n<polyline fill=\"none\" points=\"165,-23.5 332,-23.5 \" stroke=\"#000000\"/>\n<text fill=\"#000000\" font-family=\"Times,serif\" font-size=\"14.00\" text-anchor=\"middle\" x=\"208.5\" y=\"-8.3\">(None, 788)</text>\n<polyline fill=\"none\" points=\"252,-.5 252,-23.5 \" stroke=\"#000000\"/>\n<text fill=\"#000000\" font-family=\"Times,serif\" font-size=\"14.00\" text-anchor=\"middle\" x=\"292\" y=\"-8.3\">(None, 10)</text>\n</g>\n<!-- 140469897244288 -->\n<g class=\"node\" id=\"node2\">\n<title>140469897244288</title>\n<polygon fill=\"none\" points=\"0,-17 0,-53 129,-53 129,-17 0,-17\" stroke=\"#000000\"/>\n<text fill=\"#000000\" font-family=\"Times,serif\" font-size=\"14.00\" text-anchor=\"middle\" x=\"64.5\" y=\"-31.3\">140469897244288</text>\n</g>\n<!-- 140469897244288&#45;&gt;140469897244064 -->\n<g class=\"edge\" id=\"edge1\">\n<title>140469897244288-&gt;140469897244064</title>\n<path d=\"M129.1128,-35C137.4486,-35 146.1144,-35 154.8005,-35\" fill=\"none\" stroke=\"#000000\"/>\n<polygon fill=\"#000000\" points=\"154.9879,-38.5001 164.9879,-35 154.9879,-31.5001 154.9879,-38.5001\" stroke=\"#000000\"/>\n</g>\n</g>\n</svg>"
          },
          "metadata": {
            "tags": []
          },
          "execution_count": 18
        }
      ]
    },
    {
      "metadata": {
        "id": "8H6VF7ZIY6Oy",
        "colab_type": "text"
      },
      "cell_type": "markdown",
      "source": [
        "## The compilation step"
      ]
    },
    {
      "metadata": {
        "id": "mHp0sz7cYPsK",
        "colab_type": "code",
        "colab": {}
      },
      "cell_type": "code",
      "source": [
        "network.compile(optimizer='sgd',\n",
        "                loss='categorical_crossentropy',\n",
        "                metrics=['accuracy'])\n",
        "\n"
      ],
      "execution_count": 0,
      "outputs": []
    },
    {
      "metadata": {
        "id": "3SnwsJAtZtYx",
        "colab_type": "text"
      },
      "cell_type": "markdown",
      "source": [
        "## The training step"
      ]
    },
    {
      "metadata": {
        "id": "2YuVq3JIZksS",
        "colab_type": "code",
        "outputId": "82e0b13e-6209-4032-b31e-ffe3b8e6af90",
        "colab": {
          "base_uri": "https://localhost:8080/",
          "height": 1927
        }
      },
      "cell_type": "code",
      "source": [
        "epochs = 50\n",
        "history = network.fit(train_images, \n",
        "                      train_labels, \n",
        "                      epochs=epochs, \n",
        "                      batch_size=128, \n",
        "                      validation_data=(test_images, test_labels))"
      ],
      "execution_count": 0,
      "outputs": [
        {
          "output_type": "stream",
          "text": [
            "WARNING:tensorflow:From /usr/local/lib/python3.6/dist-packages/tensorflow/python/ops/math_ops.py:3066: to_int32 (from tensorflow.python.ops.math_ops) is deprecated and will be removed in a future version.\n",
            "Instructions for updating:\n",
            "Use tf.cast instead.\n",
            "Train on 60000 samples, validate on 10000 samples\n",
            "Epoch 1/50\n",
            "60000/60000 [==============================] - 4s 63us/step - loss: 1.2643 - acc: 0.7103 - val_loss: 0.7960 - val_acc: 0.8415\n",
            "Epoch 2/50\n",
            "60000/60000 [==============================] - 2s 29us/step - loss: 0.7045 - acc: 0.8460 - val_loss: 0.5945 - val_acc: 0.8668\n",
            "Epoch 3/50\n",
            "60000/60000 [==============================] - 2s 29us/step - loss: 0.5772 - acc: 0.8638 - val_loss: 0.5136 - val_acc: 0.8778\n",
            "Epoch 4/50\n",
            "60000/60000 [==============================] - 2s 29us/step - loss: 0.5158 - acc: 0.8736 - val_loss: 0.4685 - val_acc: 0.8845\n",
            "Epoch 5/50\n",
            "60000/60000 [==============================] - 2s 29us/step - loss: 0.4781 - acc: 0.8793 - val_loss: 0.4387 - val_acc: 0.8888\n",
            "Epoch 6/50\n",
            "60000/60000 [==============================] - 2s 29us/step - loss: 0.4520 - acc: 0.8839 - val_loss: 0.4175 - val_acc: 0.8920\n",
            "Epoch 7/50\n",
            "60000/60000 [==============================] - 2s 29us/step - loss: 0.4327 - acc: 0.8870 - val_loss: 0.4011 - val_acc: 0.8959\n",
            "Epoch 8/50\n",
            "60000/60000 [==============================] - 2s 29us/step - loss: 0.4175 - acc: 0.8893 - val_loss: 0.3882 - val_acc: 0.8994\n",
            "Epoch 9/50\n",
            "60000/60000 [==============================] - 2s 29us/step - loss: 0.4052 - acc: 0.8921 - val_loss: 0.3777 - val_acc: 0.9019\n",
            "Epoch 10/50\n",
            "60000/60000 [==============================] - 2s 29us/step - loss: 0.3949 - acc: 0.8943 - val_loss: 0.3687 - val_acc: 0.9033\n",
            "Epoch 11/50\n",
            "60000/60000 [==============================] - 2s 29us/step - loss: 0.3863 - acc: 0.8958 - val_loss: 0.3614 - val_acc: 0.9051\n",
            "Epoch 12/50\n",
            "60000/60000 [==============================] - 2s 29us/step - loss: 0.3787 - acc: 0.8977 - val_loss: 0.3544 - val_acc: 0.9068\n",
            "Epoch 13/50\n",
            "60000/60000 [==============================] - 2s 29us/step - loss: 0.3721 - acc: 0.8990 - val_loss: 0.3489 - val_acc: 0.9077\n",
            "Epoch 14/50\n",
            "60000/60000 [==============================] - 2s 29us/step - loss: 0.3662 - acc: 0.9003 - val_loss: 0.3439 - val_acc: 0.9092\n",
            "Epoch 15/50\n",
            "60000/60000 [==============================] - 2s 29us/step - loss: 0.3610 - acc: 0.9013 - val_loss: 0.3392 - val_acc: 0.9109\n",
            "Epoch 16/50\n",
            "60000/60000 [==============================] - 2s 29us/step - loss: 0.3562 - acc: 0.9028 - val_loss: 0.3350 - val_acc: 0.9117\n",
            "Epoch 17/50\n",
            "60000/60000 [==============================] - 2s 30us/step - loss: 0.3520 - acc: 0.9035 - val_loss: 0.3315 - val_acc: 0.9121\n",
            "Epoch 18/50\n",
            "60000/60000 [==============================] - 2s 30us/step - loss: 0.3480 - acc: 0.9045 - val_loss: 0.3277 - val_acc: 0.9125\n",
            "Epoch 19/50\n",
            "60000/60000 [==============================] - 2s 30us/step - loss: 0.3444 - acc: 0.9055 - val_loss: 0.3252 - val_acc: 0.9127\n",
            "Epoch 20/50\n",
            "60000/60000 [==============================] - 2s 31us/step - loss: 0.3410 - acc: 0.9062 - val_loss: 0.3218 - val_acc: 0.9137\n",
            "Epoch 21/50\n",
            "60000/60000 [==============================] - 2s 30us/step - loss: 0.3379 - acc: 0.9066 - val_loss: 0.3191 - val_acc: 0.9142\n",
            "Epoch 22/50\n",
            "60000/60000 [==============================] - 2s 30us/step - loss: 0.3350 - acc: 0.9075 - val_loss: 0.3167 - val_acc: 0.9148\n",
            "Epoch 23/50\n",
            "60000/60000 [==============================] - 2s 30us/step - loss: 0.3323 - acc: 0.9082 - val_loss: 0.3143 - val_acc: 0.9150\n",
            "Epoch 24/50\n",
            "60000/60000 [==============================] - 2s 29us/step - loss: 0.3297 - acc: 0.9091 - val_loss: 0.3120 - val_acc: 0.9161\n",
            "Epoch 25/50\n",
            "60000/60000 [==============================] - 2s 29us/step - loss: 0.3273 - acc: 0.9095 - val_loss: 0.3100 - val_acc: 0.9165\n",
            "Epoch 26/50\n",
            "60000/60000 [==============================] - 2s 29us/step - loss: 0.3250 - acc: 0.9099 - val_loss: 0.3083 - val_acc: 0.9162\n",
            "Epoch 27/50\n",
            "60000/60000 [==============================] - 2s 29us/step - loss: 0.3229 - acc: 0.9108 - val_loss: 0.3063 - val_acc: 0.9171\n",
            "Epoch 28/50\n",
            "60000/60000 [==============================] - 2s 29us/step - loss: 0.3209 - acc: 0.9114 - val_loss: 0.3043 - val_acc: 0.9174\n",
            "Epoch 29/50\n",
            "60000/60000 [==============================] - 2s 29us/step - loss: 0.3189 - acc: 0.9116 - val_loss: 0.3028 - val_acc: 0.9179\n",
            "Epoch 30/50\n",
            "60000/60000 [==============================] - 2s 30us/step - loss: 0.3171 - acc: 0.9123 - val_loss: 0.3014 - val_acc: 0.9177\n",
            "Epoch 31/50\n",
            "60000/60000 [==============================] - 2s 29us/step - loss: 0.3153 - acc: 0.9131 - val_loss: 0.3003 - val_acc: 0.9179\n",
            "Epoch 32/50\n",
            "60000/60000 [==============================] - 2s 30us/step - loss: 0.3136 - acc: 0.9132 - val_loss: 0.2985 - val_acc: 0.9184\n",
            "Epoch 33/50\n",
            "60000/60000 [==============================] - 2s 29us/step - loss: 0.3121 - acc: 0.9136 - val_loss: 0.2970 - val_acc: 0.9188\n",
            "Epoch 34/50\n",
            "60000/60000 [==============================] - 2s 29us/step - loss: 0.3105 - acc: 0.9142 - val_loss: 0.2955 - val_acc: 0.9192\n",
            "Epoch 35/50\n",
            "60000/60000 [==============================] - 2s 30us/step - loss: 0.3090 - acc: 0.9145 - val_loss: 0.2941 - val_acc: 0.9193\n",
            "Epoch 36/50\n",
            "60000/60000 [==============================] - 2s 29us/step - loss: 0.3075 - acc: 0.9148 - val_loss: 0.2935 - val_acc: 0.9200\n",
            "Epoch 37/50\n",
            "60000/60000 [==============================] - 2s 30us/step - loss: 0.3062 - acc: 0.9154 - val_loss: 0.2919 - val_acc: 0.9197\n",
            "Epoch 38/50\n",
            "60000/60000 [==============================] - 2s 30us/step - loss: 0.3049 - acc: 0.9156 - val_loss: 0.2909 - val_acc: 0.9200\n",
            "Epoch 39/50\n",
            "60000/60000 [==============================] - 2s 29us/step - loss: 0.3036 - acc: 0.9160 - val_loss: 0.2898 - val_acc: 0.9207\n",
            "Epoch 40/50\n",
            "60000/60000 [==============================] - 2s 29us/step - loss: 0.3024 - acc: 0.9163 - val_loss: 0.2888 - val_acc: 0.9211\n",
            "Epoch 41/50\n",
            "60000/60000 [==============================] - 2s 30us/step - loss: 0.3012 - acc: 0.9165 - val_loss: 0.2880 - val_acc: 0.9207\n",
            "Epoch 42/50\n",
            "60000/60000 [==============================] - 2s 30us/step - loss: 0.3001 - acc: 0.9169 - val_loss: 0.2870 - val_acc: 0.9214\n",
            "Epoch 43/50\n",
            "60000/60000 [==============================] - 2s 30us/step - loss: 0.2989 - acc: 0.9173 - val_loss: 0.2860 - val_acc: 0.9217\n",
            "Epoch 44/50\n",
            "60000/60000 [==============================] - 2s 30us/step - loss: 0.2978 - acc: 0.9176 - val_loss: 0.2850 - val_acc: 0.9228\n",
            "Epoch 45/50\n",
            "60000/60000 [==============================] - 2s 30us/step - loss: 0.2968 - acc: 0.9180 - val_loss: 0.2842 - val_acc: 0.9220\n",
            "Epoch 46/50\n",
            "60000/60000 [==============================] - 2s 30us/step - loss: 0.2958 - acc: 0.9180 - val_loss: 0.2835 - val_acc: 0.9226\n",
            "Epoch 47/50\n",
            "60000/60000 [==============================] - 2s 29us/step - loss: 0.2948 - acc: 0.9182 - val_loss: 0.2825 - val_acc: 0.9230\n",
            "Epoch 48/50\n",
            "60000/60000 [==============================] - 2s 30us/step - loss: 0.2938 - acc: 0.9183 - val_loss: 0.2815 - val_acc: 0.9240\n",
            "Epoch 49/50\n",
            "60000/60000 [==============================] - 2s 30us/step - loss: 0.2929 - acc: 0.9189 - val_loss: 0.2813 - val_acc: 0.9227\n",
            "Epoch 50/50\n",
            "60000/60000 [==============================] - 2s 30us/step - loss: 0.2920 - acc: 0.9192 - val_loss: 0.2800 - val_acc: 0.9246\n"
          ],
          "name": "stdout"
        }
      ]
    },
    {
      "metadata": {
        "id": "vTtzYNe-a-Ro",
        "colab_type": "text"
      },
      "cell_type": "markdown",
      "source": [
        "## Display the training/test loss/accuracy"
      ]
    },
    {
      "metadata": {
        "id": "kZ70napGZ-cK",
        "colab_type": "code",
        "colab": {}
      },
      "cell_type": "code",
      "source": [
        "history_dict = history.history\n",
        "loss_values = history_dict['loss']\n",
        "test_loss_values = history_dict['val_loss']\n",
        "epochs_range = range(1, epochs + 1)"
      ],
      "execution_count": 0,
      "outputs": []
    },
    {
      "metadata": {
        "id": "9aM-5qqCfnck",
        "colab_type": "code",
        "outputId": "973a2010-5536-4549-91f9-19bc7162117e",
        "colab": {
          "base_uri": "https://localhost:8080/",
          "height": 376
        }
      },
      "cell_type": "code",
      "source": [
        "import matplotlib.pyplot as plt\n",
        "\n",
        "plt.plot(epochs_range, loss_values, 'bo', label='Training loss')\n",
        "plt.plot(epochs_range, test_loss_values, 'ro', label='Test loss')\n",
        "plt.title('Training and test loss')\n",
        "plt.xlabel('Epochs')\n",
        "plt.ylabel('Loss')\n",
        "plt.legend()\n",
        "plt.show()"
      ],
      "execution_count": 0,
      "outputs": [
        {
          "output_type": "display_data",
          "data": {
            "image/png": "[encoded data removed]",
            "text/plain": [
              "<Figure size 576x396 with 1 Axes>"
            ]
          },
          "metadata": {
            "tags": []
          }
        }
      ]
    },
    {
      "metadata": {
        "id": "-IB2uFCzez-e",
        "colab_type": "code",
        "colab": {}
      },
      "cell_type": "code",
      "source": [
        "acc_values = history_dict['acc']\n",
        "test_acc_values = history_dict['val_acc']"
      ],
      "execution_count": 0,
      "outputs": []
    },
    {
      "metadata": {
        "id": "AdyXVyeLf-SV",
        "colab_type": "code",
        "outputId": "39989fe4-6ec3-4ad4-f44c-a5635bb5405d",
        "colab": {
          "base_uri": "https://localhost:8080/",
          "height": 376
        }
      },
      "cell_type": "code",
      "source": [
        "plt.plot(epochs_range, acc_values, 'bo', label='Training accuracy')\n",
        "plt.plot(epochs_range, test_acc_values, 'ro', label='Test accuracy')\n",
        "plt.title('Training and test accuracy')\n",
        "plt.xlabel('Epochs')\n",
        "plt.ylabel('Accuracy')\n",
        "plt.legend()\n",
        "plt.show()"
      ],
      "execution_count": 0,
      "outputs": [
        {
          "output_type": "display_data",
          "data": {
            "image/png": "[encoded data removed]",
            "text/plain": [
              "<Figure size 576x396 with 1 Axes>"
            ]
          },
          "metadata": {
            "tags": []
          }
        }
      ]
    },
    {
      "metadata": {
        "id": "6gUPEpHkSNkI",
        "colab_type": "text"
      },
      "cell_type": "markdown",
      "source": [
        "## Result of adding 4 extra features"
      ]
    },
    {
      "metadata": {
        "id": "Y9qTpDH-SVOW",
        "colab_type": "text"
      },
      "cell_type": "markdown",
      "source": [
        "Model with 4 extra features performed a little better than the original"
      ]
    },
    {
      "metadata": {
        "id": "KeW39-fWxux2",
        "colab_type": "text"
      },
      "cell_type": "markdown",
      "source": [
        "## Analysis of misclassifications"
      ]
    },
    {
      "metadata": {
        "id": "AJaEdLmMyAbG",
        "colab_type": "text"
      },
      "cell_type": "markdown",
      "source": [
        "We will use the training data as this is the correct approach"
      ]
    },
    {
      "metadata": {
        "id": "TMYTQHy1xsa0",
        "colab_type": "code",
        "colab": {}
      },
      "cell_type": "code",
      "source": [
        "predicted_labels = np.argmax(network.predict(train_images), axis=1) \n",
        "predicted_labels = predicted_labels.astype('uint8')\n",
        "wrong_indices = [i for i in range(60000) if predicted_labels[i] != train_labels_original[i]]"
      ],
      "execution_count": 0,
      "outputs": []
    },
    {
      "metadata": {
        "id": "zdGxgY3SzvL7",
        "colab_type": "text"
      },
      "cell_type": "markdown",
      "source": [
        "Generating a table of mismatch ('10' is the sum (times 0.3) of all mismatches in the row/column)"
      ]
    },
    {
      "metadata": {
        "id": "ROLgeI2mzt-G",
        "colab_type": "code",
        "colab": {}
      },
      "cell_type": "code",
      "source": [
        "def showMiscl():\n",
        "  mm=np.zeros((12,12))\n",
        "\n",
        "  for i in wrong_indices:\n",
        "    mm[predicted_labels[i], train_labels_original[i]]+=1\n",
        "    mm[predicted_labels[i], 11]+=.3\n",
        "    mm[11, train_labels_original[i]]+=.3\n",
        "  plt.imshow(mm)\n",
        "  plt.grid(None)\n",
        "  plt.xlabel('true label')\n",
        "  plt.ylabel('predicted label')\n",
        "  plt.show()\n",
        "  \n",
        "  print(mm)\n"
      ],
      "execution_count": 0,
      "outputs": []
    },
    {
      "metadata": {
        "id": "t15R2rf1C99Z",
        "colab_type": "code",
        "outputId": "66e1ba6e-2859-45ba-96e6-b0cf9caa4915",
        "colab": {
          "base_uri": "https://localhost:8080/",
          "height": 581
        }
      },
      "cell_type": "code",
      "source": [
        "showMiscl()"
      ],
      "execution_count": 0,
      "outputs": [
        {
          "output_type": "display_data",
          "data": {
            "image/png": "[encoded data removed]",
            "text/plain": [
              "<Figure size 576x396 with 1 Axes>"
            ]
          },
          "metadata": {
            "tags": []
          }
        },
        {
          "output_type": "stream",
          "text": [
            "[[  0.    1.   40.   20.   12.   73.   36.   29.   30.   35.    0.   82.8]\n",
            " [  0.    0.   62.   38.   31.   40.   20.   49.  112.   33.    0.  115.5]\n",
            " [ 24.   36.    0.  139.   36.   51.   51.   86.   66.   28.    0.  155.1]\n",
            " [ 13.   27.   85.    0.    7.  181.    3.   23.  123.   83.    0.  163.5]\n",
            " [ 12.    6.   98.    5.    0.   58.   46.   66.   27.  168.    0.  145.8]\n",
            " [ 42.   33.   30.  243.    5.    0.   69.   10.  127.   33.    0.  177.6]\n",
            " [ 46.    6.   80.   31.   64.   97.    0.    3.   49.    3.    0.  113.7]\n",
            " [  8.   18.   94.   72.   15.   22.    7.    0.   18.  178.    0.  129.6]\n",
            " [ 56.   63.  128.   90.   33.  107.   37.   12.    0.   48.    0.  172.2]\n",
            " [  8.    8.   29.   63.  221.   58.    0.  186.   89.    0.    0.  198.6]\n",
            " [  0.    0.    0.    0.    0.    0.    0.    0.    0.    0.    0.    0. ]\n",
            " [ 62.7  59.4 193.8 210.3 127.2 206.1  80.7 139.2 192.3 182.7   0.    0. ]]\n"
          ],
          "name": "stdout"
        }
      ]
    },
    {
      "metadata": {
        "id": "x5VMKvnNFjjP",
        "colab_type": "text"
      },
      "cell_type": "markdown",
      "source": [
        "9 is often misclassified as 4 or 7 and vice versa\n",
        "\n",
        "3 is othen misclassified as 5 and vice versa\n",
        "\n",
        "2 is often miclassified as 3 and vice versa"
      ]
    },
    {
      "metadata": {
        "id": "5NQB7TV9GPPp",
        "colab_type": "text"
      },
      "cell_type": "markdown",
      "source": [
        "## New features"
      ]
    },
    {
      "metadata": {
        "id": "mqtRhj_nGX8w",
        "colab_type": "text"
      },
      "cell_type": "markdown",
      "source": [
        "### Inner pixels"
      ]
    },
    {
      "metadata": {
        "id": "rRBelQ5cGeWq",
        "colab_type": "text"
      },
      "cell_type": "markdown",
      "source": [
        "Pixels that are not connected to corners"
      ]
    },
    {
      "metadata": {
        "id": "eBxn3c1XGqqm",
        "colab_type": "code",
        "outputId": "ecf8f7b3-e49f-4fec-9f52-773a3237739f",
        "colab": {
          "base_uri": "https://localhost:8080/",
          "height": 677
        }
      },
      "cell_type": "code",
      "source": [
        "def makeInnerPixels(X):\n",
        "  nbs = [-29, -1, -28, -27, 1, 29, 28, 27]\n",
        "  def paintCorners(img):\n",
        "    # do BW\n",
        "    img = (img > threshold)\n",
        "    n = len(img)\n",
        "    #assume 28 x 28\n",
        "    paint(0, n, img, nbs)\n",
        "    paint(n-1, n, img, nbs)\n",
        "    paint(27, n, img, nbs)\n",
        "    paint (n-28, n, img, nbs)\n",
        "    #convert bool to float\n",
        "    img = img.astype('float32')\n",
        "    return img\n",
        "  \n",
        "  new = np.apply_along_axis(paintCorners, 1, X)\n",
        "  \n",
        "  return new\n",
        "\n",
        "# demo\n",
        "plt.imshow(makeInnerPixels(orig_tr_im[0:2])[1].reshape((28,28)))\n",
        "plt.grid(None)\n",
        "plt.show()\n",
        "plt.imshow(train_images_original[1])\n",
        "plt.grid(None)\n",
        "plt.show()"
      ],
      "execution_count": 0,
      "outputs": [
        {
          "output_type": "display_data",
          "data": {
            "image/png": "[encoded data removed]",
            "text/plain": [
              "<Figure size 576x396 with 1 Axes>"
            ]
          },
          "metadata": {
            "tags": []
          }
        },
        {
          "output_type": "display_data",
          "data": {
            "image/png": "[encoded data removed]",
            "text/plain": [
              "<Figure size 576x396 with 1 Axes>"
            ]
          },
          "metadata": {
            "tags": []
          }
        }
      ]
    },
    {
      "metadata": {
        "id": "JmJlPpSxl5W4",
        "colab_type": "text"
      },
      "cell_type": "markdown",
      "source": [
        "### Leftest right and rightest left"
      ]
    },
    {
      "metadata": {
        "id": "jKUFXUDqmJC9",
        "colab_type": "code",
        "colab": {}
      },
      "cell_type": "code",
      "source": [
        "def makeLR_n_RL(X):\n",
        "  nbs = [-29, -1, -28, -27, 1, 29, 28, 27]\n",
        "  \n",
        "    \n",
        "  def calcLR_n_RL(img):\n",
        "    def findRL(img):\n",
        "      #fixing paint bug\n",
        "      img=img.copy()\n",
        "      img[0:n:28]=True\n",
        "      #painting\n",
        "      i = img.copy()\n",
        "      paint(27, n, i, nbs)\n",
        "      paint (n-1, n, i, nbs)\n",
        "      # now find the difference\n",
        "      diff = np.logical_xor(img, i).reshape((28,28))\n",
        "      return np.argmax(diff,axis=1)\n",
        "    \n",
        "    # do BW\n",
        "    img = (img > threshold)\n",
        "    n = len(img)\n",
        "    #assume 28 x 28\n",
        "    #find top and bottom\n",
        "    i_top=np.argmax(img)\n",
        "    i_bottom=n-1 - np.argmax(img[::-1])\n",
        "    #fill gaps on top and bottom\n",
        "    for i in range(i_top-28, -1, -28):\n",
        "      img[i]=True\n",
        "    for i in range(i_bottom+28, n, 28):\n",
        "      img[i]=True\n",
        "    ## find LR and RL\n",
        "    RL = findRL(img)\n",
        "    LR = findRL(img[::-1])[::-1]\n",
        "    return np.concatenate((LR, RL))\n",
        "  \n",
        "  new = np.apply_along_axis(calcLR_n_RL, 1, X)\n",
        "  \n",
        "  return new / max(np.max(new), 1)\n",
        "\n"
      ],
      "execution_count": 0,
      "outputs": []
    },
    {
      "metadata": {
        "id": "H2824qULXHus",
        "colab_type": "code",
        "outputId": "2c6c8843-e89f-4bd9-a58b-9b2ac1832206",
        "colab": {
          "base_uri": "https://localhost:8080/",
          "height": 714
        }
      },
      "cell_type": "code",
      "source": [
        "# demo\n",
        "\n",
        "LR_n_RL = makeLR_n_RL(orig_tr_im[6:8])\n",
        "\n",
        "print(LR_n_RL)\n",
        "\n",
        "plt_y = range(0,28)\n",
        "plt.imshow(train_images_original[7])\n",
        "plt.grid(None)\n",
        "plt.plot(27-LR_n_RL[1,0:28]*23, plt_y, 'ro')\n",
        "plt.plot(LR_n_RL[1,28:]*23, plt_y, 'bo')\n",
        "plt.show()"
      ],
      "execution_count": 0,
      "outputs": [
        {
          "output_type": "stream",
          "text": [
            "[[0.65217391 0.65217391 0.65217391 0.65217391 0.65217391 0.69565217\n",
            "  0.69565217 0.65217391 0.69565217 0.69565217 0.65217391 0.65217391\n",
            "  0.65217391 0.65217391 0.65217391 0.65217391 0.65217391 0.65217391\n",
            "  0.60869565 0.60869565 0.60869565 0.60869565 0.56521739 0.56521739\n",
            "  0.47826087 0.47826087 0.47826087 0.47826087 0.60869565 0.60869565\n",
            "  0.60869565 0.60869565 0.65217391 0.65217391 0.65217391 0.65217391\n",
            "  0.65217391 0.65217391 0.69565217 0.69565217 0.69565217 0.69565217\n",
            "  0.69565217 0.69565217 0.73913043 0.73913043 0.73913043 0.73913043\n",
            "  0.7826087  0.7826087  0.7826087  0.7826087  0.7826087  0.7826087\n",
            "  0.7826087  0.7826087 ]\n",
            " [0.60869565 0.60869565 0.60869565 0.60869565 0.60869565 0.60869565\n",
            "  0.73913043 0.82608696 0.47826087 0.43478261 0.43478261 0.47826087\n",
            "  0.56521739 0.73913043 0.82608696 0.82608696 0.47826087 0.47826087\n",
            "  0.47826087 0.52173913 0.56521739 0.65217391 1.         0.95652174\n",
            "  0.86956522 0.7826087  0.7826087  0.7826087  0.65217391 0.65217391\n",
            "  0.65217391 0.65217391 0.65217391 0.91304348 0.95652174 0.95652174\n",
            "  0.95652174 0.95652174 0.91304348 0.91304348 0.91304348 0.82608696\n",
            "  0.82608696 0.82608696 0.82608696 0.82608696 0.82608696 0.82608696\n",
            "  0.82608696 0.7826087  0.69565217 0.60869565 0.47826087 0.47826087\n",
            "  0.47826087 0.47826087]]\n"
          ],
          "name": "stdout"
        },
        {
          "output_type": "display_data",
          "data": {
            "image/png": "[encoded data removed]",
            "text/plain": [
              "<Figure size 576x396 with 1 Axes>"
            ]
          },
          "metadata": {
            "tags": []
          }
        }
      ]
    },
    {
      "metadata": {
        "id": "lE4dAOpXmCy2",
        "colab_type": "text"
      },
      "cell_type": "markdown",
      "source": [
        "### Calculate with new features"
      ]
    },
    {
      "metadata": {
        "id": "PizI1kgXMll4",
        "colab_type": "code",
        "colab": {}
      },
      "cell_type": "code",
      "source": [
        "extra_features = makeInnerPixels(orig_tst_im)"
      ],
      "execution_count": 0,
      "outputs": []
    },
    {
      "metadata": {
        "id": "gjibCnJVMxgX",
        "colab_type": "code",
        "colab": {}
      },
      "cell_type": "code",
      "source": [
        "test_images=np.c_[extra_features, test_images]"
      ],
      "execution_count": 0,
      "outputs": []
    },
    {
      "metadata": {
        "colab_type": "code",
        "id": "tkFym2E6SXHi",
        "colab": {}
      },
      "cell_type": "code",
      "source": [
        "extra_features = makeLR_n_RL(orig_tst_im)"
      ],
      "execution_count": 0,
      "outputs": []
    },
    {
      "metadata": {
        "colab_type": "code",
        "id": "A3Kl7aw1SXHz",
        "colab": {}
      },
      "cell_type": "code",
      "source": [
        "test_images=np.c_[extra_features, test_images]"
      ],
      "execution_count": 0,
      "outputs": []
    },
    {
      "metadata": {
        "id": "etVZwOUqMYBQ",
        "colab_type": "code",
        "colab": {}
      },
      "cell_type": "code",
      "source": [
        "extra_features = makeInnerPixels(orig_tr_im)"
      ],
      "execution_count": 0,
      "outputs": []
    },
    {
      "metadata": {
        "id": "MrUZHc70M4Z9",
        "colab_type": "code",
        "colab": {}
      },
      "cell_type": "code",
      "source": [
        "train_images=np.c_[extra_features, train_images]"
      ],
      "execution_count": 0,
      "outputs": []
    },
    {
      "metadata": {
        "colab_type": "code",
        "id": "1JHffu-LR-V7",
        "colab": {}
      },
      "cell_type": "code",
      "source": [
        "extra_features = makeLR_n_RL(orig_tr_im)"
      ],
      "execution_count": 0,
      "outputs": []
    },
    {
      "metadata": {
        "colab_type": "code",
        "id": "F4Lwqj-2R-WT",
        "colab": {}
      },
      "cell_type": "code",
      "source": [
        "train_images=np.c_[extra_features, train_images]"
      ],
      "execution_count": 0,
      "outputs": []
    },
    {
      "metadata": {
        "id": "mxlWDZ1pNUOx",
        "colab_type": "code",
        "outputId": "ec5935cf-578a-4c52-801c-573e82cf1aa0",
        "colab": {
          "base_uri": "https://localhost:8080/",
          "height": 182
        }
      },
      "cell_type": "code",
      "source": [
        "network = models.Sequential()\n",
        "network.add(layers.Dense(10, activation='softmax', input_shape=(train_images.shape[1],)))\n",
        "network.summary()\n",
        "network.compile(optimizer='sgd',\n",
        "                loss='categorical_crossentropy',\n",
        "                metrics=['accuracy'])"
      ],
      "execution_count": 0,
      "outputs": [
        {
          "output_type": "stream",
          "text": [
            "_________________________________________________________________\n",
            "Layer (type)                 Output Shape              Param #   \n",
            "=================================================================\n",
            "dense_2 (Dense)              (None, 10)                16290     \n",
            "=================================================================\n",
            "Total params: 16,290\n",
            "Trainable params: 16,290\n",
            "Non-trainable params: 0\n",
            "_________________________________________________________________\n"
          ],
          "name": "stdout"
        }
      ]
    },
    {
      "metadata": {
        "id": "119fiFsVNaJN",
        "colab_type": "code",
        "outputId": "c24c9351-1a43-4f88-83de-bbc0375aa978",
        "colab": {
          "base_uri": "https://localhost:8080/",
          "height": 1872
        }
      },
      "cell_type": "code",
      "source": [
        "epochs = 50\n",
        "history = network.fit(train_images, \n",
        "                      train_labels, \n",
        "                      epochs=epochs, \n",
        "                      batch_size=128, \n",
        "                      validation_data=(test_images, test_labels))"
      ],
      "execution_count": 0,
      "outputs": [
        {
          "output_type": "stream",
          "text": [
            "Train on 60000 samples, validate on 10000 samples\n",
            "Epoch 1/50\n",
            "60000/60000 [==============================] - 2s 37us/step - loss: 1.1117 - acc: 0.7483 - val_loss: 0.6751 - val_acc: 0.8464\n",
            "Epoch 2/50\n",
            "60000/60000 [==============================] - 2s 34us/step - loss: 0.5878 - acc: 0.8636 - val_loss: 0.5096 - val_acc: 0.8658\n",
            "Epoch 3/50\n",
            "60000/60000 [==============================] - 2s 34us/step - loss: 0.4791 - acc: 0.8822 - val_loss: 0.4342 - val_acc: 0.8919\n",
            "Epoch 4/50\n",
            "60000/60000 [==============================] - 2s 33us/step - loss: 0.4266 - acc: 0.8910 - val_loss: 0.3992 - val_acc: 0.8918\n",
            "Epoch 5/50\n",
            "60000/60000 [==============================] - 2s 34us/step - loss: 0.3939 - acc: 0.8965 - val_loss: 0.3694 - val_acc: 0.8987\n",
            "Epoch 6/50\n",
            "60000/60000 [==============================] - 2s 34us/step - loss: 0.3714 - acc: 0.9014 - val_loss: 0.3503 - val_acc: 0.9060\n",
            "Epoch 7/50\n",
            "60000/60000 [==============================] - 2s 34us/step - loss: 0.3542 - acc: 0.9042 - val_loss: 0.3315 - val_acc: 0.9109\n",
            "Epoch 8/50\n",
            "60000/60000 [==============================] - 2s 33us/step - loss: 0.3411 - acc: 0.9078 - val_loss: 0.3208 - val_acc: 0.9137\n",
            "Epoch 9/50\n",
            "60000/60000 [==============================] - 2s 33us/step - loss: 0.3300 - acc: 0.9102 - val_loss: 0.3114 - val_acc: 0.9172\n",
            "Epoch 10/50\n",
            "60000/60000 [==============================] - 2s 33us/step - loss: 0.3210 - acc: 0.9121 - val_loss: 0.3051 - val_acc: 0.9175\n",
            "Epoch 11/50\n",
            "60000/60000 [==============================] - 2s 32us/step - loss: 0.3135 - acc: 0.9133 - val_loss: 0.3000 - val_acc: 0.9195\n",
            "Epoch 12/50\n",
            "60000/60000 [==============================] - 2s 32us/step - loss: 0.3067 - acc: 0.9154 - val_loss: 0.2902 - val_acc: 0.9218\n",
            "Epoch 13/50\n",
            "60000/60000 [==============================] - 2s 33us/step - loss: 0.3008 - acc: 0.9162 - val_loss: 0.2866 - val_acc: 0.9212\n",
            "Epoch 14/50\n",
            "60000/60000 [==============================] - 2s 33us/step - loss: 0.2956 - acc: 0.9183 - val_loss: 0.2801 - val_acc: 0.9238\n",
            "Epoch 15/50\n",
            "60000/60000 [==============================] - 2s 33us/step - loss: 0.2911 - acc: 0.9193 - val_loss: 0.2766 - val_acc: 0.9251\n",
            "Epoch 16/50\n",
            "60000/60000 [==============================] - 2s 33us/step - loss: 0.2866 - acc: 0.9198 - val_loss: 0.2706 - val_acc: 0.9266\n",
            "Epoch 17/50\n",
            "60000/60000 [==============================] - 2s 33us/step - loss: 0.2826 - acc: 0.9214 - val_loss: 0.2697 - val_acc: 0.9257\n",
            "Epoch 18/50\n",
            "60000/60000 [==============================] - 2s 33us/step - loss: 0.2792 - acc: 0.9216 - val_loss: 0.2660 - val_acc: 0.9266\n",
            "Epoch 19/50\n",
            "60000/60000 [==============================] - 2s 33us/step - loss: 0.2757 - acc: 0.9227 - val_loss: 0.2642 - val_acc: 0.9286\n",
            "Epoch 20/50\n",
            "60000/60000 [==============================] - 2s 33us/step - loss: 0.2728 - acc: 0.9234 - val_loss: 0.2602 - val_acc: 0.9280\n",
            "Epoch 21/50\n",
            "60000/60000 [==============================] - 2s 33us/step - loss: 0.2700 - acc: 0.9244 - val_loss: 0.2573 - val_acc: 0.9286\n",
            "Epoch 22/50\n",
            "60000/60000 [==============================] - 2s 33us/step - loss: 0.2675 - acc: 0.9250 - val_loss: 0.2571 - val_acc: 0.9278\n",
            "Epoch 23/50\n",
            "60000/60000 [==============================] - 2s 33us/step - loss: 0.2650 - acc: 0.9251 - val_loss: 0.2537 - val_acc: 0.9307\n",
            "Epoch 24/50\n",
            "60000/60000 [==============================] - 2s 33us/step - loss: 0.2626 - acc: 0.9257 - val_loss: 0.2553 - val_acc: 0.9306\n",
            "Epoch 25/50\n",
            "60000/60000 [==============================] - 2s 33us/step - loss: 0.2606 - acc: 0.9267 - val_loss: 0.2494 - val_acc: 0.9330\n",
            "Epoch 26/50\n",
            "60000/60000 [==============================] - 2s 33us/step - loss: 0.2584 - acc: 0.9270 - val_loss: 0.2476 - val_acc: 0.9316\n",
            "Epoch 27/50\n",
            "60000/60000 [==============================] - 2s 33us/step - loss: 0.2569 - acc: 0.9276 - val_loss: 0.2458 - val_acc: 0.9325\n",
            "Epoch 28/50\n",
            "60000/60000 [==============================] - 2s 33us/step - loss: 0.2545 - acc: 0.9284 - val_loss: 0.2511 - val_acc: 0.9275\n",
            "Epoch 29/50\n",
            "60000/60000 [==============================] - 2s 33us/step - loss: 0.2532 - acc: 0.9287 - val_loss: 0.2438 - val_acc: 0.9315\n",
            "Epoch 30/50\n",
            "60000/60000 [==============================] - 2s 34us/step - loss: 0.2513 - acc: 0.9290 - val_loss: 0.2406 - val_acc: 0.9321\n",
            "Epoch 31/50\n",
            "60000/60000 [==============================] - 2s 33us/step - loss: 0.2494 - acc: 0.9300 - val_loss: 0.2422 - val_acc: 0.9332\n",
            "Epoch 32/50\n",
            "60000/60000 [==============================] - 2s 33us/step - loss: 0.2481 - acc: 0.9300 - val_loss: 0.2373 - val_acc: 0.9353\n",
            "Epoch 33/50\n",
            "60000/60000 [==============================] - 2s 33us/step - loss: 0.2466 - acc: 0.9305 - val_loss: 0.2369 - val_acc: 0.9351\n",
            "Epoch 34/50\n",
            "60000/60000 [==============================] - 2s 33us/step - loss: 0.2451 - acc: 0.9310 - val_loss: 0.2360 - val_acc: 0.9345\n",
            "Epoch 35/50\n",
            "60000/60000 [==============================] - 2s 33us/step - loss: 0.2439 - acc: 0.9313 - val_loss: 0.2370 - val_acc: 0.9348\n",
            "Epoch 36/50\n",
            "60000/60000 [==============================] - 2s 34us/step - loss: 0.2426 - acc: 0.9317 - val_loss: 0.2336 - val_acc: 0.9351\n",
            "Epoch 37/50\n",
            "60000/60000 [==============================] - 2s 33us/step - loss: 0.2412 - acc: 0.9323 - val_loss: 0.2342 - val_acc: 0.9354\n",
            "Epoch 38/50\n",
            "60000/60000 [==============================] - 2s 33us/step - loss: 0.2400 - acc: 0.9323 - val_loss: 0.2331 - val_acc: 0.9347\n",
            "Epoch 39/50\n",
            "60000/60000 [==============================] - 2s 33us/step - loss: 0.2389 - acc: 0.9329 - val_loss: 0.2330 - val_acc: 0.9350\n",
            "Epoch 40/50\n",
            "60000/60000 [==============================] - 2s 33us/step - loss: 0.2377 - acc: 0.9326 - val_loss: 0.2292 - val_acc: 0.9364\n",
            "Epoch 41/50\n",
            "60000/60000 [==============================] - 2s 33us/step - loss: 0.2366 - acc: 0.9331 - val_loss: 0.2289 - val_acc: 0.9357\n",
            "Epoch 42/50\n",
            "60000/60000 [==============================] - 2s 33us/step - loss: 0.2358 - acc: 0.9336 - val_loss: 0.2279 - val_acc: 0.9358\n",
            "Epoch 43/50\n",
            "60000/60000 [==============================] - 2s 33us/step - loss: 0.2348 - acc: 0.9334 - val_loss: 0.2270 - val_acc: 0.9360\n",
            "Epoch 44/50\n",
            "60000/60000 [==============================] - 2s 32us/step - loss: 0.2336 - acc: 0.9342 - val_loss: 0.2254 - val_acc: 0.9372\n",
            "Epoch 45/50\n",
            "60000/60000 [==============================] - 2s 33us/step - loss: 0.2329 - acc: 0.9337 - val_loss: 0.2244 - val_acc: 0.9379\n",
            "Epoch 46/50\n",
            "60000/60000 [==============================] - 2s 33us/step - loss: 0.2317 - acc: 0.9343 - val_loss: 0.2250 - val_acc: 0.9384\n",
            "Epoch 47/50\n",
            "60000/60000 [==============================] - 2s 34us/step - loss: 0.2309 - acc: 0.9346 - val_loss: 0.2238 - val_acc: 0.9383\n",
            "Epoch 48/50\n",
            "60000/60000 [==============================] - 2s 34us/step - loss: 0.2300 - acc: 0.9350 - val_loss: 0.2240 - val_acc: 0.9375\n",
            "Epoch 49/50\n",
            "60000/60000 [==============================] - 2s 33us/step - loss: 0.2292 - acc: 0.9352 - val_loss: 0.2220 - val_acc: 0.9392\n",
            "Epoch 50/50\n",
            "60000/60000 [==============================] - 2s 33us/step - loss: 0.2284 - acc: 0.9352 - val_loss: 0.2208 - val_acc: 0.9378\n"
          ],
          "name": "stdout"
        }
      ]
    },
    {
      "metadata": {
        "colab_type": "text",
        "id": "ctgikq2CNlde"
      },
      "cell_type": "markdown",
      "source": [
        "## Display the training/test loss/accuracy"
      ]
    },
    {
      "metadata": {
        "colab_type": "code",
        "id": "my3Xcs-NNldl",
        "colab": {}
      },
      "cell_type": "code",
      "source": [
        "history_dict = history.history\n",
        "loss_values = history_dict['loss']\n",
        "test_loss_values = history_dict['val_loss']\n",
        "epochs_range = range(1, epochs + 1)"
      ],
      "execution_count": 0,
      "outputs": []
    },
    {
      "metadata": {
        "colab_type": "code",
        "outputId": "757bcb62-db6f-40c7-9b94-7ec5e511d50e",
        "id": "T-pUVSGgNldy",
        "colab": {
          "base_uri": "https://localhost:8080/",
          "height": 376
        }
      },
      "cell_type": "code",
      "source": [
        "import matplotlib.pyplot as plt\n",
        "\n",
        "plt.plot(epochs_range, loss_values, 'bo', label='Training loss')\n",
        "plt.plot(epochs_range, test_loss_values, 'ro', label='Test loss')\n",
        "plt.title('Training and test loss')\n",
        "plt.xlabel('Epochs')\n",
        "plt.ylabel('Loss')\n",
        "plt.legend()\n",
        "plt.show()"
      ],
      "execution_count": 0,
      "outputs": [
        {
          "output_type": "display_data",
          "data": {
            "image/png": "[encoded data removed]",
            "text/plain": [
              "<Figure size 576x396 with 1 Axes>"
            ]
          },
          "metadata": {
            "tags": []
          }
        }
      ]
    },
    {
      "metadata": {
        "colab_type": "code",
        "id": "ubtY-Nf6Nld8",
        "colab": {}
      },
      "cell_type": "code",
      "source": [
        "acc_values = history_dict['acc']\n",
        "test_acc_values = history_dict['val_acc']"
      ],
      "execution_count": 0,
      "outputs": []
    },
    {
      "metadata": {
        "colab_type": "code",
        "outputId": "e934bda3-46a4-4d18-f233-a90a0019504a",
        "id": "KaU-tsbyNleD",
        "colab": {
          "base_uri": "https://localhost:8080/",
          "height": 376
        }
      },
      "cell_type": "code",
      "source": [
        "plt.plot(epochs_range, acc_values, 'bo', label='Training accuracy')\n",
        "plt.plot(epochs_range, test_acc_values, 'ro', label='Test accuracy')\n",
        "plt.title('Training and test accuracy')\n",
        "plt.xlabel('Epochs')\n",
        "plt.ylabel('Accuracy')\n",
        "plt.legend()\n",
        "plt.show()"
      ],
      "execution_count": 0,
      "outputs": [
        {
          "output_type": "display_data",
          "data": {
            "image/png": "[encoded data removed]",
            "text/plain": [
              "<Figure size 576x396 with 1 Axes>"
            ]
          },
          "metadata": {
            "tags": []
          }
        }
      ]
    },
    {
      "metadata": {
        "id": "SuoWEEJlW71G",
        "colab_type": "code",
        "outputId": "3f8ce29f-cdc3-455e-f417-5c5a481ba091",
        "colab": {
          "base_uri": "https://localhost:8080/",
          "height": 581
        }
      },
      "cell_type": "code",
      "source": [
        "predicted_labels = np.argmax(network.predict(train_images), axis=1) \n",
        "predicted_labels = predicted_labels.astype('uint8')\n",
        "wrong_indices = [i for i in range(60000) if predicted_labels[i] != train_labels_original[i]]\n",
        "showMiscl()"
      ],
      "execution_count": 0,
      "outputs": [
        {
          "output_type": "display_data",
          "data": {
            "image/png": "[encoded data removed]",
            "text/plain": [
              "<Figure size 576x396 with 1 Axes>"
            ]
          },
          "metadata": {
            "tags": []
          }
        },
        {
          "output_type": "stream",
          "text": [
            "[[  0.    1.   27.    9.   11.   39.   34.   16.   41.   31.    0.   62.7]\n",
            " [  0.    0.   51.   51.   40.   55.   18.   55.   89.   42.    0.  120.3]\n",
            " [ 18.   33.    0.  145.   33.   42.   31.   90.   63.   22.    0.  143.1]\n",
            " [ 11.   18.   50.    0.    5.  154.    1.   17.   54.   36.    0.  103.8]\n",
            " [  9.    7.   72.    5.    0.   56.   30.   64.   20.  203.    0.  139.8]\n",
            " [ 43.   24.   21.  218.    3.    0.   44.   11.  107.   38.    0.  152.7]\n",
            " [ 45.    8.   65.   23.   55.   93.    0.    3.   69.    3.    0.  109.2]\n",
            " [  7.   15.   84.   79.   16.   23.    0.    0.   13.  160.    0.  119.1]\n",
            " [ 43.   25.   50.   38.   26.   41.   23.    7.    0.   42.    0.   88.5]\n",
            " [  6.    4.    9.   48.  140.   38.    0.   88.   72.    0.    0.  121.5]\n",
            " [  0.    0.    0.    0.    0.    0.    0.    0.    0.    0.    0.    0. ]\n",
            " [ 54.6  40.5 128.7 184.8  98.7 162.3  54.3 105.3 158.4 173.1   0.    0. ]]\n"
          ],
          "name": "stdout"
        }
      ]
    },
    {
      "metadata": {
        "id": "55m14V0MS5FW",
        "colab_type": "text"
      },
      "cell_type": "markdown",
      "source": [
        "## Results of adding \"inner pixels\" features"
      ]
    },
    {
      "metadata": {
        "id": "LpoQ3FbZTFU-",
        "colab_type": "text"
      },
      "cell_type": "markdown",
      "source": [
        "Additional improvement was attained, although not much.\n",
        "However, the number of features nearly doubled."
      ]
    },
    {
      "metadata": {
        "id": "ojvZt0m2a1MK",
        "colab_type": "text"
      },
      "cell_type": "markdown",
      "source": [
        "## Results of adding \"leftest right and rightest left\""
      ]
    },
    {
      "metadata": {
        "id": "vFOxI7F6a7hy",
        "colab_type": "text"
      },
      "cell_type": "markdown",
      "source": [
        "Although the number of additional features was less that for \"inner pixels\" (28*2 vs 28^2), the improvement was larger\n",
        "\n",
        "'3 and 5', '4 and  9', '7 and 9', and '2 and 3' are still the most confused pairs."
      ]
    }
  ]
}