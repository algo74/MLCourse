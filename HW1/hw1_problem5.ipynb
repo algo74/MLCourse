{
  "nbformat": 4,
  "nbformat_minor": 0,
  "metadata": {
    "colab": {
      "name": "hw1.problem5.ipynb",
      "version": "0.3.2",
      "provenance": [],
      "collapsed_sections": [],
      "include_colab_link": true
    },
    "kernelspec": {
      "name": "python3",
      "display_name": "Python 3"
    },
    "accelerator": "GPU"
  },
  "cells": [
    {
      "cell_type": "markdown",
      "metadata": {
        "id": "view-in-github",
        "colab_type": "text"
      },
      "source": [
        "<a href=\"https://colab.research.google.com/github/algo74/MLCourse/blob/master/HW1/hw1_problem5.ipynb\" target=\"_parent\"><img src=\"https://colab.research.google.com/assets/colab-badge.svg\" alt=\"Open In Colab\"/></a>"
      ]
    },
    {
      "metadata": {
        "id": "rt44vyY1xW9b",
        "colab_type": "text"
      },
      "cell_type": "markdown",
      "source": [
        "# HW1. Problem 5. "
      ]
    },
    {
      "metadata": {
        "id": "jhNXqqXQbHfe",
        "colab_type": "text"
      },
      "cell_type": "markdown",
      "source": [
        "Extend the network from Problem 4 by adding new features.\n",
        "\n",
        "*   Round the grey values of the images to 1 and 0 so you obtain black and white images. Add as an additional feature the number of white regions. For instance, a typical 0 has 2 white regions and 8 has 3. Use the following neighborhoods for pixels:\n",
        "\n",
        "  pixel x,y (indicated by .) is connected to its neighbors (indicated by o):\n",
        "  \n",
        "```\n",
        "   o\n",
        "  o.o  \n",
        "   o\n",
        "\n",
        "  ooo\n",
        "  o.o\n",
        "  ooo\n",
        "```\n",
        "*   Consider the width.\n",
        "*   Consider the height.\n",
        "*   Come up with other features.\n",
        "\n",
        "\n"
      ]
    },
    {
      "metadata": {
        "id": "yH1EOQd6R2uQ",
        "colab_type": "text"
      },
      "cell_type": "markdown",
      "source": [
        "## Loading the image data"
      ]
    },
    {
      "metadata": {
        "id": "FSJyddqGexl5",
        "colab_type": "code",
        "outputId": "f0a5df9e-26b2-4e02-ff16-f64cf6bc5d2a",
        "colab": {
          "base_uri": "https://localhost:8080/",
          "height": 35
        }
      },
      "cell_type": "code",
      "source": [
        "from keras.datasets import mnist\n",
        "import numpy as np\n",
        "\n",
        "(train_images_original, train_labels_original), (test_images_original, test_labels_original) = mnist.load_data()"
      ],
      "execution_count": 1,
      "outputs": [
        {
          "output_type": "stream",
          "text": [
            "Using TensorFlow backend.\n"
          ],
          "name": "stderr"
        }
      ]
    },
    {
      "metadata": {
        "id": "91gu7qVhR6eX",
        "colab_type": "text"
      },
      "cell_type": "markdown",
      "source": [
        "## Preparing the image data"
      ]
    },
    {
      "metadata": {
        "id": "UB7_xf0hzsPx",
        "colab_type": "code",
        "colab": {}
      },
      "cell_type": "code",
      "source": [
        "train_images = train_images_original.reshape((60000, 28 * 28))\n",
        "train_images = train_images.astype('float32') / 255\n",
        "\n",
        "test_images = test_images_original.reshape((10000, 28 * 28))\n",
        "test_images = test_images.astype('float32') / 255\n",
        "\n",
        "orig_tr_im = train_images.copy()\n",
        "orig_tst_im = test_images.copy()"
      ],
      "execution_count": 0,
      "outputs": []
    },
    {
      "metadata": {
        "id": "mz405N4WZrXx",
        "colab_type": "text"
      },
      "cell_type": "markdown",
      "source": [
        "## Adding extra features"
      ]
    },
    {
      "metadata": {
        "id": "7xnlFfYKdhcQ",
        "colab_type": "code",
        "colab": {}
      },
      "cell_type": "code",
      "source": [
        "# returns new input set with added (and normalized) feature described by 'func'\n",
        "def makeFeature(func, X):\n",
        "  \n",
        "  def arr_f(arg):\n",
        "    return [func(arg)]\n",
        "  \n",
        "  new = np.apply_along_axis(arr_f, 1, X)\n",
        "  new = new / max(np.max(new), 1)\n",
        "  return new"
      ],
      "execution_count": 0,
      "outputs": []
    },
    {
      "metadata": {
        "id": "AO-WwF_6a8dU",
        "colab_type": "text"
      },
      "cell_type": "markdown",
      "source": [
        "### White region - common functions"
      ]
    },
    {
      "metadata": {
        "id": "bDmgXfBHa6iW",
        "colab_type": "code",
        "colab": {}
      },
      "cell_type": "code",
      "source": [
        "threshold = 0.6\n",
        "\n",
        "def paint (i, n, img, nbs):\n",
        "  # do nothing if out of bound or already painted\n",
        "  if not 0 <= i < n: return\n",
        "  if img[i] : return\n",
        "  # do paint\n",
        "  img[i] = True\n",
        "  for j in nbs:\n",
        "    paint(i+j, n, img, nbs)\n",
        "  \n",
        "def countRegions(img, nbs):\n",
        "  # do BW\n",
        "  img = (img > threshold)\n",
        "  n = len(img)\n",
        "  regions = 0\n",
        "  for i in range(n):\n",
        "    if not img[i] :\n",
        "      # found new region\n",
        "      regions += 1\n",
        "      # paint it\n",
        "      paint(i, n, img, nbs)\n",
        "  return regions"
      ],
      "execution_count": 0,
      "outputs": []
    },
    {
      "metadata": {
        "id": "qVHGQgPDZvTG",
        "colab_type": "text"
      },
      "cell_type": "markdown",
      "source": [
        "### White region A\n",
        "```\n",
        "   o\n",
        "  o.o  \n",
        "   o\n",
        "```"
      ]
    },
    {
      "metadata": {
        "id": "mPzpKrb0ajxG",
        "colab_type": "code",
        "outputId": "d1721b58-c5b7-4e31-9fd0-990f9bbbebce",
        "colab": {
          "base_uri": "https://localhost:8080/",
          "height": 127
        }
      },
      "cell_type": "code",
      "source": [
        "def makeWhiteRegionsA(X):\n",
        "  nbs = [-1, -28, 1, 28]\n",
        "  def countWhiteRegionsA(img):\n",
        "    return countRegions(img, nbs)\n",
        "  \n",
        "  return makeFeature(countWhiteRegionsA, X)\n",
        "  \n",
        "\n",
        "print(makeWhiteRegionsA(train_images[0:50])[:,0])\n",
        "print (train_labels_original[0:50])"
      ],
      "execution_count": 5,
      "outputs": [
        {
          "output_type": "stream",
          "text": [
            "[0.25 0.5  0.25 0.25 0.5  0.5  0.25 0.25 0.25 0.25 0.25 0.25 0.25 0.5\n",
            " 0.25 0.25 0.5  0.75 0.25 0.5  0.25 0.5  0.5  0.25 0.25 0.25 0.25 0.25\n",
            " 0.25 0.25 0.5  0.75 0.25 0.5  0.5  0.25 0.5  0.5  0.25 0.5  0.25 0.75\n",
            " 0.25 0.5  0.25 0.5  1.   0.25 0.5  0.5 ]\n",
            "[5 0 4 1 9 2 1 3 1 4 3 5 3 6 1 7 2 8 6 9 4 0 9 1 1 2 4 3 2 7 3 8 6 9 0 5 6\n",
            " 0 7 6 1 8 7 9 3 9 8 5 9 3]\n"
          ],
          "name": "stdout"
        }
      ]
    },
    {
      "metadata": {
        "id": "FsLJsE6Uakdg",
        "colab_type": "text"
      },
      "cell_type": "markdown",
      "source": [
        "### White region B\n",
        "```\n",
        "  ooo\n",
        "  o.o\n",
        "  ooo\n",
        "```"
      ]
    },
    {
      "metadata": {
        "id": "L5XipIBCa2eO",
        "colab_type": "code",
        "outputId": "18e6d5f5-b99b-4b87-f649-97c8c98b5aaa",
        "colab": {
          "base_uri": "https://localhost:8080/",
          "height": 219
        }
      },
      "cell_type": "code",
      "source": [
        "def makeWhiteRegionsB(X):\n",
        "  nbs = [-29, -1, -28, -27, 1, 29, 28, 27]\n",
        "  def countWhiteRegionsB(img):\n",
        "    return countRegions(img, nbs)\n",
        "  \n",
        "  return makeFeature(countWhiteRegionsB, X)\n",
        "  \n",
        "\n",
        "print(makeWhiteRegionsB(train_images[0:50])[:,0])\n",
        "print (train_labels_original[0:50])"
      ],
      "execution_count": 6,
      "outputs": [
        {
          "output_type": "stream",
          "text": [
            "[0.33333333 0.66666667 0.33333333 0.33333333 0.66666667 0.66666667\n",
            " 0.33333333 0.33333333 0.33333333 0.33333333 0.33333333 0.33333333\n",
            " 0.33333333 0.66666667 0.33333333 0.33333333 0.66666667 1.\n",
            " 0.33333333 0.33333333 0.33333333 0.66666667 0.33333333 0.33333333\n",
            " 0.33333333 0.33333333 0.33333333 0.33333333 0.33333333 0.33333333\n",
            " 0.33333333 1.         0.33333333 0.66666667 0.66666667 0.33333333\n",
            " 0.66666667 0.66666667 0.33333333 0.66666667 0.33333333 0.66666667\n",
            " 0.33333333 0.66666667 0.33333333 0.66666667 0.66666667 0.33333333\n",
            " 0.33333333 0.66666667]\n",
            "[5 0 4 1 9 2 1 3 1 4 3 5 3 6 1 7 2 8 6 9 4 0 9 1 1 2 4 3 2 7 3 8 6 9 0 5 6\n",
            " 0 7 6 1 8 7 9 3 9 8 5 9 3]\n"
          ],
          "name": "stdout"
        }
      ]
    },
    {
      "metadata": {
        "id": "reBl3jSxarm0",
        "colab_type": "text"
      },
      "cell_type": "markdown",
      "source": [
        "### Width and height"
      ]
    },
    {
      "metadata": {
        "id": "65IToa2La3CA",
        "colab_type": "code",
        "outputId": "0d480b0d-19df-4df9-e3fd-61bf6d2ffb81",
        "colab": {
          "base_uri": "https://localhost:8080/",
          "height": 219
        }
      },
      "cell_type": "code",
      "source": [
        "def addW_n_H(X):\n",
        "  def W_n_H(img):\n",
        "    img = (img > threshold)\n",
        "    img = img.reshape((28,28))\n",
        "    # https://stackoverflow.com/questions/52931022/finding-height-and-width-of-an-image-using-numpy-and-pixel-locations\n",
        "    col_ind=np.any(img, axis=0).nonzero()[0]\n",
        "    row_ind=np.any(img, axis=1).nonzero()[0]\n",
        "    try:\n",
        "      w = col_ind[-1] - col_ind[0]\n",
        "      h = row_ind[-1] - row_ind[0]\n",
        "    except:\n",
        "      w, h = 0, 0\n",
        "    return [w, h]\n",
        "    \n",
        "  new = np.apply_along_axis(W_n_H, 1, X)\n",
        "  new = new / max(np.max(new), 1)\n",
        "  return np.c_[new, X]\n",
        "\n",
        "print(addW_n_H(orig_tr_im[0:10])[:,0:2])\n",
        "print (train_labels_original[0:10])"
      ],
      "execution_count": 7,
      "outputs": [
        {
          "output_type": "stream",
          "text": [
            "[[0.89473684 1.        ]\n",
            " [0.78947368 1.        ]\n",
            " [0.94736842 1.        ]\n",
            " [0.57894737 1.        ]\n",
            " [0.68421053 1.        ]\n",
            " [1.         0.78947368]\n",
            " [0.26315789 1.        ]\n",
            " [0.84210526 1.        ]\n",
            " [0.10526316 1.        ]\n",
            " [0.89473684 1.        ]]\n",
            "[5 0 4 1 9 2 1 3 1 4]\n"
          ],
          "name": "stdout"
        }
      ]
    },
    {
      "metadata": {
        "id": "CxfQli-Hmk7e",
        "colab_type": "text"
      },
      "cell_type": "markdown",
      "source": [
        "### Adding all 4 new features"
      ]
    },
    {
      "metadata": {
        "id": "S3mWFbUamo3Q",
        "colab_type": "code",
        "colab": {}
      },
      "cell_type": "code",
      "source": [
        "new_test_images = addW_n_H(test_images)"
      ],
      "execution_count": 0,
      "outputs": []
    },
    {
      "metadata": {
        "id": "PpzG8_UZm3qL",
        "colab_type": "code",
        "colab": {}
      },
      "cell_type": "code",
      "source": [
        "wra = makeWhiteRegionsA(test_images)"
      ],
      "execution_count": 0,
      "outputs": []
    },
    {
      "metadata": {
        "id": "f2uyw1E6nIQb",
        "colab_type": "code",
        "colab": {}
      },
      "cell_type": "code",
      "source": [
        "wrb = makeWhiteRegionsB(test_images)"
      ],
      "execution_count": 0,
      "outputs": []
    },
    {
      "metadata": {
        "id": "UiDRw-jC1pnr",
        "colab_type": "code",
        "colab": {}
      },
      "cell_type": "code",
      "source": [
        "test_images=np.c_[wra, wrb, new_test_images]"
      ],
      "execution_count": 0,
      "outputs": []
    },
    {
      "metadata": {
        "id": "0e5s8JRqnUBl",
        "colab_type": "code",
        "colab": {}
      },
      "cell_type": "code",
      "source": [
        "new_train_images = addW_n_H(train_images)"
      ],
      "execution_count": 0,
      "outputs": []
    },
    {
      "metadata": {
        "id": "3ZY6q8j8nZFY",
        "colab_type": "code",
        "colab": {}
      },
      "cell_type": "code",
      "source": [
        "wra = makeWhiteRegionsA(train_images)"
      ],
      "execution_count": 0,
      "outputs": []
    },
    {
      "metadata": {
        "id": "niF78xFwnfOk",
        "colab_type": "code",
        "colab": {}
      },
      "cell_type": "code",
      "source": [
        "wrb = makeWhiteRegionsB(train_images)"
      ],
      "execution_count": 0,
      "outputs": []
    },
    {
      "metadata": {
        "colab_type": "code",
        "id": "YqYWsY9L18Xr",
        "colab": {}
      },
      "cell_type": "code",
      "source": [
        "train_images=np.c_[wra, wrb, new_train_images]"
      ],
      "execution_count": 0,
      "outputs": []
    },
    {
      "metadata": {
        "id": "D5W3rQa1nrFZ",
        "colab_type": "code",
        "outputId": "36bb1c11-a3da-4417-9db6-ad1ac29699e5",
        "colab": {
          "base_uri": "https://localhost:8080/",
          "height": 54
        }
      },
      "cell_type": "code",
      "source": [
        "print(train_images.shape)\n",
        "print(test_images.shape)"
      ],
      "execution_count": 16,
      "outputs": [
        {
          "output_type": "stream",
          "text": [
            "(60000, 788)\n",
            "(10000, 788)\n"
          ],
          "name": "stdout"
        }
      ]
    },
    {
      "metadata": {
        "id": "HwRvZSOvSzXx",
        "colab_type": "text"
      },
      "cell_type": "markdown",
      "source": [
        "## Preparing the labels\n",
        "\n",
        "We need to categorically encode the labels."
      ]
    },
    {
      "metadata": {
        "id": "C1ulkKRPSgJP",
        "colab_type": "code",
        "colab": {}
      },
      "cell_type": "code",
      "source": [
        "from keras.utils import to_categorical\n",
        "\n",
        "train_labels = to_categorical(train_labels_original)\n",
        "test_labels = to_categorical(test_labels_original)"
      ],
      "execution_count": 0,
      "outputs": []
    },
    {
      "metadata": {
        "id": "36YichvkWfgL",
        "colab_type": "text"
      },
      "cell_type": "markdown",
      "source": [
        "## The network architecture"
      ]
    },
    {
      "metadata": {
        "id": "J1ggKa17T2s5",
        "colab_type": "code",
        "outputId": "d63bf77f-500f-40b4-b1b2-9ffc036f03e2",
        "colab": {
          "base_uri": "https://localhost:8080/",
          "height": 345
        }
      },
      "cell_type": "code",
      "source": [
        "from keras import models\n",
        "from keras import layers\n",
        "\n",
        "network = models.Sequential()\n",
        "network.add(layers.Dense(10, activation='softmax', input_shape=(train_images.shape[1],)))\n",
        "network.summary()\n",
        "\n",
        "from IPython.display import SVG\n",
        "from keras.utils.vis_utils import model_to_dot\n",
        "\n",
        "SVG(model_to_dot(network, show_shapes=True, rankdir='LR').create(prog='dot', format='svg'))\n"
      ],
      "execution_count": 18,
      "outputs": [
        {
          "output_type": "stream",
          "text": [
            "WARNING:tensorflow:From /usr/local/lib/python3.6/dist-packages/tensorflow/python/framework/op_def_library.py:263: colocate_with (from tensorflow.python.framework.ops) is deprecated and will be removed in a future version.\n",
            "Instructions for updating:\n",
            "Colocations handled automatically by placer.\n",
            "_________________________________________________________________\n",
            "Layer (type)                 Output Shape              Param #   \n",
            "=================================================================\n",
            "dense_1 (Dense)              (None, 10)                7890      \n",
            "=================================================================\n",
            "Total params: 7,890\n",
            "Trainable params: 7,890\n",
            "Non-trainable params: 0\n",
            "_________________________________________________________________\n"
          ],
          "name": "stdout"
        },
        {
          "output_type": "execute_result",
          "data": {
            "text/plain": [
              "<IPython.core.display.SVG object>"
            ],
            "image/svg+xml": "<svg height=\"78pt\" viewBox=\"0.00 0.00 340.00 78.00\" width=\"340pt\" xmlns=\"http://www.w3.org/2000/svg\" xmlns:xlink=\"http://www.w3.org/1999/xlink\">\n<g class=\"graph\" id=\"graph0\" transform=\"scale(1 1) rotate(0) translate(4 74)\">\n<title>G</title>\n<polygon fill=\"#ffffff\" points=\"-4,4 -4,-74 336,-74 336,4 -4,4\" stroke=\"transparent\"/>\n<!-- 139738325771376 -->\n<g class=\"node\" id=\"node1\">\n<title>139738325771376</title>\n<polygon fill=\"none\" points=\"165,-.5 165,-69.5 332,-69.5 332,-.5 165,-.5\" stroke=\"#000000\"/>\n<text fill=\"#000000\" font-family=\"Times,serif\" font-size=\"14.00\" text-anchor=\"middle\" x=\"248.5\" y=\"-54.3\">dense_1: Dense</text>\n<polyline fill=\"none\" points=\"165,-46.5 332,-46.5 \" stroke=\"#000000\"/>\n<text fill=\"#000000\" font-family=\"Times,serif\" font-size=\"14.00\" text-anchor=\"middle\" x=\"204.5\" y=\"-31.3\">input:</text>\n<polyline fill=\"none\" points=\"244,-23.5 244,-46.5 \" stroke=\"#000000\"/>\n<text fill=\"#000000\" font-family=\"Times,serif\" font-size=\"14.00\" text-anchor=\"middle\" x=\"288\" y=\"-31.3\">output:</text>\n<polyline fill=\"none\" points=\"165,-23.5 332,-23.5 \" stroke=\"#000000\"/>\n<text fill=\"#000000\" font-family=\"Times,serif\" font-size=\"14.00\" text-anchor=\"middle\" x=\"208.5\" y=\"-8.3\">(None, 788)</text>\n<polyline fill=\"none\" points=\"252,-.5 252,-23.5 \" stroke=\"#000000\"/>\n<text fill=\"#000000\" font-family=\"Times,serif\" font-size=\"14.00\" text-anchor=\"middle\" x=\"292\" y=\"-8.3\">(None, 10)</text>\n</g>\n<!-- 139738326128120 -->\n<g class=\"node\" id=\"node2\">\n<title>139738326128120</title>\n<polygon fill=\"none\" points=\"0,-17 0,-53 129,-53 129,-17 0,-17\" stroke=\"#000000\"/>\n<text fill=\"#000000\" font-family=\"Times,serif\" font-size=\"14.00\" text-anchor=\"middle\" x=\"64.5\" y=\"-31.3\">139738326128120</text>\n</g>\n<!-- 139738326128120&#45;&gt;139738325771376 -->\n<g class=\"edge\" id=\"edge1\">\n<title>139738326128120-&gt;139738325771376</title>\n<path d=\"M129.1128,-35C137.4486,-35 146.1144,-35 154.8005,-35\" fill=\"none\" stroke=\"#000000\"/>\n<polygon fill=\"#000000\" points=\"154.9879,-38.5001 164.9879,-35 154.9879,-31.5001 154.9879,-38.5001\" stroke=\"#000000\"/>\n</g>\n</g>\n</svg>"
          },
          "metadata": {
            "tags": []
          },
          "execution_count": 18
        }
      ]
    },
    {
      "metadata": {
        "id": "8H6VF7ZIY6Oy",
        "colab_type": "text"
      },
      "cell_type": "markdown",
      "source": [
        "## The compilation step"
      ]
    },
    {
      "metadata": {
        "id": "mHp0sz7cYPsK",
        "colab_type": "code",
        "colab": {}
      },
      "cell_type": "code",
      "source": [
        "network.compile(optimizer='sgd',\n",
        "                loss='categorical_crossentropy',\n",
        "                metrics=['accuracy'])\n",
        "\n"
      ],
      "execution_count": 0,
      "outputs": []
    },
    {
      "metadata": {
        "id": "3SnwsJAtZtYx",
        "colab_type": "text"
      },
      "cell_type": "markdown",
      "source": [
        "## The training step"
      ]
    },
    {
      "metadata": {
        "id": "2YuVq3JIZksS",
        "colab_type": "code",
        "outputId": "c62b9dc5-f241-4251-e2fb-d46672773878",
        "colab": {
          "base_uri": "https://localhost:8080/",
          "height": 1927
        }
      },
      "cell_type": "code",
      "source": [
        "epochs = 50\n",
        "history = network.fit(train_images, \n",
        "                      train_labels, \n",
        "                      epochs=epochs, \n",
        "                      batch_size=128, \n",
        "                      validation_data=(test_images, test_labels))"
      ],
      "execution_count": 20,
      "outputs": [
        {
          "output_type": "stream",
          "text": [
            "WARNING:tensorflow:From /usr/local/lib/python3.6/dist-packages/tensorflow/python/ops/math_ops.py:3066: to_int32 (from tensorflow.python.ops.math_ops) is deprecated and will be removed in a future version.\n",
            "Instructions for updating:\n",
            "Use tf.cast instead.\n",
            "Train on 60000 samples, validate on 10000 samples\n",
            "Epoch 1/50\n",
            "60000/60000 [==============================] - 2s 41us/step - loss: 1.3158 - acc: 0.6886 - val_loss: 0.8119 - val_acc: 0.8409\n",
            "Epoch 2/50\n",
            "60000/60000 [==============================] - 2s 29us/step - loss: 0.7140 - acc: 0.8424 - val_loss: 0.6028 - val_acc: 0.8654\n",
            "Epoch 3/50\n",
            "60000/60000 [==============================] - 2s 29us/step - loss: 0.5823 - acc: 0.8619 - val_loss: 0.5200 - val_acc: 0.8763\n",
            "Epoch 4/50\n",
            "60000/60000 [==============================] - 2s 29us/step - loss: 0.5196 - acc: 0.8711 - val_loss: 0.4735 - val_acc: 0.8828\n",
            "Epoch 5/50\n",
            "60000/60000 [==============================] - 2s 29us/step - loss: 0.4813 - acc: 0.8778 - val_loss: 0.4435 - val_acc: 0.8896\n",
            "Epoch 6/50\n",
            "60000/60000 [==============================] - 2s 30us/step - loss: 0.4548 - acc: 0.8825 - val_loss: 0.4217 - val_acc: 0.8921\n",
            "Epoch 7/50\n",
            "60000/60000 [==============================] - 2s 29us/step - loss: 0.4352 - acc: 0.8862 - val_loss: 0.4050 - val_acc: 0.8964\n",
            "Epoch 8/50\n",
            "60000/60000 [==============================] - 2s 29us/step - loss: 0.4198 - acc: 0.8886 - val_loss: 0.3920 - val_acc: 0.8986\n",
            "Epoch 9/50\n",
            "60000/60000 [==============================] - 2s 30us/step - loss: 0.4074 - acc: 0.8914 - val_loss: 0.3813 - val_acc: 0.9010\n",
            "Epoch 10/50\n",
            "60000/60000 [==============================] - 2s 29us/step - loss: 0.3970 - acc: 0.8936 - val_loss: 0.3724 - val_acc: 0.9027\n",
            "Epoch 11/50\n",
            "60000/60000 [==============================] - 2s 30us/step - loss: 0.3882 - acc: 0.8957 - val_loss: 0.3645 - val_acc: 0.9046\n",
            "Epoch 12/50\n",
            "60000/60000 [==============================] - 2s 30us/step - loss: 0.3806 - acc: 0.8975 - val_loss: 0.3577 - val_acc: 0.9068\n",
            "Epoch 13/50\n",
            "60000/60000 [==============================] - 2s 29us/step - loss: 0.3739 - acc: 0.8989 - val_loss: 0.3517 - val_acc: 0.9081\n",
            "Epoch 14/50\n",
            "60000/60000 [==============================] - 2s 29us/step - loss: 0.3680 - acc: 0.9003 - val_loss: 0.3466 - val_acc: 0.9090\n",
            "Epoch 15/50\n",
            "60000/60000 [==============================] - 2s 29us/step - loss: 0.3626 - acc: 0.9014 - val_loss: 0.3419 - val_acc: 0.9096\n",
            "Epoch 16/50\n",
            "60000/60000 [==============================] - 2s 29us/step - loss: 0.3579 - acc: 0.9026 - val_loss: 0.3378 - val_acc: 0.9110\n",
            "Epoch 17/50\n",
            "60000/60000 [==============================] - 2s 29us/step - loss: 0.3535 - acc: 0.9039 - val_loss: 0.3337 - val_acc: 0.9112\n",
            "Epoch 18/50\n",
            "60000/60000 [==============================] - 2s 29us/step - loss: 0.3495 - acc: 0.9045 - val_loss: 0.3302 - val_acc: 0.9118\n",
            "Epoch 19/50\n",
            "60000/60000 [==============================] - 2s 29us/step - loss: 0.3458 - acc: 0.9054 - val_loss: 0.3271 - val_acc: 0.9125\n",
            "Epoch 20/50\n",
            "60000/60000 [==============================] - 2s 29us/step - loss: 0.3424 - acc: 0.9062 - val_loss: 0.3241 - val_acc: 0.9134\n",
            "Epoch 21/50\n",
            "60000/60000 [==============================] - 2s 29us/step - loss: 0.3393 - acc: 0.9070 - val_loss: 0.3215 - val_acc: 0.9139\n",
            "Epoch 22/50\n",
            "60000/60000 [==============================] - 2s 29us/step - loss: 0.3363 - acc: 0.9078 - val_loss: 0.3188 - val_acc: 0.9144\n",
            "Epoch 23/50\n",
            "60000/60000 [==============================] - 2s 29us/step - loss: 0.3336 - acc: 0.9086 - val_loss: 0.3165 - val_acc: 0.9147\n",
            "Epoch 24/50\n",
            "60000/60000 [==============================] - 2s 29us/step - loss: 0.3310 - acc: 0.9088 - val_loss: 0.3144 - val_acc: 0.9157\n",
            "Epoch 25/50\n",
            "60000/60000 [==============================] - 2s 30us/step - loss: 0.3286 - acc: 0.9095 - val_loss: 0.3120 - val_acc: 0.9163\n",
            "Epoch 26/50\n",
            "60000/60000 [==============================] - 2s 29us/step - loss: 0.3263 - acc: 0.9099 - val_loss: 0.3099 - val_acc: 0.9161\n",
            "Epoch 27/50\n",
            "60000/60000 [==============================] - 2s 29us/step - loss: 0.3241 - acc: 0.9107 - val_loss: 0.3083 - val_acc: 0.9164\n",
            "Epoch 28/50\n",
            "60000/60000 [==============================] - 2s 29us/step - loss: 0.3220 - acc: 0.9112 - val_loss: 0.3065 - val_acc: 0.9169\n",
            "Epoch 29/50\n",
            "60000/60000 [==============================] - 2s 29us/step - loss: 0.3200 - acc: 0.9117 - val_loss: 0.3049 - val_acc: 0.9184\n",
            "Epoch 30/50\n",
            "60000/60000 [==============================] - 2s 29us/step - loss: 0.3182 - acc: 0.9122 - val_loss: 0.3032 - val_acc: 0.9180\n",
            "Epoch 31/50\n",
            "60000/60000 [==============================] - 2s 29us/step - loss: 0.3164 - acc: 0.9125 - val_loss: 0.3016 - val_acc: 0.9182\n",
            "Epoch 32/50\n",
            "60000/60000 [==============================] - 2s 30us/step - loss: 0.3147 - acc: 0.9130 - val_loss: 0.3001 - val_acc: 0.9187\n",
            "Epoch 33/50\n",
            "60000/60000 [==============================] - 2s 29us/step - loss: 0.3131 - acc: 0.9136 - val_loss: 0.2988 - val_acc: 0.9189\n",
            "Epoch 34/50\n",
            "60000/60000 [==============================] - 2s 29us/step - loss: 0.3115 - acc: 0.9139 - val_loss: 0.2973 - val_acc: 0.9201\n",
            "Epoch 35/50\n",
            "60000/60000 [==============================] - 2s 29us/step - loss: 0.3100 - acc: 0.9142 - val_loss: 0.2962 - val_acc: 0.9193\n",
            "Epoch 36/50\n",
            "60000/60000 [==============================] - 2s 30us/step - loss: 0.3086 - acc: 0.9147 - val_loss: 0.2950 - val_acc: 0.9206\n",
            "Epoch 37/50\n",
            "60000/60000 [==============================] - 2s 29us/step - loss: 0.3072 - acc: 0.9150 - val_loss: 0.2940 - val_acc: 0.9202\n",
            "Epoch 38/50\n",
            "60000/60000 [==============================] - 2s 29us/step - loss: 0.3058 - acc: 0.9156 - val_loss: 0.2926 - val_acc: 0.9206\n",
            "Epoch 39/50\n",
            "60000/60000 [==============================] - 2s 29us/step - loss: 0.3045 - acc: 0.9158 - val_loss: 0.2912 - val_acc: 0.9211\n",
            "Epoch 40/50\n",
            "60000/60000 [==============================] - 2s 30us/step - loss: 0.3033 - acc: 0.9161 - val_loss: 0.2904 - val_acc: 0.9206\n",
            "Epoch 41/50\n",
            "60000/60000 [==============================] - 2s 29us/step - loss: 0.3021 - acc: 0.9165 - val_loss: 0.2893 - val_acc: 0.9217\n",
            "Epoch 42/50\n",
            "60000/60000 [==============================] - 2s 29us/step - loss: 0.3009 - acc: 0.9171 - val_loss: 0.2884 - val_acc: 0.9218\n",
            "Epoch 43/50\n",
            "60000/60000 [==============================] - 2s 29us/step - loss: 0.2998 - acc: 0.9170 - val_loss: 0.2871 - val_acc: 0.9219\n",
            "Epoch 44/50\n",
            "60000/60000 [==============================] - 2s 29us/step - loss: 0.2987 - acc: 0.9173 - val_loss: 0.2866 - val_acc: 0.9222\n",
            "Epoch 45/50\n",
            "60000/60000 [==============================] - 2s 29us/step - loss: 0.2976 - acc: 0.9177 - val_loss: 0.2854 - val_acc: 0.9226\n",
            "Epoch 46/50\n",
            "60000/60000 [==============================] - 2s 29us/step - loss: 0.2966 - acc: 0.9179 - val_loss: 0.2851 - val_acc: 0.9224\n",
            "Epoch 47/50\n",
            "60000/60000 [==============================] - 2s 30us/step - loss: 0.2956 - acc: 0.9180 - val_loss: 0.2838 - val_acc: 0.9232\n",
            "Epoch 48/50\n",
            "60000/60000 [==============================] - 2s 29us/step - loss: 0.2946 - acc: 0.9184 - val_loss: 0.2830 - val_acc: 0.9230\n",
            "Epoch 49/50\n",
            "60000/60000 [==============================] - 2s 29us/step - loss: 0.2937 - acc: 0.9186 - val_loss: 0.2823 - val_acc: 0.9230\n",
            "Epoch 50/50\n",
            "60000/60000 [==============================] - 2s 29us/step - loss: 0.2928 - acc: 0.9191 - val_loss: 0.2818 - val_acc: 0.9230\n"
          ],
          "name": "stdout"
        }
      ]
    },
    {
      "metadata": {
        "id": "vTtzYNe-a-Ro",
        "colab_type": "text"
      },
      "cell_type": "markdown",
      "source": [
        "## Display the training/test loss/accuracy"
      ]
    },
    {
      "metadata": {
        "id": "kZ70napGZ-cK",
        "colab_type": "code",
        "colab": {}
      },
      "cell_type": "code",
      "source": [
        "history_dict = history.history\n",
        "loss_values = history_dict['loss']\n",
        "test_loss_values = history_dict['val_loss']\n",
        "epochs_range = range(1, epochs + 1)"
      ],
      "execution_count": 0,
      "outputs": []
    },
    {
      "metadata": {
        "id": "9aM-5qqCfnck",
        "colab_type": "code",
        "outputId": "68e49a51-b6b0-4ca8-e149-5e0c1aee7142",
        "colab": {
          "base_uri": "https://localhost:8080/",
          "height": 376
        }
      },
      "cell_type": "code",
      "source": [
        "import matplotlib.pyplot as plt\n",
        "\n",
        "plt.plot(epochs_range, loss_values, 'bo', label='Training loss')\n",
        "plt.plot(epochs_range, test_loss_values, 'ro', label='Test loss')\n",
        "plt.title('Training and test loss')\n",
        "plt.xlabel('Epochs')\n",
        "plt.ylabel('Loss')\n",
        "plt.legend()\n",
        "plt.show()"
      ],
      "execution_count": 22,
      "outputs": [
        {
          "output_type": "display_data",
          "data": {
            "image/png": "[encoded data removed]",
            "text/plain": [
              "<Figure size 576x396 with 1 Axes>"
            ]
          },
          "metadata": {
            "tags": []
          }
        }
      ]
    },
    {
      "metadata": {
        "id": "-IB2uFCzez-e",
        "colab_type": "code",
        "colab": {}
      },
      "cell_type": "code",
      "source": [
        "acc_values = history_dict['acc']\n",
        "test_acc_values = history_dict['val_acc']"
      ],
      "execution_count": 0,
      "outputs": []
    },
    {
      "metadata": {
        "id": "AdyXVyeLf-SV",
        "colab_type": "code",
        "outputId": "b0294801-b929-4f8d-deee-19cfa75660e6",
        "colab": {
          "base_uri": "https://localhost:8080/",
          "height": 376
        }
      },
      "cell_type": "code",
      "source": [
        "plt.plot(epochs_range, acc_values, 'bo', label='Training accuracy')\n",
        "plt.plot(epochs_range, test_acc_values, 'ro', label='Test accuracy')\n",
        "plt.title('Training and test accuracy')\n",
        "plt.xlabel('Epochs')\n",
        "plt.ylabel('Accuracy')\n",
        "plt.legend()\n",
        "plt.show()"
      ],
      "execution_count": 24,
      "outputs": [
        {
          "output_type": "display_data",
          "data": {
            "image/png": "[encoded data removed]",
            "text/plain": [
              "<Figure size 576x396 with 1 Axes>"
            ]
          },
          "metadata": {
            "tags": []
          }
        }
      ]
    },
    {
      "metadata": {
        "id": "6gUPEpHkSNkI",
        "colab_type": "text"
      },
      "cell_type": "markdown",
      "source": [
        "## Result of adding 4 extra features"
      ]
    },
    {
      "metadata": {
        "id": "Y9qTpDH-SVOW",
        "colab_type": "text"
      },
      "cell_type": "markdown",
      "source": [
        "Model with 4 extra features performed a little better than the original"
      ]
    },
    {
      "metadata": {
        "id": "KeW39-fWxux2",
        "colab_type": "text"
      },
      "cell_type": "markdown",
      "source": [
        "## Analysis of misclassifications"
      ]
    },
    {
      "metadata": {
        "id": "AJaEdLmMyAbG",
        "colab_type": "text"
      },
      "cell_type": "markdown",
      "source": [
        "We will use the training data as this is the correct approach"
      ]
    },
    {
      "metadata": {
        "id": "TMYTQHy1xsa0",
        "colab_type": "code",
        "colab": {}
      },
      "cell_type": "code",
      "source": [
        "predicted_labels = np.argmax(network.predict(train_images), axis=1) \n",
        "predicted_labels = predicted_labels.astype('uint8')\n",
        "wrong_indices = [i for i in range(60000) if predicted_labels[i] != train_labels_original[i]]"
      ],
      "execution_count": 0,
      "outputs": []
    },
    {
      "metadata": {
        "id": "zdGxgY3SzvL7",
        "colab_type": "text"
      },
      "cell_type": "markdown",
      "source": [
        "Generating a table of mismatch ('10' is the sum (times 0.3) of all mismatches in the row/column)"
      ]
    },
    {
      "metadata": {
        "id": "ROLgeI2mzt-G",
        "colab_type": "code",
        "colab": {
          "base_uri": "https://localhost:8080/",
          "height": 361
        },
        "outputId": "93d20067-951c-42ae-a733-dd754aaa8a65"
      },
      "cell_type": "code",
      "source": [
        "mm=np.zeros((11,11))\n",
        "\n",
        "for i in wrong_indices:\n",
        "  mm[predicted_labels[i], train_labels_original[i]]+=1\n",
        "  mm[predicted_labels[i], 10]+=.3\n",
        "  mm[10, train_labels_original[i]]+=.3\n",
        "plt.imshow(mm)\n",
        "plt.grid(None)\n",
        "plt.xlabel('true label')\n",
        "plt.ylabel('predicted label')\n",
        "plt.show()\n"
      ],
      "execution_count": 26,
      "outputs": [
        {
          "output_type": "display_data",
          "data": {
            "image/png": "[encoded data removed]",
            "text/plain": [
              "<Figure size 576x396 with 1 Axes>"
            ]
          },
          "metadata": {
            "tags": []
          }
        }
      ]
    },
    {
      "metadata": {
        "id": "t15R2rf1C99Z",
        "colab_type": "code",
        "colab": {
          "base_uri": "https://localhost:8080/",
          "height": 219
        },
        "outputId": "85f7c7bf-01ad-4b22-a13b-462b5ca6d51f"
      },
      "cell_type": "code",
      "source": [
        "print(mm)"
      ],
      "execution_count": 27,
      "outputs": [
        {
          "output_type": "stream",
          "text": [
            "[[  0.    1.   40.   21.   12.   74.   38.   29.   31.   34.   84. ]\n",
            " [  0.    0.   61.   35.   33.   36.   19.   51.  118.   32.  115.5]\n",
            " [ 20.   34.    0.  129.   35.   42.   48.   90.   61.   29.  146.4]\n",
            " [ 13.   26.   91.    0.    6.  200.    3.   22.  118.   82.  168.3]\n",
            " [ 12.    6.   99.    6.    0.   59.   47.   64.   26.  180.  149.7]\n",
            " [ 41.   34.   27.  222.    6.    0.   63.   12.  121.   35.  168.3]\n",
            " [ 44.    7.   93.   30.   60.  106.    0.    3.   50.    5.  119.4]\n",
            " [  7.   17.   90.   71.   11.   25.    6.    0.   14.  174.  124.5]\n",
            " [ 62.   61.  140.   89.   30.  121.   44.   14.    0.   49.  183. ]\n",
            " [  6.   10.   28.   64.  218.   57.    1.  182.   80.    0.  193.8]\n",
            " [ 61.5  58.8 200.7 200.1 123.3 216.   80.7 140.1 185.7 186.    0. ]]\n"
          ],
          "name": "stdout"
        }
      ]
    },
    {
      "metadata": {
        "id": "x5VMKvnNFjjP",
        "colab_type": "text"
      },
      "cell_type": "markdown",
      "source": [
        "9 is often misclassified as 4 or 7 and vice versa\n",
        "\n",
        "3 is othen misclassified as 5 and vice versa\n",
        "\n",
        "2 is often miclassified as 3 and vice versa"
      ]
    },
    {
      "metadata": {
        "id": "5NQB7TV9GPPp",
        "colab_type": "text"
      },
      "cell_type": "markdown",
      "source": [
        "## New features"
      ]
    },
    {
      "metadata": {
        "id": "mqtRhj_nGX8w",
        "colab_type": "text"
      },
      "cell_type": "markdown",
      "source": [
        "### Inner pixels"
      ]
    },
    {
      "metadata": {
        "id": "rRBelQ5cGeWq",
        "colab_type": "text"
      },
      "cell_type": "markdown",
      "source": [
        "Pixels that are not connected to corners"
      ]
    },
    {
      "metadata": {
        "id": "eBxn3c1XGqqm",
        "colab_type": "code",
        "colab": {
          "base_uri": "https://localhost:8080/",
          "height": 677
        },
        "outputId": "7b98363c-1cea-411a-8db8-ad77d6ea5067"
      },
      "cell_type": "code",
      "source": [
        "def makeInnerPixels(X):\n",
        "  nbs = [-29, -1, -28, -27, 1, 29, 28, 27]\n",
        "  def paintCorners(img):\n",
        "    # do BW\n",
        "    img = (img > threshold)\n",
        "    n = len(img)\n",
        "    #assume 28 x 28\n",
        "    paint(0, n, img, nbs)\n",
        "    paint(n-1, n, img, nbs)\n",
        "    paint(27, n, img, nbs)\n",
        "    paint (n-28, n, img, nbs)\n",
        "    #convert bool to float\n",
        "    img = img.astype('float32')\n",
        "    return img\n",
        "  \n",
        "  new = np.apply_along_axis(paintCorners, 1, X)\n",
        "  \n",
        "  return new\n",
        "  \n",
        "plt.imshow(makeInnerPixels(orig_tr_im[0:2])[1].reshape((28,28)))\n",
        "plt.grid(None)\n",
        "plt.show()\n",
        "plt.imshow(train_images_original[1])\n",
        "plt.grid(None)\n",
        "plt.show()"
      ],
      "execution_count": 28,
      "outputs": [
        {
          "output_type": "display_data",
          "data": {
            "image/png": "[encoded data removed]",
            "text/plain": [
              "<Figure size 576x396 with 1 Axes>"
            ]
          },
          "metadata": {
            "tags": []
          }
        },
        {
          "output_type": "display_data",
          "data": {
            "image/png": "[encoded data removed]",
            "text/plain": [
              "<Figure size 576x396 with 1 Axes>"
            ]
          },
          "metadata": {
            "tags": []
          }
        }
      ]
    },
    {
      "metadata": {
        "id": "nVJln_bRmHSi",
        "colab_type": "text"
      },
      "cell_type": "markdown",
      "source": [
        ""
      ]
    },
    {
      "metadata": {
        "id": "JmJlPpSxl5W4",
        "colab_type": "text"
      },
      "cell_type": "markdown",
      "source": [
        "### Leftest right and rightest left"
      ]
    },
    {
      "metadata": {
        "id": "jKUFXUDqmJC9",
        "colab_type": "code",
        "colab": {
          "base_uri": "https://localhost:8080/",
          "height": 458
        },
        "outputId": "99f83faa-6832-4658-d3aa-930d9e6b075d"
      },
      "cell_type": "code",
      "source": [
        "def makeLR_n_RL(X):\n",
        "  nbs = [-29, -1, -28, -27, 1, 29, 28, 27]\n",
        "  \n",
        "    \n",
        "  def calcLR_n_RL(img):\n",
        "    def findRL(img):\n",
        "      #fixing paint bug\n",
        "      img=img.copy()\n",
        "      img[0:n:28]=True\n",
        "      #painting\n",
        "      i = img.copy()\n",
        "      paint(27, n, i, nbs)\n",
        "      paint (n-1, n, i, nbs)\n",
        "      #print(img.reshape((28,28)))\n",
        "#       plt.imshow(img.reshape((28,28)))\n",
        "#       plt.grid(None)\n",
        "#       plt.show()\n",
        "      # now find the difference\n",
        "      diff = np.logical_xor(img, i).reshape((28,28))\n",
        "#       plt.imshow(diff)\n",
        "#       plt.grid(None)\n",
        "#       plt.show()\n",
        "      return np.argmax(diff,axis=1)\n",
        "    \n",
        "    # do BW\n",
        "    img = (img > threshold)\n",
        "    n = len(img)\n",
        "    #assume 28 x 28\n",
        "    #find top and bottom\n",
        "    i_top=np.argmax(img)\n",
        "    i_bottom=n-1 - np.argmax(img[::-1])\n",
        "    #fill gaps on top and bottom\n",
        "#     print(i_top)\n",
        "    for i in range(i_top-28, -1, -28):\n",
        "      img[i]=True\n",
        "    for i in range(i_bottom+28, n, 28):\n",
        "      img[i]=True\n",
        "#     plt.imshow(img.reshape((28,28)))\n",
        "#     plt.grid(None)\n",
        "#     plt.show()\n",
        "    ## find LR and RL\n",
        "    RL = findRL(img)\n",
        "    LR = findRL(img[::-1])[::-1]\n",
        "    return np.concatenate((LR, RL))\n",
        "  \n",
        "  new = np.apply_along_axis(calcLR_n_RL, 1, X)\n",
        "  \n",
        "  return new / max(np.max(new), 1)\n",
        "\n",
        "makeLR_n_RL(orig_tr_im[0:2])"
      ],
      "execution_count": 29,
      "outputs": [
        {
          "output_type": "execute_result",
          "data": {
            "text/plain": [
              "array([[0.43478261, 0.43478261, 0.43478261, 0.43478261, 0.43478261,\n",
              "        0.43478261, 0.73913043, 0.86956522, 0.86956522, 0.73913043,\n",
              "        0.73913043, 0.69565217, 0.69565217, 0.65217391, 0.60869565,\n",
              "        0.56521739, 0.47826087, 0.47826087, 0.52173913, 0.60869565,\n",
              "        0.69565217, 0.7826087 , 0.91304348, 1.        , 1.        ,\n",
              "        0.86956522, 0.86956522, 0.86956522, 0.82608696, 0.82608696,\n",
              "        0.82608696, 0.82608696, 0.82608696, 0.82608696, 1.        ,\n",
              "        0.7826087 , 0.7826087 , 0.60869565, 0.56521739, 0.60869565,\n",
              "        0.60869565, 0.69565217, 0.73913043, 0.7826087 , 0.86956522,\n",
              "        0.86956522, 0.86956522, 0.86956522, 0.7826087 , 0.69565217,\n",
              "        0.60869565, 0.52173913, 0.39130435, 0.39130435, 0.39130435,\n",
              "        0.39130435],\n",
              "       [0.52173913, 0.52173913, 0.52173913, 0.52173913, 0.52173913,\n",
              "        0.56521739, 0.60869565, 0.65217391, 0.73913043, 0.73913043,\n",
              "        0.7826087 , 0.82608696, 0.86956522, 0.86956522, 0.91304348,\n",
              "        0.91304348, 0.91304348, 0.91304348, 0.91304348, 0.91304348,\n",
              "        0.91304348, 0.91304348, 0.91304348, 0.82608696, 0.73913043,\n",
              "        0.73913043, 0.73913043, 0.73913043, 0.73913043, 0.73913043,\n",
              "        0.73913043, 0.73913043, 0.82608696, 0.86956522, 0.86956522,\n",
              "        0.91304348, 0.95652174, 0.95652174, 0.95652174, 1.        ,\n",
              "        1.        , 1.        , 1.        , 0.95652174, 0.95652174,\n",
              "        0.91304348, 0.86956522, 0.82608696, 0.7826087 , 0.69565217,\n",
              "        0.60869565, 0.52173913, 0.52173913, 0.52173913, 0.52173913,\n",
              "        0.52173913]])"
            ]
          },
          "metadata": {
            "tags": []
          },
          "execution_count": 29
        }
      ]
    },
    {
      "metadata": {
        "id": "lE4dAOpXmCy2",
        "colab_type": "text"
      },
      "cell_type": "markdown",
      "source": [
        "### Calculate with new features"
      ]
    },
    {
      "metadata": {
        "id": "PizI1kgXMll4",
        "colab_type": "code",
        "colab": {}
      },
      "cell_type": "code",
      "source": [
        "extra_features = makeInnerPixels(orig_tst_im)"
      ],
      "execution_count": 0,
      "outputs": []
    },
    {
      "metadata": {
        "id": "gjibCnJVMxgX",
        "colab_type": "code",
        "colab": {}
      },
      "cell_type": "code",
      "source": [
        "test_images=np.c_[extra_features, test_images]"
      ],
      "execution_count": 0,
      "outputs": []
    },
    {
      "metadata": {
        "colab_type": "code",
        "id": "tkFym2E6SXHi",
        "colab": {}
      },
      "cell_type": "code",
      "source": [
        "extra_features = makeLR_n_RL(orig_tst_im)"
      ],
      "execution_count": 0,
      "outputs": []
    },
    {
      "metadata": {
        "colab_type": "code",
        "id": "A3Kl7aw1SXHz",
        "colab": {}
      },
      "cell_type": "code",
      "source": [
        "test_images=np.c_[extra_features, test_images]"
      ],
      "execution_count": 0,
      "outputs": []
    },
    {
      "metadata": {
        "id": "etVZwOUqMYBQ",
        "colab_type": "code",
        "colab": {}
      },
      "cell_type": "code",
      "source": [
        "extra_features = makeInnerPixels(orig_tr_im)"
      ],
      "execution_count": 0,
      "outputs": []
    },
    {
      "metadata": {
        "id": "MrUZHc70M4Z9",
        "colab_type": "code",
        "colab": {}
      },
      "cell_type": "code",
      "source": [
        "train_images=np.c_[extra_features, train_images]"
      ],
      "execution_count": 0,
      "outputs": []
    },
    {
      "metadata": {
        "colab_type": "code",
        "id": "1JHffu-LR-V7",
        "colab": {}
      },
      "cell_type": "code",
      "source": [
        "extra_features = makeLR_n_RL(orig_tr_im)"
      ],
      "execution_count": 0,
      "outputs": []
    },
    {
      "metadata": {
        "colab_type": "code",
        "id": "F4Lwqj-2R-WT",
        "colab": {}
      },
      "cell_type": "code",
      "source": [
        "train_images=np.c_[extra_features, train_images]"
      ],
      "execution_count": 0,
      "outputs": []
    },
    {
      "metadata": {
        "id": "mxlWDZ1pNUOx",
        "colab_type": "code",
        "colab": {
          "base_uri": "https://localhost:8080/",
          "height": 182
        },
        "outputId": "0c761875-e9eb-4d04-f5ca-0c028ddd8079"
      },
      "cell_type": "code",
      "source": [
        "network = models.Sequential()\n",
        "network.add(layers.Dense(10, activation='softmax', input_shape=(train_images.shape[1],)))\n",
        "network.summary()\n",
        "network.compile(optimizer='sgd',\n",
        "                loss='categorical_crossentropy',\n",
        "                metrics=['accuracy'])"
      ],
      "execution_count": 38,
      "outputs": [
        {
          "output_type": "stream",
          "text": [
            "_________________________________________________________________\n",
            "Layer (type)                 Output Shape              Param #   \n",
            "=================================================================\n",
            "dense_2 (Dense)              (None, 10)                16290     \n",
            "=================================================================\n",
            "Total params: 16,290\n",
            "Trainable params: 16,290\n",
            "Non-trainable params: 0\n",
            "_________________________________________________________________\n"
          ],
          "name": "stdout"
        }
      ]
    },
    {
      "metadata": {
        "id": "119fiFsVNaJN",
        "colab_type": "code",
        "colab": {
          "base_uri": "https://localhost:8080/",
          "height": 1872
        },
        "outputId": "44f6f078-15fd-48be-eb7b-97b62b6893d6"
      },
      "cell_type": "code",
      "source": [
        "epochs = 50\n",
        "history = network.fit(train_images, \n",
        "                      train_labels, \n",
        "                      epochs=epochs, \n",
        "                      batch_size=128, \n",
        "                      validation_data=(test_images, test_labels))"
      ],
      "execution_count": 39,
      "outputs": [
        {
          "output_type": "stream",
          "text": [
            "Train on 60000 samples, validate on 10000 samples\n",
            "Epoch 1/50\n",
            "60000/60000 [==============================] - 2s 37us/step - loss: 1.1304 - acc: 0.7386 - val_loss: 0.6787 - val_acc: 0.8449\n",
            "Epoch 2/50\n",
            "60000/60000 [==============================] - 2s 34us/step - loss: 0.5899 - acc: 0.8625 - val_loss: 0.5006 - val_acc: 0.8806\n",
            "Epoch 3/50\n",
            "60000/60000 [==============================] - 2s 35us/step - loss: 0.4798 - acc: 0.8813 - val_loss: 0.4295 - val_acc: 0.8935\n",
            "Epoch 4/50\n",
            "60000/60000 [==============================] - 2s 34us/step - loss: 0.4273 - acc: 0.8912 - val_loss: 0.3948 - val_acc: 0.8928\n",
            "Epoch 5/50\n",
            "60000/60000 [==============================] - 2s 34us/step - loss: 0.3940 - acc: 0.8977 - val_loss: 0.3680 - val_acc: 0.9080\n",
            "Epoch 6/50\n",
            "60000/60000 [==============================] - 2s 34us/step - loss: 0.3713 - acc: 0.9021 - val_loss: 0.3477 - val_acc: 0.9094\n",
            "Epoch 7/50\n",
            "60000/60000 [==============================] - 2s 34us/step - loss: 0.3551 - acc: 0.9041 - val_loss: 0.3354 - val_acc: 0.9107\n",
            "Epoch 8/50\n",
            "60000/60000 [==============================] - 2s 34us/step - loss: 0.3413 - acc: 0.9074 - val_loss: 0.3203 - val_acc: 0.9140\n",
            "Epoch 9/50\n",
            "60000/60000 [==============================] - 2s 34us/step - loss: 0.3305 - acc: 0.9097 - val_loss: 0.3116 - val_acc: 0.9145\n",
            "Epoch 10/50\n",
            "60000/60000 [==============================] - 2s 35us/step - loss: 0.3213 - acc: 0.9115 - val_loss: 0.3038 - val_acc: 0.9192\n",
            "Epoch 11/50\n",
            "60000/60000 [==============================] - 2s 35us/step - loss: 0.3138 - acc: 0.9132 - val_loss: 0.2969 - val_acc: 0.9163\n",
            "Epoch 12/50\n",
            "60000/60000 [==============================] - 2s 34us/step - loss: 0.3072 - acc: 0.9149 - val_loss: 0.2917 - val_acc: 0.9199\n",
            "Epoch 13/50\n",
            "60000/60000 [==============================] - 2s 34us/step - loss: 0.3011 - acc: 0.9162 - val_loss: 0.2873 - val_acc: 0.9193\n",
            "Epoch 14/50\n",
            "60000/60000 [==============================] - 2s 34us/step - loss: 0.2960 - acc: 0.9179 - val_loss: 0.2803 - val_acc: 0.9226\n",
            "Epoch 15/50\n",
            "60000/60000 [==============================] - 2s 34us/step - loss: 0.2913 - acc: 0.9184 - val_loss: 0.2780 - val_acc: 0.9230\n",
            "Epoch 16/50\n",
            "60000/60000 [==============================] - 2s 34us/step - loss: 0.2870 - acc: 0.9201 - val_loss: 0.2757 - val_acc: 0.9237\n",
            "Epoch 17/50\n",
            "60000/60000 [==============================] - 2s 34us/step - loss: 0.2832 - acc: 0.9208 - val_loss: 0.2683 - val_acc: 0.9263\n",
            "Epoch 18/50\n",
            "60000/60000 [==============================] - 2s 35us/step - loss: 0.2797 - acc: 0.9213 - val_loss: 0.2672 - val_acc: 0.9272\n",
            "Epoch 19/50\n",
            "60000/60000 [==============================] - 2s 34us/step - loss: 0.2763 - acc: 0.9224 - val_loss: 0.2624 - val_acc: 0.9289\n",
            "Epoch 20/50\n",
            "60000/60000 [==============================] - 2s 34us/step - loss: 0.2734 - acc: 0.9227 - val_loss: 0.2659 - val_acc: 0.9280\n",
            "Epoch 21/50\n",
            "60000/60000 [==============================] - 2s 34us/step - loss: 0.2706 - acc: 0.9238 - val_loss: 0.2613 - val_acc: 0.9280\n",
            "Epoch 22/50\n",
            "60000/60000 [==============================] - 2s 35us/step - loss: 0.2680 - acc: 0.9250 - val_loss: 0.2549 - val_acc: 0.9296\n",
            "Epoch 23/50\n",
            "60000/60000 [==============================] - 2s 34us/step - loss: 0.2654 - acc: 0.9253 - val_loss: 0.2534 - val_acc: 0.9311\n",
            "Epoch 24/50\n",
            "60000/60000 [==============================] - 2s 35us/step - loss: 0.2631 - acc: 0.9261 - val_loss: 0.2520 - val_acc: 0.9295\n",
            "Epoch 25/50\n",
            "60000/60000 [==============================] - 2s 34us/step - loss: 0.2610 - acc: 0.9265 - val_loss: 0.2494 - val_acc: 0.9330\n",
            "Epoch 26/50\n",
            "60000/60000 [==============================] - 2s 34us/step - loss: 0.2589 - acc: 0.9272 - val_loss: 0.2513 - val_acc: 0.9307\n",
            "Epoch 27/50\n",
            "60000/60000 [==============================] - 2s 34us/step - loss: 0.2570 - acc: 0.9275 - val_loss: 0.2471 - val_acc: 0.9326\n",
            "Epoch 28/50\n",
            "60000/60000 [==============================] - 2s 34us/step - loss: 0.2552 - acc: 0.9278 - val_loss: 0.2446 - val_acc: 0.9320\n",
            "Epoch 29/50\n",
            "60000/60000 [==============================] - 2s 34us/step - loss: 0.2534 - acc: 0.9285 - val_loss: 0.2419 - val_acc: 0.9337\n",
            "Epoch 30/50\n",
            "60000/60000 [==============================] - 2s 34us/step - loss: 0.2518 - acc: 0.9292 - val_loss: 0.2416 - val_acc: 0.9338\n",
            "Epoch 31/50\n",
            "60000/60000 [==============================] - 2s 34us/step - loss: 0.2501 - acc: 0.9290 - val_loss: 0.2409 - val_acc: 0.9346\n",
            "Epoch 32/50\n",
            "60000/60000 [==============================] - 2s 34us/step - loss: 0.2486 - acc: 0.9301 - val_loss: 0.2395 - val_acc: 0.9340\n",
            "Epoch 33/50\n",
            "60000/60000 [==============================] - 2s 34us/step - loss: 0.2473 - acc: 0.9295 - val_loss: 0.2371 - val_acc: 0.9353\n",
            "Epoch 34/50\n",
            "60000/60000 [==============================] - 2s 34us/step - loss: 0.2457 - acc: 0.9304 - val_loss: 0.2388 - val_acc: 0.9318\n",
            "Epoch 35/50\n",
            "60000/60000 [==============================] - 2s 35us/step - loss: 0.2442 - acc: 0.9308 - val_loss: 0.2353 - val_acc: 0.9337\n",
            "Epoch 36/50\n",
            "60000/60000 [==============================] - 2s 35us/step - loss: 0.2431 - acc: 0.9318 - val_loss: 0.2336 - val_acc: 0.9355\n",
            "Epoch 37/50\n",
            "60000/60000 [==============================] - 2s 35us/step - loss: 0.2417 - acc: 0.9318 - val_loss: 0.2329 - val_acc: 0.9360\n",
            "Epoch 38/50\n",
            "60000/60000 [==============================] - 2s 35us/step - loss: 0.2407 - acc: 0.9316 - val_loss: 0.2308 - val_acc: 0.9359\n",
            "Epoch 39/50\n",
            "60000/60000 [==============================] - 2s 35us/step - loss: 0.2397 - acc: 0.9323 - val_loss: 0.2312 - val_acc: 0.9363\n",
            "Epoch 40/50\n",
            "60000/60000 [==============================] - 2s 34us/step - loss: 0.2383 - acc: 0.9327 - val_loss: 0.2317 - val_acc: 0.9364\n",
            "Epoch 41/50\n",
            "60000/60000 [==============================] - 2s 34us/step - loss: 0.2372 - acc: 0.9332 - val_loss: 0.2280 - val_acc: 0.9371\n",
            "Epoch 42/50\n",
            "60000/60000 [==============================] - 2s 34us/step - loss: 0.2362 - acc: 0.9332 - val_loss: 0.2279 - val_acc: 0.9363\n",
            "Epoch 43/50\n",
            "60000/60000 [==============================] - 2s 34us/step - loss: 0.2353 - acc: 0.9337 - val_loss: 0.2268 - val_acc: 0.9361\n",
            "Epoch 44/50\n",
            "60000/60000 [==============================] - 2s 34us/step - loss: 0.2343 - acc: 0.9336 - val_loss: 0.2268 - val_acc: 0.9370\n",
            "Epoch 45/50\n",
            "60000/60000 [==============================] - 2s 34us/step - loss: 0.2332 - acc: 0.9340 - val_loss: 0.2253 - val_acc: 0.9376\n",
            "Epoch 46/50\n",
            "60000/60000 [==============================] - 2s 34us/step - loss: 0.2322 - acc: 0.9344 - val_loss: 0.2246 - val_acc: 0.9369\n",
            "Epoch 47/50\n",
            "60000/60000 [==============================] - 2s 34us/step - loss: 0.2314 - acc: 0.9350 - val_loss: 0.2233 - val_acc: 0.9371\n",
            "Epoch 48/50\n",
            "60000/60000 [==============================] - 2s 34us/step - loss: 0.2305 - acc: 0.9344 - val_loss: 0.2250 - val_acc: 0.9355\n",
            "Epoch 49/50\n",
            "60000/60000 [==============================] - 2s 34us/step - loss: 0.2295 - acc: 0.9352 - val_loss: 0.2228 - val_acc: 0.9382\n",
            "Epoch 50/50\n",
            "60000/60000 [==============================] - 2s 34us/step - loss: 0.2289 - acc: 0.9351 - val_loss: 0.2214 - val_acc: 0.9382\n"
          ],
          "name": "stdout"
        }
      ]
    },
    {
      "metadata": {
        "colab_type": "text",
        "id": "ctgikq2CNlde"
      },
      "cell_type": "markdown",
      "source": [
        "## Display the training/test loss/accuracy"
      ]
    },
    {
      "metadata": {
        "colab_type": "code",
        "id": "my3Xcs-NNldl",
        "colab": {}
      },
      "cell_type": "code",
      "source": [
        "history_dict = history.history\n",
        "loss_values = history_dict['loss']\n",
        "test_loss_values = history_dict['val_loss']\n",
        "epochs_range = range(1, epochs + 1)"
      ],
      "execution_count": 0,
      "outputs": []
    },
    {
      "metadata": {
        "colab_type": "code",
        "outputId": "183fa144-a2b5-4216-d167-a9ef8f1752b5",
        "id": "T-pUVSGgNldy",
        "colab": {
          "base_uri": "https://localhost:8080/",
          "height": 376
        }
      },
      "cell_type": "code",
      "source": [
        "import matplotlib.pyplot as plt\n",
        "\n",
        "plt.plot(epochs_range, loss_values, 'bo', label='Training loss')\n",
        "plt.plot(epochs_range, test_loss_values, 'ro', label='Test loss')\n",
        "plt.title('Training and test loss')\n",
        "plt.xlabel('Epochs')\n",
        "plt.ylabel('Loss')\n",
        "plt.legend()\n",
        "plt.show()"
      ],
      "execution_count": 41,
      "outputs": [
        {
          "output_type": "display_data",
          "data": {
            "image/png": "[encoded data removed]",
            "text/plain": [
              "<Figure size 576x396 with 1 Axes>"
            ]
          },
          "metadata": {
            "tags": []
          }
        }
      ]
    },
    {
      "metadata": {
        "colab_type": "code",
        "id": "ubtY-Nf6Nld8",
        "colab": {}
      },
      "cell_type": "code",
      "source": [
        "acc_values = history_dict['acc']\n",
        "test_acc_values = history_dict['val_acc']"
      ],
      "execution_count": 0,
      "outputs": []
    },
    {
      "metadata": {
        "colab_type": "code",
        "outputId": "7c855ac0-4ce8-4cb5-d120-a43c667a3af3",
        "id": "KaU-tsbyNleD",
        "colab": {
          "base_uri": "https://localhost:8080/",
          "height": 376
        }
      },
      "cell_type": "code",
      "source": [
        "plt.plot(epochs_range, acc_values, 'bo', label='Training accuracy')\n",
        "plt.plot(epochs_range, test_acc_values, 'ro', label='Test accuracy')\n",
        "plt.title('Training and test accuracy')\n",
        "plt.xlabel('Epochs')\n",
        "plt.ylabel('Accuracy')\n",
        "plt.legend()\n",
        "plt.show()"
      ],
      "execution_count": 43,
      "outputs": [
        {
          "output_type": "display_data",
          "data": {
            "image/png": "[encoded data removed]",
            "text/plain": [
              "<Figure size 576x396 with 1 Axes>"
            ]
          },
          "metadata": {
            "tags": []
          }
        }
      ]
    },
    {
      "metadata": {
        "id": "55m14V0MS5FW",
        "colab_type": "text"
      },
      "cell_type": "markdown",
      "source": [
        "## Results of adding \"inner pixels\" features"
      ]
    },
    {
      "metadata": {
        "id": "LpoQ3FbZTFU-",
        "colab_type": "text"
      },
      "cell_type": "markdown",
      "source": [
        "Additional improvement was attained, although not much.\n",
        "However, the number of features nearly doubled."
      ]
    },
    {
      "metadata": {
        "id": "ojvZt0m2a1MK",
        "colab_type": "text"
      },
      "cell_type": "markdown",
      "source": [
        "## Results of adding \"leftest right and rightest left\""
      ]
    },
    {
      "metadata": {
        "id": "vFOxI7F6a7hy",
        "colab_type": "text"
      },
      "cell_type": "markdown",
      "source": [
        "Although the number of additional features was less that for \"inner pixels\" (28*2 vs 28^2), the improvement was larger"
      ]
    }
  ]
}