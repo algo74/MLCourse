{
  "nbformat": 4,
  "nbformat_minor": 0,
  "metadata": {
    "colab": {
      "name": "HW3_Problem1",
      "version": "0.3.2",
      "provenance": [],
      "collapsed_sections": [],
      "include_colab_link": true
    },
    "kernelspec": {
      "name": "python3",
      "display_name": "Python 3"
    },
    "accelerator": "GPU"
  },
  "cells": [
    {
      "cell_type": "markdown",
      "metadata": {
        "id": "view-in-github",
        "colab_type": "text"
      },
      "source": [
        "<a href=\"https://colab.research.google.com/github/algo74/MLCourse/blob/master/HW3/HW3_Problem1.ipynb\" target=\"_parent\"><img src=\"https://colab.research.google.com/assets/colab-badge.svg\" alt=\"Open In Colab\"/></a>"
      ]
    },
    {
      "metadata": {
        "id": "KSrgMJ5vKFzQ",
        "colab_type": "text"
      },
      "cell_type": "markdown",
      "source": [
        "# Using VGG19 with data augmentation"
      ]
    },
    {
      "metadata": {
        "id": "TIW7bZaAK-Hf",
        "colab_type": "text"
      },
      "cell_type": "markdown",
      "source": [
        "This is based on `pretrained_convnet_feature_extraction_data_augmentation.ipynb`\n",
        "\n"
      ]
    },
    {
      "metadata": {
        "id": "yqjqYY4jkvrf",
        "colab_type": "text"
      },
      "cell_type": "markdown",
      "source": [
        "## Preparing saving to files\n",
        "\n",
        "I saved files to my Google Drive so that I can reload them in other notebooks even in another session\n",
        "\n",
        "This code needs to be changed if not saving to Google Drive"
      ]
    },
    {
      "metadata": {
        "id": "aUKJxwdfJgwG",
        "colab_type": "code",
        "outputId": "ae071455-5eec-4d98-eff0-c1ed0a7806f4",
        "colab": {
          "base_uri": "https://localhost:8080/",
          "height": 35
        }
      },
      "cell_type": "code",
      "source": [
        "from google.colab import drive\n",
        "drive.mount('/gdrive', force_remount=True)\n",
        "file_prefix = '/gdrive/My Drive/HW3/'"
      ],
      "execution_count": 0,
      "outputs": [
        {
          "output_type": "stream",
          "text": [
            "Mounted at /gdrive\n"
          ],
          "name": "stdout"
        }
      ]
    },
    {
      "metadata": {
        "id": "8-Ec8RDJj8NX",
        "colab_type": "code",
        "outputId": "49834267-3983-40bd-b109-6f3acf36ca30",
        "colab": {
          "base_uri": "https://localhost:8080/",
          "height": 35
        }
      },
      "cell_type": "code",
      "source": [
        "# test saving files\n",
        "with open(file_prefix + 'foo.txt', 'w') as f:\n",
        "  f.write('Hello Google Drive!')\n",
        "!cat \"{file_prefix}foo.txt\""
      ],
      "execution_count": 0,
      "outputs": [
        {
          "output_type": "stream",
          "text": [
            "Hello Google Drive!"
          ],
          "name": "stdout"
        }
      ]
    },
    {
      "metadata": {
        "id": "BqIG8QHMLNOn",
        "colab_type": "text"
      },
      "cell_type": "markdown",
      "source": [
        "## Download the data"
      ]
    },
    {
      "metadata": {
        "id": "t3I1jd7cKV6_",
        "colab_type": "text"
      },
      "cell_type": "markdown",
      "source": [
        "Download the example data, a zip. of 2,000 JPG pictures of cats and dogs and extract it locally in ```/tmp```.\n",
        "\n"
      ]
    },
    {
      "metadata": {
        "id": "JWjprHEXJ5Qi",
        "colab_type": "code",
        "outputId": "c8a3734f-af66-4206-ac89-5acd7638586d",
        "colab": {
          "base_uri": "https://localhost:8080/",
          "height": 219
        }
      },
      "cell_type": "code",
      "source": [
        "!wget --no-check-certificate \\\n",
        "    https://storage.googleapis.com/mledu-datasets/cats_and_dogs_filtered.zip \\\n",
        "    -O /tmp/cats_and_dogs_filtered.zip"
      ],
      "execution_count": 0,
      "outputs": [
        {
          "output_type": "stream",
          "text": [
            "--2019-04-14 16:52:19--  https://storage.googleapis.com/mledu-datasets/cats_and_dogs_filtered.zip\n",
            "Resolving storage.googleapis.com (storage.googleapis.com)... 108.177.15.128, 2a00:1450:400c:c0b::80\n",
            "Connecting to storage.googleapis.com (storage.googleapis.com)|108.177.15.128|:443... connected.\n",
            "HTTP request sent, awaiting response... 200 OK\n",
            "Length: 68606236 (65M) [application/zip]\n",
            "Saving to: ‘/tmp/cats_and_dogs_filtered.zip’\n",
            "\n",
            "/tmp/cats_and_dogs_ 100%[===================>]  65.43M  73.9MB/s    in 0.9s    \n",
            "\n",
            "2019-04-14 16:52:21 (73.9 MB/s) - ‘/tmp/cats_and_dogs_filtered.zip’ saved [68606236/68606236]\n",
            "\n"
          ],
          "name": "stdout"
        }
      ]
    },
    {
      "metadata": {
        "id": "WvoHtdA-K6Rw",
        "colab_type": "code",
        "colab": {}
      },
      "cell_type": "code",
      "source": [
        "import os\n",
        "import zipfile\n",
        "\n",
        "local_zip = '/tmp/cats_and_dogs_filtered.zip'\n",
        "zip_ref = zipfile.ZipFile(local_zip, 'r')\n",
        "zip_ref.extractall('/tmp')\n",
        "zip_ref.close()"
      ],
      "execution_count": 0,
      "outputs": []
    },
    {
      "metadata": {
        "id": "shZiOBnJMyy_",
        "colab_type": "text"
      },
      "cell_type": "markdown",
      "source": [
        "Note that the data provided by Google does not have a test set."
      ]
    },
    {
      "metadata": {
        "id": "dL8ikM89LlsH",
        "colab_type": "code",
        "colab": {}
      },
      "cell_type": "code",
      "source": [
        "base_dir = '/tmp/cats_and_dogs_filtered'\n",
        "train_dir = os.path.join(base_dir, 'train')\n",
        "validation_dir = os.path.join(base_dir, 'validation')\n",
        "\n",
        "# Directory with our training cat pictures\n",
        "train_cats_dir = os.path.join(train_dir, 'cats')\n",
        "\n",
        "# Directory with our training dog pictures\n",
        "train_dogs_dir = os.path.join(train_dir, 'dogs')\n",
        "\n",
        "# Directory with our validation cat pictures\n",
        "validation_cats_dir = os.path.join(validation_dir, 'cats')\n",
        "\n",
        "# Directory with our validation dog pictures\n",
        "validation_dogs_dir = os.path.join(validation_dir, 'dogs')"
      ],
      "execution_count": 0,
      "outputs": []
    },
    {
      "metadata": {
        "id": "inyP8bcdXnn-",
        "colab_type": "text"
      },
      "cell_type": "markdown",
      "source": [
        "## Build network with VGG19 convolution base and custom densely connected layers"
      ]
    },
    {
      "metadata": {
        "id": "kQ48W5T9rHWu",
        "colab_type": "text"
      },
      "cell_type": "markdown",
      "source": [
        "### Load the convolutional base"
      ]
    },
    {
      "metadata": {
        "id": "Y0FgtANCXm_H",
        "colab_type": "code",
        "outputId": "d1e5bb57-6b05-421e-be0d-8f506990a9a0",
        "colab": {
          "base_uri": "https://localhost:8080/",
          "height": 90
        }
      },
      "cell_type": "code",
      "source": [
        "from keras.applications import VGG19\n",
        "\n",
        "conv_base = VGG19(\n",
        "    weights='imagenet', \n",
        "    include_top=False, \n",
        "    input_shape=(150, 150, 3))"
      ],
      "execution_count": 0,
      "outputs": [
        {
          "output_type": "stream",
          "text": [
            "Using TensorFlow backend.\n"
          ],
          "name": "stderr"
        },
        {
          "output_type": "stream",
          "text": [
            "WARNING:tensorflow:From /usr/local/lib/python3.6/dist-packages/tensorflow/python/framework/op_def_library.py:263: colocate_with (from tensorflow.python.framework.ops) is deprecated and will be removed in a future version.\n",
            "Instructions for updating:\n",
            "Colocations handled automatically by placer.\n"
          ],
          "name": "stdout"
        }
      ]
    },
    {
      "metadata": {
        "id": "TbXAFyXNMWDV",
        "colab_type": "code",
        "outputId": "848ed940-74ca-44d9-947c-d8e90443fde8",
        "colab": {
          "base_uri": "https://localhost:8080/",
          "height": 954
        }
      },
      "cell_type": "code",
      "source": [
        "conv_base.summary()"
      ],
      "execution_count": 0,
      "outputs": [
        {
          "output_type": "stream",
          "text": [
            "_________________________________________________________________\n",
            "Layer (type)                 Output Shape              Param #   \n",
            "=================================================================\n",
            "input_1 (InputLayer)         (None, 150, 150, 3)       0         \n",
            "_________________________________________________________________\n",
            "block1_conv1 (Conv2D)        (None, 150, 150, 64)      1792      \n",
            "_________________________________________________________________\n",
            "block1_conv2 (Conv2D)        (None, 150, 150, 64)      36928     \n",
            "_________________________________________________________________\n",
            "block1_pool (MaxPooling2D)   (None, 75, 75, 64)        0         \n",
            "_________________________________________________________________\n",
            "block2_conv1 (Conv2D)        (None, 75, 75, 128)       73856     \n",
            "_________________________________________________________________\n",
            "block2_conv2 (Conv2D)        (None, 75, 75, 128)       147584    \n",
            "_________________________________________________________________\n",
            "block2_pool (MaxPooling2D)   (None, 37, 37, 128)       0         \n",
            "_________________________________________________________________\n",
            "block3_conv1 (Conv2D)        (None, 37, 37, 256)       295168    \n",
            "_________________________________________________________________\n",
            "block3_conv2 (Conv2D)        (None, 37, 37, 256)       590080    \n",
            "_________________________________________________________________\n",
            "block3_conv3 (Conv2D)        (None, 37, 37, 256)       590080    \n",
            "_________________________________________________________________\n",
            "block3_conv4 (Conv2D)        (None, 37, 37, 256)       590080    \n",
            "_________________________________________________________________\n",
            "block3_pool (MaxPooling2D)   (None, 18, 18, 256)       0         \n",
            "_________________________________________________________________\n",
            "block4_conv1 (Conv2D)        (None, 18, 18, 512)       1180160   \n",
            "_________________________________________________________________\n",
            "block4_conv2 (Conv2D)        (None, 18, 18, 512)       2359808   \n",
            "_________________________________________________________________\n",
            "block4_conv3 (Conv2D)        (None, 18, 18, 512)       2359808   \n",
            "_________________________________________________________________\n",
            "block4_conv4 (Conv2D)        (None, 18, 18, 512)       2359808   \n",
            "_________________________________________________________________\n",
            "block4_pool (MaxPooling2D)   (None, 9, 9, 512)         0         \n",
            "_________________________________________________________________\n",
            "block5_conv1 (Conv2D)        (None, 9, 9, 512)         2359808   \n",
            "_________________________________________________________________\n",
            "block5_conv2 (Conv2D)        (None, 9, 9, 512)         2359808   \n",
            "_________________________________________________________________\n",
            "block5_conv3 (Conv2D)        (None, 9, 9, 512)         2359808   \n",
            "_________________________________________________________________\n",
            "block5_conv4 (Conv2D)        (None, 9, 9, 512)         2359808   \n",
            "_________________________________________________________________\n",
            "block5_pool (MaxPooling2D)   (None, 4, 4, 512)         0         \n",
            "=================================================================\n",
            "Total params: 20,024,384\n",
            "Trainable params: 20,024,384\n",
            "Non-trainable params: 0\n",
            "_________________________________________________________________\n"
          ],
          "name": "stdout"
        }
      ]
    },
    {
      "metadata": {
        "id": "D6OBHOO9q1ou",
        "colab_type": "text"
      },
      "cell_type": "markdown",
      "source": [
        "### Freeze the convolutional base"
      ]
    },
    {
      "metadata": {
        "id": "UleRo4Dpq6Ld",
        "colab_type": "code",
        "colab": {}
      },
      "cell_type": "code",
      "source": [
        "conv_base.trainable = False"
      ],
      "execution_count": 0,
      "outputs": []
    },
    {
      "metadata": {
        "id": "Qfx6PqhPrb7Q",
        "colab_type": "text"
      },
      "cell_type": "markdown",
      "source": [
        "### Concatenate the convolutional base and densely connected layers"
      ]
    },
    {
      "metadata": {
        "id": "qUpmocDAO3xm",
        "colab_type": "code",
        "outputId": "7896583a-75af-4a3d-ba0e-10b8f97b8d38",
        "colab": {
          "base_uri": "https://localhost:8080/",
          "height": 92
        }
      },
      "cell_type": "code",
      "source": [
        "from keras import layers\n",
        "from keras import models\n",
        "from keras import optimizers\n",
        "\n",
        "model = models.Sequential()\n",
        "model.add(conv_base)\n",
        "model.add(layers.Flatten())\n",
        "model.add(layers.Dropout(0.3))\n",
        "model.add(layers.Dense(256, activation='relu'))\n",
        "model.add(layers.Dense(1, activation='sigmoid'))"
      ],
      "execution_count": 0,
      "outputs": [
        {
          "output_type": "stream",
          "text": [
            "WARNING:tensorflow:From /usr/local/lib/python3.6/dist-packages/keras/backend/tensorflow_backend.py:3445: calling dropout (from tensorflow.python.ops.nn_ops) with keep_prob is deprecated and will be removed in a future version.\n",
            "Instructions for updating:\n",
            "Please use `rate` instead of `keep_prob`. Rate should be set to `rate = 1 - keep_prob`.\n"
          ],
          "name": "stdout"
        }
      ]
    },
    {
      "metadata": {
        "id": "QxwuHcizUSGS",
        "colab_type": "code",
        "colab": {}
      },
      "cell_type": "code",
      "source": [
        "# This name is used for names of the files where the progress is saved\n",
        "model_name = 'Problem1_take6'\n"
      ],
      "execution_count": 0,
      "outputs": []
    },
    {
      "metadata": {
        "id": "Fh6gZSeAjF7c",
        "colab_type": "code",
        "outputId": "e2cf73a0-aebb-41e6-b8db-bb6bfd1205bb",
        "colab": {
          "base_uri": "https://localhost:8080/",
          "height": 329
        }
      },
      "cell_type": "code",
      "source": [
        "model.summary()"
      ],
      "execution_count": 0,
      "outputs": [
        {
          "output_type": "stream",
          "text": [
            "_________________________________________________________________\n",
            "Layer (type)                 Output Shape              Param #   \n",
            "=================================================================\n",
            "vgg19 (Model)                (None, 4, 4, 512)         20024384  \n",
            "_________________________________________________________________\n",
            "flatten_1 (Flatten)          (None, 8192)              0         \n",
            "_________________________________________________________________\n",
            "dropout_1 (Dropout)          (None, 8192)              0         \n",
            "_________________________________________________________________\n",
            "dense_1 (Dense)              (None, 256)               2097408   \n",
            "_________________________________________________________________\n",
            "dense_2 (Dense)              (None, 1)                 257       \n",
            "=================================================================\n",
            "Total params: 22,122,049\n",
            "Trainable params: 2,097,665\n",
            "Non-trainable params: 20,024,384\n",
            "_________________________________________________________________\n"
          ],
          "name": "stdout"
        }
      ]
    },
    {
      "metadata": {
        "id": "eZjBiddhi5Qj",
        "colab_type": "text"
      },
      "cell_type": "markdown",
      "source": [
        "## Train the model end to end with frozen convolutional base"
      ]
    },
    {
      "metadata": {
        "id": "tfAQlC2Oi41L",
        "colab_type": "code",
        "outputId": "c9468d67-1c77-40cb-b6e7-d88a616b7996",
        "colab": {
          "base_uri": "https://localhost:8080/",
          "height": 1211
        }
      },
      "cell_type": "code",
      "source": [
        "from keras.preprocessing.image import ImageDataGenerator\n",
        "from keras.applications.vgg19 import preprocess_input\n",
        "from keras import optimizers\n",
        "from keras import callbacks\n",
        "\n",
        "# data augmentation\n",
        "\n",
        "train_datagen = ImageDataGenerator(\n",
        "    preprocessing_function=preprocess_input,\n",
        "    # rescale=1./255, \n",
        "    rotation_range=40,\n",
        "    width_shift_range=0.2,\n",
        "    height_shift_range=0.2,\n",
        "    shear_range=0.2,\n",
        "    zoom_range=[0.8, 1.4],\n",
        "    horizontal_flip=True,\n",
        "    fill_mode='nearest'\n",
        ")\n",
        "\n",
        "train_generator = train_datagen.flow_from_directory(\n",
        "    train_dir,\n",
        "    target_size=(150, 150),\n",
        "    batch_size=20,\n",
        "    class_mode='binary')\n",
        "\n",
        "validation_datagen = ImageDataGenerator(\n",
        "    preprocessing_function=preprocess_input,\n",
        ")\n",
        "\n",
        "validation_generator = validation_datagen.flow_from_directory(\n",
        "    validation_dir,\n",
        "    target_size=(150, 150),\n",
        "    batch_size=20,\n",
        "    class_mode='binary')\n",
        "\n",
        "# compile model\n",
        "\n",
        "model.compile(\n",
        "    loss='binary_crossentropy', \n",
        "    optimizer=optimizers.RMSprop(lr=2e-5), \n",
        "    metrics=['acc'])\n",
        "\n",
        "# train\n",
        "\n",
        "history = model.fit_generator(\n",
        "    train_generator,\n",
        "    steps_per_epoch=100,\n",
        "    epochs=30,\n",
        "    callbacks = [callbacks.ReduceLROnPlateau(monitor='loss', patience=10, factor=0.3, verbose=1, min_lr=1e-7)],\n",
        "    validation_data=validation_generator,\n",
        "    validation_steps=50\n",
        ")"
      ],
      "execution_count": 0,
      "outputs": [
        {
          "output_type": "stream",
          "text": [
            "Found 2000 images belonging to 2 classes.\n",
            "Found 1000 images belonging to 2 classes.\n",
            "WARNING:tensorflow:From /usr/local/lib/python3.6/dist-packages/tensorflow/python/ops/math_ops.py:3066: to_int32 (from tensorflow.python.ops.math_ops) is deprecated and will be removed in a future version.\n",
            "Instructions for updating:\n",
            "Use tf.cast instead.\n",
            "Epoch 1/30\n",
            "100/100 [==============================] - 30s 305ms/step - loss: 3.0572 - acc: 0.6905 - val_loss: 1.2511 - val_acc: 0.8640\n",
            "Epoch 2/30\n",
            "100/100 [==============================] - 27s 273ms/step - loss: 1.6535 - acc: 0.8150 - val_loss: 0.6797 - val_acc: 0.9230\n",
            "Epoch 3/30\n",
            "100/100 [==============================] - 27s 273ms/step - loss: 1.2025 - acc: 0.8550 - val_loss: 0.5480 - val_acc: 0.9350\n",
            "Epoch 4/30\n",
            "100/100 [==============================] - 27s 271ms/step - loss: 1.0200 - acc: 0.8725 - val_loss: 0.5230 - val_acc: 0.9420\n",
            "Epoch 5/30\n",
            "100/100 [==============================] - 27s 271ms/step - loss: 0.9172 - acc: 0.8925 - val_loss: 0.4456 - val_acc: 0.9530\n",
            "Epoch 6/30\n",
            "100/100 [==============================] - 28s 279ms/step - loss: 0.8581 - acc: 0.8895 - val_loss: 0.4145 - val_acc: 0.9560\n",
            "Epoch 7/30\n",
            "100/100 [==============================] - 28s 280ms/step - loss: 0.7116 - acc: 0.9125 - val_loss: 0.3852 - val_acc: 0.9570\n",
            "Epoch 8/30\n",
            "100/100 [==============================] - 28s 279ms/step - loss: 0.7310 - acc: 0.9170 - val_loss: 0.4361 - val_acc: 0.9540\n",
            "Epoch 9/30\n",
            "100/100 [==============================] - 28s 275ms/step - loss: 0.6109 - acc: 0.9185 - val_loss: 0.4185 - val_acc: 0.9560\n",
            "Epoch 10/30\n",
            "100/100 [==============================] - 28s 277ms/step - loss: 0.7067 - acc: 0.9145 - val_loss: 0.3657 - val_acc: 0.9610\n",
            "Epoch 11/30\n",
            "100/100 [==============================] - 28s 277ms/step - loss: 0.6584 - acc: 0.9205 - val_loss: 0.3500 - val_acc: 0.9630\n",
            "Epoch 12/30\n",
            "100/100 [==============================] - 28s 278ms/step - loss: 0.6716 - acc: 0.9160 - val_loss: 0.3507 - val_acc: 0.9620\n",
            "Epoch 13/30\n",
            "100/100 [==============================] - 28s 275ms/step - loss: 0.6792 - acc: 0.9130 - val_loss: 0.3810 - val_acc: 0.9560\n",
            "Epoch 14/30\n",
            "100/100 [==============================] - 28s 276ms/step - loss: 0.5798 - acc: 0.9265 - val_loss: 0.3340 - val_acc: 0.9660\n",
            "Epoch 15/30\n",
            "100/100 [==============================] - 28s 276ms/step - loss: 0.6603 - acc: 0.9245 - val_loss: 0.3541 - val_acc: 0.9620\n",
            "Epoch 16/30\n",
            "100/100 [==============================] - 28s 278ms/step - loss: 0.5778 - acc: 0.9305 - val_loss: 0.3443 - val_acc: 0.9640\n",
            "Epoch 17/30\n",
            "100/100 [==============================] - 28s 279ms/step - loss: 0.5886 - acc: 0.9340 - val_loss: 0.3390 - val_acc: 0.9630\n",
            "Epoch 18/30\n",
            "100/100 [==============================] - 28s 278ms/step - loss: 0.6852 - acc: 0.9205 - val_loss: 0.3161 - val_acc: 0.9670\n",
            "Epoch 19/30\n",
            "100/100 [==============================] - 28s 277ms/step - loss: 0.6258 - acc: 0.9245 - val_loss: 0.3250 - val_acc: 0.9660\n",
            "Epoch 20/30\n",
            "100/100 [==============================] - 28s 277ms/step - loss: 0.6231 - acc: 0.9220 - val_loss: 0.3511 - val_acc: 0.9560\n",
            "Epoch 21/30\n",
            "100/100 [==============================] - 28s 276ms/step - loss: 0.5893 - acc: 0.9260 - val_loss: 0.3165 - val_acc: 0.9620\n",
            "Epoch 22/30\n",
            "100/100 [==============================] - 27s 273ms/step - loss: 0.4647 - acc: 0.9375 - val_loss: 0.3015 - val_acc: 0.9620\n",
            "Epoch 23/30\n",
            "100/100 [==============================] - 28s 278ms/step - loss: 0.5742 - acc: 0.9305 - val_loss: 0.3115 - val_acc: 0.9630\n",
            "Epoch 24/30\n",
            "100/100 [==============================] - 28s 277ms/step - loss: 0.5421 - acc: 0.9375 - val_loss: 0.3172 - val_acc: 0.9610\n",
            "Epoch 25/30\n",
            "100/100 [==============================] - 28s 277ms/step - loss: 0.5515 - acc: 0.9365 - val_loss: 0.2987 - val_acc: 0.9690\n",
            "Epoch 26/30\n",
            "100/100 [==============================] - 28s 278ms/step - loss: 0.5544 - acc: 0.9345 - val_loss: 0.2974 - val_acc: 0.9660\n",
            "Epoch 27/30\n",
            "100/100 [==============================] - 27s 275ms/step - loss: 0.5953 - acc: 0.9305 - val_loss: 0.3118 - val_acc: 0.9620\n",
            "Epoch 28/30\n",
            "100/100 [==============================] - 28s 278ms/step - loss: 0.4767 - acc: 0.9405 - val_loss: 0.2812 - val_acc: 0.9680\n",
            "Epoch 29/30\n",
            "100/100 [==============================] - 28s 277ms/step - loss: 0.5345 - acc: 0.9340 - val_loss: 0.2914 - val_acc: 0.9640\n",
            "Epoch 30/30\n",
            "100/100 [==============================] - 28s 277ms/step - loss: 0.6115 - acc: 0.9305 - val_loss: 0.2825 - val_acc: 0.9690\n"
          ],
          "name": "stdout"
        }
      ]
    },
    {
      "metadata": {
        "id": "6uVqbmR-Jylc",
        "colab_type": "code",
        "colab": {}
      },
      "cell_type": "code",
      "source": [
        "model.save(file_prefix + model_name + '_step1.h5' )"
      ],
      "execution_count": 0,
      "outputs": []
    },
    {
      "metadata": {
        "id": "xqRc_vHKc92U",
        "colab_type": "text"
      },
      "cell_type": "markdown",
      "source": [
        "## Display curves of loss and accuracy during training"
      ]
    },
    {
      "metadata": {
        "id": "ybWwdzz9bwuQ",
        "colab_type": "code",
        "outputId": "b1147fea-e159-4638-bd5d-f1467b9d9f77",
        "colab": {
          "base_uri": "https://localhost:8080/",
          "height": 545
        }
      },
      "cell_type": "code",
      "source": [
        "%matplotlib inline\n",
        "\n",
        "import matplotlib.pyplot as plt\n",
        "\n",
        "acc = history.history['acc']\n",
        "val_acc = history.history['val_acc']\n",
        "\n",
        "loss = history.history['loss']\n",
        "val_loss = history.history['val_loss']\n",
        "\n",
        "epochs = range(1, len(acc) + 1)\n",
        "\n",
        "# training and validation accuracy\n",
        "\n",
        "plt.plot(epochs, acc, 'bo', label='training acc')\n",
        "plt.plot(epochs, val_acc, 'b', label='validation acc')\n",
        "plt.title('training and validation accuracy')\n",
        "plt.legend()\n",
        "\n",
        "plt.figure()\n",
        "\n",
        "# training and validation loss\n",
        "\n",
        "plt.plot(epochs, loss, 'bo', label='training loss')\n",
        "plt.plot(epochs, val_loss, 'b', label='validation loss')\n",
        "plt.title('training and validation loss')\n",
        "plt.legend()\n",
        "\n",
        "plt.show()"
      ],
      "execution_count": 0,
      "outputs": [
        {
          "output_type": "display_data",
          "data": {
            "image/png": "[encoded data removed]",
            "text/plain": [
              "<Figure size 432x288 with 1 Axes>"
            ]
          },
          "metadata": {
            "tags": []
          }
        },
        {
          "output_type": "display_data",
          "data": {
            "image/png": "[encoded data removed]",
            "text/plain": [
              "<Figure size 432x288 with 1 Axes>"
            ]
          },
          "metadata": {
            "tags": []
          }
        }
      ]
    },
    {
      "metadata": {
        "id": "cZghzuMbXSn9",
        "colab_type": "text"
      },
      "cell_type": "markdown",
      "source": [
        "## Train with smaller learning rate"
      ]
    },
    {
      "metadata": {
        "id": "jheEOy3NWsTf",
        "colab_type": "code",
        "outputId": "a9e33732-88e7-489a-8371-693af5266d54",
        "colab": {
          "base_uri": "https://localhost:8080/",
          "height": 3801
        }
      },
      "cell_type": "code",
      "source": [
        "model.compile(\n",
        "    loss='binary_crossentropy', \n",
        "    #\n",
        "    # decrease learning rate\n",
        "    #\n",
        "    optimizer=optimizers.RMSprop(lr=1e-5), \n",
        "    metrics=['acc'])\n",
        "\n",
        "# train\n",
        "\n",
        "history = model.fit_generator(\n",
        "    train_generator,\n",
        "    steps_per_epoch=100,\n",
        "    epochs=100,\n",
        "    callbacks = [callbacks.ReduceLROnPlateau(monitor='loss', patience=15, factor=0.3, verbose=1, min_lr=1e-7)],\n",
        "    validation_data=validation_generator,\n",
        "    validation_steps=50\n",
        ")"
      ],
      "execution_count": 0,
      "outputs": [
        {
          "output_type": "stream",
          "text": [
            "Epoch 1/100\n",
            "100/100 [==============================] - 30s 304ms/step - loss: 0.4956 - acc: 0.9425 - val_loss: 0.2992 - val_acc: 0.9670\n",
            "Epoch 2/100\n",
            "100/100 [==============================] - 28s 277ms/step - loss: 0.4888 - acc: 0.9395 - val_loss: 0.2607 - val_acc: 0.9680\n",
            "Epoch 3/100\n",
            "100/100 [==============================] - 28s 279ms/step - loss: 0.4864 - acc: 0.9355 - val_loss: 0.2688 - val_acc: 0.9660\n",
            "Epoch 4/100\n",
            "100/100 [==============================] - 28s 280ms/step - loss: 0.4777 - acc: 0.9395 - val_loss: 0.2743 - val_acc: 0.9630\n",
            "Epoch 5/100\n",
            "100/100 [==============================] - 28s 281ms/step - loss: 0.4763 - acc: 0.9395 - val_loss: 0.2520 - val_acc: 0.9630\n",
            "Epoch 6/100\n",
            "100/100 [==============================] - 28s 278ms/step - loss: 0.4263 - acc: 0.9420 - val_loss: 0.2896 - val_acc: 0.9570\n",
            "Epoch 7/100\n",
            "100/100 [==============================] - 28s 279ms/step - loss: 0.4979 - acc: 0.9445 - val_loss: 0.2929 - val_acc: 0.9660\n",
            "Epoch 8/100\n",
            "100/100 [==============================] - 27s 274ms/step - loss: 0.3918 - acc: 0.9460 - val_loss: 0.2575 - val_acc: 0.9640\n",
            "Epoch 9/100\n",
            "100/100 [==============================] - 28s 278ms/step - loss: 0.3904 - acc: 0.9485 - val_loss: 0.2896 - val_acc: 0.9640\n",
            "Epoch 10/100\n",
            "100/100 [==============================] - 28s 276ms/step - loss: 0.4550 - acc: 0.9440 - val_loss: 0.3038 - val_acc: 0.9650\n",
            "Epoch 11/100\n",
            "100/100 [==============================] - 28s 280ms/step - loss: 0.4883 - acc: 0.9355 - val_loss: 0.2374 - val_acc: 0.9710\n",
            "Epoch 12/100\n",
            "100/100 [==============================] - 28s 278ms/step - loss: 0.5506 - acc: 0.9330 - val_loss: 0.2797 - val_acc: 0.9690\n",
            "Epoch 13/100\n",
            "100/100 [==============================] - 28s 281ms/step - loss: 0.4346 - acc: 0.9385 - val_loss: 0.2467 - val_acc: 0.9680\n",
            "Epoch 14/100\n",
            "100/100 [==============================] - 28s 277ms/step - loss: 0.4622 - acc: 0.9415 - val_loss: 0.2741 - val_acc: 0.9650\n",
            "Epoch 15/100\n",
            "100/100 [==============================] - 28s 281ms/step - loss: 0.3666 - acc: 0.9455 - val_loss: 0.2478 - val_acc: 0.9710\n",
            "Epoch 16/100\n",
            "100/100 [==============================] - 28s 279ms/step - loss: 0.4736 - acc: 0.9385 - val_loss: 0.2525 - val_acc: 0.9660\n",
            "Epoch 17/100\n",
            "100/100 [==============================] - 28s 277ms/step - loss: 0.4732 - acc: 0.9355 - val_loss: 0.2763 - val_acc: 0.9690\n",
            "Epoch 18/100\n",
            "100/100 [==============================] - 28s 277ms/step - loss: 0.4539 - acc: 0.9460 - val_loss: 0.2788 - val_acc: 0.9640\n",
            "Epoch 19/100\n",
            "100/100 [==============================] - 28s 282ms/step - loss: 0.3582 - acc: 0.9475 - val_loss: 0.2188 - val_acc: 0.9710\n",
            "Epoch 20/100\n",
            "100/100 [==============================] - 28s 281ms/step - loss: 0.3704 - acc: 0.9500 - val_loss: 0.2866 - val_acc: 0.9680\n",
            "Epoch 21/100\n",
            "100/100 [==============================] - 28s 276ms/step - loss: 0.5369 - acc: 0.9310 - val_loss: 0.2070 - val_acc: 0.9740\n",
            "Epoch 22/100\n",
            "100/100 [==============================] - 28s 278ms/step - loss: 0.4374 - acc: 0.9400 - val_loss: 0.3021 - val_acc: 0.9620\n",
            "Epoch 23/100\n",
            "100/100 [==============================] - 28s 276ms/step - loss: 0.4234 - acc: 0.9445 - val_loss: 0.2448 - val_acc: 0.9730\n",
            "Epoch 24/100\n",
            "100/100 [==============================] - 28s 276ms/step - loss: 0.3822 - acc: 0.9460 - val_loss: 0.3038 - val_acc: 0.9690\n",
            "Epoch 25/100\n",
            "100/100 [==============================] - 28s 277ms/step - loss: 0.4558 - acc: 0.9445 - val_loss: 0.2675 - val_acc: 0.9660\n",
            "Epoch 26/100\n",
            "100/100 [==============================] - 28s 280ms/step - loss: 0.4082 - acc: 0.9410 - val_loss: 0.2683 - val_acc: 0.9700\n",
            "Epoch 27/100\n",
            "100/100 [==============================] - 28s 277ms/step - loss: 0.4361 - acc: 0.9450 - val_loss: 0.2599 - val_acc: 0.9680\n",
            "Epoch 28/100\n",
            "100/100 [==============================] - 28s 276ms/step - loss: 0.3399 - acc: 0.9525 - val_loss: 0.2492 - val_acc: 0.9710\n",
            "Epoch 29/100\n",
            "100/100 [==============================] - 28s 278ms/step - loss: 0.4033 - acc: 0.9445 - val_loss: 0.3411 - val_acc: 0.9640\n",
            "Epoch 30/100\n",
            "100/100 [==============================] - 28s 278ms/step - loss: 0.4199 - acc: 0.9410 - val_loss: 0.2731 - val_acc: 0.9660\n",
            "Epoch 31/100\n",
            "100/100 [==============================] - 28s 279ms/step - loss: 0.3786 - acc: 0.9470 - val_loss: 0.2609 - val_acc: 0.9690\n",
            "Epoch 32/100\n",
            "100/100 [==============================] - 28s 277ms/step - loss: 0.3978 - acc: 0.9390 - val_loss: 0.2544 - val_acc: 0.9670\n",
            "Epoch 33/100\n",
            "100/100 [==============================] - 28s 277ms/step - loss: 0.4562 - acc: 0.9425 - val_loss: 0.2179 - val_acc: 0.9730\n",
            "Epoch 34/100\n",
            "100/100 [==============================] - 28s 276ms/step - loss: 0.4251 - acc: 0.9410 - val_loss: 0.2886 - val_acc: 0.9620\n",
            "Epoch 35/100\n",
            "100/100 [==============================] - 28s 277ms/step - loss: 0.4084 - acc: 0.9390 - val_loss: 0.2753 - val_acc: 0.9630\n",
            "Epoch 36/100\n",
            "100/100 [==============================] - 28s 277ms/step - loss: 0.3500 - acc: 0.9475 - val_loss: 0.2941 - val_acc: 0.9670\n",
            "Epoch 37/100\n",
            "100/100 [==============================] - 28s 280ms/step - loss: 0.4717 - acc: 0.9340 - val_loss: 0.2633 - val_acc: 0.9640\n",
            "Epoch 38/100\n",
            "100/100 [==============================] - 28s 278ms/step - loss: 0.3411 - acc: 0.9510 - val_loss: 0.2347 - val_acc: 0.9700\n",
            "Epoch 39/100\n",
            "100/100 [==============================] - 28s 279ms/step - loss: 0.4429 - acc: 0.9405 - val_loss: 0.2358 - val_acc: 0.9670\n",
            "Epoch 40/100\n",
            "100/100 [==============================] - 28s 278ms/step - loss: 0.3993 - acc: 0.9460 - val_loss: 0.2715 - val_acc: 0.9700\n",
            "Epoch 41/100\n",
            "100/100 [==============================] - 28s 279ms/step - loss: 0.3615 - acc: 0.9445 - val_loss: 0.2871 - val_acc: 0.9670\n",
            "Epoch 42/100\n",
            "100/100 [==============================] - 28s 280ms/step - loss: 0.3626 - acc: 0.9440 - val_loss: 0.2029 - val_acc: 0.9700\n",
            "Epoch 43/100\n",
            "100/100 [==============================] - 28s 280ms/step - loss: 0.3692 - acc: 0.9515 - val_loss: 0.2813 - val_acc: 0.9650\n",
            "\n",
            "Epoch 00043: ReduceLROnPlateau reducing learning rate to 2.9999999242136253e-06.\n",
            "Epoch 44/100\n",
            "100/100 [==============================] - 28s 280ms/step - loss: 0.4308 - acc: 0.9430 - val_loss: 0.2856 - val_acc: 0.9670\n",
            "Epoch 45/100\n",
            "100/100 [==============================] - 28s 280ms/step - loss: 0.3736 - acc: 0.9430 - val_loss: 0.2282 - val_acc: 0.9690\n",
            "Epoch 46/100\n",
            "100/100 [==============================] - 28s 281ms/step - loss: 0.4149 - acc: 0.9450 - val_loss: 0.3166 - val_acc: 0.9670\n",
            "Epoch 47/100\n",
            "100/100 [==============================] - 28s 280ms/step - loss: 0.3506 - acc: 0.9525 - val_loss: 0.2586 - val_acc: 0.9720\n",
            "Epoch 48/100\n",
            "100/100 [==============================] - 28s 281ms/step - loss: 0.3788 - acc: 0.9455 - val_loss: 0.2430 - val_acc: 0.9740\n",
            "Epoch 49/100\n",
            "100/100 [==============================] - 28s 279ms/step - loss: 0.3493 - acc: 0.9480 - val_loss: 0.2273 - val_acc: 0.9720\n",
            "Epoch 50/100\n",
            "100/100 [==============================] - 28s 279ms/step - loss: 0.4143 - acc: 0.9410 - val_loss: 0.2434 - val_acc: 0.9700\n",
            "Epoch 51/100\n",
            "100/100 [==============================] - 28s 280ms/step - loss: 0.2952 - acc: 0.9580 - val_loss: 0.3518 - val_acc: 0.9600\n",
            "Epoch 52/100\n",
            "100/100 [==============================] - 28s 280ms/step - loss: 0.3425 - acc: 0.9515 - val_loss: 0.1981 - val_acc: 0.9780\n",
            "Epoch 53/100\n",
            "100/100 [==============================] - 28s 280ms/step - loss: 0.4514 - acc: 0.9340 - val_loss: 0.2526 - val_acc: 0.9680\n",
            "Epoch 54/100\n",
            "100/100 [==============================] - 28s 279ms/step - loss: 0.3667 - acc: 0.9495 - val_loss: 0.2832 - val_acc: 0.9690\n",
            "Epoch 55/100\n",
            "100/100 [==============================] - 28s 275ms/step - loss: 0.3468 - acc: 0.9475 - val_loss: 0.2385 - val_acc: 0.9720\n",
            "Epoch 56/100\n",
            "100/100 [==============================] - 28s 278ms/step - loss: 0.3715 - acc: 0.9445 - val_loss: 0.2667 - val_acc: 0.9670\n",
            "Epoch 57/100\n",
            "100/100 [==============================] - 28s 279ms/step - loss: 0.3828 - acc: 0.9480 - val_loss: 0.3014 - val_acc: 0.9670\n",
            "Epoch 58/100\n",
            "100/100 [==============================] - 28s 277ms/step - loss: 0.3895 - acc: 0.9455 - val_loss: 0.2069 - val_acc: 0.9690\n",
            "Epoch 59/100\n",
            "100/100 [==============================] - 28s 276ms/step - loss: 0.3747 - acc: 0.9490 - val_loss: 0.2723 - val_acc: 0.9710\n",
            "Epoch 60/100\n",
            "100/100 [==============================] - 28s 277ms/step - loss: 0.3311 - acc: 0.9505 - val_loss: 0.2677 - val_acc: 0.9670\n",
            "Epoch 61/100\n",
            "100/100 [==============================] - 28s 279ms/step - loss: 0.3864 - acc: 0.9450 - val_loss: 0.2431 - val_acc: 0.9670\n",
            "Epoch 62/100\n",
            "100/100 [==============================] - 28s 276ms/step - loss: 0.3301 - acc: 0.9505 - val_loss: 0.2970 - val_acc: 0.9680\n",
            "Epoch 63/100\n",
            "100/100 [==============================] - 28s 277ms/step - loss: 0.3950 - acc: 0.9420 - val_loss: 0.2391 - val_acc: 0.9700\n",
            "Epoch 64/100\n",
            "100/100 [==============================] - 28s 282ms/step - loss: 0.3534 - acc: 0.9430 - val_loss: 0.2483 - val_acc: 0.9680\n",
            "Epoch 65/100\n",
            "100/100 [==============================] - 28s 276ms/step - loss: 0.4402 - acc: 0.9405 - val_loss: 0.2506 - val_acc: 0.9700\n",
            "Epoch 66/100\n",
            "100/100 [==============================] - 28s 278ms/step - loss: 0.4364 - acc: 0.9365 - val_loss: 0.2732 - val_acc: 0.9640\n",
            "\n",
            "Epoch 00066: ReduceLROnPlateau reducing learning rate to 8.999999636216671e-07.\n",
            "Epoch 67/100\n",
            "100/100 [==============================] - 28s 277ms/step - loss: 0.3064 - acc: 0.9590 - val_loss: 0.2442 - val_acc: 0.9710\n",
            "Epoch 68/100\n",
            "100/100 [==============================] - 28s 277ms/step - loss: 0.3148 - acc: 0.9565 - val_loss: 0.2724 - val_acc: 0.9720\n",
            "Epoch 69/100\n",
            "100/100 [==============================] - 28s 277ms/step - loss: 0.3650 - acc: 0.9450 - val_loss: 0.2446 - val_acc: 0.9710\n",
            "Epoch 70/100\n",
            "100/100 [==============================] - 28s 278ms/step - loss: 0.3227 - acc: 0.9520 - val_loss: 0.2894 - val_acc: 0.9650\n",
            "Epoch 71/100\n",
            "100/100 [==============================] - 28s 280ms/step - loss: 0.4096 - acc: 0.9445 - val_loss: 0.2600 - val_acc: 0.9710\n",
            "Epoch 72/100\n",
            "100/100 [==============================] - 28s 277ms/step - loss: 0.3029 - acc: 0.9515 - val_loss: 0.2328 - val_acc: 0.9690\n",
            "Epoch 73/100\n",
            "100/100 [==============================] - 28s 280ms/step - loss: 0.3369 - acc: 0.9510 - val_loss: 0.2725 - val_acc: 0.9680\n",
            "Epoch 74/100\n",
            "100/100 [==============================] - 28s 280ms/step - loss: 0.3310 - acc: 0.9480 - val_loss: 0.2397 - val_acc: 0.9680\n",
            "Epoch 75/100\n",
            "100/100 [==============================] - 28s 280ms/step - loss: 0.3684 - acc: 0.9500 - val_loss: 0.2334 - val_acc: 0.9680\n",
            "Epoch 76/100\n",
            "100/100 [==============================] - 28s 279ms/step - loss: 0.3391 - acc: 0.9515 - val_loss: 0.2665 - val_acc: 0.9690\n",
            "Epoch 77/100\n",
            "100/100 [==============================] - 28s 280ms/step - loss: 0.3323 - acc: 0.9505 - val_loss: 0.2974 - val_acc: 0.9630\n",
            "Epoch 78/100\n",
            "100/100 [==============================] - 28s 278ms/step - loss: 0.4590 - acc: 0.9430 - val_loss: 0.2376 - val_acc: 0.9710\n",
            "Epoch 79/100\n",
            "100/100 [==============================] - 28s 278ms/step - loss: 0.3749 - acc: 0.9465 - val_loss: 0.2708 - val_acc: 0.9680\n",
            "Epoch 80/100\n",
            "100/100 [==============================] - 28s 280ms/step - loss: 0.3788 - acc: 0.9510 - val_loss: 0.2404 - val_acc: 0.9650\n",
            "Epoch 81/100\n",
            "100/100 [==============================] - 28s 280ms/step - loss: 0.3707 - acc: 0.9520 - val_loss: 0.2279 - val_acc: 0.9730\n",
            "\n",
            "Epoch 00081: ReduceLROnPlateau reducing learning rate to 2.6999999249710525e-07.\n",
            "Epoch 82/100\n",
            "100/100 [==============================] - 28s 280ms/step - loss: 0.3728 - acc: 0.9445 - val_loss: 0.2923 - val_acc: 0.9660\n",
            "Epoch 83/100\n",
            "100/100 [==============================] - 28s 278ms/step - loss: 0.3483 - acc: 0.9475 - val_loss: 0.2343 - val_acc: 0.9690\n",
            "Epoch 84/100\n",
            "100/100 [==============================] - 28s 278ms/step - loss: 0.3352 - acc: 0.9530 - val_loss: 0.2984 - val_acc: 0.9650\n",
            "Epoch 85/100\n",
            "100/100 [==============================] - 28s 279ms/step - loss: 0.3457 - acc: 0.9480 - val_loss: 0.2506 - val_acc: 0.9690\n",
            "Epoch 86/100\n",
            "100/100 [==============================] - 28s 281ms/step - loss: 0.3645 - acc: 0.9415 - val_loss: 0.2205 - val_acc: 0.9710\n",
            "Epoch 87/100\n",
            "100/100 [==============================] - 28s 279ms/step - loss: 0.3300 - acc: 0.9480 - val_loss: 0.2196 - val_acc: 0.9680\n",
            "Epoch 88/100\n",
            "100/100 [==============================] - 28s 278ms/step - loss: 0.3505 - acc: 0.9535 - val_loss: 0.3112 - val_acc: 0.9650\n",
            "Epoch 89/100\n",
            "100/100 [==============================] - 28s 280ms/step - loss: 0.2462 - acc: 0.9615 - val_loss: 0.2331 - val_acc: 0.9700\n",
            "Epoch 90/100\n",
            "100/100 [==============================] - 28s 279ms/step - loss: 0.3694 - acc: 0.9480 - val_loss: 0.2575 - val_acc: 0.9660\n",
            "Epoch 91/100\n",
            "100/100 [==============================] - 28s 278ms/step - loss: 0.2952 - acc: 0.9530 - val_loss: 0.2301 - val_acc: 0.9710\n",
            "Epoch 92/100\n",
            "100/100 [==============================] - 28s 279ms/step - loss: 0.3674 - acc: 0.9505 - val_loss: 0.3222 - val_acc: 0.9600\n",
            "Epoch 93/100\n",
            "100/100 [==============================] - 28s 281ms/step - loss: 0.4024 - acc: 0.9445 - val_loss: 0.2286 - val_acc: 0.9730\n",
            "Epoch 94/100\n",
            "100/100 [==============================] - 28s 279ms/step - loss: 0.3867 - acc: 0.9495 - val_loss: 0.2239 - val_acc: 0.9700\n",
            "Epoch 95/100\n",
            "100/100 [==============================] - 28s 279ms/step - loss: 0.2896 - acc: 0.9550 - val_loss: 0.2833 - val_acc: 0.9650\n",
            "Epoch 96/100\n",
            "100/100 [==============================] - 28s 278ms/step - loss: 0.3291 - acc: 0.9500 - val_loss: 0.2391 - val_acc: 0.9690\n",
            "Epoch 97/100\n",
            "100/100 [==============================] - 28s 280ms/step - loss: 0.3355 - acc: 0.9485 - val_loss: 0.2680 - val_acc: 0.9690\n",
            "Epoch 98/100\n",
            "100/100 [==============================] - 28s 277ms/step - loss: 0.3424 - acc: 0.9485 - val_loss: 0.2689 - val_acc: 0.9650\n",
            "Epoch 99/100\n",
            "100/100 [==============================] - 28s 278ms/step - loss: 0.3340 - acc: 0.9515 - val_loss: 0.2095 - val_acc: 0.9740\n",
            "Epoch 100/100\n",
            "100/100 [==============================] - 28s 278ms/step - loss: 0.3061 - acc: 0.9530 - val_loss: 0.2494 - val_acc: 0.9670\n"
          ],
          "name": "stdout"
        }
      ]
    },
    {
      "metadata": {
        "id": "tFXzdsQxXaVE",
        "colab_type": "code",
        "outputId": "f7d554c6-72e0-479a-e85f-52dd423f303f",
        "colab": {
          "base_uri": "https://localhost:8080/",
          "height": 545
        }
      },
      "cell_type": "code",
      "source": [
        "acc = history.history['acc']\n",
        "val_acc = history.history['val_acc']\n",
        "\n",
        "loss = history.history['loss']\n",
        "val_loss = history.history['val_loss']\n",
        "\n",
        "epochs = range(1, len(acc) + 1)\n",
        "\n",
        "# training and validation accuracy\n",
        "\n",
        "plt.plot(epochs, acc, 'bo', label='training acc')\n",
        "plt.plot(epochs, val_acc, 'b', label='validation acc')\n",
        "plt.title('training and validation accuracy')\n",
        "plt.legend()\n",
        "\n",
        "plt.figure()\n",
        "\n",
        "# training and validation loss\n",
        "\n",
        "plt.plot(epochs, loss, 'bo', label='training loss')\n",
        "plt.plot(epochs, val_loss, 'b', label='validation loss')\n",
        "plt.title('training and validation loss')\n",
        "plt.legend()\n",
        "\n",
        "plt.show()"
      ],
      "execution_count": 0,
      "outputs": [
        {
          "output_type": "display_data",
          "data": {
            "image/png": "[encoded data removed]",
            "text/plain": [
              "<Figure size 432x288 with 1 Axes>"
            ]
          },
          "metadata": {
            "tags": []
          }
        },
        {
          "output_type": "display_data",
          "data": {
            "image/png": "[encoded data removed]",
            "text/plain": [
              "<Figure size 432x288 with 1 Axes>"
            ]
          },
          "metadata": {
            "tags": []
          }
        }
      ]
    },
    {
      "metadata": {
        "id": "DmGpFRaIXkNl",
        "colab_type": "text"
      },
      "cell_type": "markdown",
      "source": [
        "## Print out validation loss and accuracy"
      ]
    },
    {
      "metadata": {
        "id": "54zrdwvwXpag",
        "colab_type": "code",
        "colab": {}
      },
      "cell_type": "code",
      "source": [
        "val_loss, val_acc = model.evaluate_generator(validation_generator, steps=50)"
      ],
      "execution_count": 0,
      "outputs": []
    },
    {
      "metadata": {
        "id": "Oel3j1zoXsqs",
        "colab_type": "code",
        "outputId": "7b25a5e0-9a97-4883-d143-3a96bacf5e68",
        "colab": {
          "base_uri": "https://localhost:8080/",
          "height": 54
        }
      },
      "cell_type": "code",
      "source": [
        "print(\"Validation loss:\", val_loss)\n",
        "print(\"Validation accuracy:\", val_acc)"
      ],
      "execution_count": 0,
      "outputs": [
        {
          "output_type": "stream",
          "text": [
            "Validation loss: 0.30772452486878865\n",
            "Validation accuracy: 0.9679999923706055\n"
          ],
          "name": "stdout"
        }
      ]
    },
    {
      "metadata": {
        "id": "7Ww756WToby8",
        "colab_type": "text"
      },
      "cell_type": "markdown",
      "source": [
        "## Save the model"
      ]
    },
    {
      "metadata": {
        "id": "0lTUpUdwobKW",
        "colab_type": "code",
        "colab": {}
      },
      "cell_type": "code",
      "source": [
        "model.save(file_prefix + model_name + '_step2.h5' )"
      ],
      "execution_count": 0,
      "outputs": []
    },
    {
      "metadata": {
        "id": "YhEoI8ZTok-X",
        "colab_type": "code",
        "colab": {}
      },
      "cell_type": "code",
      "source": [
        "# from google.colab import files\n",
        "\n",
        "# with open(model_fname, 'r') as f:\n",
        "#   files.download(model_fname)"
      ],
      "execution_count": 0,
      "outputs": []
    },
    {
      "metadata": {
        "id": "nYLwFURiwpwK",
        "colab_type": "text"
      },
      "cell_type": "markdown",
      "source": [
        "## Conclusions\n",
        "\n",
        "I used more aggressive data augmentation and dropouts for fully connected network to get better results.\n",
        "\n",
        "Also I used `preprocess_input` from `keras.applications.vgg19` in the ImageDataGenerator. It improved accuracy considerably."
      ]
    }
  ]
}