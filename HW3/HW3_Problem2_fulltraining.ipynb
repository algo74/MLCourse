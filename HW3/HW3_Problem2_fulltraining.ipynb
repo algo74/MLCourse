{
  "nbformat": 4,
  "nbformat_minor": 0,
  "metadata": {
    "colab": {
      "name": "HW3_Problem2_fulltraining",
      "version": "0.3.2",
      "provenance": [],
      "include_colab_link": true
    },
    "kernelspec": {
      "name": "python3",
      "display_name": "Python 3"
    },
    "accelerator": "GPU"
  },
  "cells": [
    {
      "cell_type": "markdown",
      "metadata": {
        "id": "view-in-github",
        "colab_type": "text"
      },
      "source": [
        "<a href=\"https://colab.research.google.com/github/algo74/MLCourse/blob/master/HW3/HW3_Problem2_fulltraining.ipynb\" target=\"_parent\"><img src=\"https://colab.research.google.com/assets/colab-badge.svg\" alt=\"Open In Colab\"/></a>"
      ]
    },
    {
      "metadata": {
        "id": "KSrgMJ5vKFzQ",
        "colab_type": "text"
      },
      "cell_type": "markdown",
      "source": [
        "# Fine-tuning VGG19 "
      ]
    },
    {
      "metadata": {
        "id": "TIW7bZaAK-Hf",
        "colab_type": "text"
      },
      "cell_type": "markdown",
      "source": [
        "This is based on `pretrained_convnet_finetuning.ipynb` and Problem 2"
      ]
    },
    {
      "metadata": {
        "id": "GD1LD8s9dB3Q",
        "colab_type": "code",
        "outputId": "0ca7e75d-50c5-49b9-84b0-419dd468e462",
        "colab": {
          "base_uri": "https://localhost:8080/",
          "height": 35
        }
      },
      "cell_type": "code",
      "source": [
        "import keras"
      ],
      "execution_count": 0,
      "outputs": [
        {
          "output_type": "stream",
          "text": [
            "Using TensorFlow backend.\n"
          ],
          "name": "stderr"
        }
      ]
    },
    {
      "metadata": {
        "id": "vFwWVrIhcmsJ",
        "colab_type": "text"
      },
      "cell_type": "markdown",
      "source": [
        "## Mount Google Drive"
      ]
    },
    {
      "metadata": {
        "id": "sMmua2tVcslI",
        "colab_type": "code",
        "outputId": "5b638e65-2b96-40bf-e87b-f1bb4ff8c6fc",
        "colab": {
          "base_uri": "https://localhost:8080/",
          "height": 54
        }
      },
      "cell_type": "code",
      "source": [
        "from google.colab import drive\n",
        "drive.mount('/gdrive', force_remount=True)\n",
        "file_prefix = '/gdrive/My Drive/HW3/'\n",
        "# test saving files\n",
        "with open(file_prefix + 'foo.txt', 'w') as f:\n",
        "  f.write('Hello Google Drive!')\n",
        "!cat \"{file_prefix}foo.txt\""
      ],
      "execution_count": 0,
      "outputs": [
        {
          "output_type": "stream",
          "text": [
            "Mounted at /gdrive\n",
            "Hello Google Drive!"
          ],
          "name": "stdout"
        }
      ]
    },
    {
      "metadata": {
        "id": "BqIG8QHMLNOn",
        "colab_type": "text"
      },
      "cell_type": "markdown",
      "source": [
        "## Download the data"
      ]
    },
    {
      "metadata": {
        "id": "t3I1jd7cKV6_",
        "colab_type": "text"
      },
      "cell_type": "markdown",
      "source": [
        "Download the example data, a zip. of 2,000 JPG pictures of cats and dogs and extract it locally in ```/tmp```.\n",
        "\n"
      ]
    },
    {
      "metadata": {
        "id": "JWjprHEXJ5Qi",
        "colab_type": "code",
        "outputId": "373f43ee-276a-4426-c458-2b50e22f5f23",
        "colab": {
          "base_uri": "https://localhost:8080/",
          "height": 219
        }
      },
      "cell_type": "code",
      "source": [
        "!wget --no-check-certificate \\\n",
        "    https://storage.googleapis.com/mledu-datasets/cats_and_dogs_filtered.zip \\\n",
        "    -O /tmp/cats_and_dogs_filtered.zip"
      ],
      "execution_count": 0,
      "outputs": [
        {
          "output_type": "stream",
          "text": [
            "--2019-04-14 21:04:12--  https://storage.googleapis.com/mledu-datasets/cats_and_dogs_filtered.zip\n",
            "Resolving storage.googleapis.com (storage.googleapis.com)... 74.125.133.128, 2a00:1450:400c:c04::80\n",
            "Connecting to storage.googleapis.com (storage.googleapis.com)|74.125.133.128|:443... connected.\n",
            "HTTP request sent, awaiting response... 200 OK\n",
            "Length: 68606236 (65M) [application/zip]\n",
            "Saving to: ‘/tmp/cats_and_dogs_filtered.zip’\n",
            "\n",
            "/tmp/cats_and_dogs_ 100%[===================>]  65.43M  79.6MB/s    in 0.8s    \n",
            "\n",
            "2019-04-14 21:04:13 (79.6 MB/s) - ‘/tmp/cats_and_dogs_filtered.zip’ saved [68606236/68606236]\n",
            "\n"
          ],
          "name": "stdout"
        }
      ]
    },
    {
      "metadata": {
        "id": "WvoHtdA-K6Rw",
        "colab_type": "code",
        "colab": {}
      },
      "cell_type": "code",
      "source": [
        "import os\n",
        "import zipfile\n",
        "\n",
        "local_zip = '/tmp/cats_and_dogs_filtered.zip'\n",
        "zip_ref = zipfile.ZipFile(local_zip, 'r')\n",
        "zip_ref.extractall('/tmp')\n",
        "zip_ref.close()"
      ],
      "execution_count": 0,
      "outputs": []
    },
    {
      "metadata": {
        "id": "shZiOBnJMyy_",
        "colab_type": "text"
      },
      "cell_type": "markdown",
      "source": [
        "Note that the data provided by Google does not have a test set."
      ]
    },
    {
      "metadata": {
        "id": "dL8ikM89LlsH",
        "colab_type": "code",
        "colab": {}
      },
      "cell_type": "code",
      "source": [
        "base_dir = '/tmp/cats_and_dogs_filtered'\n",
        "train_dir = os.path.join(base_dir, 'train')\n",
        "validation_dir = os.path.join(base_dir, 'validation')\n",
        "\n",
        "# Directory with our training cat pictures\n",
        "train_cats_dir = os.path.join(train_dir, 'cats')\n",
        "\n",
        "# Directory with our training dog pictures\n",
        "train_dogs_dir = os.path.join(train_dir, 'dogs')\n",
        "\n",
        "# Directory with our validation cat pictures\n",
        "validation_cats_dir = os.path.join(validation_dir, 'cats')\n",
        "\n",
        "# Directory with our validation dog pictures\n",
        "validation_dogs_dir = os.path.join(validation_dir, 'dogs')"
      ],
      "execution_count": 0,
      "outputs": []
    },
    {
      "metadata": {
        "id": "inyP8bcdXnn-",
        "colab_type": "text"
      },
      "cell_type": "markdown",
      "source": [
        "## Build the model"
      ]
    },
    {
      "metadata": {
        "id": "kQ48W5T9rHWu",
        "colab_type": "text"
      },
      "cell_type": "markdown",
      "source": [
        "### Load the saved model"
      ]
    },
    {
      "metadata": {
        "id": "Y0FgtANCXm_H",
        "colab_type": "code",
        "outputId": "87adb573-125d-429c-fa0c-aeab3096f629",
        "colab": {
          "base_uri": "https://localhost:8080/",
          "height": 257
        }
      },
      "cell_type": "code",
      "source": [
        "file_name = file_prefix + 'Problem1_take6_step2.h5'\n",
        "model = keras.models.load_model(file_name)\n",
        "print('Loaded model from ' + file_name)"
      ],
      "execution_count": 0,
      "outputs": [
        {
          "output_type": "stream",
          "text": [
            "WARNING:tensorflow:From /usr/local/lib/python3.6/dist-packages/tensorflow/python/framework/op_def_library.py:263: colocate_with (from tensorflow.python.framework.ops) is deprecated and will be removed in a future version.\n",
            "Instructions for updating:\n",
            "Colocations handled automatically by placer.\n",
            "WARNING:tensorflow:From /usr/local/lib/python3.6/dist-packages/keras/backend/tensorflow_backend.py:3445: calling dropout (from tensorflow.python.ops.nn_ops) with keep_prob is deprecated and will be removed in a future version.\n",
            "Instructions for updating:\n",
            "Please use `rate` instead of `keep_prob`. Rate should be set to `rate = 1 - keep_prob`.\n",
            "WARNING:tensorflow:From /usr/local/lib/python3.6/dist-packages/tensorflow/python/ops/math_ops.py:3066: to_int32 (from tensorflow.python.ops.math_ops) is deprecated and will be removed in a future version.\n",
            "Instructions for updating:\n",
            "Use tf.cast instead.\n",
            "Loaded model from /gdrive/My Drive/HW3/Problem1_take6_step2.h5\n"
          ],
          "name": "stdout"
        },
        {
          "output_type": "stream",
          "text": [
            "/usr/local/lib/python3.6/dist-packages/keras/engine/saving.py:327: UserWarning: Error in loading the saved optimizer state. As a result, your model is starting with a freshly initialized optimizer.\n",
            "  warnings.warn('Error in loading the saved optimizer '\n"
          ],
          "name": "stderr"
        }
      ]
    },
    {
      "metadata": {
        "id": "g-w1yj3CAZ9O",
        "colab_type": "code",
        "outputId": "d7857d4b-4cdc-441c-873f-3f952b61a972",
        "colab": {
          "base_uri": "https://localhost:8080/",
          "height": 329
        }
      },
      "cell_type": "code",
      "source": [
        "model.summary()"
      ],
      "execution_count": 0,
      "outputs": [
        {
          "output_type": "stream",
          "text": [
            "_________________________________________________________________\n",
            "Layer (type)                 Output Shape              Param #   \n",
            "=================================================================\n",
            "vgg19 (Model)                (None, 4, 4, 512)         20024384  \n",
            "_________________________________________________________________\n",
            "flatten_1 (Flatten)          (None, 8192)              0         \n",
            "_________________________________________________________________\n",
            "dropout_1 (Dropout)          (None, 8192)              0         \n",
            "_________________________________________________________________\n",
            "dense_1 (Dense)              (None, 256)               2097408   \n",
            "_________________________________________________________________\n",
            "dense_2 (Dense)              (None, 1)                 257       \n",
            "=================================================================\n",
            "Total params: 22,122,049\n",
            "Trainable params: 22,122,049\n",
            "Non-trainable params: 0\n",
            "_________________________________________________________________\n"
          ],
          "name": "stdout"
        }
      ]
    },
    {
      "metadata": {
        "id": "erf-4wB1eHQa",
        "colab_type": "code",
        "outputId": "75c0aff3-739e-4ee6-bc98-b04e8a993a52",
        "colab": {
          "base_uri": "https://localhost:8080/",
          "height": 954
        }
      },
      "cell_type": "code",
      "source": [
        "conv_base = model.layers[0]\n",
        "conv_base.summary()"
      ],
      "execution_count": 0,
      "outputs": [
        {
          "output_type": "stream",
          "text": [
            "_________________________________________________________________\n",
            "Layer (type)                 Output Shape              Param #   \n",
            "=================================================================\n",
            "input_1 (InputLayer)         (None, 150, 150, 3)       0         \n",
            "_________________________________________________________________\n",
            "block1_conv1 (Conv2D)        (None, 150, 150, 64)      1792      \n",
            "_________________________________________________________________\n",
            "block1_conv2 (Conv2D)        (None, 150, 150, 64)      36928     \n",
            "_________________________________________________________________\n",
            "block1_pool (MaxPooling2D)   (None, 75, 75, 64)        0         \n",
            "_________________________________________________________________\n",
            "block2_conv1 (Conv2D)        (None, 75, 75, 128)       73856     \n",
            "_________________________________________________________________\n",
            "block2_conv2 (Conv2D)        (None, 75, 75, 128)       147584    \n",
            "_________________________________________________________________\n",
            "block2_pool (MaxPooling2D)   (None, 37, 37, 128)       0         \n",
            "_________________________________________________________________\n",
            "block3_conv1 (Conv2D)        (None, 37, 37, 256)       295168    \n",
            "_________________________________________________________________\n",
            "block3_conv2 (Conv2D)        (None, 37, 37, 256)       590080    \n",
            "_________________________________________________________________\n",
            "block3_conv3 (Conv2D)        (None, 37, 37, 256)       590080    \n",
            "_________________________________________________________________\n",
            "block3_conv4 (Conv2D)        (None, 37, 37, 256)       590080    \n",
            "_________________________________________________________________\n",
            "block3_pool (MaxPooling2D)   (None, 18, 18, 256)       0         \n",
            "_________________________________________________________________\n",
            "block4_conv1 (Conv2D)        (None, 18, 18, 512)       1180160   \n",
            "_________________________________________________________________\n",
            "block4_conv2 (Conv2D)        (None, 18, 18, 512)       2359808   \n",
            "_________________________________________________________________\n",
            "block4_conv3 (Conv2D)        (None, 18, 18, 512)       2359808   \n",
            "_________________________________________________________________\n",
            "block4_conv4 (Conv2D)        (None, 18, 18, 512)       2359808   \n",
            "_________________________________________________________________\n",
            "block4_pool (MaxPooling2D)   (None, 9, 9, 512)         0         \n",
            "_________________________________________________________________\n",
            "block5_conv1 (Conv2D)        (None, 9, 9, 512)         2359808   \n",
            "_________________________________________________________________\n",
            "block5_conv2 (Conv2D)        (None, 9, 9, 512)         2359808   \n",
            "_________________________________________________________________\n",
            "block5_conv3 (Conv2D)        (None, 9, 9, 512)         2359808   \n",
            "_________________________________________________________________\n",
            "block5_conv4 (Conv2D)        (None, 9, 9, 512)         2359808   \n",
            "_________________________________________________________________\n",
            "block5_pool (MaxPooling2D)   (None, 4, 4, 512)         0         \n",
            "=================================================================\n",
            "Total params: 20,024,384\n",
            "Trainable params: 20,024,384\n",
            "Non-trainable params: 0\n",
            "_________________________________________________________________\n"
          ],
          "name": "stdout"
        }
      ]
    },
    {
      "metadata": {
        "id": "lOWsxpey8lN0",
        "colab_type": "text"
      },
      "cell_type": "markdown",
      "source": [
        "## Fine-tuning"
      ]
    },
    {
      "metadata": {
        "id": "CIE_E2YwtqHQ",
        "colab_type": "text"
      },
      "cell_type": "markdown",
      "source": [
        "Allow training the whole VGG19"
      ]
    },
    {
      "metadata": {
        "id": "PwkVMx8N8qMw",
        "colab_type": "code",
        "colab": {}
      },
      "cell_type": "code",
      "source": [
        "conv_base.trainable = True\n",
        "\n",
        "# set_trainable = False\n",
        "# for layer in conv_base.layers:\n",
        "#   if layer.name == 'block5_conv1':\n",
        "#     set_trainable = True\n",
        "#   if set_trainable:\n",
        "#     layer.trainable = True\n",
        "#   else:\n",
        "#     layer.trainable = False"
      ],
      "execution_count": 0,
      "outputs": []
    },
    {
      "metadata": {
        "id": "DyN-J7rs9cvo",
        "colab_type": "code",
        "outputId": "4eb2b087-5a44-4ab6-cd4d-3696e119c27a",
        "colab": {
          "base_uri": "https://localhost:8080/",
          "height": 3764
        }
      },
      "cell_type": "code",
      "source": [
        "from keras.preprocessing.image import ImageDataGenerator\n",
        "from keras.applications.vgg19 import preprocess_input\n",
        "from keras import optimizers\n",
        "from keras import callbacks\n",
        "\n",
        "# data augmentation\n",
        "\n",
        "train_datagen = ImageDataGenerator(\n",
        "    preprocessing_function=preprocess_input,\n",
        "    # rescale=1./255, \n",
        "    rotation_range=40,\n",
        "    width_shift_range=0.2,\n",
        "    height_shift_range=0.2,\n",
        "    shear_range=0.2,\n",
        "    zoom_range=[0.8, 1.4],\n",
        "    horizontal_flip=True,\n",
        "    fill_mode='nearest'\n",
        ")\n",
        "\n",
        "train_generator = train_datagen.flow_from_directory(\n",
        "    train_dir,\n",
        "    target_size=(150, 150),\n",
        "    batch_size=20,\n",
        "    class_mode='binary')\n",
        "\n",
        "validation_datagen = ImageDataGenerator(\n",
        "    preprocessing_function=preprocess_input,\n",
        ")\n",
        "\n",
        "validation_generator = validation_datagen.flow_from_directory(\n",
        "    validation_dir,\n",
        "    target_size=(150, 150),\n",
        "    batch_size=20,\n",
        "    class_mode='binary')\n",
        "\n",
        "# compile model\n",
        "\n",
        "model.compile(\n",
        "    loss='binary_crossentropy',\n",
        "    #\n",
        "    # choose a smaller learning rate\n",
        "    #\n",
        "    optimizer=optimizers.RMSprop(lr=5e-6), \n",
        "    metrics=['acc'])\n",
        "\n",
        "# train\n",
        "\n",
        "history = model.fit_generator(\n",
        "    train_generator,\n",
        "    steps_per_epoch=100,\n",
        "    epochs=100,\n",
        "    callbacks = [callbacks.ReduceLROnPlateau(monitor='loss', patience=10, factor=0.3, verbose=1, min_lr=1e-7)],\n",
        "    validation_data=validation_generator,\n",
        "    validation_steps=50)"
      ],
      "execution_count": 0,
      "outputs": [
        {
          "output_type": "stream",
          "text": [
            "Found 2000 images belonging to 2 classes.\n",
            "Found 1000 images belonging to 2 classes.\n",
            "Epoch 1/100\n",
            "100/100 [==============================] - 57s 572ms/step - loss: 0.4415 - acc: 0.9305 - val_loss: 0.2591 - val_acc: 0.9620\n",
            "Epoch 2/100\n",
            "100/100 [==============================] - 52s 517ms/step - loss: 0.3169 - acc: 0.9320 - val_loss: 0.1674 - val_acc: 0.9640\n",
            "Epoch 3/100\n",
            "100/100 [==============================] - 51s 512ms/step - loss: 0.2522 - acc: 0.9435 - val_loss: 0.1693 - val_acc: 0.9640\n",
            "Epoch 4/100\n",
            "100/100 [==============================] - 51s 512ms/step - loss: 0.1689 - acc: 0.9560 - val_loss: 0.1507 - val_acc: 0.9770\n",
            "Epoch 5/100\n",
            "100/100 [==============================] - 51s 513ms/step - loss: 0.1730 - acc: 0.9510 - val_loss: 0.1322 - val_acc: 0.9710\n",
            "Epoch 6/100\n",
            "100/100 [==============================] - 51s 513ms/step - loss: 0.1960 - acc: 0.9440 - val_loss: 0.1162 - val_acc: 0.9690\n",
            "Epoch 7/100\n",
            "100/100 [==============================] - 51s 513ms/step - loss: 0.1188 - acc: 0.9605 - val_loss: 0.1424 - val_acc: 0.9700\n",
            "Epoch 8/100\n",
            "100/100 [==============================] - 51s 513ms/step - loss: 0.1308 - acc: 0.9535 - val_loss: 0.1454 - val_acc: 0.9680\n",
            "Epoch 9/100\n",
            "100/100 [==============================] - 51s 513ms/step - loss: 0.1303 - acc: 0.9610 - val_loss: 0.1081 - val_acc: 0.9710\n",
            "Epoch 10/100\n",
            "100/100 [==============================] - 51s 513ms/step - loss: 0.1067 - acc: 0.9640 - val_loss: 0.1042 - val_acc: 0.9760\n",
            "Epoch 11/100\n",
            "100/100 [==============================] - 52s 515ms/step - loss: 0.1198 - acc: 0.9635 - val_loss: 0.1267 - val_acc: 0.9740\n",
            "Epoch 12/100\n",
            "100/100 [==============================] - 51s 515ms/step - loss: 0.1062 - acc: 0.9630 - val_loss: 0.0981 - val_acc: 0.9800\n",
            "Epoch 13/100\n",
            "100/100 [==============================] - 51s 514ms/step - loss: 0.0946 - acc: 0.9685 - val_loss: 0.0933 - val_acc: 0.9790\n",
            "Epoch 14/100\n",
            "100/100 [==============================] - 51s 513ms/step - loss: 0.0643 - acc: 0.9780 - val_loss: 0.0973 - val_acc: 0.9760\n",
            "Epoch 15/100\n",
            "100/100 [==============================] - 51s 512ms/step - loss: 0.0802 - acc: 0.9780 - val_loss: 0.0986 - val_acc: 0.9800\n",
            "Epoch 16/100\n",
            "100/100 [==============================] - 51s 513ms/step - loss: 0.0690 - acc: 0.9765 - val_loss: 0.0877 - val_acc: 0.9740\n",
            "Epoch 17/100\n",
            "100/100 [==============================] - 51s 512ms/step - loss: 0.0583 - acc: 0.9790 - val_loss: 0.0830 - val_acc: 0.9790\n",
            "Epoch 18/100\n",
            "100/100 [==============================] - 51s 513ms/step - loss: 0.0693 - acc: 0.9785 - val_loss: 0.1049 - val_acc: 0.9770\n",
            "Epoch 19/100\n",
            "100/100 [==============================] - 51s 512ms/step - loss: 0.0566 - acc: 0.9810 - val_loss: 0.0997 - val_acc: 0.9820\n",
            "Epoch 20/100\n",
            "100/100 [==============================] - 51s 513ms/step - loss: 0.0616 - acc: 0.9805 - val_loss: 0.0956 - val_acc: 0.9720\n",
            "Epoch 21/100\n",
            "100/100 [==============================] - 51s 512ms/step - loss: 0.0611 - acc: 0.9790 - val_loss: 0.0911 - val_acc: 0.9800\n",
            "Epoch 22/100\n",
            "100/100 [==============================] - 51s 511ms/step - loss: 0.0621 - acc: 0.9780 - val_loss: 0.0955 - val_acc: 0.9790\n",
            "Epoch 23/100\n",
            "100/100 [==============================] - 51s 512ms/step - loss: 0.0488 - acc: 0.9835 - val_loss: 0.0931 - val_acc: 0.9820\n",
            "Epoch 24/100\n",
            "100/100 [==============================] - 51s 510ms/step - loss: 0.0515 - acc: 0.9840 - val_loss: 0.0931 - val_acc: 0.9810\n",
            "Epoch 25/100\n",
            "100/100 [==============================] - 51s 511ms/step - loss: 0.0418 - acc: 0.9870 - val_loss: 0.0890 - val_acc: 0.9800\n",
            "Epoch 26/100\n",
            "100/100 [==============================] - 51s 511ms/step - loss: 0.0384 - acc: 0.9865 - val_loss: 0.0772 - val_acc: 0.9840\n",
            "Epoch 27/100\n",
            "100/100 [==============================] - 51s 511ms/step - loss: 0.0593 - acc: 0.9785 - val_loss: 0.0818 - val_acc: 0.9820\n",
            "Epoch 28/100\n",
            "100/100 [==============================] - 51s 512ms/step - loss: 0.0493 - acc: 0.9875 - val_loss: 0.0998 - val_acc: 0.9780\n",
            "Epoch 29/100\n",
            "100/100 [==============================] - 51s 512ms/step - loss: 0.0328 - acc: 0.9885 - val_loss: 0.1008 - val_acc: 0.9790\n",
            "Epoch 30/100\n",
            "100/100 [==============================] - 51s 512ms/step - loss: 0.0422 - acc: 0.9850 - val_loss: 0.0959 - val_acc: 0.9800\n",
            "Epoch 31/100\n",
            "100/100 [==============================] - 51s 512ms/step - loss: 0.0337 - acc: 0.9885 - val_loss: 0.1089 - val_acc: 0.9780\n",
            "Epoch 32/100\n",
            "100/100 [==============================] - 51s 511ms/step - loss: 0.0315 - acc: 0.9860 - val_loss: 0.0993 - val_acc: 0.9810\n",
            "Epoch 33/100\n",
            "100/100 [==============================] - 51s 510ms/step - loss: 0.0442 - acc: 0.9880 - val_loss: 0.0904 - val_acc: 0.9810\n",
            "Epoch 34/100\n",
            "100/100 [==============================] - 51s 510ms/step - loss: 0.0253 - acc: 0.9930 - val_loss: 0.1074 - val_acc: 0.9820\n",
            "Epoch 35/100\n",
            "100/100 [==============================] - 51s 510ms/step - loss: 0.0286 - acc: 0.9920 - val_loss: 0.1165 - val_acc: 0.9800\n",
            "Epoch 36/100\n",
            "100/100 [==============================] - 51s 510ms/step - loss: 0.0198 - acc: 0.9940 - val_loss: 0.1115 - val_acc: 0.9800\n",
            "Epoch 37/100\n",
            "100/100 [==============================] - 51s 510ms/step - loss: 0.0345 - acc: 0.9910 - val_loss: 0.1198 - val_acc: 0.9780\n",
            "Epoch 38/100\n",
            "100/100 [==============================] - 51s 510ms/step - loss: 0.0341 - acc: 0.9900 - val_loss: 0.1148 - val_acc: 0.9770\n",
            "Epoch 39/100\n",
            "100/100 [==============================] - 51s 510ms/step - loss: 0.0264 - acc: 0.9935 - val_loss: 0.1110 - val_acc: 0.9830\n",
            "Epoch 40/100\n",
            "100/100 [==============================] - 51s 508ms/step - loss: 0.0203 - acc: 0.9920 - val_loss: 0.1377 - val_acc: 0.9700\n",
            "Epoch 41/100\n",
            "100/100 [==============================] - 51s 509ms/step - loss: 0.0289 - acc: 0.9915 - val_loss: 0.1542 - val_acc: 0.9650\n",
            "Epoch 42/100\n",
            "100/100 [==============================] - 51s 509ms/step - loss: 0.0355 - acc: 0.9880 - val_loss: 0.1147 - val_acc: 0.9830\n",
            "Epoch 43/100\n",
            "100/100 [==============================] - 51s 509ms/step - loss: 0.0278 - acc: 0.9930 - val_loss: 0.1327 - val_acc: 0.9820\n",
            "Epoch 44/100\n",
            "100/100 [==============================] - 51s 509ms/step - loss: 0.0376 - acc: 0.9900 - val_loss: 0.1198 - val_acc: 0.9770\n",
            "Epoch 45/100\n",
            "100/100 [==============================] - 51s 508ms/step - loss: 0.0242 - acc: 0.9885 - val_loss: 0.1455 - val_acc: 0.9760\n",
            "Epoch 46/100\n",
            "100/100 [==============================] - 51s 509ms/step - loss: 0.0390 - acc: 0.9895 - val_loss: 0.1153 - val_acc: 0.9790\n",
            "\n",
            "Epoch 00046: ReduceLROnPlateau reducing learning rate to 1.4999999621068127e-06.\n",
            "Epoch 47/100\n",
            "100/100 [==============================] - 51s 509ms/step - loss: 0.0076 - acc: 0.9960 - val_loss: 0.1173 - val_acc: 0.9810\n",
            "Epoch 48/100\n",
            "100/100 [==============================] - 51s 508ms/step - loss: 0.0210 - acc: 0.9945 - val_loss: 0.1301 - val_acc: 0.9800\n",
            "Epoch 49/100\n",
            "100/100 [==============================] - 51s 508ms/step - loss: 0.0158 - acc: 0.9935 - val_loss: 0.1345 - val_acc: 0.9820\n",
            "Epoch 50/100\n",
            "100/100 [==============================] - 51s 508ms/step - loss: 0.0150 - acc: 0.9945 - val_loss: 0.1347 - val_acc: 0.9800\n",
            "Epoch 51/100\n",
            "100/100 [==============================] - 51s 508ms/step - loss: 0.0145 - acc: 0.9960 - val_loss: 0.1506 - val_acc: 0.9790\n",
            "Epoch 52/100\n",
            "100/100 [==============================] - 51s 507ms/step - loss: 0.0097 - acc: 0.9970 - val_loss: 0.1338 - val_acc: 0.9820\n",
            "Epoch 53/100\n",
            "100/100 [==============================] - 51s 507ms/step - loss: 0.0098 - acc: 0.9970 - val_loss: 0.1399 - val_acc: 0.9790\n",
            "Epoch 54/100\n",
            "100/100 [==============================] - 51s 507ms/step - loss: 0.0229 - acc: 0.9955 - val_loss: 0.1332 - val_acc: 0.9820\n",
            "Epoch 55/100\n",
            "100/100 [==============================] - 51s 508ms/step - loss: 0.0102 - acc: 0.9970 - val_loss: 0.1452 - val_acc: 0.9810\n",
            "Epoch 56/100\n",
            "100/100 [==============================] - 51s 507ms/step - loss: 0.0061 - acc: 0.9970 - val_loss: 0.1513 - val_acc: 0.9790\n",
            "Epoch 57/100\n",
            "100/100 [==============================] - 51s 506ms/step - loss: 0.0091 - acc: 0.9970 - val_loss: 0.1506 - val_acc: 0.9830\n",
            "Epoch 58/100\n",
            "100/100 [==============================] - 51s 507ms/step - loss: 0.0160 - acc: 0.9950 - val_loss: 0.1530 - val_acc: 0.9800\n",
            "Epoch 59/100\n",
            "100/100 [==============================] - 51s 507ms/step - loss: 0.0241 - acc: 0.9955 - val_loss: 0.1537 - val_acc: 0.9780\n",
            "Epoch 60/100\n",
            "100/100 [==============================] - 51s 508ms/step - loss: 0.0136 - acc: 0.9965 - val_loss: 0.1405 - val_acc: 0.9820\n",
            "Epoch 61/100\n",
            "100/100 [==============================] - 51s 507ms/step - loss: 0.0169 - acc: 0.9955 - val_loss: 0.1514 - val_acc: 0.9790\n",
            "Epoch 62/100\n",
            "100/100 [==============================] - 51s 507ms/step - loss: 0.0206 - acc: 0.9950 - val_loss: 0.1644 - val_acc: 0.9770\n",
            "Epoch 63/100\n",
            "100/100 [==============================] - 51s 506ms/step - loss: 0.0268 - acc: 0.9960 - val_loss: 0.1592 - val_acc: 0.9770\n",
            "Epoch 64/100\n",
            "100/100 [==============================] - 51s 508ms/step - loss: 0.0075 - acc: 0.9980 - val_loss: 0.1579 - val_acc: 0.9790\n",
            "Epoch 65/100\n",
            "100/100 [==============================] - 51s 506ms/step - loss: 0.0059 - acc: 0.9965 - val_loss: 0.1678 - val_acc: 0.9790\n",
            "Epoch 66/100\n",
            "100/100 [==============================] - 51s 507ms/step - loss: 0.0138 - acc: 0.9950 - val_loss: 0.1535 - val_acc: 0.9810\n",
            "Epoch 67/100\n",
            "100/100 [==============================] - 51s 508ms/step - loss: 0.0083 - acc: 0.9980 - val_loss: 0.1528 - val_acc: 0.9790\n",
            "Epoch 68/100\n",
            "100/100 [==============================] - 51s 507ms/step - loss: 0.0064 - acc: 0.9975 - val_loss: 0.1781 - val_acc: 0.9780\n",
            "Epoch 69/100\n",
            "100/100 [==============================] - 51s 508ms/step - loss: 0.0167 - acc: 0.9965 - val_loss: 0.1567 - val_acc: 0.9820\n",
            "Epoch 70/100\n",
            "100/100 [==============================] - 51s 507ms/step - loss: 0.0138 - acc: 0.9960 - val_loss: 0.1706 - val_acc: 0.9810\n",
            "Epoch 71/100\n",
            "100/100 [==============================] - 51s 505ms/step - loss: 0.0182 - acc: 0.9965 - val_loss: 0.1681 - val_acc: 0.9810\n",
            "Epoch 72/100\n",
            "100/100 [==============================] - 51s 505ms/step - loss: 0.0074 - acc: 0.9980 - val_loss: 0.1687 - val_acc: 0.9810\n",
            "Epoch 73/100\n",
            "100/100 [==============================] - 51s 505ms/step - loss: 0.0043 - acc: 0.9985 - val_loss: 0.1746 - val_acc: 0.9800\n",
            "Epoch 74/100\n",
            "100/100 [==============================] - 51s 506ms/step - loss: 0.0254 - acc: 0.9940 - val_loss: 0.1729 - val_acc: 0.9770\n",
            "Epoch 75/100\n",
            "100/100 [==============================] - 51s 505ms/step - loss: 0.0058 - acc: 0.9980 - val_loss: 0.1780 - val_acc: 0.9780\n",
            "Epoch 76/100\n",
            "100/100 [==============================] - 51s 505ms/step - loss: 0.0113 - acc: 0.9985 - val_loss: 0.1693 - val_acc: 0.9790\n",
            "Epoch 77/100\n",
            "100/100 [==============================] - 50s 505ms/step - loss: 0.0087 - acc: 0.9970 - val_loss: 0.1706 - val_acc: 0.9790\n",
            "Epoch 78/100\n",
            "100/100 [==============================] - 51s 505ms/step - loss: 0.0152 - acc: 0.9970 - val_loss: 0.1794 - val_acc: 0.9790\n",
            "Epoch 79/100\n",
            "100/100 [==============================] - 51s 506ms/step - loss: 0.0109 - acc: 0.9975 - val_loss: 0.1834 - val_acc: 0.9770\n",
            "Epoch 80/100\n",
            "100/100 [==============================] - 50s 505ms/step - loss: 0.0106 - acc: 0.9965 - val_loss: 0.1796 - val_acc: 0.9780\n",
            "Epoch 81/100\n",
            "100/100 [==============================] - 51s 505ms/step - loss: 0.0224 - acc: 0.9935 - val_loss: 0.1839 - val_acc: 0.9780\n",
            "Epoch 82/100\n",
            "100/100 [==============================] - 51s 505ms/step - loss: 0.0069 - acc: 0.9975 - val_loss: 0.1791 - val_acc: 0.9790\n",
            "Epoch 83/100\n",
            "100/100 [==============================] - 50s 504ms/step - loss: 0.0034 - acc: 0.9985 - val_loss: 0.1732 - val_acc: 0.9830\n",
            "Epoch 84/100\n",
            "100/100 [==============================] - 50s 505ms/step - loss: 0.0241 - acc: 0.9960 - val_loss: 0.1827 - val_acc: 0.9780\n",
            "Epoch 85/100\n",
            "100/100 [==============================] - 50s 505ms/step - loss: 0.0129 - acc: 0.9985 - val_loss: 0.1689 - val_acc: 0.9820\n",
            "Epoch 86/100\n",
            "100/100 [==============================] - 51s 505ms/step - loss: 0.0032 - acc: 0.9985 - val_loss: 0.1707 - val_acc: 0.9820\n",
            "Epoch 87/100\n",
            "100/100 [==============================] - 50s 505ms/step - loss: 0.0036 - acc: 0.9975 - val_loss: 0.1781 - val_acc: 0.9820\n",
            "Epoch 88/100\n",
            "100/100 [==============================] - 51s 506ms/step - loss: 0.0213 - acc: 0.9935 - val_loss: 0.1703 - val_acc: 0.9800\n",
            "Epoch 89/100\n",
            "100/100 [==============================] - 51s 506ms/step - loss: 0.0092 - acc: 0.9980 - val_loss: 0.1660 - val_acc: 0.9820\n",
            "Epoch 90/100\n",
            "100/100 [==============================] - 50s 504ms/step - loss: 0.0097 - acc: 0.9970 - val_loss: 0.1652 - val_acc: 0.9810\n",
            "Epoch 91/100\n",
            "100/100 [==============================] - 51s 505ms/step - loss: 0.0059 - acc: 0.9985 - val_loss: 0.1813 - val_acc: 0.9760\n",
            "Epoch 92/100\n",
            "100/100 [==============================] - 51s 508ms/step - loss: 0.0163 - acc: 0.9965 - val_loss: 0.1694 - val_acc: 0.9820\n",
            "Epoch 93/100\n",
            "100/100 [==============================] - 51s 506ms/step - loss: 0.0069 - acc: 0.9985 - val_loss: 0.1661 - val_acc: 0.9770\n",
            "Epoch 94/100\n",
            "100/100 [==============================] - 51s 506ms/step - loss: 0.0061 - acc: 0.9985 - val_loss: 0.1511 - val_acc: 0.9810\n",
            "Epoch 95/100\n",
            "100/100 [==============================] - 50s 505ms/step - loss: 0.0124 - acc: 0.9975 - val_loss: 0.1583 - val_acc: 0.9830\n",
            "Epoch 96/100\n",
            "100/100 [==============================] - 50s 504ms/step - loss: 0.0011 - acc: 1.0000 - val_loss: 0.1659 - val_acc: 0.9830\n",
            "Epoch 97/100\n",
            "100/100 [==============================] - 51s 506ms/step - loss: 0.0046 - acc: 0.9980 - val_loss: 0.1656 - val_acc: 0.9820\n",
            "Epoch 98/100\n",
            "100/100 [==============================] - 50s 505ms/step - loss: 0.0112 - acc: 0.9985 - val_loss: 0.1724 - val_acc: 0.9800\n",
            "Epoch 99/100\n",
            "100/100 [==============================] - 50s 504ms/step - loss: 0.0070 - acc: 0.9990 - val_loss: 0.1628 - val_acc: 0.9800\n",
            "Epoch 100/100\n",
            "100/100 [==============================] - 50s 505ms/step - loss: 0.0151 - acc: 0.9960 - val_loss: 0.1721 - val_acc: 0.9780\n"
          ],
          "name": "stdout"
        }
      ]
    },
    {
      "metadata": {
        "id": "eVBQgh5M-Rtz",
        "colab_type": "text"
      },
      "cell_type": "markdown",
      "source": [
        "## Display learning curves during fine-tuning"
      ]
    },
    {
      "metadata": {
        "id": "mbkIw7Ie-NP4",
        "colab_type": "code",
        "outputId": "8b6acf33-7f02-48c7-d76a-02baa236678f",
        "colab": {
          "base_uri": "https://localhost:8080/",
          "height": 545
        }
      },
      "cell_type": "code",
      "source": [
        "%matplotlib inline\n",
        "\n",
        "import matplotlib.pyplot as plt\n",
        "\n",
        "acc = history.history['acc']\n",
        "val_acc = history.history['val_acc']\n",
        "\n",
        "loss = history.history['loss']\n",
        "val_loss = history.history['val_loss']\n",
        "\n",
        "epochs = range(1, len(acc) + 1)\n",
        "\n",
        "# training and validation accuracy\n",
        "\n",
        "plt.plot(epochs, acc, 'bo', label='training acc')\n",
        "plt.plot(epochs, val_acc, 'b', label='validation acc')\n",
        "plt.title('training and validation accuracy')\n",
        "plt.legend()\n",
        "\n",
        "plt.figure()\n",
        "\n",
        "# training and validation loss\n",
        "\n",
        "plt.plot(epochs, loss, 'bo', label='training loss')\n",
        "plt.plot(epochs, val_loss, 'b', label='validation loss')\n",
        "plt.title('training and validation loss')\n",
        "plt.legend()\n",
        "\n",
        "plt.show()"
      ],
      "execution_count": 0,
      "outputs": [
        {
          "output_type": "display_data",
          "data": {
            "image/png": "[encoded data removed]",
            "text/plain": [
              "<Figure size 432x288 with 1 Axes>"
            ]
          },
          "metadata": {
            "tags": []
          }
        },
        {
          "output_type": "display_data",
          "data": {
            "image/png": "[encoded data removed]",
            "text/plain": [
              "<Figure size 432x288 with 1 Axes>"
            ]
          },
          "metadata": {
            "tags": []
          }
        }
      ]
    },
    {
      "metadata": {
        "id": "obQi6N4ZShdi",
        "colab_type": "text"
      },
      "cell_type": "markdown",
      "source": [
        "This looks like  significant overfitting."
      ]
    },
    {
      "metadata": {
        "id": "he3Nw6TOJwjx",
        "colab_type": "text"
      },
      "cell_type": "markdown",
      "source": [
        "## Print out validation loss and accuracy"
      ]
    },
    {
      "metadata": {
        "id": "SVQtrk7uJdhl",
        "colab_type": "code",
        "colab": {}
      },
      "cell_type": "code",
      "source": [
        "val_loss, val_acc = model.evaluate_generator(validation_generator, steps=50)"
      ],
      "execution_count": 0,
      "outputs": []
    },
    {
      "metadata": {
        "id": "HpdddLi1SUMe",
        "colab_type": "code",
        "outputId": "7c4312ea-6074-424f-b4d7-78743186b73f",
        "colab": {
          "base_uri": "https://localhost:8080/",
          "height": 54
        }
      },
      "cell_type": "code",
      "source": [
        "print(\"Validation loss:\", val_loss)\n",
        "print(\"Validation accuracy:\", val_acc)"
      ],
      "execution_count": 0,
      "outputs": [
        {
          "output_type": "stream",
          "text": [
            "Validation loss: 0.17038292752477177\n",
            "Validation accuracy: 0.9769999957084656\n"
          ],
          "name": "stdout"
        }
      ]
    },
    {
      "metadata": {
        "id": "7Ww756WToby8",
        "colab_type": "text"
      },
      "cell_type": "markdown",
      "source": [
        "## Save the model"
      ]
    },
    {
      "metadata": {
        "id": "0lTUpUdwobKW",
        "colab_type": "code",
        "colab": {}
      },
      "cell_type": "code",
      "source": [
        "model_fname = file_prefix + 'Problem2_fulltake6.h5' \n",
        "model.save(model_fname)"
      ],
      "execution_count": 0,
      "outputs": []
    },
    {
      "metadata": {
        "id": "BL87Mx-4vVvY",
        "colab_type": "text"
      },
      "cell_type": "markdown",
      "source": [
        "## Conclusions\n",
        "\n",
        "Unfreezing the whole network improved the validation accuracy by another percent, which is better than unfreezing only the last convolutional layer. \n",
        "\n",
        "Some overfitting was observed. Possibly more aggressive data augmentation and/or more dropouts could help reach even better results (but the training set is quite small)."
      ]
    }
  ]
}