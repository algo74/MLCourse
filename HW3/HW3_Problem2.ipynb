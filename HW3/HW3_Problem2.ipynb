{
  "nbformat": 4,
  "nbformat_minor": 0,
  "metadata": {
    "colab": {
      "name": "HW3_Problem2",
      "version": "0.3.2",
      "provenance": [],
      "include_colab_link": true
    },
    "kernelspec": {
      "name": "python3",
      "display_name": "Python 3"
    },
    "accelerator": "GPU"
  },
  "cells": [
    {
      "cell_type": "markdown",
      "metadata": {
        "id": "view-in-github",
        "colab_type": "text"
      },
      "source": [
        "<a href=\"https://colab.research.google.com/github/algo74/MLCourse/blob/master/HW3/HW3_Problem2.ipynb\" target=\"_parent\"><img src=\"https://colab.research.google.com/assets/colab-badge.svg\" alt=\"Open In Colab\"/></a>"
      ]
    },
    {
      "metadata": {
        "id": "KSrgMJ5vKFzQ",
        "colab_type": "text"
      },
      "cell_type": "markdown",
      "source": [
        "# Fine-tuning VGG19 "
      ]
    },
    {
      "metadata": {
        "id": "TIW7bZaAK-Hf",
        "colab_type": "text"
      },
      "cell_type": "markdown",
      "source": [
        "This is based on `pretrained_convnet_finetuning.ipynb` and Problem 1"
      ]
    },
    {
      "metadata": {
        "id": "GD1LD8s9dB3Q",
        "colab_type": "code",
        "outputId": "b6c69c0e-adc4-4d12-fc1b-5e3f115b8a34",
        "colab": {
          "base_uri": "https://localhost:8080/",
          "height": 35
        }
      },
      "cell_type": "code",
      "source": [
        "import keras"
      ],
      "execution_count": 0,
      "outputs": [
        {
          "output_type": "stream",
          "text": [
            "Using TensorFlow backend.\n"
          ],
          "name": "stderr"
        }
      ]
    },
    {
      "metadata": {
        "id": "vFwWVrIhcmsJ",
        "colab_type": "text"
      },
      "cell_type": "markdown",
      "source": [
        "## Mount Google Drive"
      ]
    },
    {
      "metadata": {
        "id": "WxNVnjAYFer2",
        "colab_type": "text"
      },
      "cell_type": "markdown",
      "source": [
        "I load the model from my Google Drive. The code should be modified if loading from Github.\n",
        "\n",
        "I also save the model to Google Drive."
      ]
    },
    {
      "metadata": {
        "id": "sMmua2tVcslI",
        "colab_type": "code",
        "outputId": "f5470d3c-f5a2-4ce8-8172-59cb9076e7b0",
        "colab": {
          "base_uri": "https://localhost:8080/",
          "height": 54
        }
      },
      "cell_type": "code",
      "source": [
        "from google.colab import drive\n",
        "drive.mount('/gdrive', force_remount=True)\n",
        "file_prefix = '/gdrive/My Drive/HW3/'\n",
        "# test saving files\n",
        "with open(file_prefix + 'foo.txt', 'w') as f:\n",
        "  f.write('Hello Google Drive!')\n",
        "!cat \"{file_prefix}foo.txt\""
      ],
      "execution_count": 0,
      "outputs": [
        {
          "output_type": "stream",
          "text": [
            "Mounted at /gdrive\n",
            "Hello Google Drive!"
          ],
          "name": "stdout"
        }
      ]
    },
    {
      "metadata": {
        "id": "BqIG8QHMLNOn",
        "colab_type": "text"
      },
      "cell_type": "markdown",
      "source": [
        "## Download the data"
      ]
    },
    {
      "metadata": {
        "id": "t3I1jd7cKV6_",
        "colab_type": "text"
      },
      "cell_type": "markdown",
      "source": [
        "Download the example data, a zip. of 2,000 JPG pictures of cats and dogs and extract it locally in ```/tmp```.\n",
        "\n"
      ]
    },
    {
      "metadata": {
        "id": "JWjprHEXJ5Qi",
        "colab_type": "code",
        "outputId": "9df8b8a7-9f76-42b6-fa3b-bb1a0c5ebd31",
        "colab": {
          "base_uri": "https://localhost:8080/",
          "height": 219
        }
      },
      "cell_type": "code",
      "source": [
        "!wget --no-check-certificate \\\n",
        "    https://storage.googleapis.com/mledu-datasets/cats_and_dogs_filtered.zip \\\n",
        "    -O /tmp/cats_and_dogs_filtered.zip"
      ],
      "execution_count": 0,
      "outputs": [
        {
          "output_type": "stream",
          "text": [
            "--2019-04-14 18:06:17--  https://storage.googleapis.com/mledu-datasets/cats_and_dogs_filtered.zip\n",
            "Resolving storage.googleapis.com (storage.googleapis.com)... 74.125.140.128, 2a00:1450:400c:c08::80\n",
            "Connecting to storage.googleapis.com (storage.googleapis.com)|74.125.140.128|:443... connected.\n",
            "HTTP request sent, awaiting response... 200 OK\n",
            "Length: 68606236 (65M) [application/zip]\n",
            "Saving to: ‘/tmp/cats_and_dogs_filtered.zip’\n",
            "\n",
            "/tmp/cats_and_dogs_ 100%[===================>]  65.43M  45.8MB/s    in 1.4s    \n",
            "\n",
            "2019-04-14 18:06:18 (45.8 MB/s) - ‘/tmp/cats_and_dogs_filtered.zip’ saved [68606236/68606236]\n",
            "\n"
          ],
          "name": "stdout"
        }
      ]
    },
    {
      "metadata": {
        "id": "WvoHtdA-K6Rw",
        "colab_type": "code",
        "colab": {}
      },
      "cell_type": "code",
      "source": [
        "import os\n",
        "import zipfile\n",
        "\n",
        "local_zip = '/tmp/cats_and_dogs_filtered.zip'\n",
        "zip_ref = zipfile.ZipFile(local_zip, 'r')\n",
        "zip_ref.extractall('/tmp')\n",
        "zip_ref.close()"
      ],
      "execution_count": 0,
      "outputs": []
    },
    {
      "metadata": {
        "id": "shZiOBnJMyy_",
        "colab_type": "text"
      },
      "cell_type": "markdown",
      "source": [
        "Note that the data provided by Google does not have a test set."
      ]
    },
    {
      "metadata": {
        "id": "dL8ikM89LlsH",
        "colab_type": "code",
        "colab": {}
      },
      "cell_type": "code",
      "source": [
        "base_dir = '/tmp/cats_and_dogs_filtered'\n",
        "train_dir = os.path.join(base_dir, 'train')\n",
        "validation_dir = os.path.join(base_dir, 'validation')\n",
        "\n",
        "# Directory with our training cat pictures\n",
        "train_cats_dir = os.path.join(train_dir, 'cats')\n",
        "\n",
        "# Directory with our training dog pictures\n",
        "train_dogs_dir = os.path.join(train_dir, 'dogs')\n",
        "\n",
        "# Directory with our validation cat pictures\n",
        "validation_cats_dir = os.path.join(validation_dir, 'cats')\n",
        "\n",
        "# Directory with our validation dog pictures\n",
        "validation_dogs_dir = os.path.join(validation_dir, 'dogs')"
      ],
      "execution_count": 0,
      "outputs": []
    },
    {
      "metadata": {
        "id": "inyP8bcdXnn-",
        "colab_type": "text"
      },
      "cell_type": "markdown",
      "source": [
        "## Build the model"
      ]
    },
    {
      "metadata": {
        "id": "kQ48W5T9rHWu",
        "colab_type": "text"
      },
      "cell_type": "markdown",
      "source": [
        "### Load the saved model"
      ]
    },
    {
      "metadata": {
        "id": "Y0FgtANCXm_H",
        "colab_type": "code",
        "outputId": "ec5685be-156e-4e93-a096-77f4f01bd8fb",
        "colab": {
          "base_uri": "https://localhost:8080/",
          "height": 257
        }
      },
      "cell_type": "code",
      "source": [
        "file_name = file_prefix + 'Problem1_take6_step2.h5'\n",
        "model = keras.models.load_model(file_name)\n",
        "print('Loaded model from ' + file_name)"
      ],
      "execution_count": 0,
      "outputs": [
        {
          "output_type": "stream",
          "text": [
            "WARNING:tensorflow:From /usr/local/lib/python3.6/dist-packages/tensorflow/python/framework/op_def_library.py:263: colocate_with (from tensorflow.python.framework.ops) is deprecated and will be removed in a future version.\n",
            "Instructions for updating:\n",
            "Colocations handled automatically by placer.\n",
            "WARNING:tensorflow:From /usr/local/lib/python3.6/dist-packages/keras/backend/tensorflow_backend.py:3445: calling dropout (from tensorflow.python.ops.nn_ops) with keep_prob is deprecated and will be removed in a future version.\n",
            "Instructions for updating:\n",
            "Please use `rate` instead of `keep_prob`. Rate should be set to `rate = 1 - keep_prob`.\n",
            "WARNING:tensorflow:From /usr/local/lib/python3.6/dist-packages/tensorflow/python/ops/math_ops.py:3066: to_int32 (from tensorflow.python.ops.math_ops) is deprecated and will be removed in a future version.\n",
            "Instructions for updating:\n",
            "Use tf.cast instead.\n",
            "Loaded model from /gdrive/My Drive/HW3/Problem1_take6_step2.h5\n"
          ],
          "name": "stdout"
        },
        {
          "output_type": "stream",
          "text": [
            "/usr/local/lib/python3.6/dist-packages/keras/engine/saving.py:327: UserWarning: Error in loading the saved optimizer state. As a result, your model is starting with a freshly initialized optimizer.\n",
            "  warnings.warn('Error in loading the saved optimizer '\n"
          ],
          "name": "stderr"
        }
      ]
    },
    {
      "metadata": {
        "id": "g-w1yj3CAZ9O",
        "colab_type": "code",
        "outputId": "73d96ef4-8a3c-40f8-ab65-b0ec790438b7",
        "colab": {
          "base_uri": "https://localhost:8080/",
          "height": 329
        }
      },
      "cell_type": "code",
      "source": [
        "model.summary()"
      ],
      "execution_count": 0,
      "outputs": [
        {
          "output_type": "stream",
          "text": [
            "_________________________________________________________________\n",
            "Layer (type)                 Output Shape              Param #   \n",
            "=================================================================\n",
            "vgg19 (Model)                (None, 4, 4, 512)         20024384  \n",
            "_________________________________________________________________\n",
            "flatten_1 (Flatten)          (None, 8192)              0         \n",
            "_________________________________________________________________\n",
            "dropout_1 (Dropout)          (None, 8192)              0         \n",
            "_________________________________________________________________\n",
            "dense_1 (Dense)              (None, 256)               2097408   \n",
            "_________________________________________________________________\n",
            "dense_2 (Dense)              (None, 1)                 257       \n",
            "=================================================================\n",
            "Total params: 22,122,049\n",
            "Trainable params: 22,122,049\n",
            "Non-trainable params: 0\n",
            "_________________________________________________________________\n"
          ],
          "name": "stdout"
        }
      ]
    },
    {
      "metadata": {
        "id": "erf-4wB1eHQa",
        "colab_type": "code",
        "outputId": "27f3153e-3740-4555-f90e-94b488f61281",
        "colab": {
          "base_uri": "https://localhost:8080/",
          "height": 954
        }
      },
      "cell_type": "code",
      "source": [
        "conv_base = model.layers[0]\n",
        "conv_base.summary()"
      ],
      "execution_count": 0,
      "outputs": [
        {
          "output_type": "stream",
          "text": [
            "_________________________________________________________________\n",
            "Layer (type)                 Output Shape              Param #   \n",
            "=================================================================\n",
            "input_1 (InputLayer)         (None, 150, 150, 3)       0         \n",
            "_________________________________________________________________\n",
            "block1_conv1 (Conv2D)        (None, 150, 150, 64)      1792      \n",
            "_________________________________________________________________\n",
            "block1_conv2 (Conv2D)        (None, 150, 150, 64)      36928     \n",
            "_________________________________________________________________\n",
            "block1_pool (MaxPooling2D)   (None, 75, 75, 64)        0         \n",
            "_________________________________________________________________\n",
            "block2_conv1 (Conv2D)        (None, 75, 75, 128)       73856     \n",
            "_________________________________________________________________\n",
            "block2_conv2 (Conv2D)        (None, 75, 75, 128)       147584    \n",
            "_________________________________________________________________\n",
            "block2_pool (MaxPooling2D)   (None, 37, 37, 128)       0         \n",
            "_________________________________________________________________\n",
            "block3_conv1 (Conv2D)        (None, 37, 37, 256)       295168    \n",
            "_________________________________________________________________\n",
            "block3_conv2 (Conv2D)        (None, 37, 37, 256)       590080    \n",
            "_________________________________________________________________\n",
            "block3_conv3 (Conv2D)        (None, 37, 37, 256)       590080    \n",
            "_________________________________________________________________\n",
            "block3_conv4 (Conv2D)        (None, 37, 37, 256)       590080    \n",
            "_________________________________________________________________\n",
            "block3_pool (MaxPooling2D)   (None, 18, 18, 256)       0         \n",
            "_________________________________________________________________\n",
            "block4_conv1 (Conv2D)        (None, 18, 18, 512)       1180160   \n",
            "_________________________________________________________________\n",
            "block4_conv2 (Conv2D)        (None, 18, 18, 512)       2359808   \n",
            "_________________________________________________________________\n",
            "block4_conv3 (Conv2D)        (None, 18, 18, 512)       2359808   \n",
            "_________________________________________________________________\n",
            "block4_conv4 (Conv2D)        (None, 18, 18, 512)       2359808   \n",
            "_________________________________________________________________\n",
            "block4_pool (MaxPooling2D)   (None, 9, 9, 512)         0         \n",
            "_________________________________________________________________\n",
            "block5_conv1 (Conv2D)        (None, 9, 9, 512)         2359808   \n",
            "_________________________________________________________________\n",
            "block5_conv2 (Conv2D)        (None, 9, 9, 512)         2359808   \n",
            "_________________________________________________________________\n",
            "block5_conv3 (Conv2D)        (None, 9, 9, 512)         2359808   \n",
            "_________________________________________________________________\n",
            "block5_conv4 (Conv2D)        (None, 9, 9, 512)         2359808   \n",
            "_________________________________________________________________\n",
            "block5_pool (MaxPooling2D)   (None, 4, 4, 512)         0         \n",
            "=================================================================\n",
            "Total params: 20,024,384\n",
            "Trainable params: 20,024,384\n",
            "Non-trainable params: 0\n",
            "_________________________________________________________________\n"
          ],
          "name": "stdout"
        }
      ]
    },
    {
      "metadata": {
        "id": "lOWsxpey8lN0",
        "colab_type": "text"
      },
      "cell_type": "markdown",
      "source": [
        "## Fine-tuning"
      ]
    },
    {
      "metadata": {
        "id": "jrte7rfmtGk-",
        "colab_type": "text"
      },
      "cell_type": "markdown",
      "source": [
        "Training only the last convolutional layer"
      ]
    },
    {
      "metadata": {
        "id": "PwkVMx8N8qMw",
        "colab_type": "code",
        "colab": {}
      },
      "cell_type": "code",
      "source": [
        "conv_base.trainable = True\n",
        "\n",
        "set_trainable = False\n",
        "for layer in conv_base.layers:\n",
        "  if layer.name == 'block5_conv1':\n",
        "    set_trainable = True\n",
        "  if set_trainable:\n",
        "    layer.trainable = True\n",
        "  else:\n",
        "    layer.trainable = False"
      ],
      "execution_count": 0,
      "outputs": []
    },
    {
      "metadata": {
        "id": "DyN-J7rs9cvo",
        "colab_type": "code",
        "outputId": "e4ec237a-46d1-4f60-a837-0a78197bbcd0",
        "colab": {
          "base_uri": "https://localhost:8080/",
          "height": 3874
        }
      },
      "cell_type": "code",
      "source": [
        "from keras.preprocessing.image import ImageDataGenerator\n",
        "from keras.applications.vgg19 import preprocess_input\n",
        "from keras import optimizers\n",
        "from keras import callbacks\n",
        "\n",
        "# data augmentation\n",
        "\n",
        "train_datagen = ImageDataGenerator(\n",
        "    preprocessing_function=preprocess_input,\n",
        "    # rescale=1./255, \n",
        "    rotation_range=40,\n",
        "    width_shift_range=0.2,\n",
        "    height_shift_range=0.2,\n",
        "    shear_range=0.2,\n",
        "    zoom_range=[0.8, 1.4],\n",
        "    horizontal_flip=True,\n",
        "    fill_mode='nearest'\n",
        ")\n",
        "\n",
        "train_generator = train_datagen.flow_from_directory(\n",
        "    train_dir,\n",
        "    target_size=(150, 150),\n",
        "    batch_size=20,\n",
        "    class_mode='binary')\n",
        "\n",
        "validation_datagen = ImageDataGenerator(\n",
        "    preprocessing_function=preprocess_input,\n",
        ")\n",
        "\n",
        "validation_generator = validation_datagen.flow_from_directory(\n",
        "    validation_dir,\n",
        "    target_size=(150, 150),\n",
        "    batch_size=20,\n",
        "    class_mode='binary')\n",
        "\n",
        "# compile model\n",
        "\n",
        "model.compile(\n",
        "    loss='binary_crossentropy',\n",
        "    #\n",
        "    # choose a smaller learning rate\n",
        "    #\n",
        "    optimizer=optimizers.RMSprop(lr=5e-6), \n",
        "    metrics=['acc'])\n",
        "\n",
        "# train\n",
        "\n",
        "history = model.fit_generator(\n",
        "    train_generator,\n",
        "    steps_per_epoch=100,\n",
        "    epochs=100,\n",
        "    callbacks = [callbacks.ReduceLROnPlateau(monitor='loss', patience=10, factor=0.3, verbose=1, min_lr=1e-7)],\n",
        "    validation_data=validation_generator,\n",
        "    validation_steps=50)"
      ],
      "execution_count": 0,
      "outputs": [
        {
          "output_type": "stream",
          "text": [
            "Found 2000 images belonging to 2 classes.\n",
            "Found 1000 images belonging to 2 classes.\n",
            "Epoch 1/100\n",
            "100/100 [==============================] - 34s 345ms/step - loss: 0.3457 - acc: 0.9505 - val_loss: 0.2624 - val_acc: 0.9650\n",
            "Epoch 2/100\n",
            "100/100 [==============================] - 29s 293ms/step - loss: 0.2594 - acc: 0.9555 - val_loss: 0.2270 - val_acc: 0.9710\n",
            "Epoch 3/100\n",
            "100/100 [==============================] - 29s 294ms/step - loss: 0.3367 - acc: 0.9430 - val_loss: 0.2318 - val_acc: 0.9690\n",
            "Epoch 4/100\n",
            "100/100 [==============================] - 29s 292ms/step - loss: 0.2388 - acc: 0.9575 - val_loss: 0.2468 - val_acc: 0.9660\n",
            "Epoch 5/100\n",
            "100/100 [==============================] - 29s 293ms/step - loss: 0.2934 - acc: 0.9525 - val_loss: 0.2869 - val_acc: 0.9580\n",
            "Epoch 6/100\n",
            "100/100 [==============================] - 29s 293ms/step - loss: 0.2228 - acc: 0.9590 - val_loss: 0.2569 - val_acc: 0.9620\n",
            "Epoch 7/100\n",
            "100/100 [==============================] - 29s 294ms/step - loss: 0.2683 - acc: 0.9565 - val_loss: 0.2849 - val_acc: 0.9580\n",
            "Epoch 8/100\n",
            "100/100 [==============================] - 30s 295ms/step - loss: 0.2422 - acc: 0.9540 - val_loss: 0.2691 - val_acc: 0.9600\n",
            "Epoch 9/100\n",
            "100/100 [==============================] - 29s 294ms/step - loss: 0.1881 - acc: 0.9610 - val_loss: 0.2704 - val_acc: 0.9610\n",
            "Epoch 10/100\n",
            "100/100 [==============================] - 30s 297ms/step - loss: 0.2208 - acc: 0.9540 - val_loss: 0.2784 - val_acc: 0.9610\n",
            "Epoch 11/100\n",
            "100/100 [==============================] - 30s 295ms/step - loss: 0.2207 - acc: 0.9540 - val_loss: 0.2514 - val_acc: 0.9590\n",
            "Epoch 12/100\n",
            "100/100 [==============================] - 30s 295ms/step - loss: 0.2136 - acc: 0.9495 - val_loss: 0.2568 - val_acc: 0.9620\n",
            "Epoch 13/100\n",
            "100/100 [==============================] - 30s 295ms/step - loss: 0.1595 - acc: 0.9645 - val_loss: 0.2635 - val_acc: 0.9610\n",
            "Epoch 14/100\n",
            "100/100 [==============================] - 30s 297ms/step - loss: 0.1768 - acc: 0.9650 - val_loss: 0.2359 - val_acc: 0.9680\n",
            "Epoch 15/100\n",
            "100/100 [==============================] - 29s 295ms/step - loss: 0.1657 - acc: 0.9640 - val_loss: 0.2241 - val_acc: 0.9650\n",
            "Epoch 16/100\n",
            "100/100 [==============================] - 30s 296ms/step - loss: 0.1562 - acc: 0.9685 - val_loss: 0.2285 - val_acc: 0.9670\n",
            "Epoch 17/100\n",
            "100/100 [==============================] - 30s 296ms/step - loss: 0.1371 - acc: 0.9680 - val_loss: 0.2286 - val_acc: 0.9670\n",
            "Epoch 18/100\n",
            "100/100 [==============================] - 30s 297ms/step - loss: 0.1205 - acc: 0.9685 - val_loss: 0.2142 - val_acc: 0.9700\n",
            "Epoch 19/100\n",
            "100/100 [==============================] - 30s 296ms/step - loss: 0.1186 - acc: 0.9750 - val_loss: 0.2459 - val_acc: 0.9630\n",
            "Epoch 20/100\n",
            "100/100 [==============================] - 30s 295ms/step - loss: 0.1581 - acc: 0.9705 - val_loss: 0.2194 - val_acc: 0.9680\n",
            "Epoch 21/100\n",
            "100/100 [==============================] - 30s 296ms/step - loss: 0.1368 - acc: 0.9725 - val_loss: 0.2190 - val_acc: 0.9650\n",
            "Epoch 22/100\n",
            "100/100 [==============================] - 29s 295ms/step - loss: 0.1356 - acc: 0.9650 - val_loss: 0.2291 - val_acc: 0.9650\n",
            "Epoch 23/100\n",
            "100/100 [==============================] - 30s 296ms/step - loss: 0.1223 - acc: 0.9700 - val_loss: 0.2029 - val_acc: 0.9680\n",
            "Epoch 24/100\n",
            "100/100 [==============================] - 30s 296ms/step - loss: 0.1465 - acc: 0.9645 - val_loss: 0.2001 - val_acc: 0.9700\n",
            "Epoch 25/100\n",
            "100/100 [==============================] - 30s 297ms/step - loss: 0.1345 - acc: 0.9675 - val_loss: 0.1833 - val_acc: 0.9720\n",
            "Epoch 26/100\n",
            "100/100 [==============================] - 29s 295ms/step - loss: 0.1026 - acc: 0.9750 - val_loss: 0.1922 - val_acc: 0.9700\n",
            "Epoch 27/100\n",
            "100/100 [==============================] - 29s 294ms/step - loss: 0.1109 - acc: 0.9705 - val_loss: 0.1688 - val_acc: 0.9720\n",
            "Epoch 28/100\n",
            "100/100 [==============================] - 30s 296ms/step - loss: 0.0915 - acc: 0.9750 - val_loss: 0.2153 - val_acc: 0.9700\n",
            "Epoch 29/100\n",
            "100/100 [==============================] - 30s 295ms/step - loss: 0.0960 - acc: 0.9750 - val_loss: 0.1944 - val_acc: 0.9710\n",
            "Epoch 30/100\n",
            "100/100 [==============================] - 29s 294ms/step - loss: 0.1077 - acc: 0.9740 - val_loss: 0.2020 - val_acc: 0.9700\n",
            "Epoch 31/100\n",
            "100/100 [==============================] - 30s 295ms/step - loss: 0.1195 - acc: 0.9725 - val_loss: 0.1780 - val_acc: 0.9750\n",
            "Epoch 32/100\n",
            "100/100 [==============================] - 30s 297ms/step - loss: 0.0992 - acc: 0.9775 - val_loss: 0.1778 - val_acc: 0.9750\n",
            "Epoch 33/100\n",
            "100/100 [==============================] - 29s 294ms/step - loss: 0.0685 - acc: 0.9815 - val_loss: 0.1945 - val_acc: 0.9740\n",
            "Epoch 34/100\n",
            "100/100 [==============================] - 29s 295ms/step - loss: 0.0944 - acc: 0.9765 - val_loss: 0.1947 - val_acc: 0.9740\n",
            "Epoch 35/100\n",
            "100/100 [==============================] - 29s 294ms/step - loss: 0.0919 - acc: 0.9785 - val_loss: 0.2009 - val_acc: 0.9710\n",
            "Epoch 36/100\n",
            "100/100 [==============================] - 29s 294ms/step - loss: 0.0685 - acc: 0.9785 - val_loss: 0.1983 - val_acc: 0.9730\n",
            "Epoch 37/100\n",
            "100/100 [==============================] - 30s 295ms/step - loss: 0.1160 - acc: 0.9715 - val_loss: 0.2127 - val_acc: 0.9680\n",
            "Epoch 38/100\n",
            "100/100 [==============================] - 29s 294ms/step - loss: 0.0755 - acc: 0.9785 - val_loss: 0.2252 - val_acc: 0.9680\n",
            "Epoch 39/100\n",
            "100/100 [==============================] - 30s 295ms/step - loss: 0.0568 - acc: 0.9835 - val_loss: 0.2163 - val_acc: 0.9750\n",
            "Epoch 40/100\n",
            "100/100 [==============================] - 29s 293ms/step - loss: 0.0944 - acc: 0.9745 - val_loss: 0.2315 - val_acc: 0.9660\n",
            "Epoch 41/100\n",
            "100/100 [==============================] - 29s 294ms/step - loss: 0.0683 - acc: 0.9810 - val_loss: 0.2168 - val_acc: 0.9730\n",
            "Epoch 42/100\n",
            "100/100 [==============================] - 29s 293ms/step - loss: 0.0695 - acc: 0.9820 - val_loss: 0.2088 - val_acc: 0.9720\n",
            "Epoch 43/100\n",
            "100/100 [==============================] - 29s 294ms/step - loss: 0.0742 - acc: 0.9815 - val_loss: 0.2164 - val_acc: 0.9730\n",
            "Epoch 44/100\n",
            "100/100 [==============================] - 29s 295ms/step - loss: 0.0840 - acc: 0.9815 - val_loss: 0.2247 - val_acc: 0.9730\n",
            "Epoch 45/100\n",
            "100/100 [==============================] - 30s 296ms/step - loss: 0.0758 - acc: 0.9775 - val_loss: 0.2136 - val_acc: 0.9750\n",
            "Epoch 46/100\n",
            "100/100 [==============================] - 30s 296ms/step - loss: 0.0737 - acc: 0.9820 - val_loss: 0.2251 - val_acc: 0.9720\n",
            "Epoch 47/100\n",
            "100/100 [==============================] - 30s 296ms/step - loss: 0.0659 - acc: 0.9865 - val_loss: 0.2229 - val_acc: 0.9750\n",
            "Epoch 48/100\n",
            "100/100 [==============================] - 29s 294ms/step - loss: 0.0821 - acc: 0.9825 - val_loss: 0.2027 - val_acc: 0.9720\n",
            "Epoch 49/100\n",
            "100/100 [==============================] - 29s 295ms/step - loss: 0.0794 - acc: 0.9805 - val_loss: 0.2077 - val_acc: 0.9750\n",
            "\n",
            "Epoch 00049: ReduceLROnPlateau reducing learning rate to 1.4999999621068127e-06.\n",
            "Epoch 50/100\n",
            "100/100 [==============================] - 29s 294ms/step - loss: 0.0551 - acc: 0.9835 - val_loss: 0.2086 - val_acc: 0.9720\n",
            "Epoch 51/100\n",
            "100/100 [==============================] - 29s 295ms/step - loss: 0.0655 - acc: 0.9860 - val_loss: 0.2172 - val_acc: 0.9710\n",
            "Epoch 52/100\n",
            "100/100 [==============================] - 29s 295ms/step - loss: 0.0572 - acc: 0.9860 - val_loss: 0.2156 - val_acc: 0.9700\n",
            "Epoch 53/100\n",
            "100/100 [==============================] - 30s 297ms/step - loss: 0.0663 - acc: 0.9820 - val_loss: 0.2213 - val_acc: 0.9710\n",
            "Epoch 54/100\n",
            "100/100 [==============================] - 30s 295ms/step - loss: 0.0651 - acc: 0.9835 - val_loss: 0.2099 - val_acc: 0.9730\n",
            "Epoch 55/100\n",
            "100/100 [==============================] - 30s 296ms/step - loss: 0.0374 - acc: 0.9905 - val_loss: 0.2171 - val_acc: 0.9720\n",
            "Epoch 56/100\n",
            "100/100 [==============================] - 29s 294ms/step - loss: 0.0567 - acc: 0.9850 - val_loss: 0.2195 - val_acc: 0.9720\n",
            "Epoch 57/100\n",
            "100/100 [==============================] - 30s 296ms/step - loss: 0.0470 - acc: 0.9840 - val_loss: 0.2196 - val_acc: 0.9740\n",
            "Epoch 58/100\n",
            "100/100 [==============================] - 29s 294ms/step - loss: 0.0437 - acc: 0.9895 - val_loss: 0.2175 - val_acc: 0.9720\n",
            "Epoch 59/100\n",
            "100/100 [==============================] - 29s 293ms/step - loss: 0.0589 - acc: 0.9875 - val_loss: 0.2114 - val_acc: 0.9740\n",
            "Epoch 60/100\n",
            "100/100 [==============================] - 29s 293ms/step - loss: 0.0580 - acc: 0.9850 - val_loss: 0.2085 - val_acc: 0.9730\n",
            "Epoch 61/100\n",
            "100/100 [==============================] - 30s 295ms/step - loss: 0.0462 - acc: 0.9885 - val_loss: 0.2109 - val_acc: 0.9740\n",
            "Epoch 62/100\n",
            "100/100 [==============================] - 29s 294ms/step - loss: 0.0416 - acc: 0.9890 - val_loss: 0.2079 - val_acc: 0.9720\n",
            "Epoch 63/100\n",
            "100/100 [==============================] - 29s 294ms/step - loss: 0.0469 - acc: 0.9855 - val_loss: 0.2077 - val_acc: 0.9730\n",
            "Epoch 64/100\n",
            "100/100 [==============================] - 29s 295ms/step - loss: 0.0434 - acc: 0.9900 - val_loss: 0.2055 - val_acc: 0.9740\n",
            "Epoch 65/100\n",
            "100/100 [==============================] - 29s 295ms/step - loss: 0.0402 - acc: 0.9880 - val_loss: 0.2109 - val_acc: 0.9730\n",
            "\n",
            "Epoch 00065: ReduceLROnPlateau reducing learning rate to 4.4999998181083353e-07.\n",
            "Epoch 66/100\n",
            "100/100 [==============================] - 30s 295ms/step - loss: 0.0456 - acc: 0.9885 - val_loss: 0.2085 - val_acc: 0.9740\n",
            "Epoch 67/100\n",
            "100/100 [==============================] - 30s 296ms/step - loss: 0.0511 - acc: 0.9860 - val_loss: 0.2092 - val_acc: 0.9740\n",
            "Epoch 68/100\n",
            "100/100 [==============================] - 29s 294ms/step - loss: 0.0485 - acc: 0.9885 - val_loss: 0.2113 - val_acc: 0.9730\n",
            "Epoch 69/100\n",
            "100/100 [==============================] - 30s 296ms/step - loss: 0.0299 - acc: 0.9900 - val_loss: 0.2092 - val_acc: 0.9750\n",
            "Epoch 70/100\n",
            "100/100 [==============================] - 30s 295ms/step - loss: 0.0440 - acc: 0.9880 - val_loss: 0.2110 - val_acc: 0.9740\n",
            "Epoch 71/100\n",
            "100/100 [==============================] - 29s 293ms/step - loss: 0.0443 - acc: 0.9865 - val_loss: 0.2107 - val_acc: 0.9740\n",
            "Epoch 72/100\n",
            "100/100 [==============================] - 29s 295ms/step - loss: 0.0575 - acc: 0.9855 - val_loss: 0.2125 - val_acc: 0.9740\n",
            "Epoch 73/100\n",
            "100/100 [==============================] - 30s 295ms/step - loss: 0.0437 - acc: 0.9895 - val_loss: 0.2129 - val_acc: 0.9740\n",
            "Epoch 74/100\n",
            "100/100 [==============================] - 30s 296ms/step - loss: 0.0543 - acc: 0.9855 - val_loss: 0.2114 - val_acc: 0.9730\n",
            "Epoch 75/100\n",
            "100/100 [==============================] - 29s 293ms/step - loss: 0.0472 - acc: 0.9885 - val_loss: 0.2134 - val_acc: 0.9740\n",
            "Epoch 76/100\n",
            "100/100 [==============================] - 30s 296ms/step - loss: 0.0291 - acc: 0.9895 - val_loss: 0.2130 - val_acc: 0.9740\n",
            "Epoch 77/100\n",
            "100/100 [==============================] - 29s 294ms/step - loss: 0.0465 - acc: 0.9885 - val_loss: 0.2130 - val_acc: 0.9740\n",
            "Epoch 78/100\n",
            "100/100 [==============================] - 29s 295ms/step - loss: 0.0377 - acc: 0.9895 - val_loss: 0.2130 - val_acc: 0.9760\n",
            "Epoch 79/100\n",
            "100/100 [==============================] - 30s 295ms/step - loss: 0.0410 - acc: 0.9885 - val_loss: 0.2134 - val_acc: 0.9760\n",
            "Epoch 80/100\n",
            "100/100 [==============================] - 29s 294ms/step - loss: 0.0334 - acc: 0.9895 - val_loss: 0.2152 - val_acc: 0.9740\n",
            "Epoch 81/100\n",
            "100/100 [==============================] - 29s 295ms/step - loss: 0.0450 - acc: 0.9885 - val_loss: 0.2148 - val_acc: 0.9750\n",
            "Epoch 82/100\n",
            "100/100 [==============================] - 29s 293ms/step - loss: 0.0501 - acc: 0.9850 - val_loss: 0.2148 - val_acc: 0.9760\n",
            "Epoch 83/100\n",
            "100/100 [==============================] - 29s 294ms/step - loss: 0.0505 - acc: 0.9850 - val_loss: 0.2153 - val_acc: 0.9750\n",
            "Epoch 84/100\n",
            "100/100 [==============================] - 29s 295ms/step - loss: 0.0639 - acc: 0.9865 - val_loss: 0.2174 - val_acc: 0.9740\n",
            "Epoch 85/100\n",
            "100/100 [==============================] - 30s 295ms/step - loss: 0.0410 - acc: 0.9875 - val_loss: 0.2206 - val_acc: 0.9730\n",
            "Epoch 86/100\n",
            "100/100 [==============================] - 29s 294ms/step - loss: 0.0524 - acc: 0.9885 - val_loss: 0.2174 - val_acc: 0.9750\n",
            "\n",
            "Epoch 00086: ReduceLROnPlateau reducing learning rate to 1.3499999624855262e-07.\n",
            "Epoch 87/100\n",
            "100/100 [==============================] - 29s 294ms/step - loss: 0.0386 - acc: 0.9905 - val_loss: 0.2185 - val_acc: 0.9740\n",
            "Epoch 88/100\n",
            "100/100 [==============================] - 29s 292ms/step - loss: 0.0260 - acc: 0.9905 - val_loss: 0.2178 - val_acc: 0.9740\n",
            "Epoch 89/100\n",
            "100/100 [==============================] - 29s 292ms/step - loss: 0.0431 - acc: 0.9875 - val_loss: 0.2182 - val_acc: 0.9750\n",
            "Epoch 90/100\n",
            "100/100 [==============================] - 30s 295ms/step - loss: 0.0433 - acc: 0.9880 - val_loss: 0.2188 - val_acc: 0.9750\n",
            "Epoch 91/100\n",
            "100/100 [==============================] - 29s 294ms/step - loss: 0.0556 - acc: 0.9880 - val_loss: 0.2189 - val_acc: 0.9750\n",
            "Epoch 92/100\n",
            "100/100 [==============================] - 29s 295ms/step - loss: 0.0465 - acc: 0.9885 - val_loss: 0.2196 - val_acc: 0.9750\n",
            "Epoch 93/100\n",
            "100/100 [==============================] - 29s 293ms/step - loss: 0.0422 - acc: 0.9870 - val_loss: 0.2198 - val_acc: 0.9730\n",
            "Epoch 94/100\n",
            "100/100 [==============================] - 29s 291ms/step - loss: 0.0352 - acc: 0.9885 - val_loss: 0.2184 - val_acc: 0.9750\n",
            "Epoch 95/100\n",
            "100/100 [==============================] - 29s 294ms/step - loss: 0.0428 - acc: 0.9930 - val_loss: 0.2170 - val_acc: 0.9760\n",
            "Epoch 96/100\n",
            "100/100 [==============================] - 29s 291ms/step - loss: 0.0331 - acc: 0.9915 - val_loss: 0.2178 - val_acc: 0.9750\n",
            "Epoch 97/100\n",
            "100/100 [==============================] - 29s 293ms/step - loss: 0.0460 - acc: 0.9885 - val_loss: 0.2176 - val_acc: 0.9760\n",
            "Epoch 98/100\n",
            "100/100 [==============================] - 29s 291ms/step - loss: 0.0366 - acc: 0.9885 - val_loss: 0.2173 - val_acc: 0.9750\n",
            "\n",
            "Epoch 00098: ReduceLROnPlateau reducing learning rate to 1e-07.\n",
            "Epoch 99/100\n",
            "100/100 [==============================] - 29s 290ms/step - loss: 0.0588 - acc: 0.9850 - val_loss: 0.2170 - val_acc: 0.9760\n",
            "Epoch 100/100\n",
            "100/100 [==============================] - 29s 291ms/step - loss: 0.0352 - acc: 0.9895 - val_loss: 0.2170 - val_acc: 0.9760\n"
          ],
          "name": "stdout"
        }
      ]
    },
    {
      "metadata": {
        "id": "eVBQgh5M-Rtz",
        "colab_type": "text"
      },
      "cell_type": "markdown",
      "source": [
        "## Display learning curves during fine-tuning"
      ]
    },
    {
      "metadata": {
        "id": "mbkIw7Ie-NP4",
        "colab_type": "code",
        "outputId": "855d3b9a-1412-49ec-93b4-95cd444fea0a",
        "colab": {
          "base_uri": "https://localhost:8080/",
          "height": 545
        }
      },
      "cell_type": "code",
      "source": [
        "%matplotlib inline\n",
        "\n",
        "import matplotlib.pyplot as plt\n",
        "\n",
        "acc = history.history['acc']\n",
        "val_acc = history.history['val_acc']\n",
        "\n",
        "loss = history.history['loss']\n",
        "val_loss = history.history['val_loss']\n",
        "\n",
        "epochs = range(1, len(acc) + 1)\n",
        "\n",
        "# training and validation accuracy\n",
        "\n",
        "plt.plot(epochs, acc, 'bo', label='training acc')\n",
        "plt.plot(epochs, val_acc, 'b', label='validation acc')\n",
        "plt.title('training and validation accuracy')\n",
        "plt.legend()\n",
        "\n",
        "plt.figure()\n",
        "\n",
        "# training and validation loss\n",
        "\n",
        "plt.plot(epochs, loss, 'bo', label='training loss')\n",
        "plt.plot(epochs, val_loss, 'b', label='validation loss')\n",
        "plt.title('training and validation loss')\n",
        "plt.legend()\n",
        "\n",
        "plt.show()"
      ],
      "execution_count": 0,
      "outputs": [
        {
          "output_type": "display_data",
          "data": {
            "image/png": "[encoded data removed]",
            "text/plain": [
              "<Figure size 432x288 with 1 Axes>"
            ]
          },
          "metadata": {
            "tags": []
          }
        },
        {
          "output_type": "display_data",
          "data": {
            "image/png": "[encoded data removed]",
            "text/plain": [
              "<Figure size 432x288 with 1 Axes>"
            ]
          },
          "metadata": {
            "tags": []
          }
        }
      ]
    },
    {
      "metadata": {
        "id": "obQi6N4ZShdi",
        "colab_type": "text"
      },
      "cell_type": "markdown",
      "source": [
        "A little overfitting is noticable. "
      ]
    },
    {
      "metadata": {
        "id": "he3Nw6TOJwjx",
        "colab_type": "text"
      },
      "cell_type": "markdown",
      "source": [
        "## Print out validation loss and accuracy"
      ]
    },
    {
      "metadata": {
        "id": "SVQtrk7uJdhl",
        "colab_type": "code",
        "colab": {}
      },
      "cell_type": "code",
      "source": [
        "val_loss, val_acc = model.evaluate_generator(validation_generator, steps=50)"
      ],
      "execution_count": 0,
      "outputs": []
    },
    {
      "metadata": {
        "id": "HpdddLi1SUMe",
        "colab_type": "code",
        "outputId": "583e5c83-1ea6-4019-8046-50bc22f9c561",
        "colab": {
          "base_uri": "https://localhost:8080/",
          "height": 54
        }
      },
      "cell_type": "code",
      "source": [
        "print(\"Validation loss:\", val_loss)\n",
        "print(\"Validation accuracy:\", val_acc)"
      ],
      "execution_count": 0,
      "outputs": [
        {
          "output_type": "stream",
          "text": [
            "Validation loss: 0.26220589070062006\n",
            "Validation accuracy: 0.9709999930858612\n"
          ],
          "name": "stdout"
        }
      ]
    },
    {
      "metadata": {
        "id": "7Ww756WToby8",
        "colab_type": "text"
      },
      "cell_type": "markdown",
      "source": [
        "## Save the model"
      ]
    },
    {
      "metadata": {
        "id": "0lTUpUdwobKW",
        "colab_type": "code",
        "colab": {}
      },
      "cell_type": "code",
      "source": [
        "model_fname = file_prefix + 'Problem2_take6.h5' \n",
        "model.save(model_fname)"
      ],
      "execution_count": 0,
      "outputs": []
    },
    {
      "metadata": {
        "id": "1UIe2OCwuRyi",
        "colab_type": "text"
      },
      "cell_type": "markdown",
      "source": [
        "## Conclusion\n",
        "\n",
        "Unfreezing only the last convolutional layer of VGG19 produced mediocre improvement if any. It is interesting to see what will happen if the whole network is allowed to train.\n",
        "\n",
        "It is done in `HW3_Problem2_fulltraining`"
      ]
    }
  ]
}