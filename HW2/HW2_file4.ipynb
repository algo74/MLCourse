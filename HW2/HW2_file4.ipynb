{
  "nbformat": 4,
  "nbformat_minor": 0,
  "metadata": {
    "colab": {
      "name": "HW2.file4.ipynb",
      "version": "0.3.2",
      "provenance": [],
      "collapsed_sections": [],
      "include_colab_link": true
    },
    "kernelspec": {
      "name": "python3",
      "display_name": "Python 3"
    },
    "accelerator": "GPU"
  },
  "cells": [
    {
      "cell_type": "markdown",
      "metadata": {
        "id": "view-in-github",
        "colab_type": "text"
      },
      "source": [
        "<a href=\"https://colab.research.google.com/github/algo74/MLCourse/blob/master/HW2/HW2_file4.ipynb\" target=\"_parent\"><img src=\"https://colab.research.google.com/assets/colab-badge.svg\" alt=\"Open In Colab\"/></a>"
      ]
    },
    {
      "metadata": {
        "id": "rt44vyY1xW9b",
        "colab_type": "text"
      },
      "cell_type": "markdown",
      "source": [
        "# HW2. Dropouts\n",
        "\n",
        "* using dropouts to alleviate overfitting"
      ]
    },
    {
      "metadata": {
        "id": "uUDiR7r8xDtg",
        "colab_type": "text"
      },
      "cell_type": "markdown",
      "source": [
        "All networks (files 1 - 3) exhibit overfitting. The accuracy on training data gets close to 100%, but the accuracy on the validation data saturates at about 70%.\n",
        "\n",
        "In this file, \"dropouts\" are used during fitting to improve training.\n",
        "\n",
        "The number of epoches is increased from 50 to 100."
      ]
    },
    {
      "metadata": {
        "id": "u1EH7AzJGCHo",
        "colab_type": "text"
      },
      "cell_type": "markdown",
      "source": [
        "## Credits\n",
        "* Data loading is based on cifar10_data_set.ipynb\n",
        "* Several ideas were borrowed from https://adventuresinmachinelearning.com/keras-tutorial-cnn-11-lines/ \n",
        "* Several ideas were borrowed from https://arxiv.org/pdf/1409.1556.pdf\n",
        "* Dropouts parameters are borrowed from https://github.com/keras-team/keras/blob/master/examples/cifar10_cnn.py"
      ]
    },
    {
      "metadata": {
        "id": "l34GNy7tyNks",
        "colab_type": "text"
      },
      "cell_type": "markdown",
      "source": [
        "## Loading the CIFAR10 data set"
      ]
    },
    {
      "metadata": {
        "id": "FSJyddqGexl5",
        "colab_type": "code",
        "outputId": "afa24295-1c11-444f-b366-39a0a12efe47",
        "colab": {
          "base_uri": "https://localhost:8080/",
          "height": 69
        }
      },
      "cell_type": "code",
      "source": [
        "from keras.datasets import cifar10\n",
        "\n",
        "(train_images, train_labels), (test_images, test_labels) = cifar10.load_data()"
      ],
      "execution_count": 2,
      "outputs": [
        {
          "output_type": "stream",
          "text": [
            "Using TensorFlow backend.\n"
          ],
          "name": "stderr"
        },
        {
          "output_type": "stream",
          "text": [
            "Downloading data from https://www.cs.toronto.edu/~kriz/cifar-10-python.tar.gz\n",
            "170500096/170498071 [==============================] - 245s 1us/step\n"
          ],
          "name": "stdout"
        }
      ]
    },
    {
      "metadata": {
        "id": "aAt30R37WSfB",
        "colab_type": "text"
      },
      "cell_type": "markdown",
      "source": [
        "## Preparing the data"
      ]
    },
    {
      "metadata": {
        "id": "xt7H6jyYWWy6",
        "colab_type": "code",
        "colab": {}
      },
      "cell_type": "code",
      "source": [
        "from keras.utils import to_categorical\n",
        "\n",
        "orig_tr_y = to_categorical(train_labels)\n",
        "\n",
        "test_y = to_categorical(test_labels)\n",
        "\n",
        "orig_tr_x = train_images.astype('float32') / 255\n",
        "\n",
        "test_x = test_images.astype('float32') / 255 \n",
        "\n",
        "class_names = ['airplan', 'automobile', 'bird', 'cat', 'deer', 'dog', 'frog', 'horse', 'ship', 'truck']"
      ],
      "execution_count": 0,
      "outputs": []
    },
    {
      "metadata": {
        "id": "yk6s7mDOPIXX",
        "colab_type": "text"
      },
      "cell_type": "markdown",
      "source": [
        "## Splitting original train set into smaller train and validate sets"
      ]
    },
    {
      "metadata": {
        "id": "CwJgJZmPPprM",
        "colab_type": "code",
        "colab": {}
      },
      "cell_type": "code",
      "source": [
        "import numpy as np\n",
        "# we want to split \"randomly\" but reproducible\n",
        "np.random.seed(1000)\n",
        "m=len(orig_tr_x)\n",
        "m_tr = int(m * 0.9) # will split 90:10\n",
        "m_val = m - m_tr\n",
        "shuffled_indices = np.random.permutation(m)\n",
        "orig_tr_x_s = orig_tr_x[shuffled_indices]\n",
        "orig_tr_y_s = orig_tr_y[shuffled_indices]\n",
        "# splitting\n",
        "tr_x = orig_tr_x_s[:m_tr]\n",
        "tr_y = orig_tr_y_s[:m_tr]\n",
        "val_x = orig_tr_x_s[m_tr:]\n",
        "val_y = orig_tr_y_s[m_tr:]\n",
        "#print(len(tr_x), m_tr)\n",
        "#print(len(val_x), m_val)"
      ],
      "execution_count": 0,
      "outputs": []
    },
    {
      "metadata": {
        "id": "WYWIbk0VSk_E",
        "colab_type": "text"
      },
      "cell_type": "markdown",
      "source": [
        "## Setting up Keras and general structure of networks"
      ]
    },
    {
      "metadata": {
        "id": "sf7WLFaFfuhk",
        "colab_type": "text"
      },
      "cell_type": "markdown",
      "source": [
        "### A few things to beautify outputs"
      ]
    },
    {
      "metadata": {
        "id": "NPB0dIoOf9YE",
        "colab_type": "code",
        "colab": {}
      },
      "cell_type": "code",
      "source": [
        "from IPython.display import HTML, display\n",
        "from keras.callbacks import Callback\n",
        "import matplotlib.pyplot as plt\n",
        "import time\n",
        "\n",
        "# https://stackoverflow.com/questions/46939393/how-do-i-use-updatable-displays-on-colab\n",
        "def progress(hook):\n",
        "    epoch = len(hook.val_acc) - 1\n",
        "    elTime = time.strftime(\"%H:%M:%S\", time.gmtime(time.time() - hook.start_time))\n",
        "    return HTML(\"\"\"\n",
        "        <progress\n",
        "            value='{epoch}'\n",
        "            max='{maxEpoch}',\n",
        "            style='width: 80%'\n",
        "        >\n",
        "            {epoch}\n",
        "        </progress>\n",
        "        <p>{epoch} of {maxEpoch} epochs complete, Time elapsed: {elTime}, TrAcc: {trAcc}, ValAcc: {valAcc}</p>\n",
        "    \"\"\".format(epoch=epoch, maxEpoch=hook.params['epochs'], valAcc=hook.val_acc[epoch], trAcc=hook.tr_acc[epoch], elTime=elTime))\n",
        "class AccuracyHistory(Callback):\n",
        "    def __init__(self, epoches=100):\n",
        "      super().__init__()\n",
        "      self.epoches = epoches\n",
        "    def on_train_begin(self, logs={}):\n",
        "        #print (self.params)\n",
        "        self.start_time = time.time()\n",
        "        self.n_batches = int(self.params['samples']/self.params['batch_size'])\n",
        "        self.val_acc = [0]\n",
        "        self.tr_acc = [0]\n",
        "        self.pr_bar = display(progress(self), display_id=True)\n",
        "\n",
        "    def on_epoch_end(self, batch, logs={}):\n",
        "        self.val_acc.append(logs.get('val_acc'))\n",
        "        self.tr_acc.append(logs.get('acc'))\n",
        "        self.pr_bar.update(progress(self))\n",
        "        \n",
        "    def on_train_end(self, logs={}):\n",
        "      self.plot_acc()\n",
        "      \n",
        "    def plot_acc(self):\n",
        "      epochs_range = range(0, self.params['epochs'] + 1)\n",
        "      plt.plot(epochs_range, self.tr_acc, 'bo--', label='Training Acc')\n",
        "      plt.plot(epochs_range, self.val_acc, 'ro--', label='Validation Acc')\n",
        "      plt.xlabel('Epochs')\n",
        "      plt.ylabel('Accuracy')\n",
        "      plt.legend()\n",
        "      plt.show()"
      ],
      "execution_count": 0,
      "outputs": []
    },
    {
      "metadata": {
        "id": "OifJxvPBxuvg",
        "colab_type": "text"
      },
      "cell_type": "markdown",
      "source": [
        "### Common network features"
      ]
    },
    {
      "metadata": {
        "id": "SHOobTHjSyVN",
        "colab_type": "code",
        "outputId": "36db770b-32ec-4e1f-b17e-5b67391bf666",
        "colab": {
          "base_uri": "https://localhost:8080/",
          "height": 52
        }
      },
      "cell_type": "code",
      "source": [
        "from keras import models, layers\n",
        "\n",
        "input_shape = tr_x.shape[1:]\n",
        "print(\"Input shape:\", input_shape)\n",
        "n_classes = len(class_names)\n",
        "print(\"Number of classes:\", n_classes)\n",
        "\n",
        "epochs = 100\n",
        "batch_size = 32\n",
        "myHook = AccuracyHistory()"
      ],
      "execution_count": 6,
      "outputs": [
        {
          "output_type": "stream",
          "text": [
            "Input shape: (32, 32, 3)\n",
            "Number of classes: 10\n"
          ],
          "name": "stdout"
        }
      ]
    },
    {
      "metadata": {
        "id": "kMCkQr3WSmCl",
        "colab_type": "code",
        "colab": {}
      },
      "cell_type": "code",
      "source": [
        "# Train function\n",
        "def train(network, ep=epochs, bs = batch_size):\n",
        "  history = network.fit(tr_x, \n",
        "                      tr_y, \n",
        "                      epochs=ep, \n",
        "                      batch_size=bs, \n",
        "                      verbose=0,\n",
        "                      validation_data=(val_x, val_y),\n",
        "                      callbacks=[myHook])\n",
        "  return history"
      ],
      "execution_count": 0,
      "outputs": []
    },
    {
      "metadata": {
        "id": "0ncGvt6j0Jw-",
        "colab_type": "text"
      },
      "cell_type": "markdown",
      "source": [
        "## Network 1.\n",
        "* file 3 network 3"
      ]
    },
    {
      "metadata": {
        "id": "6mFHMUqNSc-E",
        "colab_type": "code",
        "outputId": "ef6404b7-3619-4601-bbfc-231bb6a48ba3",
        "colab": {
          "base_uri": "https://localhost:8080/",
          "height": 1122
        }
      },
      "cell_type": "code",
      "source": [
        "network = models.Sequential()\n",
        "network.add(layers.Conv2D(32, (3, 3), activation='relu', input_shape=input_shape))\n",
        "network.add(layers.Conv2D(32, (3, 3), activation='relu'))\n",
        "network.add(layers.MaxPooling2D(pool_size=(2, 2), strides=(2, 2)))\n",
        "network.add(layers.Dropout(0.25))\n",
        "network.add(layers.Conv2D(64, (3, 3), activation='relu'))\n",
        "network.add(layers.Conv2D(64, (3, 3), activation='relu'))\n",
        "network.add(layers.MaxPooling2D(pool_size=(2, 2)))\n",
        "network.add(layers.Dropout(0.25))\n",
        "network.add(layers.Flatten())\n",
        "network.add(layers.Dense(512, activation='relu'))\n",
        "network.add(layers.Dropout(0.5))\n",
        "network.add(layers.Dense(n_classes, activation='softmax'))\n",
        "network.summary()\n",
        "network.compile(optimizer='sgd',\n",
        "                loss='categorical_crossentropy',\n",
        "                metrics=['accuracy'])\n",
        "h = train(network)"
      ],
      "execution_count": 8,
      "outputs": [
        {
          "output_type": "stream",
          "text": [
            "WARNING:tensorflow:From /usr/local/lib/python3.6/dist-packages/tensorflow/python/framework/op_def_library.py:263: colocate_with (from tensorflow.python.framework.ops) is deprecated and will be removed in a future version.\n",
            "Instructions for updating:\n",
            "Colocations handled automatically by placer.\n",
            "WARNING:tensorflow:From /usr/local/lib/python3.6/dist-packages/keras/backend/tensorflow_backend.py:3445: calling dropout (from tensorflow.python.ops.nn_ops) with keep_prob is deprecated and will be removed in a future version.\n",
            "Instructions for updating:\n",
            "Please use `rate` instead of `keep_prob`. Rate should be set to `rate = 1 - keep_prob`.\n",
            "_________________________________________________________________\n",
            "Layer (type)                 Output Shape              Param #   \n",
            "=================================================================\n",
            "conv2d_1 (Conv2D)            (None, 30, 30, 32)        896       \n",
            "_________________________________________________________________\n",
            "conv2d_2 (Conv2D)            (None, 28, 28, 32)        9248      \n",
            "_________________________________________________________________\n",
            "max_pooling2d_1 (MaxPooling2 (None, 14, 14, 32)        0         \n",
            "_________________________________________________________________\n",
            "dropout_1 (Dropout)          (None, 14, 14, 32)        0         \n",
            "_________________________________________________________________\n",
            "conv2d_3 (Conv2D)            (None, 12, 12, 64)        18496     \n",
            "_________________________________________________________________\n",
            "conv2d_4 (Conv2D)            (None, 10, 10, 64)        36928     \n",
            "_________________________________________________________________\n",
            "max_pooling2d_2 (MaxPooling2 (None, 5, 5, 64)          0         \n",
            "_________________________________________________________________\n",
            "dropout_2 (Dropout)          (None, 5, 5, 64)          0         \n",
            "_________________________________________________________________\n",
            "flatten_1 (Flatten)          (None, 1600)              0         \n",
            "_________________________________________________________________\n",
            "dense_1 (Dense)              (None, 512)               819712    \n",
            "_________________________________________________________________\n",
            "dropout_3 (Dropout)          (None, 512)               0         \n",
            "_________________________________________________________________\n",
            "dense_2 (Dense)              (None, 10)                5130      \n",
            "=================================================================\n",
            "Total params: 890,410\n",
            "Trainable params: 890,410\n",
            "Non-trainable params: 0\n",
            "_________________________________________________________________\n",
            "WARNING:tensorflow:From /usr/local/lib/python3.6/dist-packages/tensorflow/python/ops/math_ops.py:3066: to_int32 (from tensorflow.python.ops.math_ops) is deprecated and will be removed in a future version.\n",
            "Instructions for updating:\n",
            "Use tf.cast instead.\n"
          ],
          "name": "stdout"
        },
        {
          "output_type": "display_data",
          "data": {
            "text/html": [
              "\n",
              "        <progress\n",
              "            value='100'\n",
              "            max='100',\n",
              "            style='width: 80%'\n",
              "        >\n",
              "            100\n",
              "        </progress>\n",
              "        <p>100 of 100 epochs complete, Time elapsed: 00:21:45, TrAcc: 0.8937777777777778, ValAcc: 0.7992</p>\n",
              "    "
            ],
            "text/plain": [
              "<IPython.core.display.HTML object>"
            ]
          },
          "metadata": {
            "tags": []
          }
        },
        {
          "output_type": "display_data",
          "data": {
            "image/png": "[encoded data removed]",
            "text/plain": [
              "<Figure size 576x396 with 1 Axes>"
            ]
          },
          "metadata": {
            "tags": []
          }
        }
      ]
    },
    {
      "metadata": {
        "id": "h7_6pWkevbGQ",
        "colab_type": "text"
      },
      "cell_type": "markdown",
      "source": [
        "## Network 2.\n",
        "* file 1 network 2"
      ]
    },
    {
      "metadata": {
        "id": "LLIWHscGhEhR",
        "colab_type": "code",
        "outputId": "1f5d321b-4d07-4298-c5a0-dd871a56a579",
        "colab": {
          "base_uri": "https://localhost:8080/",
          "height": 408
        }
      },
      "cell_type": "code",
      "source": [
        "network = models.Sequential()\n",
        "network.add(layers.Conv2D(32, kernel_size=(5, 5), strides=(1, 1),\n",
        "                 activation='relu',\n",
        "                 input_shape=input_shape))\n",
        "network.add(layers.MaxPooling2D(pool_size=(2, 2), strides=(2, 2)))\n",
        "network.add(layers.Dropout(0.25))\n",
        "network.add(layers.Conv2D(64, (5, 5), activation='relu'))\n",
        "network.add(layers.MaxPooling2D(pool_size=(2, 2)))\n",
        "network.add(layers.Dropout(0.25))\n",
        "network.add(layers.Flatten())\n",
        "network.add(layers.Dense(1024, activation='relu'))\n",
        "network.add(layers.Dropout(0.5))\n",
        "network.add(layers.Dense(n_classes, activation='softmax'))\n",
        "#network.summary()\n",
        "network.compile(optimizer='sgd',\n",
        "                loss='categorical_crossentropy',\n",
        "                metrics=['accuracy'])\n",
        "\n",
        "h = train(network)"
      ],
      "execution_count": 9,
      "outputs": [
        {
          "output_type": "display_data",
          "data": {
            "text/html": [
              "\n",
              "        <progress\n",
              "            value='100'\n",
              "            max='100',\n",
              "            style='width: 80%'\n",
              "        >\n",
              "            100\n",
              "        </progress>\n",
              "        <p>100 of 100 epochs complete, Time elapsed: 00:18:47, TrAcc: 0.8980888888888889, ValAcc: 0.7754</p>\n",
              "    "
            ],
            "text/plain": [
              "<IPython.core.display.HTML object>"
            ]
          },
          "metadata": {
            "tags": []
          }
        },
        {
          "output_type": "display_data",
          "data": {
            "image/png": "[encoded data removed]",
            "text/plain": [
              "<Figure size 576x396 with 1 Axes>"
            ]
          },
          "metadata": {
            "tags": []
          }
        }
      ]
    },
    {
      "metadata": {
        "id": "PeM9fVp3mzT6",
        "colab_type": "text"
      },
      "cell_type": "markdown",
      "source": [
        "## Network 3.\n",
        "* file 2 network 3"
      ]
    },
    {
      "metadata": {
        "id": "_k1RaNYbm0Eo",
        "colab_type": "code",
        "outputId": "e9c64342-4102-4cc2-dc49-d13ee094be16",
        "colab": {
          "base_uri": "https://localhost:8080/",
          "height": 981
        }
      },
      "cell_type": "code",
      "source": [
        "network = models.Sequential()\n",
        "network.add(layers.Conv2D(64, (3, 3), activation='relu', input_shape=input_shape))\n",
        "network.add(layers.MaxPooling2D(pool_size=(2, 2), strides=(2, 2)))\n",
        "network.add(layers.Dropout(0.25))\n",
        "network.add(layers.Conv2D(128, (3, 3), activation='relu'))\n",
        "network.add(layers.MaxPooling2D(pool_size=(2, 2)))\n",
        "network.add(layers.Dropout(0.25))\n",
        "network.add(layers.Conv2D(256, (3, 3), activation='relu'))\n",
        "network.add(layers.MaxPooling2D(pool_size=(2, 2)))\n",
        "network.add(layers.Dropout(0.25))\n",
        "network.add(layers.Flatten())\n",
        "network.add(layers.Dense(512, activation='relu'))\n",
        "network.add(layers.Dropout(0.5))\n",
        "network.add(layers.Dense(n_classes, activation='softmax'))\n",
        "network.summary()\n",
        "network.compile(optimizer='sgd',\n",
        "                loss='categorical_crossentropy',\n",
        "                metrics=['accuracy'])\n",
        "h = train(network)"
      ],
      "execution_count": 10,
      "outputs": [
        {
          "output_type": "stream",
          "text": [
            "_________________________________________________________________\n",
            "Layer (type)                 Output Shape              Param #   \n",
            "=================================================================\n",
            "conv2d_7 (Conv2D)            (None, 30, 30, 64)        1792      \n",
            "_________________________________________________________________\n",
            "max_pooling2d_5 (MaxPooling2 (None, 15, 15, 64)        0         \n",
            "_________________________________________________________________\n",
            "dropout_7 (Dropout)          (None, 15, 15, 64)        0         \n",
            "_________________________________________________________________\n",
            "conv2d_8 (Conv2D)            (None, 13, 13, 128)       73856     \n",
            "_________________________________________________________________\n",
            "max_pooling2d_6 (MaxPooling2 (None, 6, 6, 128)         0         \n",
            "_________________________________________________________________\n",
            "dropout_8 (Dropout)          (None, 6, 6, 128)         0         \n",
            "_________________________________________________________________\n",
            "conv2d_9 (Conv2D)            (None, 4, 4, 256)         295168    \n",
            "_________________________________________________________________\n",
            "max_pooling2d_7 (MaxPooling2 (None, 2, 2, 256)         0         \n",
            "_________________________________________________________________\n",
            "dropout_9 (Dropout)          (None, 2, 2, 256)         0         \n",
            "_________________________________________________________________\n",
            "flatten_3 (Flatten)          (None, 1024)              0         \n",
            "_________________________________________________________________\n",
            "dense_5 (Dense)              (None, 512)               524800    \n",
            "_________________________________________________________________\n",
            "dropout_10 (Dropout)         (None, 512)               0         \n",
            "_________________________________________________________________\n",
            "dense_6 (Dense)              (None, 10)                5130      \n",
            "=================================================================\n",
            "Total params: 900,746\n",
            "Trainable params: 900,746\n",
            "Non-trainable params: 0\n",
            "_________________________________________________________________\n"
          ],
          "name": "stdout"
        },
        {
          "output_type": "display_data",
          "data": {
            "text/html": [
              "\n",
              "        <progress\n",
              "            value='100'\n",
              "            max='100',\n",
              "            style='width: 80%'\n",
              "        >\n",
              "            100\n",
              "        </progress>\n",
              "        <p>100 of 100 epochs complete, Time elapsed: 00:28:55, TrAcc: 0.8778666666666667, ValAcc: 0.8008</p>\n",
              "    "
            ],
            "text/plain": [
              "<IPython.core.display.HTML object>"
            ]
          },
          "metadata": {
            "tags": []
          }
        },
        {
          "output_type": "display_data",
          "data": {
            "image/png": "[encoded data removed]",
            "text/plain": [
              "<Figure size 576x396 with 1 Axes>"
            ]
          },
          "metadata": {
            "tags": []
          }
        }
      ]
    },
    {
      "metadata": {
        "id": "dIHvSJ-cc6hQ",
        "colab_type": "text"
      },
      "cell_type": "markdown",
      "source": [
        "## Network 4\n",
        "* file 3 network 2"
      ]
    },
    {
      "metadata": {
        "id": "GfSph9yJdA9C",
        "colab_type": "code",
        "colab": {
          "base_uri": "https://localhost:8080/",
          "height": 946
        },
        "outputId": "8fad53d6-42b5-4f78-ed4c-a48d2e4d83c2"
      },
      "cell_type": "code",
      "source": [
        "network = models.Sequential()\n",
        "network.add(layers.Conv2D(64, (3, 3), activation='relu', input_shape=input_shape))\n",
        "network.add(layers.Conv2D(64, (3, 3), activation='relu'))\n",
        "network.add(layers.MaxPooling2D(pool_size=(2, 2), strides=(2, 2)))\n",
        "network.add(layers.Dropout(0.25))\n",
        "network.add(layers.Conv2D(128, (3, 3), activation='relu'))\n",
        "network.add(layers.Conv2D(128, (3, 3), activation='relu'))\n",
        "network.add(layers.MaxPooling2D(pool_size=(2, 2)))\n",
        "network.add(layers.Dropout(0.25))\n",
        "network.add(layers.Flatten())\n",
        "network.add(layers.Dense(1024, activation='relu'))\n",
        "network.add(layers.Dropout(0.5))\n",
        "network.add(layers.Dense(n_classes, activation='softmax'))\n",
        "network.summary()\n",
        "network.compile(optimizer='sgd',\n",
        "                loss='categorical_crossentropy',\n",
        "                metrics=['accuracy'])\n",
        "h = train(network)"
      ],
      "execution_count": 11,
      "outputs": [
        {
          "output_type": "stream",
          "text": [
            "_________________________________________________________________\n",
            "Layer (type)                 Output Shape              Param #   \n",
            "=================================================================\n",
            "conv2d_10 (Conv2D)           (None, 30, 30, 64)        1792      \n",
            "_________________________________________________________________\n",
            "conv2d_11 (Conv2D)           (None, 28, 28, 64)        36928     \n",
            "_________________________________________________________________\n",
            "max_pooling2d_8 (MaxPooling2 (None, 14, 14, 64)        0         \n",
            "_________________________________________________________________\n",
            "dropout_11 (Dropout)         (None, 14, 14, 64)        0         \n",
            "_________________________________________________________________\n",
            "conv2d_12 (Conv2D)           (None, 12, 12, 128)       73856     \n",
            "_________________________________________________________________\n",
            "conv2d_13 (Conv2D)           (None, 10, 10, 128)       147584    \n",
            "_________________________________________________________________\n",
            "max_pooling2d_9 (MaxPooling2 (None, 5, 5, 128)         0         \n",
            "_________________________________________________________________\n",
            "dropout_12 (Dropout)         (None, 5, 5, 128)         0         \n",
            "_________________________________________________________________\n",
            "flatten_4 (Flatten)          (None, 3200)              0         \n",
            "_________________________________________________________________\n",
            "dense_7 (Dense)              (None, 1024)              3277824   \n",
            "_________________________________________________________________\n",
            "dropout_13 (Dropout)         (None, 1024)              0         \n",
            "_________________________________________________________________\n",
            "dense_8 (Dense)              (None, 10)                10250     \n",
            "=================================================================\n",
            "Total params: 3,548,234\n",
            "Trainable params: 3,548,234\n",
            "Non-trainable params: 0\n",
            "_________________________________________________________________\n"
          ],
          "name": "stdout"
        },
        {
          "output_type": "display_data",
          "data": {
            "text/html": [
              "\n",
              "        <progress\n",
              "            value='100'\n",
              "            max='100',\n",
              "            style='width: 80%'\n",
              "        >\n",
              "            100\n",
              "        </progress>\n",
              "        <p>100 of 100 epochs complete, Time elapsed: 00:38:02, TrAcc: 0.9747111111111111, ValAcc: 0.8186</p>\n",
              "    "
            ],
            "text/plain": [
              "<IPython.core.display.HTML object>"
            ]
          },
          "metadata": {
            "tags": []
          }
        },
        {
          "output_type": "display_data",
          "data": {
            "image/png": "[encoded data removed]",
            "text/plain": [
              "<Figure size 576x396 with 1 Axes>"
            ]
          },
          "metadata": {
            "tags": []
          }
        }
      ]
    }
  ]
}