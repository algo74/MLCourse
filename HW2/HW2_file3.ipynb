{
  "nbformat": 4,
  "nbformat_minor": 0,
  "metadata": {
    "colab": {
      "name": "HW2.file3.ipynb",
      "version": "0.3.2",
      "provenance": [],
      "collapsed_sections": [],
      "include_colab_link": true
    },
    "kernelspec": {
      "name": "python3",
      "display_name": "Python 3"
    },
    "accelerator": "GPU"
  },
  "cells": [
    {
      "cell_type": "markdown",
      "metadata": {
        "id": "view-in-github",
        "colab_type": "text"
      },
      "source": [
        "<a href=\"https://colab.research.google.com/github/algo74/MLCourse/blob/master/HW2/HW2_file3.ipynb\" target=\"_parent\"><img src=\"https://colab.research.google.com/assets/colab-badge.svg\" alt=\"Open In Colab\"/></a>"
      ]
    },
    {
      "metadata": {
        "id": "rt44vyY1xW9b",
        "colab_type": "text"
      },
      "cell_type": "markdown",
      "source": [
        "# HW2. Deeper networks\n",
        "\n",
        "* using ideas from https://arxiv.org/pdf/1409.1556.pdf"
      ]
    },
    {
      "metadata": {
        "id": "uUDiR7r8xDtg",
        "colab_type": "text"
      },
      "cell_type": "markdown",
      "source": [
        "Simple networks with 5x5 conv2D layers (file 1) as well as with 3x3 conv2d layers (file 2) saturated at about 70% accuracy.\n",
        "\n",
        "In this files, several networks with with more 3x3 conv2d layers and \"missing\" maxpooling layers were tested."
      ]
    },
    {
      "metadata": {
        "id": "u1EH7AzJGCHo",
        "colab_type": "text"
      },
      "cell_type": "markdown",
      "source": [
        "## Credits\n",
        "* Data loading is based on cifar10_data_set.ipynb\n",
        "* Several ideas were borrowed from https://adventuresinmachinelearning.com/keras-tutorial-cnn-11-lines/ \n",
        "* Several ideas were borrowed from https://arxiv.org/pdf/1409.1556.pdf"
      ]
    },
    {
      "metadata": {
        "id": "l34GNy7tyNks",
        "colab_type": "text"
      },
      "cell_type": "markdown",
      "source": [
        "## Loading the CIFAR10 data set"
      ]
    },
    {
      "metadata": {
        "id": "FSJyddqGexl5",
        "colab_type": "code",
        "outputId": "fabdb90e-f639-46fc-9f71-d81ec71eb037",
        "colab": {
          "base_uri": "https://localhost:8080/",
          "height": 34
        }
      },
      "cell_type": "code",
      "source": [
        "from keras.datasets import cifar10\n",
        "\n",
        "(train_images, train_labels), (test_images, test_labels) = cifar10.load_data()"
      ],
      "execution_count": 2,
      "outputs": [
        {
          "output_type": "stream",
          "text": [
            "Using TensorFlow backend.\n"
          ],
          "name": "stderr"
        }
      ]
    },
    {
      "metadata": {
        "id": "aAt30R37WSfB",
        "colab_type": "text"
      },
      "cell_type": "markdown",
      "source": [
        "## Preparing the data"
      ]
    },
    {
      "metadata": {
        "id": "xt7H6jyYWWy6",
        "colab_type": "code",
        "colab": {}
      },
      "cell_type": "code",
      "source": [
        "from keras.utils import to_categorical\n",
        "\n",
        "orig_tr_y = to_categorical(train_labels)\n",
        "\n",
        "test_y = to_categorical(test_labels)\n",
        "\n",
        "orig_tr_x = train_images.astype('float32') / 255\n",
        "\n",
        "test_x = test_images.astype('float32') / 255 \n",
        "\n",
        "class_names = ['airplan', 'automobile', 'bird', 'cat', 'deer', 'dog', 'frog', 'horse', 'ship', 'truck']"
      ],
      "execution_count": 0,
      "outputs": []
    },
    {
      "metadata": {
        "id": "yk6s7mDOPIXX",
        "colab_type": "text"
      },
      "cell_type": "markdown",
      "source": [
        "## Splitting original train set into smaller train and validate sets"
      ]
    },
    {
      "metadata": {
        "id": "CwJgJZmPPprM",
        "colab_type": "code",
        "colab": {}
      },
      "cell_type": "code",
      "source": [
        "import numpy as np\n",
        "# we want to split \"randomly\" but reproducible\n",
        "np.random.seed(1000)\n",
        "m=len(orig_tr_x)\n",
        "m_tr = int(m * 0.9) # will split 90:10\n",
        "m_val = m - m_tr\n",
        "shuffled_indices = np.random.permutation(m)\n",
        "orig_tr_x_s = orig_tr_x[shuffled_indices]\n",
        "orig_tr_y_s = orig_tr_y[shuffled_indices]\n",
        "# splitting\n",
        "tr_x = orig_tr_x_s[:m_tr]\n",
        "tr_y = orig_tr_y_s[:m_tr]\n",
        "val_x = orig_tr_x_s[m_tr:]\n",
        "val_y = orig_tr_y_s[m_tr:]\n",
        "#print(len(tr_x), m_tr)\n",
        "#print(len(val_x), m_val)"
      ],
      "execution_count": 0,
      "outputs": []
    },
    {
      "metadata": {
        "id": "WYWIbk0VSk_E",
        "colab_type": "text"
      },
      "cell_type": "markdown",
      "source": [
        "## Setting up Keras and general structure of networks"
      ]
    },
    {
      "metadata": {
        "id": "sf7WLFaFfuhk",
        "colab_type": "text"
      },
      "cell_type": "markdown",
      "source": [
        "### A few things to beautify outputs"
      ]
    },
    {
      "metadata": {
        "id": "NPB0dIoOf9YE",
        "colab_type": "code",
        "colab": {}
      },
      "cell_type": "code",
      "source": [
        "from IPython.display import HTML, display\n",
        "from keras.callbacks import Callback\n",
        "import matplotlib.pyplot as plt\n",
        "import time\n",
        "\n",
        "# https://stackoverflow.com/questions/46939393/how-do-i-use-updatable-displays-on-colab\n",
        "def progress(hook):\n",
        "    epoch = len(hook.val_acc) - 1\n",
        "    elTime = time.strftime(\"%H:%M:%S\", time.gmtime(time.time() - hook.start_time))\n",
        "    return HTML(\"\"\"\n",
        "        <progress\n",
        "            value='{epoch}'\n",
        "            max='{maxEpoch}',\n",
        "            style='width: 80%'\n",
        "        >\n",
        "            {epoch}\n",
        "        </progress>\n",
        "        <p>{epoch} of {maxEpoch} epochs complete, Time elapsed: {elTime}, TrAcc: {trAcc}, ValAcc: {valAcc}</p>\n",
        "    \"\"\".format(epoch=epoch, maxEpoch=hook.params['epochs'], valAcc=hook.val_acc[epoch], trAcc=hook.tr_acc[epoch], elTime=elTime))\n",
        "class AccuracyHistory(Callback):\n",
        "    def __init__(self, epoches=100):\n",
        "      super().__init__()\n",
        "      self.epoches = epoches\n",
        "    def on_train_begin(self, logs={}):\n",
        "        #print (self.params)\n",
        "        self.start_time = time.time()\n",
        "        self.n_batches = int(self.params['samples']/self.params['batch_size'])\n",
        "        self.val_acc = [0]\n",
        "        self.tr_acc = [0]\n",
        "        self.pr_bar = display(progress(self), display_id=True)\n",
        "\n",
        "    def on_epoch_end(self, batch, logs={}):\n",
        "        self.val_acc.append(logs.get('val_acc'))\n",
        "        self.tr_acc.append(logs.get('acc'))\n",
        "        self.pr_bar.update(progress(self))\n",
        "        \n",
        "    def on_train_end(self, logs={}):\n",
        "      self.plot_acc()\n",
        "      \n",
        "    def plot_acc(self):\n",
        "      epochs_range = range(0, self.params['epochs'] + 1)\n",
        "      plt.plot(epochs_range, self.tr_acc, 'bo--', label='Training Acc')\n",
        "      plt.plot(epochs_range, self.val_acc, 'ro--', label='Validation Acc')\n",
        "      plt.xlabel('Epochs')\n",
        "      plt.ylabel('Accuracy')\n",
        "      plt.legend()\n",
        "      plt.show()"
      ],
      "execution_count": 0,
      "outputs": []
    },
    {
      "metadata": {
        "id": "OifJxvPBxuvg",
        "colab_type": "text"
      },
      "cell_type": "markdown",
      "source": [
        "### Common network features"
      ]
    },
    {
      "metadata": {
        "id": "SHOobTHjSyVN",
        "colab_type": "code",
        "outputId": "b28b068f-0d98-4989-c218-e26794e6acd9",
        "colab": {
          "base_uri": "https://localhost:8080/",
          "height": 52
        }
      },
      "cell_type": "code",
      "source": [
        "from keras import models, layers\n",
        "\n",
        "input_shape = tr_x.shape[1:]\n",
        "print(\"Input shape:\", input_shape)\n",
        "n_classes = len(class_names)\n",
        "print(\"Number of classes:\", n_classes)\n",
        "\n",
        "epochs = 50\n",
        "batch_size = 32\n",
        "myHook = AccuracyHistory()"
      ],
      "execution_count": 8,
      "outputs": [
        {
          "output_type": "stream",
          "text": [
            "Input shape: (32, 32, 3)\n",
            "Number of classes: 10\n"
          ],
          "name": "stdout"
        }
      ]
    },
    {
      "metadata": {
        "id": "kMCkQr3WSmCl",
        "colab_type": "code",
        "colab": {}
      },
      "cell_type": "code",
      "source": [
        "# Train function\n",
        "def train(network, ep=epochs, bs = batch_size):\n",
        "  history = network.fit(tr_x, \n",
        "                      tr_y, \n",
        "                      epochs=ep, \n",
        "                      batch_size=bs, \n",
        "                      verbose=0,\n",
        "                      validation_data=(val_x, val_y),\n",
        "                      callbacks=[myHook])\n",
        "  return history"
      ],
      "execution_count": 0,
      "outputs": []
    },
    {
      "metadata": {
        "id": "0ncGvt6j0Jw-",
        "colab_type": "text"
      },
      "cell_type": "markdown",
      "source": [
        "## Network 1.\n",
        "* 4 3x3 convolutional layers\n",
        "* 1 512 dense layer"
      ]
    },
    {
      "metadata": {
        "id": "6mFHMUqNSc-E",
        "colab_type": "code",
        "outputId": "a99526df-bb1b-4c9d-cd0a-8196b50a8474",
        "colab": {
          "base_uri": "https://localhost:8080/",
          "height": 523
        }
      },
      "cell_type": "code",
      "source": [
        "network = models.Sequential()\n",
        "network.add(layers.Conv2D(64, (3, 3), activation='relu', input_shape=input_shape))\n",
        "network.add(layers.Conv2D(64, (3, 3), activation='relu'))\n",
        "network.add(layers.MaxPooling2D(pool_size=(2, 2), strides=(2, 2)))\n",
        "network.add(layers.Conv2D(128, (3, 3), activation='relu'))\n",
        "network.add(layers.Conv2D(128, (3, 3), activation='relu'))\n",
        "network.add(layers.MaxPooling2D(pool_size=(2, 2)))\n",
        "network.add(layers.Flatten())\n",
        "network.add(layers.Dense(512, activation='relu'))\n",
        "network.add(layers.Dense(n_classes, activation='softmax'))\n",
        "network.summary()\n",
        "network.compile(optimizer='sgd',\n",
        "                loss='categorical_crossentropy',\n",
        "                metrics=['accuracy'])"
      ],
      "execution_count": 10,
      "outputs": [
        {
          "output_type": "stream",
          "text": [
            "WARNING:tensorflow:From /usr/local/lib/python3.6/dist-packages/tensorflow/python/framework/op_def_library.py:263: colocate_with (from tensorflow.python.framework.ops) is deprecated and will be removed in a future version.\n",
            "Instructions for updating:\n",
            "Colocations handled automatically by placer.\n",
            "_________________________________________________________________\n",
            "Layer (type)                 Output Shape              Param #   \n",
            "=================================================================\n",
            "conv2d_1 (Conv2D)            (None, 30, 30, 64)        1792      \n",
            "_________________________________________________________________\n",
            "conv2d_2 (Conv2D)            (None, 28, 28, 64)        36928     \n",
            "_________________________________________________________________\n",
            "max_pooling2d_1 (MaxPooling2 (None, 14, 14, 64)        0         \n",
            "_________________________________________________________________\n",
            "conv2d_3 (Conv2D)            (None, 12, 12, 128)       73856     \n",
            "_________________________________________________________________\n",
            "conv2d_4 (Conv2D)            (None, 10, 10, 128)       147584    \n",
            "_________________________________________________________________\n",
            "max_pooling2d_2 (MaxPooling2 (None, 5, 5, 128)         0         \n",
            "_________________________________________________________________\n",
            "flatten_1 (Flatten)          (None, 3200)              0         \n",
            "_________________________________________________________________\n",
            "dense_1 (Dense)              (None, 512)               1638912   \n",
            "_________________________________________________________________\n",
            "dense_2 (Dense)              (None, 10)                5130      \n",
            "=================================================================\n",
            "Total params: 1,904,202\n",
            "Trainable params: 1,904,202\n",
            "Non-trainable params: 0\n",
            "_________________________________________________________________\n"
          ],
          "name": "stdout"
        }
      ]
    },
    {
      "metadata": {
        "id": "-gpAayKSVf-P",
        "colab_type": "code",
        "outputId": "0295cf5c-697f-4f72-c32e-a50d37506e72",
        "colab": {
          "base_uri": "https://localhost:8080/",
          "height": 480
        }
      },
      "cell_type": "code",
      "source": [
        "\n",
        "history = train(network)"
      ],
      "execution_count": 11,
      "outputs": [
        {
          "output_type": "stream",
          "text": [
            "WARNING:tensorflow:From /usr/local/lib/python3.6/dist-packages/tensorflow/python/ops/math_ops.py:3066: to_int32 (from tensorflow.python.ops.math_ops) is deprecated and will be removed in a future version.\n",
            "Instructions for updating:\n",
            "Use tf.cast instead.\n"
          ],
          "name": "stdout"
        },
        {
          "output_type": "display_data",
          "data": {
            "text/html": [
              "\n",
              "        <progress\n",
              "            value='50'\n",
              "            max='50',\n",
              "            style='width: 80%'\n",
              "        >\n",
              "            50\n",
              "        </progress>\n",
              "        <p>50 of 50 epochs complete, Time elapsed: 00:16:34, TrAcc: 1.0, ValAcc: 0.6784</p>\n",
              "    "
            ],
            "text/plain": [
              "<IPython.core.display.HTML object>"
            ]
          },
          "metadata": {
            "tags": []
          }
        },
        {
          "output_type": "display_data",
          "data": {
            "image/png": "[encoded data removed]",
            "text/plain": [
              "<Figure size 576x396 with 1 Axes>"
            ]
          },
          "metadata": {
            "tags": []
          }
        }
      ]
    },
    {
      "metadata": {
        "id": "h7_6pWkevbGQ",
        "colab_type": "text"
      },
      "cell_type": "markdown",
      "source": [
        "## Network 2.\n",
        "* same as network 1 but the dense layer has 1024 neurons"
      ]
    },
    {
      "metadata": {
        "id": "LLIWHscGhEhR",
        "colab_type": "code",
        "outputId": "9a17ab05-6123-422d-fd9e-fe032de8ec83",
        "colab": {
          "base_uri": "https://localhost:8080/",
          "height": 842
        }
      },
      "cell_type": "code",
      "source": [
        "network = models.Sequential()\n",
        "network.add(layers.Conv2D(64, (3, 3), activation='relu', input_shape=input_shape))\n",
        "network.add(layers.Conv2D(64, (3, 3), activation='relu'))\n",
        "network.add(layers.MaxPooling2D(pool_size=(2, 2), strides=(2, 2)))\n",
        "network.add(layers.Conv2D(128, (3, 3), activation='relu'))\n",
        "network.add(layers.Conv2D(128, (3, 3), activation='relu'))\n",
        "network.add(layers.MaxPooling2D(pool_size=(2, 2)))\n",
        "network.add(layers.Flatten())\n",
        "network.add(layers.Dense(1024, activation='relu'))\n",
        "network.add(layers.Dense(n_classes, activation='softmax'))\n",
        "network.summary()\n",
        "network.compile(optimizer='sgd',\n",
        "                loss='categorical_crossentropy',\n",
        "                metrics=['accuracy'])\n",
        "h = train(network)"
      ],
      "execution_count": 12,
      "outputs": [
        {
          "output_type": "stream",
          "text": [
            "_________________________________________________________________\n",
            "Layer (type)                 Output Shape              Param #   \n",
            "=================================================================\n",
            "conv2d_5 (Conv2D)            (None, 30, 30, 64)        1792      \n",
            "_________________________________________________________________\n",
            "conv2d_6 (Conv2D)            (None, 28, 28, 64)        36928     \n",
            "_________________________________________________________________\n",
            "max_pooling2d_3 (MaxPooling2 (None, 14, 14, 64)        0         \n",
            "_________________________________________________________________\n",
            "conv2d_7 (Conv2D)            (None, 12, 12, 128)       73856     \n",
            "_________________________________________________________________\n",
            "conv2d_8 (Conv2D)            (None, 10, 10, 128)       147584    \n",
            "_________________________________________________________________\n",
            "max_pooling2d_4 (MaxPooling2 (None, 5, 5, 128)         0         \n",
            "_________________________________________________________________\n",
            "flatten_2 (Flatten)          (None, 3200)              0         \n",
            "_________________________________________________________________\n",
            "dense_3 (Dense)              (None, 1024)              3277824   \n",
            "_________________________________________________________________\n",
            "dense_4 (Dense)              (None, 10)                10250     \n",
            "=================================================================\n",
            "Total params: 3,548,234\n",
            "Trainable params: 3,548,234\n",
            "Non-trainable params: 0\n",
            "_________________________________________________________________\n"
          ],
          "name": "stdout"
        },
        {
          "output_type": "display_data",
          "data": {
            "text/html": [
              "\n",
              "        <progress\n",
              "            value='50'\n",
              "            max='50',\n",
              "            style='width: 80%'\n",
              "        >\n",
              "            50\n",
              "        </progress>\n",
              "        <p>50 of 50 epochs complete, Time elapsed: 00:17:38, TrAcc: 1.0, ValAcc: 0.6882</p>\n",
              "    "
            ],
            "text/plain": [
              "<IPython.core.display.HTML object>"
            ]
          },
          "metadata": {
            "tags": []
          }
        },
        {
          "output_type": "display_data",
          "data": {
            "image/png": "[encoded data removed]",
            "text/plain": [
              "<Figure size 576x396 with 1 Axes>"
            ]
          },
          "metadata": {
            "tags": []
          }
        }
      ]
    },
    {
      "metadata": {
        "id": "PeM9fVp3mzT6",
        "colab_type": "text"
      },
      "cell_type": "markdown",
      "source": [
        "## Network 3.\n",
        "* same as network 2 but \"half as much neurons\" in all layers"
      ]
    },
    {
      "metadata": {
        "id": "_k1RaNYbm0Eo",
        "colab_type": "code",
        "outputId": "9bf3175f-ddad-4cb6-a5c5-a357ee5dc78a",
        "colab": {
          "base_uri": "https://localhost:8080/",
          "height": 842
        }
      },
      "cell_type": "code",
      "source": [
        "network = models.Sequential()\n",
        "network.add(layers.Conv2D(32, (3, 3), activation='relu', input_shape=input_shape))\n",
        "network.add(layers.Conv2D(32, (3, 3), activation='relu'))\n",
        "network.add(layers.MaxPooling2D(pool_size=(2, 2), strides=(2, 2)))\n",
        "network.add(layers.Conv2D(64, (3, 3), activation='relu'))\n",
        "network.add(layers.Conv2D(64, (3, 3), activation='relu'))\n",
        "network.add(layers.MaxPooling2D(pool_size=(2, 2)))\n",
        "network.add(layers.Flatten())\n",
        "network.add(layers.Dense(512, activation='relu'))\n",
        "network.add(layers.Dense(n_classes, activation='softmax'))\n",
        "network.summary()\n",
        "network.compile(optimizer='sgd',\n",
        "                loss='categorical_crossentropy',\n",
        "                metrics=['accuracy'])\n",
        "h = train(network)"
      ],
      "execution_count": 14,
      "outputs": [
        {
          "output_type": "stream",
          "text": [
            "_________________________________________________________________\n",
            "Layer (type)                 Output Shape              Param #   \n",
            "=================================================================\n",
            "conv2d_13 (Conv2D)           (None, 30, 30, 32)        896       \n",
            "_________________________________________________________________\n",
            "conv2d_14 (Conv2D)           (None, 28, 28, 32)        9248      \n",
            "_________________________________________________________________\n",
            "max_pooling2d_7 (MaxPooling2 (None, 14, 14, 32)        0         \n",
            "_________________________________________________________________\n",
            "conv2d_15 (Conv2D)           (None, 12, 12, 64)        18496     \n",
            "_________________________________________________________________\n",
            "conv2d_16 (Conv2D)           (None, 10, 10, 64)        36928     \n",
            "_________________________________________________________________\n",
            "max_pooling2d_8 (MaxPooling2 (None, 5, 5, 64)          0         \n",
            "_________________________________________________________________\n",
            "flatten_4 (Flatten)          (None, 1600)              0         \n",
            "_________________________________________________________________\n",
            "dense_7 (Dense)              (None, 512)               819712    \n",
            "_________________________________________________________________\n",
            "dense_8 (Dense)              (None, 10)                5130      \n",
            "=================================================================\n",
            "Total params: 890,410\n",
            "Trainable params: 890,410\n",
            "Non-trainable params: 0\n",
            "_________________________________________________________________\n"
          ],
          "name": "stdout"
        },
        {
          "output_type": "display_data",
          "data": {
            "text/html": [
              "\n",
              "        <progress\n",
              "            value='50'\n",
              "            max='50',\n",
              "            style='width: 80%'\n",
              "        >\n",
              "            50\n",
              "        </progress>\n",
              "        <p>50 of 50 epochs complete, Time elapsed: 00:10:08, TrAcc: 1.0, ValAcc: 0.671</p>\n",
              "    "
            ],
            "text/plain": [
              "<IPython.core.display.HTML object>"
            ]
          },
          "metadata": {
            "tags": []
          }
        },
        {
          "output_type": "display_data",
          "data": {
            "image/png": "[encoded data removed]",
            "text/plain": [
              "<Figure size 576x396 with 1 Axes>"
            ]
          },
          "metadata": {
            "tags": []
          }
        }
      ]
    }
  ]
}